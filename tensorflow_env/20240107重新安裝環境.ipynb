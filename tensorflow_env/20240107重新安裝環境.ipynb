{
 "cells": [
  {
   "cell_type": "markdown",
   "id": "695080e2",
   "metadata": {},
   "source": [
    "## 20240107\n",
    "\n",
    "因為突然抓不到GPU，所以重新記錄一下如何安裝環境。\n",
    "\n",
    "conda create --name tf2.6 python=3.7  \n",
    "conda activate  tf2.6  \n",
    "conda install cudatoolkit=11.2 cudnn=8.1  \n",
    "\n",
    "pip install tensorflow==2.6  \n",
    "pip install pandas==1.3.4  \n",
    "pip install numpy==1.19.5  \n",
    "pip install matplotlib==3.3.4  \n",
    "\n",
    "// 如果要用jupyter notebook，開Anaconda power shell，做以下指令。  \n",
    "pip install notebook==6.5.4  \n",
    "cd ../../Users/User/Desktop  \n",
    "jupyter notebook  "
   ]
  },
  {
   "cell_type": "code",
   "execution_count": 1,
   "id": "1d8c9443",
   "metadata": {},
   "outputs": [],
   "source": [
    "import os\n",
    "import numpy as np\n",
    "import pandas as pd\n",
    "import matplotlib.pyplot as plt\n",
    "import tensorflow as tf\n",
    "from tqdm import tqdm"
   ]
  },
  {
   "cell_type": "code",
   "execution_count": 2,
   "id": "b8c8cd4a",
   "metadata": {},
   "outputs": [
    {
     "name": "stdout",
     "output_type": "stream",
     "text": [
      "1 Physical GPUs, 1 Logical GPUs\n"
     ]
    }
   ],
   "source": [
    "gpus = tf.config.experimental.list_physical_devices('GPU')\n",
    "if gpus:\n",
    "    try:\n",
    "        # Currently, memory growth needs to be the same across GPUs\n",
    "        for gpu in gpus:\n",
    "            tf.config.experimental.set_memory_growth(gpu, True)\n",
    "        # Select GPU number 1\n",
    "        tf.config.experimental.set_visible_devices(gpus[0], 'GPU')\n",
    "        logical_gpus = tf.config.experimental.list_logical_devices('GPU')\n",
    "        print(len(gpus), \"Physical GPUs,\", len(logical_gpus), \"Logical GPUs\")\n",
    "    except RuntimeError as e:\n",
    "        # Memory growth must be set before GPUs have been initialized\n",
    "        print(e)"
   ]
  },
  {
   "cell_type": "code",
   "execution_count": null,
   "id": "8291317d",
   "metadata": {},
   "outputs": [],
   "source": []
  }
 ],
 "metadata": {
  "kernelspec": {
   "display_name": "Python 3 (ipykernel)",
   "language": "python",
   "name": "python3"
  },
  "language_info": {
   "codemirror_mode": {
    "name": "ipython",
    "version": 3
   },
   "file_extension": ".py",
   "mimetype": "text/x-python",
   "name": "python",
   "nbconvert_exporter": "python",
   "pygments_lexer": "ipython3",
   "version": "3.7.16"
  }
 },
 "nbformat": 4,
 "nbformat_minor": 5
}
