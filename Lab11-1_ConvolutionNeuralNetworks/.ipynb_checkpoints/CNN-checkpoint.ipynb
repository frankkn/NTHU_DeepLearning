{
 "cells": [
  {
   "cell_type": "code",
   "execution_count": 17,
   "id": "74e046ac",
   "metadata": {},
   "outputs": [],
   "source": [
    "import warnings\n",
    "import os\n",
    "warnings.filterwarnings(\"ignore\")\n",
    "os.environ['TF_CPP_MIN_LOG_LEVEL'] = '2' \n",
    "\n",
    "import tensorflow as tf\n",
    "from tensorflow.keras import utils, datasets, layers, models\n",
    "import matplotlib.pyplot as plt\n",
    "import numpy as np\n",
    "\n",
    "import matplotlib as mpl\n",
    "import pickle\n",
    "import csv\n",
    "import itertools\n",
    "from collections import defaultdict\n",
    "import time\n",
    "import pandas as pd\n",
    "import math\n",
    "from tqdm import tqdm\n",
    "import dill"
   ]
  },
  {
   "cell_type": "code",
   "execution_count": 2,
   "id": "68f13207",
   "metadata": {},
   "outputs": [],
   "source": [
    "# import urllib.request\n",
    "# if not os.path.exists(\"lab11_1_lib.py\"):\n",
    "#     urllib.request.urlretrieve(\"https://nthu-datalab.github.io/ml/labs/11-1_CNN/lab11_1_lib.py\", \"lab11_1_lib.py\")\n",
    "\n",
    "# from lab11_1_lib import draw_timeline"
   ]
  },
  {
   "cell_type": "code",
   "execution_count": 3,
   "id": "af1fd2ae",
   "metadata": {},
   "outputs": [
    {
     "name": "stdout",
     "output_type": "stream",
     "text": [
      "shape of train_image: (60000, 28, 28)\n",
      "shape of train_label: (60000,)\n"
     ]
    }
   ],
   "source": [
    "# Download and prepare the MNIST dataset\n",
    "(train_image, train_label), (test_image, test_label) = datasets.mnist.load_data()\n",
    "\n",
    "# Normalize pixel values to be between 0 and 1\n",
    "train_image, test_image = train_image / 255.0, test_image / 255.0\n",
    "print('shape of train_image:', train_image.shape)\n",
    "print('shape of train_label:', train_label.shape)"
   ]
  },
  {
   "cell_type": "code",
   "execution_count": 4,
   "id": "8792d859",
   "metadata": {},
   "outputs": [],
   "source": [
    "# # flating the training data for dense layers\n",
    "# train_image_1 = train_image.reshape((60000, -1))\n",
    "# test_image_1 = test_image.reshape((10000, -1))\n",
    "# print(train_image_1.shape)\n",
    "# print(test_image_1.shape)"
   ]
  },
  {
   "cell_type": "code",
   "execution_count": 5,
   "id": "ed2ce8d3",
   "metadata": {},
   "outputs": [],
   "source": [
    "# model_1 = models.Sequential()\n",
    "# model_1.add(layers.Dense(10, activation='softmax',input_shape=(784,)))\n",
    "# model_1.summary()"
   ]
  },
  {
   "cell_type": "code",
   "execution_count": 6,
   "id": "fe55f698",
   "metadata": {},
   "outputs": [],
   "source": [
    "# # compile the model and train it for 5 epochs\n",
    "# model_1.compile(optimizer='adam',\n",
    "#               loss='sparse_categorical_crossentropy',\n",
    "#               metrics=['accuracy'])\n",
    "\n",
    "# model_1.fit(train_image_1, train_label, epochs=5)"
   ]
  },
  {
   "cell_type": "code",
   "execution_count": 7,
   "id": "d7853f0d",
   "metadata": {},
   "outputs": [],
   "source": [
    "# _, test_acc_1 = model_1.evaluate(test_image_1, test_label, verbose=0)\n",
    "# print('Testing Accuracy : %.4f'%test_acc_1)"
   ]
  },
  {
   "cell_type": "code",
   "execution_count": 8,
   "id": "e23b31f5",
   "metadata": {},
   "outputs": [
    {
     "name": "stdout",
     "output_type": "stream",
     "text": [
      "(60000, 28, 28, 1)\n",
      "(10000, 28, 28, 1)\n"
     ]
    }
   ],
   "source": [
    "# reshaping the training data to 3 dimensions\n",
    "train_image_2 = train_image.reshape((60000, 28, 28, 1))\n",
    "test_image_2 = test_image.reshape((10000, 28, 28, 1))\n",
    "print(train_image_2.shape)\n",
    "print(test_image_2.shape)"
   ]
  },
  {
   "cell_type": "code",
   "execution_count": 9,
   "id": "c9645654",
   "metadata": {},
   "outputs": [],
   "source": [
    "#The 6 lines of code below define the convolutional base using a common pattern: a stack of Conv2D and MaxPooling2D layers.\n",
    "model_2 = models.Sequential()\n",
    "model_2.add(layers.Conv2D(32, (3, 3), strides=(1,1), padding='valid', activation='relu', input_shape=(28, 28, 1)))\n",
    "model_2.add(layers.MaxPooling2D((2, 2)))\n",
    "model_2.add(layers.Conv2D(64, (3, 3), strides=(1,1), padding='valid', activation='relu'))\n",
    "model_2.add(layers.MaxPooling2D((2, 2)))\n",
    "model_2.add(layers.Conv2D(64, (3, 3), strides=(1,1), padding='valid', activation='relu'))"
   ]
  },
  {
   "cell_type": "code",
   "execution_count": 10,
   "id": "c6000b83",
   "metadata": {},
   "outputs": [
    {
     "name": "stdout",
     "output_type": "stream",
     "text": [
      "Model: \"sequential\"\n",
      "_________________________________________________________________\n",
      " Layer (type)                Output Shape              Param #   \n",
      "=================================================================\n",
      " conv2d (Conv2D)             (None, 26, 26, 32)        320       \n",
      "                                                                 \n",
      " max_pooling2d (MaxPooling2D  (None, 13, 13, 32)       0         \n",
      " )                                                               \n",
      "                                                                 \n",
      " conv2d_1 (Conv2D)           (None, 11, 11, 64)        18496     \n",
      "                                                                 \n",
      " max_pooling2d_1 (MaxPooling  (None, 5, 5, 64)         0         \n",
      " 2D)                                                             \n",
      "                                                                 \n",
      " conv2d_2 (Conv2D)           (None, 3, 3, 64)          36928     \n",
      "                                                                 \n",
      "=================================================================\n",
      "Total params: 55,744\n",
      "Trainable params: 55,744\n",
      "Non-trainable params: 0\n",
      "_________________________________________________________________\n"
     ]
    }
   ],
   "source": [
    "model_2.summary()\n",
    "\n",
    "# 320 = kernel(3*3) * input_channel(1) * filter(32) + 32  \n",
    "# 18496 = kernel(3*3) * input_channel(32) * filter(64) + 64 \n",
    "# 36928 = kernel(3*3) * input_channel(64) * filter(64) + 64"
   ]
  },
  {
   "cell_type": "code",
   "execution_count": 11,
   "id": "878f679f",
   "metadata": {},
   "outputs": [],
   "source": [
    "model_2.add(layers.Flatten())\n",
    "model_2.add(layers.Dense(64, activation='relu'))\n",
    "model_2.add(layers.Dropout(0.5))\n",
    "model_2.add(layers.Dense(10, activation='softmax'))"
   ]
  },
  {
   "cell_type": "code",
   "execution_count": 12,
   "id": "368f8937",
   "metadata": {},
   "outputs": [
    {
     "name": "stdout",
     "output_type": "stream",
     "text": [
      "Model: \"sequential\"\n",
      "_________________________________________________________________\n",
      " Layer (type)                Output Shape              Param #   \n",
      "=================================================================\n",
      " conv2d (Conv2D)             (None, 26, 26, 32)        320       \n",
      "                                                                 \n",
      " max_pooling2d (MaxPooling2D  (None, 13, 13, 32)       0         \n",
      " )                                                               \n",
      "                                                                 \n",
      " conv2d_1 (Conv2D)           (None, 11, 11, 64)        18496     \n",
      "                                                                 \n",
      " max_pooling2d_1 (MaxPooling  (None, 5, 5, 64)         0         \n",
      " 2D)                                                             \n",
      "                                                                 \n",
      " conv2d_2 (Conv2D)           (None, 3, 3, 64)          36928     \n",
      "                                                                 \n",
      " flatten (Flatten)           (None, 576)               0         \n",
      "                                                                 \n",
      " dense (Dense)               (None, 64)                36928     \n",
      "                                                                 \n",
      " dropout (Dropout)           (None, 64)                0         \n",
      "                                                                 \n",
      " dense_1 (Dense)             (None, 10)                650       \n",
      "                                                                 \n",
      "=================================================================\n",
      "Total params: 93,322\n",
      "Trainable params: 93,322\n",
      "Non-trainable params: 0\n",
      "_________________________________________________________________\n"
     ]
    }
   ],
   "source": [
    "model_2.summary()\n",
    "\n",
    "# dense 36928 = input_channel(576個特徵from flatten) * filter(64) + 64\n",
    "# dense_1 650 = input_channel(64個特徵from dense_1) * filter(10) + 10"
   ]
  },
  {
   "cell_type": "markdown",
   "id": "befce5d9",
   "metadata": {},
   "source": [
    "### The kernel appears to have died. It will restart automatically.\n",
    "\n",
    "Q:跑model_2會導致The kernel appears to have died. It will restart automatically.\n",
    "\n",
    "A:\n",
    "In NVIDIA website, they referred to zlibwapi.dll- I was able to locate this file in “C:\\Program Files\\Microsoft Office\\root\\Office16\\ODBC Drivers\\Salesforce\\lib” (I installed using Microsoft 365 x64 in windows 11) and copy pasted this file into “C:\\Program Files\\NVIDIA GPU Computing Toolkit\\CUDA\\v11.6\\bin” I was able to run Tensorflow 2.8.0 thereafter"
   ]
  },
  {
   "cell_type": "code",
   "execution_count": 13,
   "id": "1b8c8db4",
   "metadata": {},
   "outputs": [
    {
     "name": "stdout",
     "output_type": "stream",
     "text": [
      "Epoch 1/5\n",
      "1875/1875 [==============================] - 5s 2ms/step - loss: 0.2564 - accuracy: 0.9212\n",
      "Epoch 2/5\n",
      "1875/1875 [==============================] - 4s 2ms/step - loss: 0.0851 - accuracy: 0.9757\n",
      "Epoch 3/5\n",
      "1875/1875 [==============================] - 4s 2ms/step - loss: 0.0604 - accuracy: 0.9826\n",
      "Epoch 4/5\n",
      "1875/1875 [==============================] - 4s 2ms/step - loss: 0.0485 - accuracy: 0.9867\n",
      "Epoch 5/5\n",
      "1875/1875 [==============================] - 24s 13ms/step - loss: 0.0401 - accuracy: 0.9885\n"
     ]
    },
    {
     "data": {
      "text/plain": [
       "<keras.callbacks.History at 0x1df29d67910>"
      ]
     },
     "execution_count": 13,
     "metadata": {},
     "output_type": "execute_result"
    }
   ],
   "source": [
    "model_2.compile(optimizer='adam',\n",
    "              loss='sparse_categorical_crossentropy',\n",
    "              metrics=['accuracy'])\n",
    "\n",
    "model_2.fit(train_image_2, train_label, epochs=5)"
   ]
  },
  {
   "cell_type": "code",
   "execution_count": 14,
   "id": "d6376f25",
   "metadata": {},
   "outputs": [
    {
     "name": "stdout",
     "output_type": "stream",
     "text": [
      "Testing Accuracy : 0.9916\n"
     ]
    }
   ],
   "source": [
    "_, test_acc_2 = model_2.evaluate(test_image_2, test_label, verbose=0)\n",
    "print('Testing Accuracy : %.4f'%test_acc_2)"
   ]
  },
  {
   "cell_type": "code",
   "execution_count": 15,
   "id": "7f593bd4",
   "metadata": {},
   "outputs": [
    {
     "name": "stdout",
     "output_type": "stream",
     "text": [
      "Downloading data from https://www.cs.toronto.edu/~kriz/cifar-10-python.tar.gz\n",
      "170498071/170498071 [==============================] - 14s 0us/step\n",
      "X_train shape: (50000, 32, 32, 3)\n",
      "Y_train shape: (50000, 10)\n",
      "X_test shape: (10000, 32, 32, 3)\n",
      "Y_test shape: (10000, 10)\n"
     ]
    }
   ],
   "source": [
    "# Loading Data\n",
    "\n",
    "(X_train, y_train), (X_test, y_test) = datasets.cifar10.load_data()\n",
    "\n",
    "# normalize inputs from 0-255 to 0.0-1.0\n",
    "X_train = X_train.astype('float32')\n",
    "X_test = X_test.astype('float32')\n",
    "X_train = X_train / 255.0\n",
    "X_test = X_test / 255.0\n",
    "\n",
    "# convert class vectors to binary vectors\n",
    "Y_train = utils.to_categorical(y_train)\n",
    "Y_test = utils.to_categorical(y_test)\n",
    "\n",
    "print('X_train shape:', X_train.shape)\n",
    "print('Y_train shape:', Y_train.shape)\n",
    "print('X_test shape:', X_test.shape)\n",
    "print('Y_test shape:', Y_test.shape)"
   ]
  },
  {
   "cell_type": "code",
   "execution_count": 18,
   "id": "f85f876d",
   "metadata": {},
   "outputs": [
    {
     "data": {
      "image/png": "[encoded data removed]",
      "text/plain": [
       "<Figure size 400x200 with 2 Axes>"
      ]
     },
     "metadata": {},
     "output_type": "display_data"
    }
   ],
   "source": [
    "# transform a 3-channel image into one channel\n",
    "def grayscale(data, dtype='float32'):\n",
    "    # luma coding weighted average in video systems\n",
    "    r = np.asarray(.3, dtype=dtype)\n",
    "    g = np.asarray(.59, dtype=dtype)\n",
    "    b = np.asarray(.11, dtype=dtype)\n",
    "    rst = r * data[:, :, :, 0] + g * data[:, :, :, 1] + b * data[:, :, :, 2]\n",
    "    # add channel dimension\n",
    "    rst = np.expand_dims(rst, axis=3)\n",
    "    return rst\n",
    "\n",
    "X_train_gray = grayscale(X_train)\n",
    "X_test_gray = grayscale(X_test)\n",
    "\n",
    "# plot a randomly chosen image\n",
    "img = round(np.random.rand() * X_train.shape[0])\n",
    "plt.figure(figsize=(4, 2))\n",
    "plt.subplot(1, 2, 1)\n",
    "plt.imshow(X_train[img], interpolation='none')\n",
    "plt.subplot(1, 2, 2)\n",
    "plt.imshow(\n",
    "    X_train_gray[img, :, :, 0], cmap=plt.get_cmap('gray'), interpolation='none')\n",
    "plt.show()"
   ]
  },
  {
   "cell_type": "code",
   "execution_count": 19,
   "id": "89d3ab3f",
   "metadata": {},
   "outputs": [],
   "source": [
    "def getHOGfeat(image,\n",
    "               stride=8,\n",
    "               orientations=8,\n",
    "               pixels_per_cell=(8, 8),\n",
    "               cells_per_block=(2, 2)):\n",
    "    cx, cy = pixels_per_cell\n",
    "    bx, by = cells_per_block\n",
    "    sx, sy, sz = image.shape\n",
    "    n_cellsx = int(np.floor(sx // cx))  # number of cells in x\n",
    "    n_cellsy = int(np.floor(sy // cy))  # number of cells in y\n",
    "    n_blocksx = (n_cellsx - bx) + 1\n",
    "    n_blocksy = (n_cellsy - by) + 1\n",
    "    gx = np.zeros((sx, sy), dtype=np.double)\n",
    "    gy = np.zeros((sx, sy), dtype=np.double)\n",
    "    eps = 1e-5\n",
    "    grad = np.zeros((sx, sy, 2), dtype=np.double)\n",
    "    for i in range(1, sx - 1):\n",
    "        for j in range(1, sy - 1):\n",
    "            gx[i, j] = image[i, j - 1] - image[i, j + 1]\n",
    "            gy[i, j] = image[i + 1, j] - image[i - 1, j]\n",
    "            grad[i, j, 0] = np.arctan(gy[i, j] / (gx[i, j] + eps)) * 180 / math.pi\n",
    "            if gx[i, j] < 0:\n",
    "                grad[i, j, 0] += 180\n",
    "            grad[i, j, 0] = (grad[i, j, 0] + 360) % 360\n",
    "            grad[i, j, 1] = np.sqrt(gy[i, j] ** 2 + gx[i, j] ** 2)\n",
    "    normalised_blocks = np.zeros((n_blocksy, n_blocksx, by * bx * orientations))\n",
    "    for y in range(n_blocksy):\n",
    "        for x in range(n_blocksx):\n",
    "            block = grad[y * stride:y * stride + 16, x * stride:x * stride + 16]\n",
    "            hist_block = np.zeros(32, dtype=np.double)\n",
    "            eps = 1e-5\n",
    "            for k in range(by):\n",
    "                for m in range(bx):\n",
    "                    cell = block[k * 8:(k + 1) * 8, m * 8:(m + 1) * 8]\n",
    "                    hist_cell = np.zeros(8, dtype=np.double)\n",
    "                    for i in range(cy):\n",
    "                        for j in range(cx):\n",
    "                            n = int(cell[i, j, 0] / 45)\n",
    "                            hist_cell[n] += cell[i, j, 1]\n",
    "                    hist_block[(k * bx + m) * orientations:(k * bx + m + 1) * orientations] = hist_cell[:]\n",
    "            normalised_blocks[y, x, :] = hist_block / np.sqrt(\n",
    "                hist_block.sum() ** 2 + eps)\n",
    "    return normalised_blocks.ravel()"
   ]
  },
  {
   "cell_type": "code",
   "execution_count": 20,
   "id": "ff76ea34",
   "metadata": {},
   "outputs": [
    {
     "name": "stdout",
     "output_type": "stream",
     "text": [
      "This will take some minutes.\n"
     ]
    },
    {
     "name": "stderr",
     "output_type": "stream",
     "text": [
      "100%|██████████| 50000/50000 [03:42<00:00, 224.25it/s]\n",
      "100%|██████████| 10000/10000 [00:44<00:00, 224.42it/s]\n"
     ]
    }
   ],
   "source": [
    "X_train_hog = []\n",
    "X_test_hog = []\n",
    "\n",
    "print('This will take some minutes.')\n",
    "\n",
    "for img in tqdm(X_train_gray):\n",
    "    img_hog = getHOGfeat(img)\n",
    "    X_train_hog.append(img_hog)\n",
    "\n",
    "for img in tqdm(X_test_gray):\n",
    "    img_hog = getHOGfeat(img)\n",
    "    X_test_hog.append(img_hog)\n",
    "    \n",
    "X_train_hog_array = np.asarray(X_train_hog)\n",
    "X_test_hog_array = np.asarray(X_test_hog)"
   ]
  },
  {
   "cell_type": "code",
   "execution_count": 21,
   "id": "9922cd6b",
   "metadata": {},
   "outputs": [
    {
     "name": "stdout",
     "output_type": "stream",
     "text": [
      "[KNN]\n",
      "Misclassified samples: 5334\n",
      "Accuracy: 0.47\n"
     ]
    }
   ],
   "source": [
    "# KNN\n",
    "from sklearn.neighbors import KNeighborsClassifier \n",
    "from sklearn.metrics import accuracy_score\n",
    "\n",
    "# p=2 and metric='minkowski' means the Euclidean Distance\n",
    "knn = KNeighborsClassifier(n_neighbors=11, p=2, metric='minkowski')\n",
    "\n",
    "knn.fit(X_train_hog_array, y_train.ravel())\n",
    "y_pred = knn.predict(X_test_hog_array)\n",
    "print('[KNN]')\n",
    "print('Misclassified samples: %d' % (y_test.ravel() != y_pred).sum())\n",
    "print('Accuracy: %.2f' % accuracy_score(y_test, y_pred))"
   ]
  },
  {
   "cell_type": "code",
   "execution_count": 22,
   "id": "c2be5e36",
   "metadata": {},
   "outputs": [
    {
     "name": "stdout",
     "output_type": "stream",
     "text": [
      "This will take some minutes.\n",
      "[Linear SVC]\n",
      "Misclassified samples: 4940\n",
      "Accuracy: 0.51\n",
      "363.92 sec.\n"
     ]
    }
   ],
   "source": [
    "# SVM\n",
    "from sklearn.svm import SVC \n",
    "\n",
    "print('This will take some minutes.')\n",
    "start_time = time.time()\n",
    "\n",
    "# C is the hyperparameter for the error penalty term\n",
    "# gamma is the hyperparameter for the rbf kernel\n",
    "svm_linear = SVC(kernel='linear', random_state=0, gamma=0.2, C=10.0)\n",
    "\n",
    "svm_linear.fit(X_train_hog_array, y_train.ravel())\n",
    "y_pred = svm_linear.predict(X_test_hog_array)\n",
    "print('[Linear SVC]')\n",
    "print('Misclassified samples: %d' % (y_test.ravel() != y_pred).sum())\n",
    "print('Accuracy: %.2f' % accuracy_score(y_test.ravel(), y_pred))\n",
    "\n",
    "print('{:.2f} sec.'.format(time.time()-start_time))"
   ]
  },
  {
   "cell_type": "code",
   "execution_count": 23,
   "id": "8b382d64",
   "metadata": {},
   "outputs": [
    {
     "name": "stdout",
     "output_type": "stream",
     "text": [
      "Model: \"sequential_1\"\n",
      "_________________________________________________________________\n",
      " Layer (type)                Output Shape              Param #   \n",
      "=================================================================\n",
      " conv2d_3 (Conv2D)           (None, 32, 32, 64)        4864      \n",
      "                                                                 \n",
      " max_pooling2d_2 (MaxPooling  (None, 16, 16, 64)       0         \n",
      " 2D)                                                             \n",
      "                                                                 \n",
      " batch_normalization (BatchN  (None, 16, 16, 64)       256       \n",
      " ormalization)                                                   \n",
      "                                                                 \n",
      " conv2d_4 (Conv2D)           (None, 16, 16, 64)        102464    \n",
      "                                                                 \n",
      " max_pooling2d_3 (MaxPooling  (None, 8, 8, 64)         0         \n",
      " 2D)                                                             \n",
      "                                                                 \n",
      " batch_normalization_1 (Batc  (None, 8, 8, 64)         256       \n",
      " hNormalization)                                                 \n",
      "                                                                 \n",
      " flatten_1 (Flatten)         (None, 4096)              0         \n",
      "                                                                 \n",
      " dense_2 (Dense)             (None, 384)               1573248   \n",
      "                                                                 \n",
      " dropout_1 (Dropout)         (None, 384)               0         \n",
      "                                                                 \n",
      " dense_3 (Dense)             (None, 192)               73920     \n",
      "                                                                 \n",
      " dense_4 (Dense)             (None, 10)                1930      \n",
      "                                                                 \n",
      "=================================================================\n",
      "Total params: 1,756,938\n",
      "Trainable params: 1,756,682\n",
      "Non-trainable params: 256\n",
      "_________________________________________________________________\n"
     ]
    }
   ],
   "source": [
    "model_3 = models.Sequential()\n",
    "\n",
    "#The 6 lines of code below define the convolutional base using a common pattern: a stack of Conv2D and MaxPooling2D layers.\n",
    "model_3.add(layers.Conv2D(64, (5, 5), padding='same', activation='relu', input_shape=(32, 32, 3)))\n",
    "model_3.add(layers.MaxPool2D(pool_size=3,strides=2,padding='same'))\n",
    "model_3.add(layers.BatchNormalization())\n",
    "model_3.add(layers.Conv2D(64, (5, 5), padding='same', activation='relu'))\n",
    "model_3.add(layers.MaxPool2D(pool_size=3,strides=2,padding='same'))\n",
    "model_3.add(layers.BatchNormalization())\n",
    "                \n",
    "model_3.add(layers.Flatten())\n",
    "model_3.add(layers.Dense(384, activation='relu'))\n",
    "model_3.add(layers.Dropout(0.5))\n",
    "model_3.add(layers.Dense(192, activation='relu'))\n",
    "model_3.add(layers.Dense(10, activation='softmax'))\n",
    "model_3.compile(optimizer='adam',\n",
    "              loss='sparse_categorical_crossentropy',\n",
    "              metrics=['accuracy'])\n",
    "\n",
    "model_3.summary()"
   ]
  },
  {
   "cell_type": "code",
   "execution_count": 24,
   "id": "ff0dd866",
   "metadata": {},
   "outputs": [],
   "source": [
    "# conv2d_3: 4864 = kernel(5*5) * in_channel(3) * filter(64) + 64\n",
    "# conv2d_4: 102464 = kernel(5*5) * in_channel(64) * filter(64) + 64\n",
    "# flatten_1: 4096 = 8*8*64\n",
    "# dense_2: 1573248= input_channel(4096) * filter(384) + 384\n",
    "# dense_3: 73920 = input_channel(384) * filter(192) + 192\n",
    "# dense_4: 1930 = input_channel(192) * filter(10) + 10"
   ]
  },
  {
   "cell_type": "code",
   "execution_count": 25,
   "id": "dca41872",
   "metadata": {},
   "outputs": [
    {
     "name": "stdout",
     "output_type": "stream",
     "text": [
      "Epoch 1/5\n",
      "1563/1563 [==============================] - 6s 3ms/step - loss: 1.5554 - accuracy: 0.4497 - val_loss: 1.2449 - val_accuracy: 0.5617\n",
      "Epoch 2/5\n",
      "1563/1563 [==============================] - 5s 3ms/step - loss: 1.0887 - accuracy: 0.6191 - val_loss: 1.1478 - val_accuracy: 0.5865\n",
      "Epoch 3/5\n",
      "1563/1563 [==============================] - 6s 4ms/step - loss: 0.9154 - accuracy: 0.6825 - val_loss: 1.4687 - val_accuracy: 0.5247\n",
      "Epoch 4/5\n",
      "1563/1563 [==============================] - 6s 4ms/step - loss: 0.8072 - accuracy: 0.7212 - val_loss: 1.4392 - val_accuracy: 0.5090\n",
      "Epoch 5/5\n",
      "1563/1563 [==============================] - 5s 3ms/step - loss: 0.7214 - accuracy: 0.7542 - val_loss: 0.8662 - val_accuracy: 0.7111\n",
      "Testing Accuracy : 0.7111\n"
     ]
    }
   ],
   "source": [
    "model_3.fit(X_train, y_train, epochs=5, validation_data=(X_test, y_test), verbose=1)\n",
    "_, test_acc_3 = model_3.evaluate(X_test, y_test, verbose=0)\n",
    "print('Testing Accuracy : %.4f'%test_acc_3)"
   ]
  },
  {
   "cell_type": "code",
   "execution_count": 26,
   "id": "93d10b21",
   "metadata": {},
   "outputs": [
    {
     "name": "stdout",
     "output_type": "stream",
     "text": [
      "(200, 5) (200,)\n"
     ]
    }
   ],
   "source": [
    "# number of samples\n",
    "n_samples = 200\n",
    "\n",
    "# an array with shape (n_samples, 5)\n",
    "raw_data_a = np.random.rand(n_samples, 5)\n",
    "# a list with length of n_samples from 0 to n_samples-1\n",
    "raw_data_b = np.arange(n_samples)\n",
    "print(raw_data_a.shape, raw_data_b.shape)"
   ]
  },
  {
   "cell_type": "code",
   "execution_count": 27,
   "id": "6b809f22",
   "metadata": {},
   "outputs": [],
   "source": [
    "# this tells the dataset that each row of raw_data_a is corresponding to each element of raw_data_b\n",
    "raw_dataset = tf.data.Dataset.from_tensor_slices((raw_data_a, raw_data_b))"
   ]
  },
  {
   "cell_type": "code",
   "execution_count": 28,
   "id": "ae990b7d",
   "metadata": {},
   "outputs": [
    {
     "name": "stdout",
     "output_type": "stream",
     "text": [
      "Batch  0 , b are  (<tf.Tensor: shape=(5,), dtype=float64, numpy=array([0.03565776, 0.5803785 , 0.22686049, 0.6952731 , 0.07903353])>, <tf.Tensor: shape=(), dtype=int32, numpy=0>)\n",
      "Batch  1 , b are  (<tf.Tensor: shape=(5,), dtype=float64, numpy=array([0.97745919, 0.58393439, 0.87453333, 0.45336625, 0.50803501])>, <tf.Tensor: shape=(), dtype=int32, numpy=1>)\n",
      "Batch  2 , b are  (<tf.Tensor: shape=(5,), dtype=float64, numpy=array([0.42092632, 0.83248116, 0.47857108, 0.46089303, 0.12576498])>, <tf.Tensor: shape=(), dtype=int32, numpy=2>)\n",
      "Batch  3 , b are  (<tf.Tensor: shape=(5,), dtype=float64, numpy=array([0.67303103, 0.02673599, 0.35884652, 0.54410375, 0.37527714])>, <tf.Tensor: shape=(), dtype=int32, numpy=3>)\n",
      "Batch  4 , b are  (<tf.Tensor: shape=(5,), dtype=float64, numpy=array([0.41552369, 0.54737788, 0.14701676, 0.24492533, 0.16157296])>, <tf.Tensor: shape=(), dtype=int32, numpy=4>)\n",
      "Batch  5 , b are  (<tf.Tensor: shape=(5,), dtype=float64, numpy=array([0.16429457, 0.82609654, 0.27699024, 0.41087598, 0.87813207])>, <tf.Tensor: shape=(), dtype=int32, numpy=5>)\n",
      "Batch  6 , b are  (<tf.Tensor: shape=(5,), dtype=float64, numpy=array([0.00189378, 0.22939459, 0.24130488, 0.12013506, 0.84172399])>, <tf.Tensor: shape=(), dtype=int32, numpy=6>)\n",
      "Batch  7 , b are  (<tf.Tensor: shape=(5,), dtype=float64, numpy=array([0.76819368, 0.79722694, 0.59846377, 0.67818912, 0.01900929])>, <tf.Tensor: shape=(), dtype=int32, numpy=7>)\n"
     ]
    }
   ],
   "source": [
    "# Here, we print the first 8 batches.\n",
    "for i,elem in enumerate(raw_dataset):\n",
    "    print(\"Batch \", i, \", b are \", elem)\n",
    "    if i==7:\n",
    "        break"
   ]
  },
  {
   "cell_type": "code",
   "execution_count": 29,
   "id": "e8e07383",
   "metadata": {},
   "outputs": [
    {
     "name": "stdout",
     "output_type": "stream",
     "text": [
      "Batch  0 , b are  (<tf.Tensor: shape=(5,), dtype=float64, numpy=array([0.03565776, 0.5803785 , 0.22686049, 0.6952731 , 0.07903353])>, <tf.Tensor: shape=(), dtype=int32, numpy=0>)\n",
      "Batch  1 , b are  (<tf.Tensor: shape=(5,), dtype=float64, numpy=array([0.97745919, 0.58393439, 0.87453333, 0.45336625, 0.50803501])>, <tf.Tensor: shape=(), dtype=int32, numpy=1>)\n",
      "Batch  2 , b are  (<tf.Tensor: shape=(5,), dtype=float64, numpy=array([0.42092632, 0.83248116, 0.47857108, 0.46089303, 0.12576498])>, <tf.Tensor: shape=(), dtype=int32, numpy=2>)\n",
      "Batch  3 , b are  (<tf.Tensor: shape=(5,), dtype=float64, numpy=array([0.67303103, 0.02673599, 0.35884652, 0.54410375, 0.37527714])>, <tf.Tensor: shape=(), dtype=int32, numpy=3>)\n",
      "Batch  4 , b are  (<tf.Tensor: shape=(5,), dtype=float64, numpy=array([0.41552369, 0.54737788, 0.14701676, 0.24492533, 0.16157296])>, <tf.Tensor: shape=(), dtype=int32, numpy=4>)\n",
      "Batch  5 , b are  (<tf.Tensor: shape=(5,), dtype=float64, numpy=array([0.16429457, 0.82609654, 0.27699024, 0.41087598, 0.87813207])>, <tf.Tensor: shape=(), dtype=int32, numpy=5>)\n",
      "Batch  6 , b are  (<tf.Tensor: shape=(5,), dtype=float64, numpy=array([0.00189378, 0.22939459, 0.24130488, 0.12013506, 0.84172399])>, <tf.Tensor: shape=(), dtype=int32, numpy=6>)\n",
      "Batch  7 , b are  (<tf.Tensor: shape=(5,), dtype=float64, numpy=array([0.76819368, 0.79722694, 0.59846377, 0.67818912, 0.01900929])>, <tf.Tensor: shape=(), dtype=int32, numpy=7>)\n"
     ]
    }
   ],
   "source": [
    "# Here, we print the first 8 batches.\n",
    "it = iter(raw_dataset)\n",
    "for i in range(8):\n",
    "    print(\"Batch \", i, \", b are \", next(it))"
   ]
  },
  {
   "cell_type": "code",
   "execution_count": 30,
   "id": "4ca4eb62",
   "metadata": {},
   "outputs": [],
   "source": [
    "def preprocess_function(one_row_a, one_b):\n",
    "    \"\"\"\n",
    "        Input: one slice of the dataset\n",
    "        Output: modified slice\n",
    "    \"\"\"\n",
    "    # Do some data preprocessing, you can also input filenames and load data in here\n",
    "    # Here, we transform each row of raw_data_a to its sum and mean\n",
    "    one_row_a = [tf.reduce_sum(one_row_a), tf.reduce_mean(one_row_a)]\n",
    "\n",
    "    return one_row_a, one_b\n",
    "\n",
    "raw_dataset = raw_dataset.map(preprocess_function, num_parallel_calls=tf.data.experimental.AUTOTUNE)"
   ]
  },
  {
   "cell_type": "code",
   "execution_count": 31,
   "id": "302a15d0",
   "metadata": {},
   "outputs": [
    {
     "name": "stdout",
     "output_type": "stream",
     "text": [
      "Batch  0 , b are  (<tf.Tensor: shape=(2,), dtype=float64, numpy=array([1.61720338, 0.32344068])>, <tf.Tensor: shape=(), dtype=int32, numpy=0>)\n",
      "Batch  1 , b are  (<tf.Tensor: shape=(2,), dtype=float64, numpy=array([3.39732816, 0.67946563])>, <tf.Tensor: shape=(), dtype=int32, numpy=1>)\n",
      "Batch  2 , b are  (<tf.Tensor: shape=(2,), dtype=float64, numpy=array([2.31863656, 0.46372731])>, <tf.Tensor: shape=(), dtype=int32, numpy=2>)\n",
      "Batch  3 , b are  (<tf.Tensor: shape=(2,), dtype=float64, numpy=array([1.97799442, 0.39559888])>, <tf.Tensor: shape=(), dtype=int32, numpy=3>)\n",
      "Batch  4 , b are  (<tf.Tensor: shape=(2,), dtype=float64, numpy=array([1.51641662, 0.30328332])>, <tf.Tensor: shape=(), dtype=int32, numpy=4>)\n",
      "Batch  5 , b are  (<tf.Tensor: shape=(2,), dtype=float64, numpy=array([2.5563894 , 0.51127788])>, <tf.Tensor: shape=(), dtype=int32, numpy=5>)\n",
      "Batch  6 , b are  (<tf.Tensor: shape=(2,), dtype=float64, numpy=array([1.4344523 , 0.28689046])>, <tf.Tensor: shape=(), dtype=int32, numpy=6>)\n",
      "Batch  7 , b are  (<tf.Tensor: shape=(2,), dtype=float64, numpy=array([2.86108279, 0.57221656])>, <tf.Tensor: shape=(), dtype=int32, numpy=7>)\n"
     ]
    }
   ],
   "source": [
    "it = iter(raw_dataset)\n",
    "for i in range(8):\n",
    "    print(\"Batch \", i, \", b are \", next(it))"
   ]
  },
  {
   "cell_type": "code",
   "execution_count": 32,
   "id": "d80f8672",
   "metadata": {},
   "outputs": [],
   "source": [
    "dataset = raw_dataset.shuffle(16)"
   ]
  },
  {
   "cell_type": "code",
   "execution_count": 33,
   "id": "c3bf3c58",
   "metadata": {},
   "outputs": [
    {
     "name": "stdout",
     "output_type": "stream",
     "text": [
      "Batch  0 , b are  (<tf.Tensor: shape=(2,), dtype=float64, numpy=array([1.61720338, 0.32344068])>, <tf.Tensor: shape=(), dtype=int32, numpy=0>)\n",
      "Batch  1 , b are  (<tf.Tensor: shape=(2,), dtype=float64, numpy=array([3.39732816, 0.67946563])>, <tf.Tensor: shape=(), dtype=int32, numpy=1>)\n",
      "Batch  2 , b are  (<tf.Tensor: shape=(2,), dtype=float64, numpy=array([3.18998574, 0.63799715])>, <tf.Tensor: shape=(), dtype=int32, numpy=13>)\n",
      "Batch  3 , b are  (<tf.Tensor: shape=(2,), dtype=float64, numpy=array([2.5563894 , 0.51127788])>, <tf.Tensor: shape=(), dtype=int32, numpy=5>)\n",
      "Batch  4 , b are  (<tf.Tensor: shape=(2,), dtype=float64, numpy=array([1.97799442, 0.39559888])>, <tf.Tensor: shape=(), dtype=int32, numpy=3>)\n",
      "Batch  5 , b are  (<tf.Tensor: shape=(2,), dtype=float64, numpy=array([1.6716536 , 0.33433072])>, <tf.Tensor: shape=(), dtype=int32, numpy=8>)\n",
      "Batch  6 , b are  (<tf.Tensor: shape=(2,), dtype=float64, numpy=array([2.86108279, 0.57221656])>, <tf.Tensor: shape=(), dtype=int32, numpy=7>)\n",
      "Batch  7 , b are  (<tf.Tensor: shape=(2,), dtype=float64, numpy=array([2.22130709, 0.44426142])>, <tf.Tensor: shape=(), dtype=int32, numpy=12>)\n",
      "\n",
      "The order of the first 8 shuffle from [0, 1, 2, 3, 4, 5, 6, 7] to  [0, 1, 13, 5, 3, 8, 7, 12]\n"
     ]
    }
   ],
   "source": [
    "idxs = []\n",
    "for i,elem in enumerate(dataset):\n",
    "    print(\"Batch \", i, \", b are \", elem)\n",
    "    idxs.append(elem[1].numpy())\n",
    "    if i==7:\n",
    "        break\n",
    "        \n",
    "print(\"\\nThe order of the first 8 shuffle from [0, 1, 2, 3, 4, 5, 6, 7] to \",idxs)"
   ]
  },
  {
   "cell_type": "code",
   "execution_count": 34,
   "id": "5601c376",
   "metadata": {},
   "outputs": [],
   "source": [
    "dataset = dataset.batch(2, drop_remainder=False)"
   ]
  },
  {
   "cell_type": "code",
   "execution_count": 35,
   "id": "9db903ce",
   "metadata": {},
   "outputs": [
    {
     "name": "stdout",
     "output_type": "stream",
     "text": [
      "Batch  0 , b are  (<tf.Tensor: shape=(2, 2), dtype=float64, numpy=\n",
      "array([[1.4344523 , 0.28689046],\n",
      "       [2.86108279, 0.57221656]])>, <tf.Tensor: shape=(2,), dtype=int32, numpy=array([6, 7])>)\n",
      "\n",
      "Batch  1 , b are  (<tf.Tensor: shape=(2, 2), dtype=float64, numpy=\n",
      "array([[1.51641662, 0.30328332],\n",
      "       [1.73918334, 0.34783667]])>, <tf.Tensor: shape=(2,), dtype=int32, numpy=array([ 4, 10])>)\n",
      "\n",
      "Batch  2 , b are  (<tf.Tensor: shape=(2, 2), dtype=float64, numpy=\n",
      "array([[2.31863656, 0.46372731],\n",
      "       [3.26127058, 0.65225412]])>, <tf.Tensor: shape=(2,), dtype=int32, numpy=array([ 2, 16])>)\n",
      "\n",
      "Batch  3 , b are  (<tf.Tensor: shape=(2, 2), dtype=float64, numpy=\n",
      "array([[2.22130709, 0.44426142],\n",
      "       [3.4752194 , 0.69504388]])>, <tf.Tensor: shape=(2,), dtype=int32, numpy=array([12, 21])>)\n",
      "\n",
      "Batch  4 , b are  (<tf.Tensor: shape=(2, 2), dtype=float64, numpy=\n",
      "array([[1.61720338, 0.32344068],\n",
      "       [3.39732816, 0.67946563]])>, <tf.Tensor: shape=(2,), dtype=int32, numpy=array([0, 1])>)\n",
      "\n",
      "Batch  5 , b are  (<tf.Tensor: shape=(2, 2), dtype=float64, numpy=\n",
      "array([[1.84932035, 0.36986407],\n",
      "       [2.70864841, 0.54172968]])>, <tf.Tensor: shape=(2,), dtype=int32, numpy=array([17, 26])>)\n",
      "\n",
      "Batch  6 , b are  (<tf.Tensor: shape=(2, 2), dtype=float64, numpy=\n",
      "array([[1.6716536 , 0.33433072],\n",
      "       [1.79148366, 0.35829673]])>, <tf.Tensor: shape=(2,), dtype=int32, numpy=array([ 8, 19])>)\n",
      "\n",
      "Batch  7 , b are  (<tf.Tensor: shape=(2, 2), dtype=float64, numpy=\n",
      "array([[2.58604119, 0.51720824],\n",
      "       [2.5563894 , 0.51127788]])>, <tf.Tensor: shape=(2,), dtype=int32, numpy=array([28,  5])>)\n",
      "\n",
      "\n",
      "After `dataset.batch(2)`,\n",
      "Batch 0 is combined by 6th and 7th,\n",
      "Batch 1 is combined by 4th and 10th,\n",
      "Batch 2 is combined by 2th and 16th, etc.\n"
     ]
    }
   ],
   "source": [
    "idxs = []\n",
    "for i,elem in enumerate(dataset):\n",
    "    print(\"Batch \", i, \", b are \", elem)\n",
    "    print(\"\")\n",
    "    idxs.append(elem[1].numpy())\n",
    "    if i==7:\n",
    "        break\n",
    "        \n",
    "print(\"\\nAfter `dataset.batch(2)`,\\nBatch 0 is combined by %dth and %dth,\\nBatch 1 is combined by %dth and %dth,\\nBatch 2 is combined by %dth and %dth, etc.\"\\\n",
    "      %(idxs[0][0],idxs[0][1],idxs[1][0],idxs[1][1],idxs[2][0],idxs[2][1]))"
   ]
  },
  {
   "cell_type": "code",
   "execution_count": 36,
   "id": "7768a1ee",
   "metadata": {},
   "outputs": [],
   "source": [
    "dataset = dataset.repeat(2)"
   ]
  },
  {
   "cell_type": "code",
   "execution_count": 37,
   "id": "04a26a25",
   "metadata": {},
   "outputs": [
    {
     "name": "stdout",
     "output_type": "stream",
     "text": [
      "End of epoch 0: Total 200 batches in this epoch with 400 pieces of data\n",
      "End of epoch 1: Total 200 batches in this epoch with 400 pieces of data\n",
      "End of epoch 2: Total 200 batches in this epoch with 400 pieces of data\n"
     ]
    }
   ],
   "source": [
    "epochs = 3\n",
    "\n",
    "for epoch in range(epochs):\n",
    "    size = 0\n",
    "    n_batch = 0\n",
    "    for batch in dataset:\n",
    "        size += len(batch[1])\n",
    "        n_batch += 1\n",
    "    print(\"End of epoch %d: Total %d batches in this epoch with %d pieces of data\"%(epoch, n_batch, size))"
   ]
  },
  {
   "cell_type": "code",
   "execution_count": 38,
   "id": "5496de89",
   "metadata": {},
   "outputs": [],
   "source": [
    "dataset = dataset.prefetch(buffer_size=tf.data.experimental.AUTOTUNE)"
   ]
  },
  {
   "cell_type": "code",
   "execution_count": 39,
   "id": "64a323f2",
   "metadata": {},
   "outputs": [],
   "source": [
    "# use this function to plot the size of each batch.\n",
    "def plot_batch_sizes(ds,title):\n",
    "    batch_sizes = [batch[1].shape[0] for batch in ds]\n",
    "    plt.bar(range(len(batch_sizes)), batch_sizes)\n",
    "    plt.xlabel('Batch number')\n",
    "    plt.ylabel('Batch size')\n",
    "    plt.title(title)\n",
    "    plt.show()"
   ]
  },
  {
   "cell_type": "code",
   "execution_count": 40,
   "id": "b4bcdd9c",
   "metadata": {},
   "outputs": [
    {
     "data": {
      "image/png": "[encoded data removed]",
      "text/plain": [
       "<Figure size 640x480 with 1 Axes>"
      ]
     },
     "metadata": {},
     "output_type": "display_data"
    }
   ],
   "source": [
    "# plot the bar diagram of repeat+batch\n",
    "repeat_batch_ds = raw_dataset.repeat(3).batch(32)\n",
    "plot_batch_sizes(repeat_batch_ds,'repeat+batch')"
   ]
  },
  {
   "cell_type": "code",
   "execution_count": 41,
   "id": "1ac21e72",
   "metadata": {},
   "outputs": [
    {
     "data": {
      "image/png": "[encoded data removed]",
      "text/plain": [
       "<Figure size 640x480 with 1 Axes>"
      ]
     },
     "metadata": {},
     "output_type": "display_data"
    }
   ],
   "source": [
    "# plot the bar diagram of batch+repeat\n",
    "batch_repeat_ds = raw_dataset.batch(32).repeat(3)\n",
    "plot_batch_sizes(batch_repeat_ds,'batch+repeat')"
   ]
  },
  {
   "cell_type": "code",
   "execution_count": 42,
   "id": "3abe0e07",
   "metadata": {},
   "outputs": [],
   "source": [
    "# the url to download CIFAR-10 dataset (binary version)\n",
    "# see format and details here: http://www.cs.toronto.edu/~kriz/cifar.html\n",
    "DATA_URL = 'https://www.cs.toronto.edu/~kriz/cifar-10-python.tar.gz'\n",
    "# the image size we want to keep\n",
    "IMAGE_SIZE_CROPPED = 24\n",
    "IMAGE_HEIGHT = 32\n",
    "IMAGE_WIDTH = 32\n",
    "IMAGE_DEPTH = 3"
   ]
  },
  {
   "cell_type": "code",
   "execution_count": 43,
   "id": "1fe8c4c5",
   "metadata": {},
   "outputs": [
    {
     "name": "stdout",
     "output_type": "stream",
     "text": [
      "Downloading data from https://www.cs.toronto.edu/~kriz/cifar-10-python.tar.gz\n",
      "170498071/170498071 [==============================] - 13s 0us/step\n"
     ]
    }
   ],
   "source": [
    "# donwnload data\n",
    "if not os.path.exists(\"cifar-10-batches-py/\"): \n",
    "    cifar10 = utils.get_file('cifar-10-python.tar.gz',\n",
    "                                      cache_subdir=os.path.abspath('.'),\n",
    "                                      origin = DATA_URL,\n",
    "                                      extract = True)"
   ]
  },
  {
   "cell_type": "code",
   "execution_count": 44,
   "id": "4b284a58",
   "metadata": {},
   "outputs": [],
   "source": [
    "DEST_DIRECTORY = 'cifar-10-batches-py'\n",
    "filenames_train = [os.path.join(DEST_DIRECTORY,'data_batch_%d' % i) for i in range(1,6)]\n",
    "filenames_test = [os.path.join(DEST_DIRECTORY,'test_batch')]"
   ]
  },
  {
   "cell_type": "code",
   "execution_count": 45,
   "id": "434ba9fa",
   "metadata": {},
   "outputs": [],
   "source": [
    "# save (img_path, label) pairs\n",
    "with open('cifar10_train.csv', 'w', newline='') as csvfile:\n",
    "    writer = csv.writer(csvfile)\n",
    "    writer.writerow(['filenames'])\n",
    "    writer.writerows(np.array(filenames_train).reshape(-1,1))\n",
    "        \n",
    "with open('cifar10_test.csv', 'w', newline='') as csvfile:\n",
    "    writer = csv.writer(csvfile)\n",
    "    writer.writerow(['filenames'])\n",
    "    writer.writerows(np.array(filenames_test).reshape(-1,1))"
   ]
  },
  {
   "cell_type": "code",
   "execution_count": 46,
   "id": "e40ae6df",
   "metadata": {},
   "outputs": [],
   "source": [
    "# read data\n",
    "def read_file(file):\n",
    "    with open(file, 'rb') as fo:\n",
    "        raw_data = pickle.load(fo, encoding='bytes')\n",
    "    return raw_data[b'data'],raw_data[b'labels']\n",
    "\n",
    "# parse training data\n",
    "@tf.function\n",
    "def map_fun(image,label):\n",
    "    image = tf.reshape(image,[IMAGE_DEPTH,IMAGE_HEIGHT,IMAGE_WIDTH])\n",
    "    image = tf.divide(tf.cast(tf.transpose(image,[1,2,0]),tf.float32),255.0)\n",
    "    label = tf.one_hot(label,10)\n",
    "    distorted_image = tf.image.resize_with_crop_or_pad(image, IMAGE_SIZE_CROPPED,IMAGE_SIZE_CROPPED)\n",
    "    distorted_image = tf.image.random_flip_left_right(distorted_image)\n",
    "    distorted_image = tf.image.random_brightness(distorted_image, max_delta=63)\n",
    "    distorted_image = tf.image.random_contrast(distorted_image, lower=0.2, upper=1.8)\n",
    "    distorted_image = tf.image.per_image_standardization(distorted_image)\n",
    "    return distorted_image, label\n",
    "\n",
    "# parse testing data\n",
    "@tf.function\n",
    "def map_fun_test(image,label):\n",
    "    image = tf.reshape(image,[IMAGE_DEPTH,IMAGE_HEIGHT,IMAGE_WIDTH])\n",
    "    image = tf.divide(tf.cast(tf.transpose(image,[1,2,0]),tf.float32),255.0)\n",
    "    label = tf.one_hot(label,10)\n",
    "    distorted_image = tf.image.resize_with_crop_or_pad(image, IMAGE_SIZE_CROPPED,IMAGE_SIZE_CROPPED)\n",
    "    distorted_image = tf.image.per_image_standardization(distorted_image)\n",
    "    return distorted_image, label"
   ]
  },
  {
   "cell_type": "code",
   "execution_count": 47,
   "id": "430d78d5",
   "metadata": {},
   "outputs": [],
   "source": [
    "X_train = None\n",
    "Y_train = None\n",
    "X_test = None\n",
    "Y_test = None\n",
    "\n",
    "for filename in filenames_train:\n",
    "    image,label = read_file(filename)\n",
    "    X_train = image if X_train is None else np.concatenate((X_train,image))\n",
    "    Y_train = label if Y_train is None else np.concatenate((Y_train,label))\n",
    "\n",
    "for filename in filenames_test:\n",
    "    image,label = read_file(filename)\n",
    "    X_test = image if X_test is None else np.concatenate((X_test,image))\n",
    "    Y_test = label if Y_test is None else np.concatenate((Y_test,label))\n",
    "\n",
    "# Construct training Dataset\n",
    "dataset = tf.data.Dataset.from_tensor_slices((X_train,Y_train)).map(map_fun).shuffle(10000).batch(64)\n",
    "\n",
    "# # Construct testing Dataset\n",
    "dataset_test = tf.data.Dataset.from_tensor_slices((X_test,Y_test)).map(map_fun_test).batch(64)"
   ]
  },
  {
   "cell_type": "code",
   "execution_count": 48,
   "id": "e24e5a39",
   "metadata": {},
   "outputs": [],
   "source": [
    "model_cifar = models.Sequential()\n",
    "\n",
    "model_cifar.add(layers.Conv2D(64, (5, 5), padding='same', activation='relu', input_shape=(24, 24, 3)))\n",
    "model_cifar.add(layers.MaxPool2D(pool_size=3,strides=2,padding='same'))\n",
    "model_cifar.add(layers.BatchNormalization())\n",
    "                \n",
    "model_cifar.add(layers.Conv2D(64, (5, 5), padding='same', activation='relu'))\n",
    "model_cifar.add(layers.MaxPool2D(pool_size=3,strides=2,padding='same'))\n",
    "model_cifar.add(layers.BatchNormalization())\n",
    "                \n",
    "model_cifar.add(layers.Flatten())\n",
    "model_cifar.add(layers.Dense(384, activation='relu'))\n",
    "model_cifar.add(layers.Dropout(0.5))\n",
    "model_cifar.add(layers.Dense(192, activation='relu'))\n",
    "model_cifar.add(layers.Dropout(0.5))\n",
    "model_cifar.add(layers.Dense(10, activation='softmax'))"
   ]
  },
  {
   "cell_type": "code",
   "execution_count": 49,
   "id": "5850a0b6",
   "metadata": {},
   "outputs": [
    {
     "name": "stdout",
     "output_type": "stream",
     "text": [
      "Model: \"sequential_2\"\n",
      "_________________________________________________________________\n",
      " Layer (type)                Output Shape              Param #   \n",
      "=================================================================\n",
      " conv2d_5 (Conv2D)           (None, 24, 24, 64)        4864      \n",
      "                                                                 \n",
      " max_pooling2d_4 (MaxPooling  (None, 12, 12, 64)       0         \n",
      " 2D)                                                             \n",
      "                                                                 \n",
      " batch_normalization_2 (Batc  (None, 12, 12, 64)       256       \n",
      " hNormalization)                                                 \n",
      "                                                                 \n",
      " conv2d_6 (Conv2D)           (None, 12, 12, 64)        102464    \n",
      "                                                                 \n",
      " max_pooling2d_5 (MaxPooling  (None, 6, 6, 64)         0         \n",
      " 2D)                                                             \n",
      "                                                                 \n",
      " batch_normalization_3 (Batc  (None, 6, 6, 64)         256       \n",
      " hNormalization)                                                 \n",
      "                                                                 \n",
      " flatten_2 (Flatten)         (None, 2304)              0         \n",
      "                                                                 \n",
      " dense_5 (Dense)             (None, 384)               885120    \n",
      "                                                                 \n",
      " dropout_2 (Dropout)         (None, 384)               0         \n",
      "                                                                 \n",
      " dense_6 (Dense)             (None, 192)               73920     \n",
      "                                                                 \n",
      " dropout_3 (Dropout)         (None, 192)               0         \n",
      "                                                                 \n",
      " dense_7 (Dense)             (None, 10)                1930      \n",
      "                                                                 \n",
      "=================================================================\n",
      "Total params: 1,068,810\n",
      "Trainable params: 1,068,554\n",
      "Non-trainable params: 256\n",
      "_________________________________________________________________\n"
     ]
    }
   ],
   "source": [
    "model_cifar.compile(optimizer='adam',\n",
    "              loss='categorical_crossentropy',\n",
    "              metrics=['accuracy'])\n",
    "model_cifar.summary()"
   ]
  },
  {
   "cell_type": "code",
   "execution_count": 50,
   "id": "a67d59df",
   "metadata": {},
   "outputs": [
    {
     "name": "stdout",
     "output_type": "stream",
     "text": [
      "Epoch 1/5\n",
      "782/782 [==============================] - 7s 7ms/step - loss: 1.7446 - accuracy: 0.3828 - val_loss: 1.3334 - val_accuracy: 0.5283\n",
      "Epoch 2/5\n",
      "782/782 [==============================] - 6s 7ms/step - loss: 1.3475 - accuracy: 0.5297 - val_loss: 1.1100 - val_accuracy: 0.6106\n",
      "Epoch 3/5\n",
      "782/782 [==============================] - 6s 7ms/step - loss: 1.1814 - accuracy: 0.5916 - val_loss: 0.9760 - val_accuracy: 0.6695\n",
      "Epoch 4/5\n",
      "782/782 [==============================] - 6s 7ms/step - loss: 1.0745 - accuracy: 0.6323 - val_loss: 0.9421 - val_accuracy: 0.6822\n",
      "Epoch 5/5\n",
      "782/782 [==============================] - 7s 9ms/step - loss: 0.9992 - accuracy: 0.6592 - val_loss: 0.8801 - val_accuracy: 0.7006\n",
      "test accuracy: 0.7006000280380249\n"
     ]
    }
   ],
   "source": [
    "model_cifar.fit(dataset, epochs=5, validation_data=dataset_test, verbose=1)\n",
    "_, test_acc = model_cifar.evaluate(dataset_test, verbose=0)\n",
    "print('test accuracy:',test_acc)"
   ]
  }
 ],
 "metadata": {
  "kernelspec": {
   "display_name": "Python 3 (ipykernel)",
   "language": "python",
   "name": "python3"
  },
  "language_info": {
   "codemirror_mode": {
    "name": "ipython",
    "version": 3
   },
   "file_extension": ".py",
   "mimetype": "text/x-python",
   "name": "python",
   "nbconvert_exporter": "python",
   "pygments_lexer": "ipython3",
   "version": "3.9.18"
  }
 },
 "nbformat": 4,
 "nbformat_minor": 5
}
