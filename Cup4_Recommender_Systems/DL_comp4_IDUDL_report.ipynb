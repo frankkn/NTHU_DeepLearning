{
 "cells": [
  {
   "cell_type": "markdown",
   "metadata": {},
   "source": [
    "# <center>DataLab Cup 4: Recommender Systems</center>\n",
    "<center>Shan-Hung Wu & DataLab</center>\n",
    "<center>Fall 2023</center>"
   ]
  },
  {
   "cell_type": "markdown",
   "metadata": {},
   "source": [
    "## Platform: [Kaggle](https://www.kaggle.com/t/b06e248a3827434f80c4fdc6009d5fe0)\n",
    "\n",
    "Please download the dataset and the environment source code from Kaggle."
   ]
  },
  {
   "cell_type": "markdown",
   "metadata": {},
   "source": [
    "## Overview\n",
    "\n",
    "In this competition, your goal is to design a recommender system that suggests news articles to users. The performance of your recommender system will be assessed using a simulation environment.\n",
    "\n",
    "At each timestep, the simulation environment randomly selects an active user with a given `user_id`. Once you receive this `user_id`, your recommender system must generate a slate **(a list of 5 distinct `item_ids` to recommend to the current user)** and pass it to the environment. The environment then uses its internal information to determine which item the user will choose from the recommended list (with some degree of stochasticity) or decide not to choose any item due to a lack of interest.\n",
    "\n",
    "Each user has a latent patience value (invisible to your recommender system), which slightly increases when an item is chosen and drastically decreases when no item is chosen in each round. If a user's patience drops below 0 or the user runs out of the time budget (2000 timesteps), the user leaves the environment. The chosen `item_id` (or `-1` if no item is chosen) and whether the current user stays (`True`) or leaves (`False`) are returned as the result of recommending a slate of items. A new user (if any) will be randomly selected for recommendations in the next timestep after the response of the current user is generated.\n",
    "\n",
    "Your recommender system should continue recommending items to the current user at each timestep as long as there are still active users in the environment. The simulation process terminates after all users have left the system.\n",
    "\n",
    "**Your goal is to maximize the session length of each user.** The session length is defined as the number of timesteps a user interacts with your recommender system before leaving the environment. The calculated session length score, normalized to the range of 0 ~ 1, will be provided by the simulation environment after the completion of the simulation process."
   ]
  },
  {
   "cell_type": "code",
   "execution_count": 33,
   "metadata": {},
   "outputs": [],
   "source": [
    "import os\n",
    "import random\n",
    "\n",
    "import numpy as np\n",
    "import pandas as pd\n",
    "from tqdm import tqdm\n",
    "\n",
    "from evaluation.environment import TrainingEnvironment, TestingEnvironment\n",
    "\n",
    "import tensorflow as tf\n",
    "import matplotlib.pyplot as plt"
   ]
  },
  {
   "cell_type": "code",
   "execution_count": 34,
   "metadata": {},
   "outputs": [],
   "source": [
    "# Official hyperparameters for this competition (do not modify)\n",
    "N_TRAIN_USERS = 1000\n",
    "N_TEST_USERS = 2000\n",
    "N_ITEMS = 209527\n",
    "HORIZON = 2000\n",
    "TEST_EPISODES = 5\n",
    "SLATE_SIZE = 5"
   ]
  },
  {
   "cell_type": "markdown",
   "metadata": {},
   "source": [
    "## Datasets\n",
    "\n",
    "In this competition, we won't provide a substantial user-item interaction dataset. Instead, limited information (3 items per user) on historical interactions will be available. To train your recommender system effectively, you need to employ a recommender policy to interact with the training environment and collect additional interaction data.\n",
    "\n",
    "We will introduce the side-information datasets provided in the following sections."
   ]
  },
  {
   "cell_type": "code",
   "execution_count": 35,
   "metadata": {},
   "outputs": [],
   "source": [
    "# Dataset paths\n",
    "USER_DATA = os.path.join('dataset', 'user_data.json')\n",
    "ITEM_DATA = os.path.join('dataset', 'item_data.json')\n",
    "\n",
    "# Output file path\n",
    "OUTPUT_PATH = os.path.join('output', 'output.csv')"
   ]
  },
  {
   "cell_type": "markdown",
   "metadata": {},
   "source": [
    "## User Data\n",
    "\n",
    "In the **training environment**, there are a total of **1000 users** identified by IDs ranging from 0 to 999. For the **testing environment**, there are **2000 users** with IDs ranging from 0 to 1999. The **testing environment includes the same 1000 users found in the training environment** (user 0 to user 999), and an additional 1000 new users (user 1000 to user 1999) are introduced.\n",
    "\n",
    "For all 2000 users, we provide you with the **past 3 clicked item IDs of each user**. Let's examine the user dataset."
   ]
  },
  {
   "cell_type": "code",
   "execution_count": 36,
   "metadata": {},
   "outputs": [
    {
     "data": {
      "text/html": [
       "<div>\n",
       "<style scoped>\n",
       "    .dataframe tbody tr th:only-of-type {\n",
       "        vertical-align: middle;\n",
       "    }\n",
       "\n",
       "    .dataframe tbody tr th {\n",
       "        vertical-align: top;\n",
       "    }\n",
       "\n",
       "    .dataframe thead th {\n",
       "        text-align: right;\n",
       "    }\n",
       "</style>\n",
       "<table border=\"1\" class=\"dataframe\">\n",
       "  <thead>\n",
       "    <tr style=\"text-align: right;\">\n",
       "      <th></th>\n",
       "      <th>user_id</th>\n",
       "      <th>history</th>\n",
       "    </tr>\n",
       "  </thead>\n",
       "  <tbody>\n",
       "    <tr>\n",
       "      <th>0</th>\n",
       "      <td>0</td>\n",
       "      <td>[42558, 65272, 13353]</td>\n",
       "    </tr>\n",
       "    <tr>\n",
       "      <th>1</th>\n",
       "      <td>1</td>\n",
       "      <td>[146057, 195688, 143652]</td>\n",
       "    </tr>\n",
       "    <tr>\n",
       "      <th>2</th>\n",
       "      <td>2</td>\n",
       "      <td>[67551, 85247, 33714]</td>\n",
       "    </tr>\n",
       "    <tr>\n",
       "      <th>3</th>\n",
       "      <td>3</td>\n",
       "      <td>[116097, 192703, 103229]</td>\n",
       "    </tr>\n",
       "    <tr>\n",
       "      <th>4</th>\n",
       "      <td>4</td>\n",
       "      <td>[68756, 140123, 135289]</td>\n",
       "    </tr>\n",
       "    <tr>\n",
       "      <th>...</th>\n",
       "      <td>...</td>\n",
       "      <td>...</td>\n",
       "    </tr>\n",
       "    <tr>\n",
       "      <th>1995</th>\n",
       "      <td>1995</td>\n",
       "      <td>[95090, 131393, 130239]</td>\n",
       "    </tr>\n",
       "    <tr>\n",
       "      <th>1996</th>\n",
       "      <td>1996</td>\n",
       "      <td>[2360, 147130, 8145]</td>\n",
       "    </tr>\n",
       "    <tr>\n",
       "      <th>1997</th>\n",
       "      <td>1997</td>\n",
       "      <td>[99794, 138694, 157888]</td>\n",
       "    </tr>\n",
       "    <tr>\n",
       "      <th>1998</th>\n",
       "      <td>1998</td>\n",
       "      <td>[55561, 60372, 51442]</td>\n",
       "    </tr>\n",
       "    <tr>\n",
       "      <th>1999</th>\n",
       "      <td>1999</td>\n",
       "      <td>[125409, 77906, 124792]</td>\n",
       "    </tr>\n",
       "  </tbody>\n",
       "</table>\n",
       "<p>2000 rows × 2 columns</p>\n",
       "</div>"
      ],
      "text/plain": [
       "      user_id                   history\n",
       "0           0     [42558, 65272, 13353]\n",
       "1           1  [146057, 195688, 143652]\n",
       "2           2     [67551, 85247, 33714]\n",
       "3           3  [116097, 192703, 103229]\n",
       "4           4   [68756, 140123, 135289]\n",
       "...       ...                       ...\n",
       "1995     1995   [95090, 131393, 130239]\n",
       "1996     1996      [2360, 147130, 8145]\n",
       "1997     1997   [99794, 138694, 157888]\n",
       "1998     1998     [55561, 60372, 51442]\n",
       "1999     1999   [125409, 77906, 124792]\n",
       "\n",
       "[2000 rows x 2 columns]"
      ]
     },
     "execution_count": 36,
     "metadata": {},
     "output_type": "execute_result"
    }
   ],
   "source": [
    "df_user = pd.read_json(USER_DATA, lines=True)\n",
    "df_user"
   ]
  },
  {
   "cell_type": "code",
   "execution_count": 37,
   "metadata": {},
   "outputs": [
    {
     "name": "stdout",
     "output_type": "stream",
     "text": [
      "      user_id  history  clicked\n",
      "0           0    42558        1\n",
      "1           0    65272        1\n",
      "2           0    13353        1\n",
      "3           1   146057        1\n",
      "4           1   195688        1\n",
      "...       ...      ...      ...\n",
      "5995     1998    60372        1\n",
      "5996     1998    51442        1\n",
      "5997     1999   125409        1\n",
      "5998     1999    77906        1\n",
      "5999     1999   124792        1\n",
      "\n",
      "[6000 rows x 3 columns]\n"
     ]
    }
   ],
   "source": [
    "# 使用 explode 將 history 列展開為多行\n",
    "df_clicked = df_user.explode('history')\n",
    "\n",
    "# 將點擊過的新欄位設為1\n",
    "df_clicked['clicked'] = 1\n",
    "\n",
    "# 重新設置索引\n",
    "df_clicked.reset_index(drop=True, inplace=True)\n",
    "\n",
    "df_clicked['user_id'] = df_clicked['user_id'].astype(int)\n",
    "df_clicked['history'] = df_clicked['history'].astype(int)\n",
    "df_clicked['clicked'] = df_clicked['clicked'].astype(int)\n",
    "\n",
    "# 顯示處理後的 DataFrame\n",
    "print(df_clicked)"
   ]
  },
  {
   "cell_type": "markdown",
   "metadata": {},
   "source": [
    "## Item Data\n",
    "\n",
    "Both the training and testing environments share a common pool of **209527 items** as their item candidate pool. For the side information of these items, we provide text descriptions for each news article. The item dataset is derived from the [News Category Dataset](https://www.kaggle.com/datasets/rmisra/news-category-dataset). It's important to note that you should only use the dataset provided by us. Utilizing the original dataset, which contains extra information, will be considered as cheating. Let's explore the item dataset."
   ]
  },
  {
   "cell_type": "code",
   "execution_count": 38,
   "metadata": {},
   "outputs": [
    {
     "data": {
      "text/html": [
       "<div>\n",
       "<style scoped>\n",
       "    .dataframe tbody tr th:only-of-type {\n",
       "        vertical-align: middle;\n",
       "    }\n",
       "\n",
       "    .dataframe tbody tr th {\n",
       "        vertical-align: top;\n",
       "    }\n",
       "\n",
       "    .dataframe thead th {\n",
       "        text-align: right;\n",
       "    }\n",
       "</style>\n",
       "<table border=\"1\" class=\"dataframe\">\n",
       "  <thead>\n",
       "    <tr style=\"text-align: right;\">\n",
       "      <th></th>\n",
       "      <th>item_id</th>\n",
       "      <th>headline</th>\n",
       "      <th>short_description</th>\n",
       "    </tr>\n",
       "  </thead>\n",
       "  <tbody>\n",
       "    <tr>\n",
       "      <th>0</th>\n",
       "      <td>0</td>\n",
       "      <td>Over 4 Million Americans Roll Up Sleeves For O...</td>\n",
       "      <td>Health experts said it is too early to predict...</td>\n",
       "    </tr>\n",
       "    <tr>\n",
       "      <th>1</th>\n",
       "      <td>1</td>\n",
       "      <td>American Airlines Flyer Charged, Banned For Li...</td>\n",
       "      <td>He was subdued by passengers and crew when he ...</td>\n",
       "    </tr>\n",
       "    <tr>\n",
       "      <th>2</th>\n",
       "      <td>2</td>\n",
       "      <td>23 Of The Funniest Tweets About Cats And Dogs ...</td>\n",
       "      <td>\"Until you have a dog you don't understand wha...</td>\n",
       "    </tr>\n",
       "    <tr>\n",
       "      <th>3</th>\n",
       "      <td>3</td>\n",
       "      <td>The Funniest Tweets From Parents This Week (Se...</td>\n",
       "      <td>\"Accidentally put grown-up toothpaste on my to...</td>\n",
       "    </tr>\n",
       "    <tr>\n",
       "      <th>4</th>\n",
       "      <td>4</td>\n",
       "      <td>Woman Who Called Cops On Black Bird-Watcher Lo...</td>\n",
       "      <td>Amy Cooper accused investment firm Franklin Te...</td>\n",
       "    </tr>\n",
       "    <tr>\n",
       "      <th>...</th>\n",
       "      <td>...</td>\n",
       "      <td>...</td>\n",
       "      <td>...</td>\n",
       "    </tr>\n",
       "    <tr>\n",
       "      <th>209522</th>\n",
       "      <td>209522</td>\n",
       "      <td>RIM CEO Thorsten Heins' 'Significant' Plans Fo...</td>\n",
       "      <td>Verizon Wireless and AT&amp;T are already promotin...</td>\n",
       "    </tr>\n",
       "    <tr>\n",
       "      <th>209523</th>\n",
       "      <td>209523</td>\n",
       "      <td>Maria Sharapova Stunned By Victoria Azarenka I...</td>\n",
       "      <td>Afterward, Azarenka, more effusive with the pr...</td>\n",
       "    </tr>\n",
       "    <tr>\n",
       "      <th>209524</th>\n",
       "      <td>209524</td>\n",
       "      <td>Giants Over Patriots, Jets Over Colts Among  M...</td>\n",
       "      <td>Leading up to Super Bowl XLVI, the most talked...</td>\n",
       "    </tr>\n",
       "    <tr>\n",
       "      <th>209525</th>\n",
       "      <td>209525</td>\n",
       "      <td>Aldon Smith Arrested: 49ers Linebacker Busted ...</td>\n",
       "      <td>CORRECTION: An earlier version of this story i...</td>\n",
       "    </tr>\n",
       "    <tr>\n",
       "      <th>209526</th>\n",
       "      <td>209526</td>\n",
       "      <td>Dwight Howard Rips Teammates After Magic Loss ...</td>\n",
       "      <td>The five-time all-star center tore into his te...</td>\n",
       "    </tr>\n",
       "  </tbody>\n",
       "</table>\n",
       "<p>209527 rows × 3 columns</p>\n",
       "</div>"
      ],
      "text/plain": [
       "        item_id                                           headline  \\\n",
       "0             0  Over 4 Million Americans Roll Up Sleeves For O...   \n",
       "1             1  American Airlines Flyer Charged, Banned For Li...   \n",
       "2             2  23 Of The Funniest Tweets About Cats And Dogs ...   \n",
       "3             3  The Funniest Tweets From Parents This Week (Se...   \n",
       "4             4  Woman Who Called Cops On Black Bird-Watcher Lo...   \n",
       "...         ...                                                ...   \n",
       "209522   209522  RIM CEO Thorsten Heins' 'Significant' Plans Fo...   \n",
       "209523   209523  Maria Sharapova Stunned By Victoria Azarenka I...   \n",
       "209524   209524  Giants Over Patriots, Jets Over Colts Among  M...   \n",
       "209525   209525  Aldon Smith Arrested: 49ers Linebacker Busted ...   \n",
       "209526   209526  Dwight Howard Rips Teammates After Magic Loss ...   \n",
       "\n",
       "                                        short_description  \n",
       "0       Health experts said it is too early to predict...  \n",
       "1       He was subdued by passengers and crew when he ...  \n",
       "2       \"Until you have a dog you don't understand wha...  \n",
       "3       \"Accidentally put grown-up toothpaste on my to...  \n",
       "4       Amy Cooper accused investment firm Franklin Te...  \n",
       "...                                                   ...  \n",
       "209522  Verizon Wireless and AT&T are already promotin...  \n",
       "209523  Afterward, Azarenka, more effusive with the pr...  \n",
       "209524  Leading up to Super Bowl XLVI, the most talked...  \n",
       "209525  CORRECTION: An earlier version of this story i...  \n",
       "209526  The five-time all-star center tore into his te...  \n",
       "\n",
       "[209527 rows x 3 columns]"
      ]
     },
     "execution_count": 38,
     "metadata": {},
     "output_type": "execute_result"
    }
   ],
   "source": [
    "df_item = pd.read_json(ITEM_DATA, lines=True)\n",
    "df_item"
   ]
  },
  {
   "cell_type": "markdown",
   "metadata": {},
   "source": [
    "## Simulation Environments\n",
    "\n",
    "We offer two simulation environments in this competition: `TrainingEnvironment` and `TestingEnvironment`. The only distinction between the two environments is the number of users, with 1000 for training and 2000 for testing. All public methods for both environments behave the same since they share the same base class.\n",
    "\n",
    "**Important Note: Ensure that you collect interaction data only by accessing the environment through the designated public methods listed below. Directly accessing or modifying any file or code in the `evaluation` directory, or retrieving internal attributes and states of the environment (including all attributes / methods starting with an underscore `_`), will be considered as cheating.**"
   ]
  },
  {
   "cell_type": "markdown",
   "metadata": {},
   "source": [
    "## Environment Classes\n",
    "\n",
    "### <kbd>class</kbd> `TrainingEnvironment`\n",
    "Class for the training environment. Contains first 1000 users with user ID ranging from 0 to 999. \n",
    "\n",
    "### <kbd>class</kbd> `TestingEnvironment`\n",
    "Class for the testing environment. Contains all 2000 users with user ID ranging from 0 to 1999. "
   ]
  },
  {
   "cell_type": "markdown",
   "metadata": {},
   "source": [
    "## Environment Public Methods\n",
    "\n",
    "**Note that both `TrainingEnvironment` and `TestingEnvironment` shares the same set of public methods.**\n",
    "\n",
    "---\n",
    "\n",
    "### <kbd>function</kbd> `reset`\n",
    "\n",
    "\n",
    "```python\n",
    "reset() → None\n",
    "```\n",
    "\n",
    "<br/>\n",
    "Reset the environment to its initial parameters and states. \n",
    "\n",
    "---\n",
    "\n",
    "### <kbd>function</kbd> `has_next_state`\n",
    "\n",
    "\n",
    "```python\n",
    "has_next_state() → bool\n",
    "```\n",
    "\n",
    "<br/>\n",
    "Verify whether the next state exists. The next state is considered to exist if there is at least one user still present in the environment. \n",
    "\n",
    "**Returns:**\n",
    "\n",
    "  - `True` if the next state exists, `False` otherwise. \n",
    "\n",
    "---\n",
    "\n",
    "### <kbd>function</kbd> `get_state`\n",
    "\n",
    "\n",
    "```python\n",
    "get_state() → int\n",
    "```\n",
    "\n",
    "<br/>\n",
    "Get the current state (the user ID of the current user). \n",
    "\n",
    "**Returns:**\n",
    " \n",
    " - <b>``int``</b>:  The user ID of the current user, or `-1` if there are no active users in the environment. \n",
    "\n",
    "---\n",
    "\n",
    "### <kbd>function</kbd> `get_response`\n",
    "\n",
    "\n",
    "```python\n",
    "get_response(slate: list) → tuple[int, bool]\n",
    "```\n",
    "\n",
    "<br/>\n",
    "Send the recommended slate (list of 5 distinct item IDs) and get the response from the current user. The internal user state will be updated according to the response, and a random user will be selected to be the next user (next state). \n",
    "\n",
    "**Args:**\n",
    " \n",
    " - <b>`slate`</b>:  `list[int]`  A list of 5 distinct item IDs to be recommended. \n",
    "\n",
    "**Returns:**\n",
    "\n",
    " - <b>`tuple[int, bool]`</b>:  The first entry indicates the `item ID` chosen by the user, or `-1` if the user decides not to choose any item.  The second entry represents whether the user is still in the environment after this interaction round. `True` if the user stays, `False` if the user leaves. \n",
    "\n",
    "**Raises:**\n",
    " \n",
    " - <b>``AssertionError``</b>:  If the slate length is not 5, contains duplicates or out-of-range item IDs, or if there are no active users in the environment. \n",
    "\n",
    "---\n",
    "\n",
    "### <kbd>function</kbd> `get_score`\n",
    "\n",
    "\n",
    "```python\n",
    "get_score() → list[float]\n",
    "```\n",
    "\n",
    "<br/>\n",
    "Get the normalized session length score (0 ~ 1) for each user. \n",
    "\n",
    "**Returns:**\n",
    " \n",
    " - <b>``list[float]``</b>:  A list containing the normalized session length score for each user. "
   ]
  },
  {
   "cell_type": "markdown",
   "metadata": {},
   "source": [
    "## Training\n",
    "\n",
    "The implementation of the recommender algorithm is left to you. If you're in need of ideas, you can refer to the [Recommender Systems Tutorial](https://nthu-datalab.github.io/ml/labs/recommender-systems-tutorial/recommender-systems-tutorial.html) notebook in Lecture 16. Here, we'll just provide some example use cases of the public methods.\n",
    "\n",
    "**Hint:** If you're looking for inspiration, consider starting by collecting interaction data from the environment using your initial recommender policy. Afterward, improve your model with this data, and iterate through this collect-then-train loop.\n",
    "\n",
    "**Important Note: Ensure that you save your model weights after training. You will need to load a set of model weights trained exclusively on the training environment at the beginning of each test episode.**"
   ]
  },
  {
   "cell_type": "code",
   "execution_count": 39,
   "metadata": {},
   "outputs": [
    {
     "name": "stdout",
     "output_type": "stream",
     "text": [
      "bias_mu =  1.0\n"
     ]
    }
   ],
   "source": [
    "# Get bias_mu\n",
    "BIAS_MU = df_clicked['clicked'].mean()\n",
    "print('bias_mu = ', BIAS_MU)"
   ]
  },
  {
   "cell_type": "code",
   "execution_count": 40,
   "metadata": {},
   "outputs": [],
   "source": [
    "class FunkSVDRecommender(tf.keras.Model):\n",
    "    '''\n",
    "    Simplified Funk-SVD recommender model\n",
    "    '''\n",
    "\n",
    "    def __init__(self, m_users: int, n_items: int, bias_mu, embedding_size: int, learning_rate: float,\n",
    "                 regularization_train: bool, regularization_update: bool, seed: int):\n",
    "        '''\n",
    "        Constructor of the model\n",
    "        '''\n",
    "        super().__init__()\n",
    "        self.m = m_users\n",
    "        self.n = n_items\n",
    "        self.k = embedding_size\n",
    "        self.lr = learning_rate\n",
    "        self.reg_train = regularization_train\n",
    "        self.reg_update = regularization_update\n",
    "        self.seed = seed\n",
    "        self.B_mu = tf.constant([bias_mu])\n",
    "\n",
    "        # user embeddings P\n",
    "        self.P = tf.Variable(tf.keras.initializers.RandomNormal()(shape=(self.m, self.k)))\n",
    "\n",
    "        # item embeddings Q\n",
    "        self.Q = tf.Variable(tf.keras.initializers.RandomNormal()(shape=(self.n, self.k)))\n",
    "        \n",
    "        # bias term\n",
    "        self.B_user = tf.Variable(tf.keras.initializers.RandomNormal(seed=self.seed)(shape=(self.m, 1)))\n",
    "        self.B_item = tf.Variable(tf.keras.initializers.RandomNormal(seed=self.seed)(shape=(self.n, 1)))\n",
    "\n",
    "        # optimizer\n",
    "        self.optimizer = tf.optimizers.Adam(learning_rate=self.lr)\n",
    "\n",
    "    @tf.function\n",
    "    def call(self, user_ids: tf.Tensor, item_ids: tf.Tensor) -> tf.Tensor:\n",
    "        '''\n",
    "        Forward pass used in training and validating\n",
    "        '''\n",
    "        # dot product the user and item embeddings corresponding to the observed interaction pairs to produce predictions\n",
    "        y_pred = tf.reduce_sum(tf.gather(self.P, indices=user_ids) * tf.gather(self.Q, indices=item_ids), axis=1)\n",
    "        \n",
    "        y_pred = tf.add(y_pred, tf.squeeze(tf.gather(self.B_user, indices=user_ids)))\n",
    "        y_pred = tf.add(y_pred, tf.squeeze(tf.gather(self.B_item, indices=item_ids)))\n",
    "\n",
    "        return y_pred\n",
    "\n",
    "    @tf.function\n",
    "    def compute_loss(self, y_true: tf.Tensor, y_pred: tf.Tensor, regularization: bool) -> tf.Tensor:\n",
    "        '''\n",
    "        Compute the MSE loss of the model\n",
    "        '''\n",
    "        # loss = tf.losses.binary_crossentropy(y_true, y_pred, from_logits=True)\n",
    "        \n",
    "        if regularization:\n",
    "            loss = tf.losses.binary_crossentropy(y_true, y_pred)\n",
    "            # loss = tf.losses.mean_squared_error(y_true, y_pred)\n",
    "            reg = 0.01 * (tf.nn.l2_loss(self.Q) + tf.nn.l2_loss(self.P) +\n",
    "                          tf.nn.l2_loss(self.B_item) + tf.nn.l2_loss(self.B_user))\n",
    "            loss += reg\n",
    "        else:\n",
    "            loss = tf.losses.binary_crossentropy(y_true, y_pred)\n",
    "            # loss = tf.losses.mean_squared_error(y_true, y_pred)\n",
    "\n",
    "        return loss\n",
    "\n",
    "    @tf.function\n",
    "    def train_step(self, data: tf.Tensor) -> tf.Tensor:\n",
    "        '''\n",
    "        Train the model with one batch\n",
    "        data: batched user-item interactions\n",
    "        each record in data is in the format [user_id, history, clicked]\n",
    "        '''\n",
    "        user_ids = tf.cast(data[:, 0], dtype=tf.int32)\n",
    "        item_ids = tf.cast(data[:, 1], dtype=tf.int32)\n",
    "        y_true = tf.cast(data[:, 2], dtype=tf.float32)\n",
    "\n",
    "        # compute loss\n",
    "        with tf.GradientTape() as tape:\n",
    "            y_pred = self(user_ids, item_ids)\n",
    "            loss = self.compute_loss(y_true, y_pred, self.reg_train)\n",
    "\n",
    "        # compute gradients\n",
    "        gradients = tape.gradient(loss, self.trainable_variables)\n",
    "\n",
    "        # update weights\n",
    "        self.optimizer.apply_gradients(zip(gradients, self.trainable_variables))\n",
    "\n",
    "        return loss\n",
    "\n",
    "    @tf.function\n",
    "    def eval_predict_onestep(self, user_id: int) -> tf.Tensor:\n",
    "        '''\n",
    "        Retrieve and return the NewsIDs of the 5 recommended news given a query\n",
    "        You should return a tf.Tensor with shape=(5,)\n",
    "        '''\n",
    "        user_id = tf.cast(user_id, tf.int32)\n",
    "        \n",
    "        # dot product the selected user and all item embeddings to produce predictions\n",
    "        y_pred = tf.reduce_sum(tf.gather(self.P, user_id) * self.Q, axis=1)\n",
    "        \n",
    "        y_pred = tf.add(tf.gather(self.B_user, user_id), y_pred)\n",
    "        y_pred = tf.add(tf.squeeze(self.B_item), y_pred)\n",
    "\n",
    "        # select the top 5 items with highest scores in y_pred\n",
    "        y_top_5 = tf.math.top_k(y_pred, k=5).indices\n",
    "\n",
    "        return y_top_5"
   ]
  },
  {
   "cell_type": "code",
   "execution_count": 41,
   "metadata": {},
   "outputs": [],
   "source": [
    "@tf.function\n",
    "def log2(x: tf.Tensor) -> tf.Tensor:\n",
    "    return tf.math.log(tf.cast(x, tf.float32)) / tf.math.log(2.)\n",
    "\n",
    "@tf.function\n",
    "def ndcg_at_10(y_true: tf.Tensor, y_pred: tf.Tensor) -> tf.Tensor:\n",
    "    y_pred = y_pred[:10]\n",
    "    idx = tf.equal(tf.cast(y_pred, tf.int32), tf.cast(y_true, tf.int32))\n",
    "    if tf.reduce_sum(tf.cast(idx, tf.int32)) > 0:\n",
    "        return 1. / log2(2 + tf.argmax(idx))\n",
    "    else:\n",
    "        return tf.constant(0.)\n",
    "\n",
    "@tf.function\n",
    "def recall_at_10(y_true: tf.Tensor, y_pred: tf.Tensor) -> tf.Tensor:\n",
    "    y_pred = y_pred[:10]\n",
    "    idx = tf.equal(tf.cast(y_pred, tf.int32), tf.cast(y_true, tf.int32))\n",
    "    if tf.reduce_sum(tf.cast(idx, tf.int32)) > 0:\n",
    "        return tf.constant(1.)\n",
    "    else:\n",
    "        return tf.constant(0.)\n",
    "\n",
    "def evaluate(model: tf.keras.Model, dataset: tf.data.Dataset) -> tuple:\n",
    "    '''\n",
    "    For each data point in the dataset:\n",
    "    data[0] is the UserID\n",
    "    data[1] is the NewsID \n",
    "    data[2] is the Clicked\n",
    "    '''\n",
    "    ndcg_scores = []\n",
    "    recall_scores = []\n",
    "\n",
    "    for data in tqdm(dataset, desc='Evaluating'):\n",
    "        # query the model to make predictions if the observed event is a positive interaction (ratings >= 4)\n",
    "        if data[2] == 1:\n",
    "            y_pred = model.eval_predict_onestep(tf.gather(data, (0, 2)))\n",
    "            y_true = tf.gather(data, 1)\n",
    "            ndcg = ndcg_at_10(y_true, y_pred)\n",
    "            recall = recall_at_10(y_true, y_pred)\n",
    "            ndcg_scores.append(ndcg)\n",
    "            recall_scores.append(recall)\n",
    "\n",
    "    ndcg_result = tf.reduce_mean(ndcg_scores).numpy()\n",
    "    recall_result = tf.reduce_mean(recall_scores).numpy()\n",
    "\n",
    "    return ndcg_result, recall_result"
   ]
  },
  {
   "cell_type": "code",
   "execution_count": 42,
   "metadata": {},
   "outputs": [],
   "source": [
    "# hyperparameters\n",
    "EMBEDDING_SIZE = 256\n",
    "BATCH_SIZE = 512\n",
    "N_EPOCHS = 200\n",
    "LEARNING_RATE = 1e-4\n",
    "SEED = 0\n",
    "\n",
    "# bad result if adding regularization\n",
    "REGULARIZATION_TRAIN = False\n",
    "REGULARIZATION_UPDATE = False"
   ]
  },
  {
   "cell_type": "code",
   "execution_count": 43,
   "metadata": {
    "scrolled": true
   },
   "outputs": [
    {
     "name": "stdout",
     "output_type": "stream",
     "text": [
      "Epoch 1:\n"
     ]
    },
    {
     "name": "stderr",
     "output_type": "stream",
     "text": [
      "Training: 100%|████████████████████████████████████████████████████████████████████████| 12/12 [00:01<00:00, 11.34it/s]\n"
     ]
    },
    {
     "name": "stdout",
     "output_type": "stream",
     "text": [
      "Epoch 1 train_loss: 9.2847\n",
      "\n",
      "Epoch 2:\n"
     ]
    },
    {
     "name": "stderr",
     "output_type": "stream",
     "text": [
      "Training: 100%|████████████████████████████████████████████████████████████████████████| 12/12 [00:00<00:00, 61.46it/s]\n"
     ]
    },
    {
     "name": "stdout",
     "output_type": "stream",
     "text": [
      "Epoch 2 train_loss: 9.1465\n",
      "\n",
      "Epoch 3:\n"
     ]
    },
    {
     "name": "stderr",
     "output_type": "stream",
     "text": [
      "Training: 100%|████████████████████████████████████████████████████████████████████████| 12/12 [00:00<00:00, 61.25it/s]\n"
     ]
    },
    {
     "name": "stdout",
     "output_type": "stream",
     "text": [
      "Epoch 3 train_loss: 9.0700\n",
      "\n",
      "Epoch 4:\n"
     ]
    },
    {
     "name": "stderr",
     "output_type": "stream",
     "text": [
      "Training: 100%|████████████████████████████████████████████████████████████████████████| 12/12 [00:00<00:00, 61.24it/s]\n"
     ]
    },
    {
     "name": "stdout",
     "output_type": "stream",
     "text": [
      "Epoch 4 train_loss: 9.0110\n",
      "\n",
      "Epoch 5:\n"
     ]
    },
    {
     "name": "stderr",
     "output_type": "stream",
     "text": [
      "Training: 100%|████████████████████████████████████████████████████████████████████████| 12/12 [00:00<00:00, 61.39it/s]\n"
     ]
    },
    {
     "name": "stdout",
     "output_type": "stream",
     "text": [
      "Epoch 5 train_loss: 8.9633\n",
      "\n",
      "Epoch 6:\n"
     ]
    },
    {
     "name": "stderr",
     "output_type": "stream",
     "text": [
      "Training: 100%|████████████████████████████████████████████████████████████████████████| 12/12 [00:00<00:00, 61.54it/s]\n"
     ]
    },
    {
     "name": "stdout",
     "output_type": "stream",
     "text": [
      "Epoch 6 train_loss: 8.9110\n",
      "\n",
      "Epoch 7:\n"
     ]
    },
    {
     "name": "stderr",
     "output_type": "stream",
     "text": [
      "Training: 100%|████████████████████████████████████████████████████████████████████████| 12/12 [00:00<00:00, 61.82it/s]\n"
     ]
    },
    {
     "name": "stdout",
     "output_type": "stream",
     "text": [
      "Epoch 7 train_loss: 8.8600\n",
      "\n",
      "Epoch 8:\n"
     ]
    },
    {
     "name": "stderr",
     "output_type": "stream",
     "text": [
      "Training: 100%|████████████████████████████████████████████████████████████████████████| 12/12 [00:00<00:00, 61.39it/s]\n"
     ]
    },
    {
     "name": "stdout",
     "output_type": "stream",
     "text": [
      "Epoch 8 train_loss: 8.8110\n",
      "\n",
      "Epoch 9:\n"
     ]
    },
    {
     "name": "stderr",
     "output_type": "stream",
     "text": [
      "Training: 100%|████████████████████████████████████████████████████████████████████████| 12/12 [00:00<00:00, 61.87it/s]\n"
     ]
    },
    {
     "name": "stdout",
     "output_type": "stream",
     "text": [
      "Epoch 9 train_loss: 8.7678\n",
      "\n",
      "Epoch 10:\n"
     ]
    },
    {
     "name": "stderr",
     "output_type": "stream",
     "text": [
      "Training: 100%|████████████████████████████████████████████████████████████████████████| 12/12 [00:00<00:00, 61.85it/s]\n"
     ]
    },
    {
     "name": "stdout",
     "output_type": "stream",
     "text": [
      "Epoch 10 train_loss: 8.7333\n",
      "\n",
      "Epoch 11:\n"
     ]
    },
    {
     "name": "stderr",
     "output_type": "stream",
     "text": [
      "Training: 100%|████████████████████████████████████████████████████████████████████████| 12/12 [00:00<00:00, 61.53it/s]\n"
     ]
    },
    {
     "name": "stdout",
     "output_type": "stream",
     "text": [
      "Epoch 11 train_loss: 8.7009\n",
      "\n",
      "Epoch 12:\n"
     ]
    },
    {
     "name": "stderr",
     "output_type": "stream",
     "text": [
      "Training: 100%|████████████████████████████████████████████████████████████████████████| 12/12 [00:00<00:00, 61.40it/s]\n"
     ]
    },
    {
     "name": "stdout",
     "output_type": "stream",
     "text": [
      "Epoch 12 train_loss: 8.6720\n",
      "\n",
      "Epoch 13:\n"
     ]
    },
    {
     "name": "stderr",
     "output_type": "stream",
     "text": [
      "Training: 100%|████████████████████████████████████████████████████████████████████████| 12/12 [00:00<00:00, 61.79it/s]\n"
     ]
    },
    {
     "name": "stdout",
     "output_type": "stream",
     "text": [
      "Epoch 13 train_loss: 8.6482\n",
      "\n",
      "Epoch 14:\n"
     ]
    },
    {
     "name": "stderr",
     "output_type": "stream",
     "text": [
      "Training: 100%|████████████████████████████████████████████████████████████████████████| 12/12 [00:00<00:00, 61.20it/s]\n"
     ]
    },
    {
     "name": "stdout",
     "output_type": "stream",
     "text": [
      "Epoch 14 train_loss: 8.6255\n",
      "\n",
      "Epoch 15:\n"
     ]
    },
    {
     "name": "stderr",
     "output_type": "stream",
     "text": [
      "Training: 100%|████████████████████████████████████████████████████████████████████████| 12/12 [00:00<00:00, 61.81it/s]\n"
     ]
    },
    {
     "name": "stdout",
     "output_type": "stream",
     "text": [
      "Epoch 15 train_loss: 8.6053\n",
      "\n",
      "Epoch 16:\n"
     ]
    },
    {
     "name": "stderr",
     "output_type": "stream",
     "text": [
      "Training: 100%|████████████████████████████████████████████████████████████████████████| 12/12 [00:00<00:00, 61.53it/s]\n"
     ]
    },
    {
     "name": "stdout",
     "output_type": "stream",
     "text": [
      "Epoch 16 train_loss: 8.5838\n",
      "\n",
      "Epoch 17:\n"
     ]
    },
    {
     "name": "stderr",
     "output_type": "stream",
     "text": [
      "Training: 100%|████████████████████████████████████████████████████████████████████████| 12/12 [00:00<00:00, 61.49it/s]\n"
     ]
    },
    {
     "name": "stdout",
     "output_type": "stream",
     "text": [
      "Epoch 17 train_loss: 8.5623\n",
      "\n",
      "Epoch 18:\n"
     ]
    },
    {
     "name": "stderr",
     "output_type": "stream",
     "text": [
      "Training: 100%|████████████████████████████████████████████████████████████████████████| 12/12 [00:00<00:00, 61.76it/s]\n"
     ]
    },
    {
     "name": "stdout",
     "output_type": "stream",
     "text": [
      "Epoch 18 train_loss: 8.5392\n",
      "\n",
      "Epoch 19:\n"
     ]
    },
    {
     "name": "stderr",
     "output_type": "stream",
     "text": [
      "Training: 100%|████████████████████████████████████████████████████████████████████████| 12/12 [00:00<00:00, 61.20it/s]\n"
     ]
    },
    {
     "name": "stdout",
     "output_type": "stream",
     "text": [
      "Epoch 19 train_loss: 8.5195\n",
      "\n",
      "Epoch 20:\n"
     ]
    },
    {
     "name": "stderr",
     "output_type": "stream",
     "text": [
      "Training: 100%|████████████████████████████████████████████████████████████████████████| 12/12 [00:00<00:00, 60.60it/s]\n"
     ]
    },
    {
     "name": "stdout",
     "output_type": "stream",
     "text": [
      "Epoch 20 train_loss: 8.5005\n",
      "\n",
      "Epoch 21:\n"
     ]
    },
    {
     "name": "stderr",
     "output_type": "stream",
     "text": [
      "Training: 100%|████████████████████████████████████████████████████████████████████████| 12/12 [00:00<00:00, 59.84it/s]\n"
     ]
    },
    {
     "name": "stdout",
     "output_type": "stream",
     "text": [
      "Epoch 21 train_loss: 8.4775\n",
      "\n",
      "Epoch 22:\n"
     ]
    },
    {
     "name": "stderr",
     "output_type": "stream",
     "text": [
      "Training: 100%|████████████████████████████████████████████████████████████████████████| 12/12 [00:00<00:00, 59.88it/s]\n"
     ]
    },
    {
     "name": "stdout",
     "output_type": "stream",
     "text": [
      "Epoch 22 train_loss: 8.4539\n",
      "\n",
      "Epoch 23:\n"
     ]
    },
    {
     "name": "stderr",
     "output_type": "stream",
     "text": [
      "Training: 100%|████████████████████████████████████████████████████████████████████████| 12/12 [00:00<00:00, 61.06it/s]\n"
     ]
    },
    {
     "name": "stdout",
     "output_type": "stream",
     "text": [
      "Epoch 23 train_loss: 8.4300\n",
      "\n",
      "Epoch 24:\n"
     ]
    },
    {
     "name": "stderr",
     "output_type": "stream",
     "text": [
      "Training: 100%|████████████████████████████████████████████████████████████████████████| 12/12 [00:00<00:00, 59.42it/s]\n"
     ]
    },
    {
     "name": "stdout",
     "output_type": "stream",
     "text": [
      "Epoch 24 train_loss: 8.4090\n",
      "\n",
      "Epoch 25:\n"
     ]
    },
    {
     "name": "stderr",
     "output_type": "stream",
     "text": [
      "Training: 100%|████████████████████████████████████████████████████████████████████████| 12/12 [00:00<00:00, 59.89it/s]\n"
     ]
    },
    {
     "name": "stdout",
     "output_type": "stream",
     "text": [
      "Epoch 25 train_loss: 8.3894\n",
      "\n",
      "Epoch 26:\n"
     ]
    },
    {
     "name": "stderr",
     "output_type": "stream",
     "text": [
      "Training: 100%|████████████████████████████████████████████████████████████████████████| 12/12 [00:00<00:00, 60.91it/s]\n"
     ]
    },
    {
     "name": "stdout",
     "output_type": "stream",
     "text": [
      "Epoch 26 train_loss: 8.3702\n",
      "\n",
      "Epoch 27:\n"
     ]
    },
    {
     "name": "stderr",
     "output_type": "stream",
     "text": [
      "Training: 100%|████████████████████████████████████████████████████████████████████████| 12/12 [00:00<00:00, 60.40it/s]\n"
     ]
    },
    {
     "name": "stdout",
     "output_type": "stream",
     "text": [
      "Epoch 27 train_loss: 8.3494\n",
      "\n",
      "Epoch 28:\n"
     ]
    },
    {
     "name": "stderr",
     "output_type": "stream",
     "text": [
      "Training: 100%|████████████████████████████████████████████████████████████████████████| 12/12 [00:00<00:00, 60.59it/s]\n"
     ]
    },
    {
     "name": "stdout",
     "output_type": "stream",
     "text": [
      "Epoch 28 train_loss: 8.3288\n",
      "\n",
      "Epoch 29:\n"
     ]
    },
    {
     "name": "stderr",
     "output_type": "stream",
     "text": [
      "Training: 100%|████████████████████████████████████████████████████████████████████████| 12/12 [00:00<00:00, 59.99it/s]\n"
     ]
    },
    {
     "name": "stdout",
     "output_type": "stream",
     "text": [
      "Epoch 29 train_loss: 8.3112\n",
      "\n",
      "Epoch 30:\n"
     ]
    },
    {
     "name": "stderr",
     "output_type": "stream",
     "text": [
      "Training: 100%|████████████████████████████████████████████████████████████████████████| 12/12 [00:00<00:00, 60.92it/s]\n"
     ]
    },
    {
     "name": "stdout",
     "output_type": "stream",
     "text": [
      "Epoch 30 train_loss: 8.2946\n",
      "\n",
      "Epoch 31:\n"
     ]
    },
    {
     "name": "stderr",
     "output_type": "stream",
     "text": [
      "Training: 100%|████████████████████████████████████████████████████████████████████████| 12/12 [00:00<00:00, 60.76it/s]\n"
     ]
    },
    {
     "name": "stdout",
     "output_type": "stream",
     "text": [
      "Epoch 31 train_loss: 8.2776\n",
      "\n",
      "Epoch 32:\n"
     ]
    },
    {
     "name": "stderr",
     "output_type": "stream",
     "text": [
      "Training: 100%|████████████████████████████████████████████████████████████████████████| 12/12 [00:00<00:00, 59.85it/s]\n"
     ]
    },
    {
     "name": "stdout",
     "output_type": "stream",
     "text": [
      "Epoch 32 train_loss: 8.2616\n",
      "\n",
      "Epoch 33:\n"
     ]
    },
    {
     "name": "stderr",
     "output_type": "stream",
     "text": [
      "Training: 100%|████████████████████████████████████████████████████████████████████████| 12/12 [00:00<00:00, 58.12it/s]\n"
     ]
    },
    {
     "name": "stdout",
     "output_type": "stream",
     "text": [
      "Epoch 33 train_loss: 8.2443\n",
      "\n",
      "Epoch 34:\n"
     ]
    },
    {
     "name": "stderr",
     "output_type": "stream",
     "text": [
      "Training: 100%|████████████████████████████████████████████████████████████████████████| 12/12 [00:00<00:00, 60.06it/s]\n"
     ]
    },
    {
     "name": "stdout",
     "output_type": "stream",
     "text": [
      "Epoch 34 train_loss: 8.2268\n",
      "\n",
      "Epoch 35:\n"
     ]
    },
    {
     "name": "stderr",
     "output_type": "stream",
     "text": [
      "Training: 100%|████████████████████████████████████████████████████████████████████████| 12/12 [00:00<00:00, 60.74it/s]\n"
     ]
    },
    {
     "name": "stdout",
     "output_type": "stream",
     "text": [
      "Epoch 35 train_loss: 8.2114\n",
      "\n",
      "Epoch 36:\n"
     ]
    },
    {
     "name": "stderr",
     "output_type": "stream",
     "text": [
      "Training: 100%|████████████████████████████████████████████████████████████████████████| 12/12 [00:00<00:00, 61.59it/s]\n"
     ]
    },
    {
     "name": "stdout",
     "output_type": "stream",
     "text": [
      "Epoch 36 train_loss: 8.1959\n",
      "\n",
      "Epoch 37:\n"
     ]
    },
    {
     "name": "stderr",
     "output_type": "stream",
     "text": [
      "Training: 100%|████████████████████████████████████████████████████████████████████████| 12/12 [00:00<00:00, 61.05it/s]\n"
     ]
    },
    {
     "name": "stdout",
     "output_type": "stream",
     "text": [
      "Epoch 37 train_loss: 8.1768\n",
      "\n",
      "Epoch 38:\n"
     ]
    },
    {
     "name": "stderr",
     "output_type": "stream",
     "text": [
      "Training: 100%|████████████████████████████████████████████████████████████████████████| 12/12 [00:00<00:00, 61.85it/s]\n"
     ]
    },
    {
     "name": "stdout",
     "output_type": "stream",
     "text": [
      "Epoch 38 train_loss: 8.1587\n",
      "\n",
      "Epoch 39:\n"
     ]
    },
    {
     "name": "stderr",
     "output_type": "stream",
     "text": [
      "Training: 100%|████████████████████████████████████████████████████████████████████████| 12/12 [00:00<00:00, 61.53it/s]\n"
     ]
    },
    {
     "name": "stdout",
     "output_type": "stream",
     "text": [
      "Epoch 39 train_loss: 8.1432\n",
      "\n",
      "Epoch 40:\n"
     ]
    },
    {
     "name": "stderr",
     "output_type": "stream",
     "text": [
      "Training: 100%|████████████████████████████████████████████████████████████████████████| 12/12 [00:00<00:00, 61.80it/s]\n"
     ]
    },
    {
     "name": "stdout",
     "output_type": "stream",
     "text": [
      "Epoch 40 train_loss: 8.1277\n",
      "\n",
      "Epoch 41:\n"
     ]
    },
    {
     "name": "stderr",
     "output_type": "stream",
     "text": [
      "Training: 100%|████████████████████████████████████████████████████████████████████████| 12/12 [00:00<00:00, 62.40it/s]"
     ]
    },
    {
     "name": "stdout",
     "output_type": "stream",
     "text": [
      "Epoch 41 train_loss: 8.1145\n",
      "\n",
      "Epoch 42:\n"
     ]
    },
    {
     "name": "stderr",
     "output_type": "stream",
     "text": [
      "\n",
      "Training: 100%|████████████████████████████████████████████████████████████████████████| 12/12 [00:00<00:00, 61.44it/s]\n"
     ]
    },
    {
     "name": "stdout",
     "output_type": "stream",
     "text": [
      "Epoch 42 train_loss: 8.1036\n",
      "\n",
      "Epoch 43:\n"
     ]
    },
    {
     "name": "stderr",
     "output_type": "stream",
     "text": [
      "Training: 100%|████████████████████████████████████████████████████████████████████████| 12/12 [00:00<00:00, 61.61it/s]\n"
     ]
    },
    {
     "name": "stdout",
     "output_type": "stream",
     "text": [
      "Epoch 43 train_loss: 8.0875\n",
      "\n",
      "Epoch 44:\n"
     ]
    },
    {
     "name": "stderr",
     "output_type": "stream",
     "text": [
      "Training: 100%|████████████████████████████████████████████████████████████████████████| 12/12 [00:00<00:00, 60.66it/s]\n"
     ]
    },
    {
     "name": "stdout",
     "output_type": "stream",
     "text": [
      "Epoch 44 train_loss: 8.0682\n",
      "\n",
      "Epoch 45:\n"
     ]
    },
    {
     "name": "stderr",
     "output_type": "stream",
     "text": [
      "Training: 100%|████████████████████████████████████████████████████████████████████████| 12/12 [00:00<00:00, 61.44it/s]\n"
     ]
    },
    {
     "name": "stdout",
     "output_type": "stream",
     "text": [
      "Epoch 45 train_loss: 8.0516\n",
      "\n",
      "Epoch 46:\n"
     ]
    },
    {
     "name": "stderr",
     "output_type": "stream",
     "text": [
      "Training: 100%|████████████████████████████████████████████████████████████████████████| 12/12 [00:00<00:00, 61.22it/s]\n"
     ]
    },
    {
     "name": "stdout",
     "output_type": "stream",
     "text": [
      "Epoch 46 train_loss: 8.0367\n",
      "\n",
      "Epoch 47:\n"
     ]
    },
    {
     "name": "stderr",
     "output_type": "stream",
     "text": [
      "Training: 100%|████████████████████████████████████████████████████████████████████████| 12/12 [00:00<00:00, 61.37it/s]\n"
     ]
    },
    {
     "name": "stdout",
     "output_type": "stream",
     "text": [
      "Epoch 47 train_loss: 8.0226\n",
      "\n",
      "Epoch 48:\n"
     ]
    },
    {
     "name": "stderr",
     "output_type": "stream",
     "text": [
      "Training: 100%|████████████████████████████████████████████████████████████████████████| 12/12 [00:00<00:00, 61.45it/s]\n"
     ]
    },
    {
     "name": "stdout",
     "output_type": "stream",
     "text": [
      "Epoch 48 train_loss: 8.0091\n",
      "\n",
      "Epoch 49:\n"
     ]
    },
    {
     "name": "stderr",
     "output_type": "stream",
     "text": [
      "Training: 100%|████████████████████████████████████████████████████████████████████████| 12/12 [00:00<00:00, 61.53it/s]\n"
     ]
    },
    {
     "name": "stdout",
     "output_type": "stream",
     "text": [
      "Epoch 49 train_loss: 7.9954\n",
      "\n",
      "Epoch 50:\n"
     ]
    },
    {
     "name": "stderr",
     "output_type": "stream",
     "text": [
      "Training: 100%|████████████████████████████████████████████████████████████████████████| 12/12 [00:00<00:00, 60.97it/s]\n"
     ]
    },
    {
     "name": "stdout",
     "output_type": "stream",
     "text": [
      "Epoch 50 train_loss: 7.9829\n",
      "\n",
      "Epoch 51:\n"
     ]
    },
    {
     "name": "stderr",
     "output_type": "stream",
     "text": [
      "Training: 100%|████████████████████████████████████████████████████████████████████████| 12/12 [00:00<00:00, 61.69it/s]\n"
     ]
    },
    {
     "name": "stdout",
     "output_type": "stream",
     "text": [
      "Epoch 51 train_loss: 7.9687\n",
      "\n",
      "Epoch 52:\n"
     ]
    },
    {
     "name": "stderr",
     "output_type": "stream",
     "text": [
      "Training: 100%|████████████████████████████████████████████████████████████████████████| 12/12 [00:00<00:00, 61.56it/s]\n"
     ]
    },
    {
     "name": "stdout",
     "output_type": "stream",
     "text": [
      "Epoch 52 train_loss: 7.9529\n",
      "\n",
      "Epoch 53:\n"
     ]
    },
    {
     "name": "stderr",
     "output_type": "stream",
     "text": [
      "Training: 100%|████████████████████████████████████████████████████████████████████████| 12/12 [00:00<00:00, 61.48it/s]\n"
     ]
    },
    {
     "name": "stdout",
     "output_type": "stream",
     "text": [
      "Epoch 53 train_loss: 7.9399\n",
      "\n",
      "Epoch 54:\n"
     ]
    },
    {
     "name": "stderr",
     "output_type": "stream",
     "text": [
      "Training: 100%|████████████████████████████████████████████████████████████████████████| 12/12 [00:00<00:00, 61.20it/s]\n"
     ]
    },
    {
     "name": "stdout",
     "output_type": "stream",
     "text": [
      "Epoch 54 train_loss: 7.9307\n",
      "\n",
      "Epoch 55:\n"
     ]
    },
    {
     "name": "stderr",
     "output_type": "stream",
     "text": [
      "Training: 100%|████████████████████████████████████████████████████████████████████████| 12/12 [00:00<00:00, 61.83it/s]\n"
     ]
    },
    {
     "name": "stdout",
     "output_type": "stream",
     "text": [
      "Epoch 55 train_loss: 7.9200\n",
      "\n",
      "Epoch 56:\n"
     ]
    },
    {
     "name": "stderr",
     "output_type": "stream",
     "text": [
      "Training: 100%|████████████████████████████████████████████████████████████████████████| 12/12 [00:00<00:00, 61.42it/s]\n"
     ]
    },
    {
     "name": "stdout",
     "output_type": "stream",
     "text": [
      "Epoch 56 train_loss: 7.9079\n",
      "\n",
      "Epoch 57:\n"
     ]
    },
    {
     "name": "stderr",
     "output_type": "stream",
     "text": [
      "Training: 100%|████████████████████████████████████████████████████████████████████████| 12/12 [00:00<00:00, 61.88it/s]\n"
     ]
    },
    {
     "name": "stdout",
     "output_type": "stream",
     "text": [
      "Epoch 57 train_loss: 7.8944\n",
      "\n",
      "Epoch 58:\n"
     ]
    },
    {
     "name": "stderr",
     "output_type": "stream",
     "text": [
      "Training: 100%|████████████████████████████████████████████████████████████████████████| 12/12 [00:00<00:00, 61.49it/s]\n"
     ]
    },
    {
     "name": "stdout",
     "output_type": "stream",
     "text": [
      "Epoch 58 train_loss: 7.8800\n",
      "\n",
      "Epoch 59:\n"
     ]
    },
    {
     "name": "stderr",
     "output_type": "stream",
     "text": [
      "Training: 100%|████████████████████████████████████████████████████████████████████████| 12/12 [00:00<00:00, 61.87it/s]\n"
     ]
    },
    {
     "name": "stdout",
     "output_type": "stream",
     "text": [
      "Epoch 59 train_loss: 7.8699\n",
      "\n",
      "Epoch 60:\n"
     ]
    },
    {
     "name": "stderr",
     "output_type": "stream",
     "text": [
      "Training: 100%|████████████████████████████████████████████████████████████████████████| 12/12 [00:00<00:00, 61.49it/s]\n"
     ]
    },
    {
     "name": "stdout",
     "output_type": "stream",
     "text": [
      "Epoch 60 train_loss: 7.8587\n",
      "\n",
      "Epoch 61:\n"
     ]
    },
    {
     "name": "stderr",
     "output_type": "stream",
     "text": [
      "Training: 100%|████████████████████████████████████████████████████████████████████████| 12/12 [00:00<00:00, 62.09it/s]"
     ]
    },
    {
     "name": "stdout",
     "output_type": "stream",
     "text": [
      "Epoch 61 train_loss: 7.8455\n",
      "\n",
      "Epoch 62:\n"
     ]
    },
    {
     "name": "stderr",
     "output_type": "stream",
     "text": [
      "\n",
      "Training: 100%|████████████████████████████████████████████████████████████████████████| 12/12 [00:00<00:00, 61.37it/s]\n"
     ]
    },
    {
     "name": "stdout",
     "output_type": "stream",
     "text": [
      "Epoch 62 train_loss: 7.8373\n",
      "\n",
      "Epoch 63:\n"
     ]
    },
    {
     "name": "stderr",
     "output_type": "stream",
     "text": [
      "Training: 100%|████████████████████████████████████████████████████████████████████████| 12/12 [00:00<00:00, 61.22it/s]\n"
     ]
    },
    {
     "name": "stdout",
     "output_type": "stream",
     "text": [
      "Epoch 63 train_loss: 7.8271\n",
      "\n",
      "Epoch 64:\n"
     ]
    },
    {
     "name": "stderr",
     "output_type": "stream",
     "text": [
      "Training: 100%|████████████████████████████████████████████████████████████████████████| 12/12 [00:00<00:00, 61.18it/s]\n"
     ]
    },
    {
     "name": "stdout",
     "output_type": "stream",
     "text": [
      "Epoch 64 train_loss: 7.8134\n",
      "\n",
      "Epoch 65:\n"
     ]
    },
    {
     "name": "stderr",
     "output_type": "stream",
     "text": [
      "Training: 100%|████████████████████████████████████████████████████████████████████████| 12/12 [00:00<00:00, 60.91it/s]\n"
     ]
    },
    {
     "name": "stdout",
     "output_type": "stream",
     "text": [
      "Epoch 65 train_loss: 7.8038\n",
      "\n",
      "Epoch 66:\n"
     ]
    },
    {
     "name": "stderr",
     "output_type": "stream",
     "text": [
      "Training: 100%|████████████████████████████████████████████████████████████████████████| 12/12 [00:00<00:00, 61.02it/s]\n"
     ]
    },
    {
     "name": "stdout",
     "output_type": "stream",
     "text": [
      "Epoch 66 train_loss: 7.7952\n",
      "\n",
      "Epoch 67:\n"
     ]
    },
    {
     "name": "stderr",
     "output_type": "stream",
     "text": [
      "Training: 100%|████████████████████████████████████████████████████████████████████████| 12/12 [00:00<00:00, 61.35it/s]\n"
     ]
    },
    {
     "name": "stdout",
     "output_type": "stream",
     "text": [
      "Epoch 67 train_loss: 7.7869\n",
      "\n",
      "Epoch 68:\n"
     ]
    },
    {
     "name": "stderr",
     "output_type": "stream",
     "text": [
      "Training: 100%|████████████████████████████████████████████████████████████████████████| 12/12 [00:00<00:00, 61.41it/s]\n"
     ]
    },
    {
     "name": "stdout",
     "output_type": "stream",
     "text": [
      "Epoch 68 train_loss: 7.7794\n",
      "\n",
      "Epoch 69:\n"
     ]
    },
    {
     "name": "stderr",
     "output_type": "stream",
     "text": [
      "Training: 100%|████████████████████████████████████████████████████████████████████████| 12/12 [00:00<00:00, 61.57it/s]\n"
     ]
    },
    {
     "name": "stdout",
     "output_type": "stream",
     "text": [
      "Epoch 69 train_loss: 7.7734\n",
      "\n",
      "Epoch 70:\n"
     ]
    },
    {
     "name": "stderr",
     "output_type": "stream",
     "text": [
      "Training: 100%|████████████████████████████████████████████████████████████████████████| 12/12 [00:00<00:00, 61.53it/s]\n"
     ]
    },
    {
     "name": "stdout",
     "output_type": "stream",
     "text": [
      "Epoch 70 train_loss: 7.7663\n",
      "\n",
      "Epoch 71:\n"
     ]
    },
    {
     "name": "stderr",
     "output_type": "stream",
     "text": [
      "Training: 100%|████████████████████████████████████████████████████████████████████████| 12/12 [00:00<00:00, 60.91it/s]\n"
     ]
    },
    {
     "name": "stdout",
     "output_type": "stream",
     "text": [
      "Epoch 71 train_loss: 7.7564\n",
      "\n",
      "Epoch 72:\n"
     ]
    },
    {
     "name": "stderr",
     "output_type": "stream",
     "text": [
      "Training: 100%|████████████████████████████████████████████████████████████████████████| 12/12 [00:00<00:00, 59.32it/s]\n"
     ]
    },
    {
     "name": "stdout",
     "output_type": "stream",
     "text": [
      "Epoch 72 train_loss: 7.7445\n",
      "\n",
      "Epoch 73:\n"
     ]
    },
    {
     "name": "stderr",
     "output_type": "stream",
     "text": [
      "Training: 100%|████████████████████████████████████████████████████████████████████████| 12/12 [00:00<00:00, 61.21it/s]\n"
     ]
    },
    {
     "name": "stdout",
     "output_type": "stream",
     "text": [
      "Epoch 73 train_loss: 7.7344\n",
      "\n",
      "Epoch 74:\n"
     ]
    },
    {
     "name": "stderr",
     "output_type": "stream",
     "text": [
      "Training: 100%|████████████████████████████████████████████████████████████████████████| 12/12 [00:00<00:00, 60.90it/s]\n"
     ]
    },
    {
     "name": "stdout",
     "output_type": "stream",
     "text": [
      "Epoch 74 train_loss: 7.7207\n",
      "\n",
      "Epoch 75:\n"
     ]
    },
    {
     "name": "stderr",
     "output_type": "stream",
     "text": [
      "Training: 100%|████████████████████████████████████████████████████████████████████████| 12/12 [00:00<00:00, 60.14it/s]\n"
     ]
    },
    {
     "name": "stdout",
     "output_type": "stream",
     "text": [
      "Epoch 75 train_loss: 7.7085\n",
      "\n",
      "Epoch 76:\n"
     ]
    },
    {
     "name": "stderr",
     "output_type": "stream",
     "text": [
      "Training: 100%|████████████████████████████████████████████████████████████████████████| 12/12 [00:00<00:00, 60.04it/s]\n"
     ]
    },
    {
     "name": "stdout",
     "output_type": "stream",
     "text": [
      "Epoch 76 train_loss: 7.6978\n",
      "\n",
      "Epoch 77:\n"
     ]
    },
    {
     "name": "stderr",
     "output_type": "stream",
     "text": [
      "Training: 100%|████████████████████████████████████████████████████████████████████████| 12/12 [00:00<00:00, 61.75it/s]\n"
     ]
    },
    {
     "name": "stdout",
     "output_type": "stream",
     "text": [
      "Epoch 77 train_loss: 7.6890\n",
      "\n",
      "Epoch 78:\n"
     ]
    },
    {
     "name": "stderr",
     "output_type": "stream",
     "text": [
      "Training: 100%|████████████████████████████████████████████████████████████████████████| 12/12 [00:00<00:00, 61.42it/s]\n"
     ]
    },
    {
     "name": "stdout",
     "output_type": "stream",
     "text": [
      "Epoch 78 train_loss: 7.6802\n",
      "\n",
      "Epoch 79:\n"
     ]
    },
    {
     "name": "stderr",
     "output_type": "stream",
     "text": [
      "Training: 100%|████████████████████████████████████████████████████████████████████████| 12/12 [00:00<00:00, 62.17it/s]\n"
     ]
    },
    {
     "name": "stdout",
     "output_type": "stream",
     "text": [
      "Epoch 79 train_loss: 7.6707\n",
      "\n",
      "Epoch 80:\n"
     ]
    },
    {
     "name": "stderr",
     "output_type": "stream",
     "text": [
      "Training: 100%|████████████████████████████████████████████████████████████████████████| 12/12 [00:00<00:00, 61.85it/s]\n"
     ]
    },
    {
     "name": "stdout",
     "output_type": "stream",
     "text": [
      "Epoch 80 train_loss: 7.6616\n",
      "\n",
      "Epoch 81:\n"
     ]
    },
    {
     "name": "stderr",
     "output_type": "stream",
     "text": [
      "Training: 100%|████████████████████████████████████████████████████████████████████████| 12/12 [00:00<00:00, 62.42it/s]"
     ]
    },
    {
     "name": "stdout",
     "output_type": "stream",
     "text": [
      "Epoch 81 train_loss: 7.6480\n",
      "\n",
      "Epoch 82:\n"
     ]
    },
    {
     "name": "stderr",
     "output_type": "stream",
     "text": [
      "\n",
      "Training: 100%|████████████████████████████████████████████████████████████████████████| 12/12 [00:00<00:00, 61.80it/s]\n"
     ]
    },
    {
     "name": "stdout",
     "output_type": "stream",
     "text": [
      "Epoch 82 train_loss: 7.6372\n",
      "\n",
      "Epoch 83:\n"
     ]
    },
    {
     "name": "stderr",
     "output_type": "stream",
     "text": [
      "Training: 100%|████████████████████████████████████████████████████████████████████████| 12/12 [00:00<00:00, 61.75it/s]\n"
     ]
    },
    {
     "name": "stdout",
     "output_type": "stream",
     "text": [
      "Epoch 83 train_loss: 7.6237\n",
      "\n",
      "Epoch 84:\n"
     ]
    },
    {
     "name": "stderr",
     "output_type": "stream",
     "text": [
      "Training: 100%|████████████████████████████████████████████████████████████████████████| 12/12 [00:00<00:00, 60.48it/s]\n"
     ]
    },
    {
     "name": "stdout",
     "output_type": "stream",
     "text": [
      "Epoch 84 train_loss: 7.6139\n",
      "\n",
      "Epoch 85:\n"
     ]
    },
    {
     "name": "stderr",
     "output_type": "stream",
     "text": [
      "Training: 100%|████████████████████████████████████████████████████████████████████████| 12/12 [00:00<00:00, 60.60it/s]\n"
     ]
    },
    {
     "name": "stdout",
     "output_type": "stream",
     "text": [
      "Epoch 85 train_loss: 7.6085\n",
      "\n",
      "Epoch 86:\n"
     ]
    },
    {
     "name": "stderr",
     "output_type": "stream",
     "text": [
      "Training: 100%|████████████████████████████████████████████████████████████████████████| 12/12 [00:00<00:00, 60.82it/s]\n"
     ]
    },
    {
     "name": "stdout",
     "output_type": "stream",
     "text": [
      "Epoch 86 train_loss: 7.6025\n",
      "\n",
      "Epoch 87:\n"
     ]
    },
    {
     "name": "stderr",
     "output_type": "stream",
     "text": [
      "Training: 100%|████████████████████████████████████████████████████████████████████████| 12/12 [00:00<00:00, 60.73it/s]\n"
     ]
    },
    {
     "name": "stdout",
     "output_type": "stream",
     "text": [
      "Epoch 87 train_loss: 7.5941\n",
      "\n",
      "Epoch 88:\n"
     ]
    },
    {
     "name": "stderr",
     "output_type": "stream",
     "text": [
      "Training: 100%|████████████████████████████████████████████████████████████████████████| 12/12 [00:00<00:00, 60.92it/s]\n"
     ]
    },
    {
     "name": "stdout",
     "output_type": "stream",
     "text": [
      "Epoch 88 train_loss: 7.5840\n",
      "\n",
      "Epoch 89:\n"
     ]
    },
    {
     "name": "stderr",
     "output_type": "stream",
     "text": [
      "Training: 100%|████████████████████████████████████████████████████████████████████████| 12/12 [00:00<00:00, 61.82it/s]\n"
     ]
    },
    {
     "name": "stdout",
     "output_type": "stream",
     "text": [
      "Epoch 89 train_loss: 7.5734\n",
      "\n",
      "Epoch 90:\n"
     ]
    },
    {
     "name": "stderr",
     "output_type": "stream",
     "text": [
      "Training: 100%|████████████████████████████████████████████████████████████████████████| 12/12 [00:00<00:00, 61.49it/s]\n"
     ]
    },
    {
     "name": "stdout",
     "output_type": "stream",
     "text": [
      "Epoch 90 train_loss: 7.5647\n",
      "\n",
      "Epoch 91:\n"
     ]
    },
    {
     "name": "stderr",
     "output_type": "stream",
     "text": [
      "Training: 100%|████████████████████████████████████████████████████████████████████████| 12/12 [00:00<00:00, 61.14it/s]\n"
     ]
    },
    {
     "name": "stdout",
     "output_type": "stream",
     "text": [
      "Epoch 91 train_loss: 7.5557\n",
      "\n",
      "Epoch 92:\n"
     ]
    },
    {
     "name": "stderr",
     "output_type": "stream",
     "text": [
      "Training: 100%|████████████████████████████████████████████████████████████████████████| 12/12 [00:00<00:00, 61.53it/s]\n"
     ]
    },
    {
     "name": "stdout",
     "output_type": "stream",
     "text": [
      "Epoch 92 train_loss: 7.5472\n",
      "\n",
      "Epoch 93:\n"
     ]
    },
    {
     "name": "stderr",
     "output_type": "stream",
     "text": [
      "Training: 100%|████████████████████████████████████████████████████████████████████████| 12/12 [00:00<00:00, 62.05it/s]\n"
     ]
    },
    {
     "name": "stdout",
     "output_type": "stream",
     "text": [
      "Epoch 93 train_loss: 7.5357\n",
      "\n",
      "Epoch 94:\n"
     ]
    },
    {
     "name": "stderr",
     "output_type": "stream",
     "text": [
      "Training: 100%|████████████████████████████████████████████████████████████████████████| 12/12 [00:00<00:00, 61.53it/s]\n"
     ]
    },
    {
     "name": "stdout",
     "output_type": "stream",
     "text": [
      "Epoch 94 train_loss: 7.5244\n",
      "\n",
      "Epoch 95:\n"
     ]
    },
    {
     "name": "stderr",
     "output_type": "stream",
     "text": [
      "Training: 100%|████████████████████████████████████████████████████████████████████████| 12/12 [00:00<00:00, 61.00it/s]\n"
     ]
    },
    {
     "name": "stdout",
     "output_type": "stream",
     "text": [
      "Epoch 95 train_loss: 7.5161\n",
      "\n",
      "Epoch 96:\n"
     ]
    },
    {
     "name": "stderr",
     "output_type": "stream",
     "text": [
      "Training: 100%|████████████████████████████████████████████████████████████████████████| 12/12 [00:00<00:00, 61.09it/s]\n"
     ]
    },
    {
     "name": "stdout",
     "output_type": "stream",
     "text": [
      "Epoch 96 train_loss: 7.5063\n",
      "\n",
      "Epoch 97:\n"
     ]
    },
    {
     "name": "stderr",
     "output_type": "stream",
     "text": [
      "Training: 100%|████████████████████████████████████████████████████████████████████████| 12/12 [00:00<00:00, 60.60it/s]\n"
     ]
    },
    {
     "name": "stdout",
     "output_type": "stream",
     "text": [
      "Epoch 97 train_loss: 7.4986\n",
      "\n",
      "Epoch 98:\n"
     ]
    },
    {
     "name": "stderr",
     "output_type": "stream",
     "text": [
      "Training: 100%|████████████████████████████████████████████████████████████████████████| 12/12 [00:00<00:00, 60.72it/s]\n"
     ]
    },
    {
     "name": "stdout",
     "output_type": "stream",
     "text": [
      "Epoch 98 train_loss: 7.4889\n",
      "\n",
      "Epoch 99:\n"
     ]
    },
    {
     "name": "stderr",
     "output_type": "stream",
     "text": [
      "Training: 100%|████████████████████████████████████████████████████████████████████████| 12/12 [00:00<00:00, 60.49it/s]\n"
     ]
    },
    {
     "name": "stdout",
     "output_type": "stream",
     "text": [
      "Epoch 99 train_loss: 7.4776\n",
      "\n",
      "Epoch 100:\n"
     ]
    },
    {
     "name": "stderr",
     "output_type": "stream",
     "text": [
      "Training: 100%|████████████████████████████████████████████████████████████████████████| 12/12 [00:00<00:00, 60.92it/s]\n"
     ]
    },
    {
     "name": "stdout",
     "output_type": "stream",
     "text": [
      "Epoch 100 train_loss: 7.4661\n",
      "\n",
      "Epoch 101:\n"
     ]
    },
    {
     "name": "stderr",
     "output_type": "stream",
     "text": [
      "Training: 100%|████████████████████████████████████████████████████████████████████████| 12/12 [00:00<00:00, 62.43it/s]\n"
     ]
    },
    {
     "name": "stdout",
     "output_type": "stream",
     "text": [
      "Epoch 101 train_loss: 7.4523\n",
      "\n",
      "Epoch 102:\n"
     ]
    },
    {
     "name": "stderr",
     "output_type": "stream",
     "text": [
      "Training: 100%|████████████████████████████████████████████████████████████████████████| 12/12 [00:00<00:00, 61.01it/s]\n"
     ]
    },
    {
     "name": "stdout",
     "output_type": "stream",
     "text": [
      "Epoch 102 train_loss: 7.4400\n",
      "\n",
      "Epoch 103:\n"
     ]
    },
    {
     "name": "stderr",
     "output_type": "stream",
     "text": [
      "Training: 100%|████████████████████████████████████████████████████████████████████████| 12/12 [00:00<00:00, 61.98it/s]\n"
     ]
    },
    {
     "name": "stdout",
     "output_type": "stream",
     "text": [
      "Epoch 103 train_loss: 7.4317\n",
      "\n",
      "Epoch 104:\n"
     ]
    },
    {
     "name": "stderr",
     "output_type": "stream",
     "text": [
      "Training: 100%|████████████████████████████████████████████████████████████████████████| 12/12 [00:00<00:00, 61.44it/s]\n"
     ]
    },
    {
     "name": "stdout",
     "output_type": "stream",
     "text": [
      "Epoch 104 train_loss: 7.4236\n",
      "\n",
      "Epoch 105:\n"
     ]
    },
    {
     "name": "stderr",
     "output_type": "stream",
     "text": [
      "Training: 100%|████████████████████████████████████████████████████████████████████████| 12/12 [00:00<00:00, 59.60it/s]\n"
     ]
    },
    {
     "name": "stdout",
     "output_type": "stream",
     "text": [
      "Epoch 105 train_loss: 7.4164\n",
      "\n",
      "Epoch 106:\n"
     ]
    },
    {
     "name": "stderr",
     "output_type": "stream",
     "text": [
      "Training: 100%|████████████████████████████████████████████████████████████████████████| 12/12 [00:00<00:00, 61.29it/s]\n"
     ]
    },
    {
     "name": "stdout",
     "output_type": "stream",
     "text": [
      "Epoch 106 train_loss: 7.4087\n",
      "\n",
      "Epoch 107:\n"
     ]
    },
    {
     "name": "stderr",
     "output_type": "stream",
     "text": [
      "Training: 100%|████████████████████████████████████████████████████████████████████████| 12/12 [00:00<00:00, 61.53it/s]\n"
     ]
    },
    {
     "name": "stdout",
     "output_type": "stream",
     "text": [
      "Epoch 107 train_loss: 7.4010\n",
      "\n",
      "Epoch 108:\n"
     ]
    },
    {
     "name": "stderr",
     "output_type": "stream",
     "text": [
      "Training: 100%|████████████████████████████████████████████████████████████████████████| 12/12 [00:00<00:00, 61.53it/s]\n"
     ]
    },
    {
     "name": "stdout",
     "output_type": "stream",
     "text": [
      "Epoch 108 train_loss: 7.3932\n",
      "\n",
      "Epoch 109:\n"
     ]
    },
    {
     "name": "stderr",
     "output_type": "stream",
     "text": [
      "Training: 100%|████████████████████████████████████████████████████████████████████████| 12/12 [00:00<00:00, 61.53it/s]\n"
     ]
    },
    {
     "name": "stdout",
     "output_type": "stream",
     "text": [
      "Epoch 109 train_loss: 7.3866\n",
      "\n",
      "Epoch 110:\n"
     ]
    },
    {
     "name": "stderr",
     "output_type": "stream",
     "text": [
      "Training: 100%|████████████████████████████████████████████████████████████████████████| 12/12 [00:00<00:00, 61.22it/s]\n"
     ]
    },
    {
     "name": "stdout",
     "output_type": "stream",
     "text": [
      "Epoch 110 train_loss: 7.3802\n",
      "\n",
      "Epoch 111:\n"
     ]
    },
    {
     "name": "stderr",
     "output_type": "stream",
     "text": [
      "Training: 100%|████████████████████████████████████████████████████████████████████████| 12/12 [00:00<00:00, 60.38it/s]\n"
     ]
    },
    {
     "name": "stdout",
     "output_type": "stream",
     "text": [
      "Epoch 111 train_loss: 7.3712\n",
      "\n",
      "Epoch 112:\n"
     ]
    },
    {
     "name": "stderr",
     "output_type": "stream",
     "text": [
      "Training: 100%|████████████████████████████████████████████████████████████████████████| 12/12 [00:00<00:00, 60.71it/s]\n"
     ]
    },
    {
     "name": "stdout",
     "output_type": "stream",
     "text": [
      "Epoch 112 train_loss: 7.3620\n",
      "\n",
      "Epoch 113:\n"
     ]
    },
    {
     "name": "stderr",
     "output_type": "stream",
     "text": [
      "Training: 100%|████████████████████████████████████████████████████████████████████████| 12/12 [00:00<00:00, 59.34it/s]\n"
     ]
    },
    {
     "name": "stdout",
     "output_type": "stream",
     "text": [
      "Epoch 113 train_loss: 7.3526\n",
      "\n",
      "Epoch 114:\n"
     ]
    },
    {
     "name": "stderr",
     "output_type": "stream",
     "text": [
      "Training: 100%|████████████████████████████████████████████████████████████████████████| 12/12 [00:00<00:00, 60.98it/s]\n"
     ]
    },
    {
     "name": "stdout",
     "output_type": "stream",
     "text": [
      "Epoch 114 train_loss: 7.3460\n",
      "\n",
      "Epoch 115:\n"
     ]
    },
    {
     "name": "stderr",
     "output_type": "stream",
     "text": [
      "Training: 100%|████████████████████████████████████████████████████████████████████████| 12/12 [00:00<00:00, 59.99it/s]\n"
     ]
    },
    {
     "name": "stdout",
     "output_type": "stream",
     "text": [
      "Epoch 115 train_loss: 7.3372\n",
      "\n",
      "Epoch 116:\n"
     ]
    },
    {
     "name": "stderr",
     "output_type": "stream",
     "text": [
      "Training: 100%|████████████████████████████████████████████████████████████████████████| 12/12 [00:00<00:00, 60.60it/s]\n"
     ]
    },
    {
     "name": "stdout",
     "output_type": "stream",
     "text": [
      "Epoch 116 train_loss: 7.3271\n",
      "\n",
      "Epoch 117:\n"
     ]
    },
    {
     "name": "stderr",
     "output_type": "stream",
     "text": [
      "Training: 100%|████████████████████████████████████████████████████████████████████████| 12/12 [00:00<00:00, 60.73it/s]\n"
     ]
    },
    {
     "name": "stdout",
     "output_type": "stream",
     "text": [
      "Epoch 117 train_loss: 7.3169\n",
      "\n",
      "Epoch 118:\n"
     ]
    },
    {
     "name": "stderr",
     "output_type": "stream",
     "text": [
      "Training: 100%|████████████████████████████████████████████████████████████████████████| 12/12 [00:00<00:00, 59.44it/s]\n"
     ]
    },
    {
     "name": "stdout",
     "output_type": "stream",
     "text": [
      "Epoch 118 train_loss: 7.3050\n",
      "\n",
      "Epoch 119:\n"
     ]
    },
    {
     "name": "stderr",
     "output_type": "stream",
     "text": [
      "Training: 100%|████████████████████████████████████████████████████████████████████████| 12/12 [00:00<00:00, 60.81it/s]\n"
     ]
    },
    {
     "name": "stdout",
     "output_type": "stream",
     "text": [
      "Epoch 119 train_loss: 7.2991\n",
      "\n",
      "Epoch 120:\n"
     ]
    },
    {
     "name": "stderr",
     "output_type": "stream",
     "text": [
      "Training: 100%|████████████████████████████████████████████████████████████████████████| 12/12 [00:00<00:00, 60.04it/s]\n"
     ]
    },
    {
     "name": "stdout",
     "output_type": "stream",
     "text": [
      "Epoch 120 train_loss: 7.2914\n",
      "\n",
      "Epoch 121:\n"
     ]
    },
    {
     "name": "stderr",
     "output_type": "stream",
     "text": [
      "Training: 100%|████████████████████████████████████████████████████████████████████████| 12/12 [00:00<00:00, 61.77it/s]\n"
     ]
    },
    {
     "name": "stdout",
     "output_type": "stream",
     "text": [
      "Epoch 121 train_loss: 7.2830\n",
      "\n",
      "Epoch 122:\n"
     ]
    },
    {
     "name": "stderr",
     "output_type": "stream",
     "text": [
      "Training: 100%|████████████████████████████████████████████████████████████████████████| 12/12 [00:00<00:00, 60.17it/s]\n"
     ]
    },
    {
     "name": "stdout",
     "output_type": "stream",
     "text": [
      "Epoch 122 train_loss: 7.2757\n",
      "\n",
      "Epoch 123:\n"
     ]
    },
    {
     "name": "stderr",
     "output_type": "stream",
     "text": [
      "Training: 100%|████████████████████████████████████████████████████████████████████████| 12/12 [00:00<00:00, 59.46it/s]\n"
     ]
    },
    {
     "name": "stdout",
     "output_type": "stream",
     "text": [
      "Epoch 123 train_loss: 7.2704\n",
      "\n",
      "Epoch 124:\n"
     ]
    },
    {
     "name": "stderr",
     "output_type": "stream",
     "text": [
      "Training: 100%|████████████████████████████████████████████████████████████████████████| 12/12 [00:00<00:00, 61.40it/s]\n"
     ]
    },
    {
     "name": "stdout",
     "output_type": "stream",
     "text": [
      "Epoch 124 train_loss: 7.2653\n",
      "\n",
      "Epoch 125:\n"
     ]
    },
    {
     "name": "stderr",
     "output_type": "stream",
     "text": [
      "Training: 100%|████████████████████████████████████████████████████████████████████████| 12/12 [00:00<00:00, 60.54it/s]\n"
     ]
    },
    {
     "name": "stdout",
     "output_type": "stream",
     "text": [
      "Epoch 125 train_loss: 7.2559\n",
      "\n",
      "Epoch 126:\n"
     ]
    },
    {
     "name": "stderr",
     "output_type": "stream",
     "text": [
      "Training: 100%|████████████████████████████████████████████████████████████████████████| 12/12 [00:00<00:00, 59.68it/s]\n"
     ]
    },
    {
     "name": "stdout",
     "output_type": "stream",
     "text": [
      "Epoch 126 train_loss: 7.2484\n",
      "\n",
      "Epoch 127:\n"
     ]
    },
    {
     "name": "stderr",
     "output_type": "stream",
     "text": [
      "Training: 100%|████████████████████████████████████████████████████████████████████████| 12/12 [00:00<00:00, 60.90it/s]\n"
     ]
    },
    {
     "name": "stdout",
     "output_type": "stream",
     "text": [
      "Epoch 127 train_loss: 7.2430\n",
      "\n",
      "Epoch 128:\n"
     ]
    },
    {
     "name": "stderr",
     "output_type": "stream",
     "text": [
      "Training: 100%|████████████████████████████████████████████████████████████████████████| 12/12 [00:00<00:00, 60.73it/s]\n"
     ]
    },
    {
     "name": "stdout",
     "output_type": "stream",
     "text": [
      "Epoch 128 train_loss: 7.2367\n",
      "\n",
      "Epoch 129:\n"
     ]
    },
    {
     "name": "stderr",
     "output_type": "stream",
     "text": [
      "Training: 100%|████████████████████████████████████████████████████████████████████████| 12/12 [00:00<00:00, 59.21it/s]\n"
     ]
    },
    {
     "name": "stdout",
     "output_type": "stream",
     "text": [
      "Epoch 129 train_loss: 7.2277\n",
      "\n",
      "Epoch 130:\n"
     ]
    },
    {
     "name": "stderr",
     "output_type": "stream",
     "text": [
      "Training: 100%|████████████████████████████████████████████████████████████████████████| 12/12 [00:00<00:00, 62.17it/s]\n"
     ]
    },
    {
     "name": "stdout",
     "output_type": "stream",
     "text": [
      "Epoch 130 train_loss: 7.2187\n",
      "\n",
      "Epoch 131:\n"
     ]
    },
    {
     "name": "stderr",
     "output_type": "stream",
     "text": [
      "Training: 100%|████████████████████████████████████████████████████████████████████████| 12/12 [00:00<00:00, 61.53it/s]\n"
     ]
    },
    {
     "name": "stdout",
     "output_type": "stream",
     "text": [
      "Epoch 131 train_loss: 7.2093\n",
      "\n",
      "Epoch 132:\n"
     ]
    },
    {
     "name": "stderr",
     "output_type": "stream",
     "text": [
      "Training: 100%|████████████████████████████████████████████████████████████████████████| 12/12 [00:00<00:00, 61.18it/s]\n"
     ]
    },
    {
     "name": "stdout",
     "output_type": "stream",
     "text": [
      "Epoch 132 train_loss: 7.2008\n",
      "\n",
      "Epoch 133:\n"
     ]
    },
    {
     "name": "stderr",
     "output_type": "stream",
     "text": [
      "Training: 100%|████████████████████████████████████████████████████████████████████████| 12/12 [00:00<00:00, 61.07it/s]\n"
     ]
    },
    {
     "name": "stdout",
     "output_type": "stream",
     "text": [
      "Epoch 133 train_loss: 7.1943\n",
      "\n",
      "Epoch 134:\n"
     ]
    },
    {
     "name": "stderr",
     "output_type": "stream",
     "text": [
      "Training: 100%|████████████████████████████████████████████████████████████████████████| 12/12 [00:00<00:00, 59.93it/s]\n"
     ]
    },
    {
     "name": "stdout",
     "output_type": "stream",
     "text": [
      "Epoch 134 train_loss: 7.1861\n",
      "\n",
      "Epoch 135:\n"
     ]
    },
    {
     "name": "stderr",
     "output_type": "stream",
     "text": [
      "Training: 100%|████████████████████████████████████████████████████████████████████████| 12/12 [00:00<00:00, 60.72it/s]\n"
     ]
    },
    {
     "name": "stdout",
     "output_type": "stream",
     "text": [
      "Epoch 135 train_loss: 7.1784\n",
      "\n",
      "Epoch 136:\n"
     ]
    },
    {
     "name": "stderr",
     "output_type": "stream",
     "text": [
      "Training: 100%|████████████████████████████████████████████████████████████████████████| 12/12 [00:00<00:00, 59.68it/s]\n"
     ]
    },
    {
     "name": "stdout",
     "output_type": "stream",
     "text": [
      "Epoch 136 train_loss: 7.1708\n",
      "\n",
      "Epoch 137:\n"
     ]
    },
    {
     "name": "stderr",
     "output_type": "stream",
     "text": [
      "Training: 100%|████████████████████████████████████████████████████████████████████████| 12/12 [00:00<00:00, 60.34it/s]\n"
     ]
    },
    {
     "name": "stdout",
     "output_type": "stream",
     "text": [
      "Epoch 137 train_loss: 7.1641\n",
      "\n",
      "Epoch 138:\n"
     ]
    },
    {
     "name": "stderr",
     "output_type": "stream",
     "text": [
      "Training: 100%|████████████████████████████████████████████████████████████████████████| 12/12 [00:00<00:00, 60.18it/s]\n"
     ]
    },
    {
     "name": "stdout",
     "output_type": "stream",
     "text": [
      "Epoch 138 train_loss: 7.1575\n",
      "\n",
      "Epoch 139:\n"
     ]
    },
    {
     "name": "stderr",
     "output_type": "stream",
     "text": [
      "Training: 100%|████████████████████████████████████████████████████████████████████████| 12/12 [00:00<00:00, 60.55it/s]\n"
     ]
    },
    {
     "name": "stdout",
     "output_type": "stream",
     "text": [
      "Epoch 139 train_loss: 7.1528\n",
      "\n",
      "Epoch 140:\n"
     ]
    },
    {
     "name": "stderr",
     "output_type": "stream",
     "text": [
      "Training: 100%|████████████████████████████████████████████████████████████████████████| 12/12 [00:00<00:00, 59.63it/s]\n"
     ]
    },
    {
     "name": "stdout",
     "output_type": "stream",
     "text": [
      "Epoch 140 train_loss: 7.1468\n",
      "\n",
      "Epoch 141:\n"
     ]
    },
    {
     "name": "stderr",
     "output_type": "stream",
     "text": [
      "Training: 100%|████████████████████████████████████████████████████████████████████████| 12/12 [00:00<00:00, 61.84it/s]\n"
     ]
    },
    {
     "name": "stdout",
     "output_type": "stream",
     "text": [
      "Epoch 141 train_loss: 7.1391\n",
      "\n",
      "Epoch 142:\n"
     ]
    },
    {
     "name": "stderr",
     "output_type": "stream",
     "text": [
      "Training: 100%|████████████████████████████████████████████████████████████████████████| 12/12 [00:00<00:00, 61.15it/s]\n"
     ]
    },
    {
     "name": "stdout",
     "output_type": "stream",
     "text": [
      "Epoch 142 train_loss: 7.1305\n",
      "\n",
      "Epoch 143:\n"
     ]
    },
    {
     "name": "stderr",
     "output_type": "stream",
     "text": [
      "Training: 100%|████████████████████████████████████████████████████████████████████████| 12/12 [00:00<00:00, 60.82it/s]\n"
     ]
    },
    {
     "name": "stdout",
     "output_type": "stream",
     "text": [
      "Epoch 143 train_loss: 7.1235\n",
      "\n",
      "Epoch 144:\n"
     ]
    },
    {
     "name": "stderr",
     "output_type": "stream",
     "text": [
      "Training: 100%|████████████████████████████████████████████████████████████████████████| 12/12 [00:00<00:00, 59.82it/s]\n"
     ]
    },
    {
     "name": "stdout",
     "output_type": "stream",
     "text": [
      "Epoch 144 train_loss: 7.1172\n",
      "\n",
      "Epoch 145:\n"
     ]
    },
    {
     "name": "stderr",
     "output_type": "stream",
     "text": [
      "Training: 100%|████████████████████████████████████████████████████████████████████████| 12/12 [00:00<00:00, 58.29it/s]\n"
     ]
    },
    {
     "name": "stdout",
     "output_type": "stream",
     "text": [
      "Epoch 145 train_loss: 7.1058\n",
      "\n",
      "Epoch 146:\n"
     ]
    },
    {
     "name": "stderr",
     "output_type": "stream",
     "text": [
      "Training: 100%|████████████████████████████████████████████████████████████████████████| 12/12 [00:00<00:00, 59.42it/s]\n"
     ]
    },
    {
     "name": "stdout",
     "output_type": "stream",
     "text": [
      "Epoch 146 train_loss: 7.0944\n",
      "\n",
      "Epoch 147:\n"
     ]
    },
    {
     "name": "stderr",
     "output_type": "stream",
     "text": [
      "Training: 100%|████████████████████████████████████████████████████████████████████████| 12/12 [00:00<00:00, 60.17it/s]\n"
     ]
    },
    {
     "name": "stdout",
     "output_type": "stream",
     "text": [
      "Epoch 147 train_loss: 7.0853\n",
      "\n",
      "Epoch 148:\n"
     ]
    },
    {
     "name": "stderr",
     "output_type": "stream",
     "text": [
      "Training: 100%|████████████████████████████████████████████████████████████████████████| 12/12 [00:00<00:00, 60.19it/s]\n"
     ]
    },
    {
     "name": "stdout",
     "output_type": "stream",
     "text": [
      "Epoch 148 train_loss: 7.0787\n",
      "\n",
      "Epoch 149:\n"
     ]
    },
    {
     "name": "stderr",
     "output_type": "stream",
     "text": [
      "Training: 100%|████████████████████████████████████████████████████████████████████████| 12/12 [00:00<00:00, 61.41it/s]\n"
     ]
    },
    {
     "name": "stdout",
     "output_type": "stream",
     "text": [
      "Epoch 149 train_loss: 7.0709\n",
      "\n",
      "Epoch 150:\n"
     ]
    },
    {
     "name": "stderr",
     "output_type": "stream",
     "text": [
      "Training: 100%|████████████████████████████████████████████████████████████████████████| 12/12 [00:00<00:00, 60.71it/s]\n"
     ]
    },
    {
     "name": "stdout",
     "output_type": "stream",
     "text": [
      "Epoch 150 train_loss: 7.0597\n",
      "\n",
      "Epoch 151:\n"
     ]
    },
    {
     "name": "stderr",
     "output_type": "stream",
     "text": [
      "Training: 100%|████████████████████████████████████████████████████████████████████████| 12/12 [00:00<00:00, 61.10it/s]\n"
     ]
    },
    {
     "name": "stdout",
     "output_type": "stream",
     "text": [
      "Epoch 151 train_loss: 7.0464\n",
      "\n",
      "Epoch 152:\n"
     ]
    },
    {
     "name": "stderr",
     "output_type": "stream",
     "text": [
      "Training: 100%|████████████████████████████████████████████████████████████████████████| 12/12 [00:00<00:00, 61.07it/s]\n"
     ]
    },
    {
     "name": "stdout",
     "output_type": "stream",
     "text": [
      "Epoch 152 train_loss: 7.0371\n",
      "\n",
      "Epoch 153:\n"
     ]
    },
    {
     "name": "stderr",
     "output_type": "stream",
     "text": [
      "Training: 100%|████████████████████████████████████████████████████████████████████████| 12/12 [00:00<00:00, 60.84it/s]\n"
     ]
    },
    {
     "name": "stdout",
     "output_type": "stream",
     "text": [
      "Epoch 153 train_loss: 7.0284\n",
      "\n",
      "Epoch 154:\n"
     ]
    },
    {
     "name": "stderr",
     "output_type": "stream",
     "text": [
      "Training: 100%|████████████████████████████████████████████████████████████████████████| 12/12 [00:00<00:00, 59.78it/s]\n"
     ]
    },
    {
     "name": "stdout",
     "output_type": "stream",
     "text": [
      "Epoch 154 train_loss: 7.0204\n",
      "\n",
      "Epoch 155:\n"
     ]
    },
    {
     "name": "stderr",
     "output_type": "stream",
     "text": [
      "Training: 100%|████████████████████████████████████████████████████████████████████████| 12/12 [00:00<00:00, 61.52it/s]\n"
     ]
    },
    {
     "name": "stdout",
     "output_type": "stream",
     "text": [
      "Epoch 155 train_loss: 7.0145\n",
      "\n",
      "Epoch 156:\n"
     ]
    },
    {
     "name": "stderr",
     "output_type": "stream",
     "text": [
      "Training: 100%|████████████████████████████████████████████████████████████████████████| 12/12 [00:00<00:00, 60.85it/s]\n"
     ]
    },
    {
     "name": "stdout",
     "output_type": "stream",
     "text": [
      "Epoch 156 train_loss: 7.0087\n",
      "\n",
      "Epoch 157:\n"
     ]
    },
    {
     "name": "stderr",
     "output_type": "stream",
     "text": [
      "Training: 100%|████████████████████████████████████████████████████████████████████████| 12/12 [00:00<00:00, 59.48it/s]\n"
     ]
    },
    {
     "name": "stdout",
     "output_type": "stream",
     "text": [
      "Epoch 157 train_loss: 7.0014\n",
      "\n",
      "Epoch 158:\n"
     ]
    },
    {
     "name": "stderr",
     "output_type": "stream",
     "text": [
      "Training: 100%|████████████████████████████████████████████████████████████████████████| 12/12 [00:00<00:00, 59.20it/s]\n"
     ]
    },
    {
     "name": "stdout",
     "output_type": "stream",
     "text": [
      "Epoch 158 train_loss: 6.9934\n",
      "\n",
      "Epoch 159:\n"
     ]
    },
    {
     "name": "stderr",
     "output_type": "stream",
     "text": [
      "Training: 100%|████████████████████████████████████████████████████████████████████████| 12/12 [00:00<00:00, 60.11it/s]\n"
     ]
    },
    {
     "name": "stdout",
     "output_type": "stream",
     "text": [
      "Epoch 159 train_loss: 6.9890\n",
      "\n",
      "Epoch 160:\n"
     ]
    },
    {
     "name": "stderr",
     "output_type": "stream",
     "text": [
      "Training: 100%|████████████████████████████████████████████████████████████████████████| 12/12 [00:00<00:00, 59.55it/s]\n"
     ]
    },
    {
     "name": "stdout",
     "output_type": "stream",
     "text": [
      "Epoch 160 train_loss: 6.9848\n",
      "\n",
      "Epoch 161:\n"
     ]
    },
    {
     "name": "stderr",
     "output_type": "stream",
     "text": [
      "Training: 100%|████████████████████████████████████████████████████████████████████████| 12/12 [00:00<00:00, 61.15it/s]"
     ]
    },
    {
     "name": "stdout",
     "output_type": "stream",
     "text": [
      "Epoch 161 train_loss: 6.9789\n",
      "\n",
      "Epoch 162:\n"
     ]
    },
    {
     "name": "stderr",
     "output_type": "stream",
     "text": [
      "\n",
      "Training: 100%|████████████████████████████████████████████████████████████████████████| 12/12 [00:00<00:00, 59.14it/s]\n"
     ]
    },
    {
     "name": "stdout",
     "output_type": "stream",
     "text": [
      "Epoch 162 train_loss: 6.9720\n",
      "\n",
      "Epoch 163:\n"
     ]
    },
    {
     "name": "stderr",
     "output_type": "stream",
     "text": [
      "Training: 100%|████████████████████████████████████████████████████████████████████████| 12/12 [00:00<00:00, 59.87it/s]\n"
     ]
    },
    {
     "name": "stdout",
     "output_type": "stream",
     "text": [
      "Epoch 163 train_loss: 6.9665\n",
      "\n",
      "Epoch 164:\n"
     ]
    },
    {
     "name": "stderr",
     "output_type": "stream",
     "text": [
      "Training: 100%|████████████████████████████████████████████████████████████████████████| 12/12 [00:00<00:00, 60.03it/s]\n"
     ]
    },
    {
     "name": "stdout",
     "output_type": "stream",
     "text": [
      "Epoch 164 train_loss: 6.9602\n",
      "\n",
      "Epoch 165:\n"
     ]
    },
    {
     "name": "stderr",
     "output_type": "stream",
     "text": [
      "Training: 100%|████████████████████████████████████████████████████████████████████████| 12/12 [00:00<00:00, 60.28it/s]\n"
     ]
    },
    {
     "name": "stdout",
     "output_type": "stream",
     "text": [
      "Epoch 165 train_loss: 6.9537\n",
      "\n",
      "Epoch 166:\n"
     ]
    },
    {
     "name": "stderr",
     "output_type": "stream",
     "text": [
      "Training: 100%|████████████████████████████████████████████████████████████████████████| 12/12 [00:00<00:00, 60.34it/s]\n"
     ]
    },
    {
     "name": "stdout",
     "output_type": "stream",
     "text": [
      "Epoch 166 train_loss: 6.9457\n",
      "\n",
      "Epoch 167:\n"
     ]
    },
    {
     "name": "stderr",
     "output_type": "stream",
     "text": [
      "Training: 100%|████████████████████████████████████████████████████████████████████████| 12/12 [00:00<00:00, 60.10it/s]\n"
     ]
    },
    {
     "name": "stdout",
     "output_type": "stream",
     "text": [
      "Epoch 167 train_loss: 6.9365\n",
      "\n",
      "Epoch 168:\n"
     ]
    },
    {
     "name": "stderr",
     "output_type": "stream",
     "text": [
      "Training: 100%|████████████████████████████████████████████████████████████████████████| 12/12 [00:00<00:00, 60.45it/s]\n"
     ]
    },
    {
     "name": "stdout",
     "output_type": "stream",
     "text": [
      "Epoch 168 train_loss: 6.9263\n",
      "\n",
      "Epoch 169:\n"
     ]
    },
    {
     "name": "stderr",
     "output_type": "stream",
     "text": [
      "Training: 100%|████████████████████████████████████████████████████████████████████████| 12/12 [00:00<00:00, 59.71it/s]\n"
     ]
    },
    {
     "name": "stdout",
     "output_type": "stream",
     "text": [
      "Epoch 169 train_loss: 6.9203\n",
      "\n",
      "Epoch 170:\n"
     ]
    },
    {
     "name": "stderr",
     "output_type": "stream",
     "text": [
      "Training: 100%|████████████████████████████████████████████████████████████████████████| 12/12 [00:00<00:00, 59.63it/s]\n"
     ]
    },
    {
     "name": "stdout",
     "output_type": "stream",
     "text": [
      "Epoch 170 train_loss: 6.9128\n",
      "\n",
      "Epoch 171:\n"
     ]
    },
    {
     "name": "stderr",
     "output_type": "stream",
     "text": [
      "Training: 100%|████████████████████████████████████████████████████████████████████████| 12/12 [00:00<00:00, 59.99it/s]\n"
     ]
    },
    {
     "name": "stdout",
     "output_type": "stream",
     "text": [
      "Epoch 171 train_loss: 6.9059\n",
      "\n",
      "Epoch 172:\n"
     ]
    },
    {
     "name": "stderr",
     "output_type": "stream",
     "text": [
      "Training: 100%|████████████████████████████████████████████████████████████████████████| 12/12 [00:00<00:00, 60.44it/s]\n"
     ]
    },
    {
     "name": "stdout",
     "output_type": "stream",
     "text": [
      "Epoch 172 train_loss: 6.9013\n",
      "\n",
      "Epoch 173:\n"
     ]
    },
    {
     "name": "stderr",
     "output_type": "stream",
     "text": [
      "Training: 100%|████████████████████████████████████████████████████████████████████████| 12/12 [00:00<00:00, 60.29it/s]\n"
     ]
    },
    {
     "name": "stdout",
     "output_type": "stream",
     "text": [
      "Epoch 173 train_loss: 6.8972\n",
      "\n",
      "Epoch 174:\n"
     ]
    },
    {
     "name": "stderr",
     "output_type": "stream",
     "text": [
      "Training: 100%|████████████████████████████████████████████████████████████████████████| 12/12 [00:00<00:00, 59.11it/s]\n"
     ]
    },
    {
     "name": "stdout",
     "output_type": "stream",
     "text": [
      "Epoch 174 train_loss: 6.8916\n",
      "\n",
      "Epoch 175:\n"
     ]
    },
    {
     "name": "stderr",
     "output_type": "stream",
     "text": [
      "Training: 100%|████████████████████████████████████████████████████████████████████████| 12/12 [00:00<00:00, 60.00it/s]\n"
     ]
    },
    {
     "name": "stdout",
     "output_type": "stream",
     "text": [
      "Epoch 175 train_loss: 6.8877\n",
      "\n",
      "Epoch 176:\n"
     ]
    },
    {
     "name": "stderr",
     "output_type": "stream",
     "text": [
      "Training: 100%|████████████████████████████████████████████████████████████████████████| 12/12 [00:00<00:00, 60.29it/s]\n"
     ]
    },
    {
     "name": "stdout",
     "output_type": "stream",
     "text": [
      "Epoch 176 train_loss: 6.8834\n",
      "\n",
      "Epoch 177:\n"
     ]
    },
    {
     "name": "stderr",
     "output_type": "stream",
     "text": [
      "Training: 100%|████████████████████████████████████████████████████████████████████████| 12/12 [00:00<00:00, 60.29it/s]\n"
     ]
    },
    {
     "name": "stdout",
     "output_type": "stream",
     "text": [
      "Epoch 177 train_loss: 6.8809\n",
      "\n",
      "Epoch 178:\n"
     ]
    },
    {
     "name": "stderr",
     "output_type": "stream",
     "text": [
      "Training: 100%|████████████████████████████████████████████████████████████████████████| 12/12 [00:00<00:00, 60.60it/s]\n"
     ]
    },
    {
     "name": "stdout",
     "output_type": "stream",
     "text": [
      "Epoch 178 train_loss: 6.8785\n",
      "\n",
      "Epoch 179:\n"
     ]
    },
    {
     "name": "stderr",
     "output_type": "stream",
     "text": [
      "Training: 100%|████████████████████████████████████████████████████████████████████████| 12/12 [00:00<00:00, 58.96it/s]\n"
     ]
    },
    {
     "name": "stdout",
     "output_type": "stream",
     "text": [
      "Epoch 179 train_loss: 6.8761\n",
      "\n",
      "Epoch 180:\n"
     ]
    },
    {
     "name": "stderr",
     "output_type": "stream",
     "text": [
      "Training: 100%|████████████████████████████████████████████████████████████████████████| 12/12 [00:00<00:00, 61.32it/s]\n"
     ]
    },
    {
     "name": "stdout",
     "output_type": "stream",
     "text": [
      "Epoch 180 train_loss: 6.8728\n",
      "\n",
      "Epoch 181:\n"
     ]
    },
    {
     "name": "stderr",
     "output_type": "stream",
     "text": [
      "Training: 100%|████████████████████████████████████████████████████████████████████████| 12/12 [00:00<00:00, 60.50it/s]\n"
     ]
    },
    {
     "name": "stdout",
     "output_type": "stream",
     "text": [
      "Epoch 181 train_loss: 6.8694\n",
      "\n",
      "Epoch 182:\n"
     ]
    },
    {
     "name": "stderr",
     "output_type": "stream",
     "text": [
      "Training: 100%|████████████████████████████████████████████████████████████████████████| 12/12 [00:00<00:00, 60.96it/s]\n"
     ]
    },
    {
     "name": "stdout",
     "output_type": "stream",
     "text": [
      "Epoch 182 train_loss: 6.8652\n",
      "\n",
      "Epoch 183:\n"
     ]
    },
    {
     "name": "stderr",
     "output_type": "stream",
     "text": [
      "Training: 100%|████████████████████████████████████████████████████████████████████████| 12/12 [00:00<00:00, 61.40it/s]\n"
     ]
    },
    {
     "name": "stdout",
     "output_type": "stream",
     "text": [
      "Epoch 183 train_loss: 6.8607\n",
      "\n",
      "Epoch 184:\n"
     ]
    },
    {
     "name": "stderr",
     "output_type": "stream",
     "text": [
      "Training: 100%|████████████████████████████████████████████████████████████████████████| 12/12 [00:00<00:00, 60.89it/s]\n"
     ]
    },
    {
     "name": "stdout",
     "output_type": "stream",
     "text": [
      "Epoch 184 train_loss: 6.8563\n",
      "\n",
      "Epoch 185:\n"
     ]
    },
    {
     "name": "stderr",
     "output_type": "stream",
     "text": [
      "Training: 100%|████████████████████████████████████████████████████████████████████████| 12/12 [00:00<00:00, 59.40it/s]\n"
     ]
    },
    {
     "name": "stdout",
     "output_type": "stream",
     "text": [
      "Epoch 185 train_loss: 6.8521\n",
      "\n",
      "Epoch 186:\n"
     ]
    },
    {
     "name": "stderr",
     "output_type": "stream",
     "text": [
      "Training: 100%|████████████████████████████████████████████████████████████████████████| 12/12 [00:00<00:00, 60.19it/s]\n"
     ]
    },
    {
     "name": "stdout",
     "output_type": "stream",
     "text": [
      "Epoch 186 train_loss: 6.8498\n",
      "\n",
      "Epoch 187:\n"
     ]
    },
    {
     "name": "stderr",
     "output_type": "stream",
     "text": [
      "Training: 100%|████████████████████████████████████████████████████████████████████████| 12/12 [00:00<00:00, 59.05it/s]\n"
     ]
    },
    {
     "name": "stdout",
     "output_type": "stream",
     "text": [
      "Epoch 187 train_loss: 6.8477\n",
      "\n",
      "Epoch 188:\n"
     ]
    },
    {
     "name": "stderr",
     "output_type": "stream",
     "text": [
      "Training: 100%|████████████████████████████████████████████████████████████████████████| 12/12 [00:00<00:00, 60.08it/s]\n"
     ]
    },
    {
     "name": "stdout",
     "output_type": "stream",
     "text": [
      "Epoch 188 train_loss: 6.8456\n",
      "\n",
      "Epoch 189:\n"
     ]
    },
    {
     "name": "stderr",
     "output_type": "stream",
     "text": [
      "Training: 100%|████████████████████████████████████████████████████████████████████████| 12/12 [00:00<00:00, 60.69it/s]\n"
     ]
    },
    {
     "name": "stdout",
     "output_type": "stream",
     "text": [
      "Epoch 189 train_loss: 6.8426\n",
      "\n",
      "Epoch 190:\n"
     ]
    },
    {
     "name": "stderr",
     "output_type": "stream",
     "text": [
      "Training: 100%|████████████████████████████████████████████████████████████████████████| 12/12 [00:00<00:00, 60.34it/s]\n"
     ]
    },
    {
     "name": "stdout",
     "output_type": "stream",
     "text": [
      "Epoch 190 train_loss: 6.8391\n",
      "\n",
      "Epoch 191:\n"
     ]
    },
    {
     "name": "stderr",
     "output_type": "stream",
     "text": [
      "Training: 100%|████████████████████████████████████████████████████████████████████████| 12/12 [00:00<00:00, 61.32it/s]\n"
     ]
    },
    {
     "name": "stdout",
     "output_type": "stream",
     "text": [
      "Epoch 191 train_loss: 6.8353\n",
      "\n",
      "Epoch 192:\n"
     ]
    },
    {
     "name": "stderr",
     "output_type": "stream",
     "text": [
      "Training: 100%|████████████████████████████████████████████████████████████████████████| 12/12 [00:00<00:00, 59.91it/s]\n"
     ]
    },
    {
     "name": "stdout",
     "output_type": "stream",
     "text": [
      "Epoch 192 train_loss: 6.8332\n",
      "\n",
      "Epoch 193:\n"
     ]
    },
    {
     "name": "stderr",
     "output_type": "stream",
     "text": [
      "Training: 100%|████████████████████████████████████████████████████████████████████████| 12/12 [00:00<00:00, 60.59it/s]\n"
     ]
    },
    {
     "name": "stdout",
     "output_type": "stream",
     "text": [
      "Epoch 193 train_loss: 6.8313\n",
      "\n",
      "Epoch 194:\n"
     ]
    },
    {
     "name": "stderr",
     "output_type": "stream",
     "text": [
      "Training: 100%|████████████████████████████████████████████████████████████████████████| 12/12 [00:00<00:00, 58.65it/s]\n"
     ]
    },
    {
     "name": "stdout",
     "output_type": "stream",
     "text": [
      "Epoch 194 train_loss: 6.8280\n",
      "\n",
      "Epoch 195:\n"
     ]
    },
    {
     "name": "stderr",
     "output_type": "stream",
     "text": [
      "Training: 100%|████████████████████████████████████████████████████████████████████████| 12/12 [00:00<00:00, 60.84it/s]\n"
     ]
    },
    {
     "name": "stdout",
     "output_type": "stream",
     "text": [
      "Epoch 195 train_loss: 6.8229\n",
      "\n",
      "Epoch 196:\n"
     ]
    },
    {
     "name": "stderr",
     "output_type": "stream",
     "text": [
      "Training: 100%|████████████████████████████████████████████████████████████████████████| 12/12 [00:00<00:00, 59.25it/s]\n"
     ]
    },
    {
     "name": "stdout",
     "output_type": "stream",
     "text": [
      "Epoch 196 train_loss: 6.8186\n",
      "\n",
      "Epoch 197:\n"
     ]
    },
    {
     "name": "stderr",
     "output_type": "stream",
     "text": [
      "Training: 100%|████████████████████████████████████████████████████████████████████████| 12/12 [00:00<00:00, 59.97it/s]\n"
     ]
    },
    {
     "name": "stdout",
     "output_type": "stream",
     "text": [
      "Epoch 197 train_loss: 6.8146\n",
      "\n",
      "Epoch 198:\n"
     ]
    },
    {
     "name": "stderr",
     "output_type": "stream",
     "text": [
      "Training: 100%|████████████████████████████████████████████████████████████████████████| 12/12 [00:00<00:00, 59.79it/s]\n"
     ]
    },
    {
     "name": "stdout",
     "output_type": "stream",
     "text": [
      "Epoch 198 train_loss: 6.8097\n",
      "\n",
      "Epoch 199:\n"
     ]
    },
    {
     "name": "stderr",
     "output_type": "stream",
     "text": [
      "Training: 100%|████████████████████████████████████████████████████████████████████████| 12/12 [00:00<00:00, 61.22it/s]\n"
     ]
    },
    {
     "name": "stdout",
     "output_type": "stream",
     "text": [
      "Epoch 199 train_loss: 6.8068\n",
      "\n",
      "Epoch 200:\n"
     ]
    },
    {
     "name": "stderr",
     "output_type": "stream",
     "text": [
      "Training: 100%|████████████████████████████████████████████████████████████████████████| 12/12 [00:00<00:00, 61.02it/s]\n"
     ]
    },
    {
     "name": "stdout",
     "output_type": "stream",
     "text": [
      "Epoch 200 train_loss: 6.8050\n",
      "\n"
     ]
    },
    {
     "data": {
      "image/png": "[encoded data removed]",
      "text/plain": [
       "<Figure size 640x480 with 1 Axes>"
      ]
     },
     "metadata": {},
     "output_type": "display_data"
    }
   ],
   "source": [
    "CKP_DIR_INIT = './weight/init/'\n",
    "CKP_DIR = './weight'\n",
    "\n",
    "# prepare datasets\n",
    "dataset_train = tf.data.Dataset.from_tensor_slices(df_clicked)\n",
    "dataset_train = dataset_train.batch(batch_size=BATCH_SIZE, num_parallel_calls=tf.data.AUTOTUNE).prefetch(buffer_size=tf.data.AUTOTUNE)\n",
    "\n",
    "M_USERS = 6000\n",
    "\n",
    "# build the model\n",
    "model = FunkSVDRecommender(m_users=M_USERS, \n",
    "                           n_items=N_ITEMS,\n",
    "                           bias_mu=BIAS_MU,\n",
    "                           embedding_size=EMBEDDING_SIZE, \n",
    "                           learning_rate=LEARNING_RATE,\n",
    "                           regularization_train=REGULARIZATION_TRAIN,\n",
    "                           regularization_update=REGULARIZATION_UPDATE,\n",
    "                           seed=SEED)\n",
    "\n",
    "# train the model\n",
    "train_losses = []\n",
    "\n",
    "for epoch in range(1, N_EPOCHS + 1):\n",
    "    train_loss = []\n",
    "    print(f'Epoch {epoch}:')\n",
    "\n",
    "    # training\n",
    "    for data in tqdm(dataset_train, desc='Training'):\n",
    "        loss = model.train_step(data)\n",
    "        train_loss.append(loss.numpy())\n",
    "\n",
    "    # record losses\n",
    "    avg_train_loss = np.mean(train_loss)\n",
    "    train_losses.append(avg_train_loss)\n",
    "\n",
    "    # print losses\n",
    "    print(f'Epoch {epoch} train_loss: {avg_train_loss:.4f}\\n')\n",
    "\n",
    "    if epoch % 20 == 0:\n",
    "        model.save_weights(os.path.join(CKP_DIR_INIT, f'ckpt-{epoch}'))\n",
    "        \n",
    "# plot the training curve\n",
    "plt.plot(train_losses, label='train_loss')\n",
    "plt.legend(loc='upper right')\n",
    "plt.title('Loss curve')\n",
    "plt.show()"
   ]
  },
  {
   "cell_type": "code",
   "execution_count": 44,
   "metadata": {},
   "outputs": [],
   "source": [
    "def train_model(model, dataset_train, N_EPOCHS, CKP_PATH):\n",
    "    # train the model\n",
    "    train_losses = []\n",
    "\n",
    "    for epoch in range(1, N_EPOCHS + 1):\n",
    "        train_loss = []\n",
    "        print(f'Epoch {epoch}:')\n",
    "\n",
    "        # training\n",
    "        for data in tqdm(dataset_train, desc='Training'):\n",
    "            loss = model.train_step(data)\n",
    "            train_loss.append(loss.numpy())\n",
    "\n",
    "        # record losses\n",
    "        avg_train_loss = np.mean(train_loss)\n",
    "        train_losses.append(avg_train_loss)\n",
    "\n",
    "        # print losses\n",
    "        print(f'Epoch {epoch} train_loss: {avg_train_loss:.4f}\\n')\n",
    "\n",
    "        if epoch % 10 == 0:\n",
    "            model.save_weights(os.path.join(CKP_PATH, f'ckpt_EPOCH_{epoch}'))"
   ]
  },
  {
   "cell_type": "code",
   "execution_count": 45,
   "metadata": {},
   "outputs": [
    {
     "name": "stdout",
     "output_type": "stream",
     "text": [
      "There is still some active users in the training environment.\n",
      "The current user is user 599.\n",
      "The click result of recommending [160632  91813  26037  49929 164838] to user 599 is -1 (no click).\n",
      "User 599 is still in the environment.\n"
     ]
    },
    {
     "data": {
      "text/html": [
       "<div>\n",
       "<style scoped>\n",
       "    .dataframe tbody tr th:only-of-type {\n",
       "        vertical-align: middle;\n",
       "    }\n",
       "\n",
       "    .dataframe tbody tr th {\n",
       "        vertical-align: top;\n",
       "    }\n",
       "\n",
       "    .dataframe thead th {\n",
       "        text-align: right;\n",
       "    }\n",
       "</style>\n",
       "<table border=\"1\" class=\"dataframe\">\n",
       "  <thead>\n",
       "    <tr style=\"text-align: right;\">\n",
       "      <th></th>\n",
       "      <th>user_id</th>\n",
       "      <th>avg_score</th>\n",
       "    </tr>\n",
       "  </thead>\n",
       "  <tbody>\n",
       "    <tr>\n",
       "      <th>0</th>\n",
       "      <td>0</td>\n",
       "      <td>0.0</td>\n",
       "    </tr>\n",
       "    <tr>\n",
       "      <th>1</th>\n",
       "      <td>1</td>\n",
       "      <td>0.0</td>\n",
       "    </tr>\n",
       "    <tr>\n",
       "      <th>2</th>\n",
       "      <td>2</td>\n",
       "      <td>0.0</td>\n",
       "    </tr>\n",
       "    <tr>\n",
       "      <th>3</th>\n",
       "      <td>3</td>\n",
       "      <td>0.0</td>\n",
       "    </tr>\n",
       "    <tr>\n",
       "      <th>4</th>\n",
       "      <td>4</td>\n",
       "      <td>0.0</td>\n",
       "    </tr>\n",
       "    <tr>\n",
       "      <th>...</th>\n",
       "      <td>...</td>\n",
       "      <td>...</td>\n",
       "    </tr>\n",
       "    <tr>\n",
       "      <th>995</th>\n",
       "      <td>995</td>\n",
       "      <td>0.0</td>\n",
       "    </tr>\n",
       "    <tr>\n",
       "      <th>996</th>\n",
       "      <td>996</td>\n",
       "      <td>0.0</td>\n",
       "    </tr>\n",
       "    <tr>\n",
       "      <th>997</th>\n",
       "      <td>997</td>\n",
       "      <td>0.0</td>\n",
       "    </tr>\n",
       "    <tr>\n",
       "      <th>998</th>\n",
       "      <td>998</td>\n",
       "      <td>0.0</td>\n",
       "    </tr>\n",
       "    <tr>\n",
       "      <th>999</th>\n",
       "      <td>999</td>\n",
       "      <td>0.0</td>\n",
       "    </tr>\n",
       "  </tbody>\n",
       "</table>\n",
       "<p>1000 rows × 2 columns</p>\n",
       "</div>"
      ],
      "text/plain": [
       "     user_id  avg_score\n",
       "0          0        0.0\n",
       "1          1        0.0\n",
       "2          2        0.0\n",
       "3          3        0.0\n",
       "4          4        0.0\n",
       "..       ...        ...\n",
       "995      995        0.0\n",
       "996      996        0.0\n",
       "997      997        0.0\n",
       "998      998        0.0\n",
       "999      999        0.0\n",
       "\n",
       "[1000 rows x 2 columns]"
      ]
     },
     "execution_count": 45,
     "metadata": {},
     "output_type": "execute_result"
    }
   ],
   "source": [
    "# Initialize the training environment\n",
    "train_env = TrainingEnvironment()\n",
    "\n",
    "# Reset the training environment (this can be useful when you have finished one episode of simulation and do not want to re-initialize a new environment)\n",
    "train_env.reset()\n",
    "\n",
    "# Check if there exist any active users in the environment\n",
    "env_has_next_state = train_env.has_next_state()\n",
    "print(f'There is {\"still some\" if env_has_next_state else \"no\"} active users in the training environment.')\n",
    "\n",
    "# Get the current user ID\n",
    "user_id = train_env.get_state()\n",
    "print(f'The current user is user {user_id}.')\n",
    "\n",
    "# Get the response of recommending the slate to the current user\n",
    "model.load_weights('./weight/init/ckpt-200')\n",
    "recommended_items = model.eval_predict_onestep(user_id)\n",
    "slate = recommended_items\n",
    "\n",
    "# slate = [0, 1, 2, 3, 4]\n",
    "\n",
    "clicked_id, in_environment = train_env.get_response(slate)\n",
    "print(f'The click result of recommending {slate} to user {user_id} is {f\"item {clicked_id}\" if clicked_id != -1 else f\"{clicked_id} (no click)\"}.')\n",
    "print(f'User {user_id} {\"is still in\" if in_environment else \"leaves\"} the environment.')\n",
    "\n",
    "# Get the normalized session length score of all users\n",
    "train_score = train_env.get_score()\n",
    "df_train_score = pd.DataFrame([[user_id, score] for user_id, score in enumerate(train_score)], columns=['user_id', 'avg_score'])\n",
    "df_train_score"
   ]
  },
  {
   "cell_type": "markdown",
   "metadata": {},
   "source": [
    "## Testing\n",
    "\n",
    "While testing, you are allowed to update your model. However, please adhere to the following rules:\n",
    "\n",
    "1. Follow the testing template provided below. Modify only the sections marked as `[TODO]`. Additionally, please carefully follow the instructions specified in each `[TODO]` section. Modifying other sections or not adhering to the instructions is strictly forbidden.\n",
    "\n",
    "2. Limit model updates to one testing episode. During testing-time updates, follow these steps: (a) **Load your model weights** trained exclusively on the training environment. (b) Run the testing environment and update your model with the collected data **during the testing process**. (c) Obtain the score for this testing episode and **delete your model weights since they now contain some testing information**. **You should not save the model weights trained on the testing environment for another testing episode. Doing so will be regarded as cheating.**\n",
    "\n",
    "3. Due to the randomness in the user decision process, **run the testing process 5 times** and calculate the **average session length** for each user as the final score. This part has been covered for you.\n",
    "\n",
    "After completing the testing process, remember to submit the generated `output.csv` file to the [Kaggle competition](https://www.kaggle.com/t/b06e248a3827434f80c4fdc6009d5fe0).\n",
    "\n",
    "We will illustrate the testing process with a pure random recommender below.\n"
   ]
  },
  {
   "cell_type": "code",
   "execution_count": null,
   "metadata": {},
   "outputs": [
    {
     "name": "stdout",
     "output_type": "stream",
     "text": [
      "WARNING:tensorflow:Detecting that an object or model or tf.train.Checkpoint is being deleted with unrestored values. See the following logs for the specific values in question. To silence these warnings, use `status.expect_partial()`. See https://www.tensorflow.org/api_docs/python/tf/train/Checkpoint#restorefor details about the status object returned by the restore function.\n",
      "WARNING:tensorflow:Value in checkpoint could not be found in the restored object: (root).P\n",
      "WARNING:tensorflow:Value in checkpoint could not be found in the restored object: (root).Q\n",
      "WARNING:tensorflow:Value in checkpoint could not be found in the restored object: (root).B_user\n",
      "WARNING:tensorflow:Value in checkpoint could not be found in the restored object: (root).B_item\n",
      "WARNING:tensorflow:Value in checkpoint could not be found in the restored object: (root).optimizer.iter\n",
      "WARNING:tensorflow:Value in checkpoint could not be found in the restored object: (root).optimizer.beta_1\n",
      "WARNING:tensorflow:Value in checkpoint could not be found in the restored object: (root).optimizer.beta_2\n",
      "WARNING:tensorflow:Value in checkpoint could not be found in the restored object: (root).optimizer.decay\n",
      "WARNING:tensorflow:Value in checkpoint could not be found in the restored object: (root).optimizer.learning_rate\n",
      "WARNING:tensorflow:Value in checkpoint could not be found in the restored object: (root).optimizer's state 'm' for (root).P\n",
      "WARNING:tensorflow:Value in checkpoint could not be found in the restored object: (root).optimizer's state 'm' for (root).Q\n",
      "WARNING:tensorflow:Value in checkpoint could not be found in the restored object: (root).optimizer's state 'm' for (root).B_user\n",
      "WARNING:tensorflow:Value in checkpoint could not be found in the restored object: (root).optimizer's state 'm' for (root).B_item\n",
      "WARNING:tensorflow:Value in checkpoint could not be found in the restored object: (root).optimizer's state 'v' for (root).P\n",
      "WARNING:tensorflow:Value in checkpoint could not be found in the restored object: (root).optimizer's state 'v' for (root).Q\n",
      "WARNING:tensorflow:Value in checkpoint could not be found in the restored object: (root).optimizer's state 'v' for (root).B_user\n",
      "WARNING:tensorflow:Value in checkpoint could not be found in the restored object: (root).optimizer's state 'v' for (root).B_item\n",
      "WARNING:tensorflow:Detecting that an object or model or tf.train.Checkpoint is being deleted with unrestored values. See the following logs for the specific values in question. To silence these warnings, use `status.expect_partial()`. See https://www.tensorflow.org/api_docs/python/tf/train/Checkpoint#restorefor details about the status object returned by the restore function.\n",
      "WARNING:tensorflow:Value in checkpoint could not be found in the restored object: (root).P\n",
      "WARNING:tensorflow:Value in checkpoint could not be found in the restored object: (root).Q\n",
      "WARNING:tensorflow:Value in checkpoint could not be found in the restored object: (root).B_user\n",
      "WARNING:tensorflow:Value in checkpoint could not be found in the restored object: (root).B_item\n",
      "WARNING:tensorflow:Value in checkpoint could not be found in the restored object: (root).optimizer.iter\n",
      "WARNING:tensorflow:Value in checkpoint could not be found in the restored object: (root).optimizer.beta_1\n",
      "WARNING:tensorflow:Value in checkpoint could not be found in the restored object: (root).optimizer.beta_2\n",
      "WARNING:tensorflow:Value in checkpoint could not be found in the restored object: (root).optimizer.decay\n",
      "WARNING:tensorflow:Value in checkpoint could not be found in the restored object: (root).optimizer.learning_rate\n",
      "WARNING:tensorflow:Value in checkpoint could not be found in the restored object: (root).optimizer's state 'm' for (root).P\n",
      "WARNING:tensorflow:Value in checkpoint could not be found in the restored object: (root).optimizer's state 'm' for (root).Q\n",
      "WARNING:tensorflow:Value in checkpoint could not be found in the restored object: (root).optimizer's state 'm' for (root).B_user\n",
      "WARNING:tensorflow:Value in checkpoint could not be found in the restored object: (root).optimizer's state 'm' for (root).B_item\n",
      "WARNING:tensorflow:Value in checkpoint could not be found in the restored object: (root).optimizer's state 'v' for (root).P\n",
      "WARNING:tensorflow:Value in checkpoint could not be found in the restored object: (root).optimizer's state 'v' for (root).Q\n",
      "WARNING:tensorflow:Value in checkpoint could not be found in the restored object: (root).optimizer's state 'v' for (root).B_user\n",
      "WARNING:tensorflow:Value in checkpoint could not be found in the restored object: (root).optimizer's state 'v' for (root).B_item\n"
     ]
    },
    {
     "name": "stderr",
     "output_type": "stream",
     "text": [
      "\r",
      "Testing: 0it [00:00, ?it/s]"
     ]
    },
    {
     "name": "stdout",
     "output_type": "stream",
     "text": [
      "Updating model...\n",
      "Avg train loss: 2.2750\n",
      "Avg train loss: 2.1753\n",
      "Avg train loss: 2.1042\n",
      "Avg train loss: 2.0491\n"
     ]
    },
    {
     "name": "stderr",
     "output_type": "stream",
     "text": [
      "\r",
      "Testing: 1it [00:12, 12.28s/it]"
     ]
    },
    {
     "name": "stdout",
     "output_type": "stream",
     "text": [
      "Avg train loss: 2.0037\n",
      "There are 2000 users in the env now.\n",
      "Updating model...\n",
      "Avg train loss: 3.2618\n",
      "Avg train loss: 3.0308\n",
      "Avg train loss: 2.8901\n",
      "Avg train loss: 2.7903\n"
     ]
    },
    {
     "name": "stderr",
     "output_type": "stream",
     "text": [
      "\r",
      "Testing: 2it [00:24, 12.05s/it]"
     ]
    },
    {
     "name": "stdout",
     "output_type": "stream",
     "text": [
      "Avg train loss: 2.7124\n",
      "There are 2000 users in the env now.\n",
      "Updating model...\n",
      "Avg train loss: 1.9428\n",
      "Avg train loss: 1.8695\n",
      "Avg train loss: 1.8154\n",
      "Avg train loss: 1.7726\n"
     ]
    },
    {
     "name": "stderr",
     "output_type": "stream",
     "text": [
      "\r",
      "Testing: 3it [00:36, 12.05s/it]"
     ]
    },
    {
     "name": "stdout",
     "output_type": "stream",
     "text": [
      "Avg train loss: 1.7367\n",
      "There are 2000 users in the env now.\n",
      "Updating model...\n",
      "Avg train loss: 15.4249\n",
      "Avg train loss: 15.4249\n",
      "Avg train loss: 15.4249\n",
      "Avg train loss: 15.4249\n"
     ]
    },
    {
     "name": "stderr",
     "output_type": "stream",
     "text": [
      "\r",
      "Testing: 4it [00:48, 12.11s/it]"
     ]
    },
    {
     "name": "stdout",
     "output_type": "stream",
     "text": [
      "Avg train loss: 15.4249\n",
      "There are 2000 users in the env now.\n",
      "Updating model...\n",
      "Avg train loss: 15.4249\n",
      "Avg train loss: 15.4249\n",
      "Avg train loss: 15.4249\n",
      "Avg train loss: 15.4249\n"
     ]
    },
    {
     "name": "stderr",
     "output_type": "stream",
     "text": [
      "\r",
      "Testing: 5it [01:00, 12.09s/it]"
     ]
    },
    {
     "name": "stdout",
     "output_type": "stream",
     "text": [
      "Avg train loss: 15.4249\n",
      "There are 2000 users in the env now.\n",
      "Updating model...\n",
      "Avg train loss: 3.8641\n",
      "Avg train loss: 3.5167\n",
      "Avg train loss: 3.3332\n",
      "Avg train loss: 3.2096\n"
     ]
    },
    {
     "name": "stderr",
     "output_type": "stream",
     "text": [
      "\r",
      "Testing: 6it [01:12, 12.12s/it]"
     ]
    },
    {
     "name": "stdout",
     "output_type": "stream",
     "text": [
      "Avg train loss: 3.1154\n",
      "There are 2000 users in the env now.\n",
      "Updating model...\n",
      "Avg train loss: 3.5249\n",
      "Avg train loss: 3.2446\n",
      "Avg train loss: 3.0837\n",
      "Avg train loss: 2.9724\n"
     ]
    },
    {
     "name": "stderr",
     "output_type": "stream",
     "text": [
      "\r",
      "Testing: 7it [01:24, 12.12s/it]"
     ]
    },
    {
     "name": "stdout",
     "output_type": "stream",
     "text": [
      "Avg train loss: 2.8865\n",
      "There are 2000 users in the env now.\n",
      "Updating model...\n",
      "Avg train loss: 2.0592\n",
      "Avg train loss: 1.9774\n",
      "Avg train loss: 1.9178\n",
      "Avg train loss: 1.8709\n"
     ]
    },
    {
     "name": "stderr",
     "output_type": "stream",
     "text": [
      "\r",
      "Testing: 8it [01:36, 12.12s/it]"
     ]
    },
    {
     "name": "stdout",
     "output_type": "stream",
     "text": [
      "Avg train loss: 1.8318\n",
      "There are 2000 users in the env now.\n",
      "Updating model...\n",
      "Avg train loss: 1.6887\n",
      "Avg train loss: 1.6310\n",
      "Avg train loss: 1.5876\n",
      "Avg train loss: 1.5527\n"
     ]
    },
    {
     "name": "stderr",
     "output_type": "stream",
     "text": [
      "\r",
      "Testing: 9it [01:48, 12.10s/it]"
     ]
    },
    {
     "name": "stdout",
     "output_type": "stream",
     "text": [
      "Avg train loss: 1.5233\n",
      "There are 2000 users in the env now.\n",
      "Updating model...\n",
      "Avg train loss: 15.4249\n",
      "Avg train loss: 15.4249\n",
      "Avg train loss: 15.4249\n",
      "Avg train loss: 15.4249\n"
     ]
    },
    {
     "name": "stderr",
     "output_type": "stream",
     "text": [
      "\r",
      "Testing: 10it [02:00, 12.05s/it]"
     ]
    },
    {
     "name": "stdout",
     "output_type": "stream",
     "text": [
      "Avg train loss: 15.4249\n",
      "There are 2000 users in the env now.\n",
      "Updating model...\n",
      "Avg train loss: 15.4249\n",
      "Avg train loss: 15.4249\n",
      "Avg train loss: 15.4249\n",
      "Avg train loss: 15.4249\n"
     ]
    },
    {
     "name": "stderr",
     "output_type": "stream",
     "text": [
      "\r",
      "Testing: 11it [02:12, 12.02s/it]"
     ]
    },
    {
     "name": "stdout",
     "output_type": "stream",
     "text": [
      "Avg train loss: 15.4249\n",
      "There are 2000 users in the env now.\n",
      "Updating model...\n",
      "Avg train loss: 15.4249\n",
      "Avg train loss: 15.4249\n",
      "Avg train loss: 15.4249\n",
      "Avg train loss: 15.4249\n"
     ]
    },
    {
     "name": "stderr",
     "output_type": "stream",
     "text": [
      "\r",
      "Testing: 12it [02:24, 12.05s/it]"
     ]
    },
    {
     "name": "stdout",
     "output_type": "stream",
     "text": [
      "Avg train loss: 15.4249\n",
      "There are 2000 users in the env now.\n",
      "Updating model...\n",
      "Avg train loss: 15.4249\n",
      "Avg train loss: 15.4249\n",
      "Avg train loss: 15.4249\n",
      "Avg train loss: 15.4249\n"
     ]
    },
    {
     "name": "stderr",
     "output_type": "stream",
     "text": [
      "\r",
      "Testing: 13it [02:36, 12.02s/it]"
     ]
    },
    {
     "name": "stdout",
     "output_type": "stream",
     "text": [
      "Avg train loss: 15.4249\n",
      "There are 2000 users in the env now.\n",
      "Updating model...\n",
      "Avg train loss: 2.6926\n",
      "Avg train loss: 2.5479\n",
      "Avg train loss: 2.4503\n",
      "Avg train loss: 2.3772\n"
     ]
    },
    {
     "name": "stderr",
     "output_type": "stream",
     "text": [
      "\r",
      "Testing: 14it [02:49, 12.05s/it]"
     ]
    },
    {
     "name": "stdout",
     "output_type": "stream",
     "text": [
      "Avg train loss: 2.3182\n",
      "There are 2000 users in the env now.\n",
      "Updating model...\n",
      "Avg train loss: 15.4249\n",
      "Avg train loss: 15.4249\n",
      "Avg train loss: 15.4249\n",
      "Avg train loss: 15.4249\n"
     ]
    },
    {
     "name": "stderr",
     "output_type": "stream",
     "text": [
      "\r",
      "Testing: 15it [03:01, 12.06s/it]"
     ]
    },
    {
     "name": "stdout",
     "output_type": "stream",
     "text": [
      "Avg train loss: 15.4249\n",
      "There are 2000 users in the env now.\n",
      "Updating model...\n",
      "Avg train loss: 2.8363\n",
      "Avg train loss: 2.6727\n",
      "Avg train loss: 2.5648\n",
      "Avg train loss: 2.4849\n"
     ]
    },
    {
     "name": "stderr",
     "output_type": "stream",
     "text": [
      "\r",
      "Testing: 16it [03:13, 12.03s/it]"
     ]
    },
    {
     "name": "stdout",
     "output_type": "stream",
     "text": [
      "Avg train loss: 2.4212\n",
      "There are 2000 users in the env now.\n",
      "Updating model...\n",
      "Avg train loss: 2.1751\n",
      "Avg train loss: 2.0841\n",
      "Avg train loss: 2.0185\n",
      "Avg train loss: 1.9673\n"
     ]
    },
    {
     "name": "stderr",
     "output_type": "stream",
     "text": [
      "\r",
      "Testing: 17it [03:25, 12.00s/it]"
     ]
    },
    {
     "name": "stdout",
     "output_type": "stream",
     "text": [
      "Avg train loss: 1.9249\n",
      "There are 2000 users in the env now.\n",
      "Updating model...\n",
      "Avg train loss: 15.4249\n",
      "Avg train loss: 15.4249\n",
      "Avg train loss: 15.4249\n",
      "Avg train loss: 15.4249\n"
     ]
    },
    {
     "name": "stderr",
     "output_type": "stream",
     "text": [
      "\r",
      "Testing: 18it [03:36, 11.97s/it]"
     ]
    },
    {
     "name": "stdout",
     "output_type": "stream",
     "text": [
      "Avg train loss: 15.4249\n",
      "There are 2000 users in the env now.\n",
      "Updating model...\n",
      "Avg train loss: 15.4249\n",
      "Avg train loss: 15.4249\n",
      "Avg train loss: 15.4249\n",
      "Avg train loss: 15.4249\n"
     ]
    },
    {
     "name": "stderr",
     "output_type": "stream",
     "text": [
      "\r",
      "Testing: 19it [03:48, 11.96s/it]"
     ]
    },
    {
     "name": "stdout",
     "output_type": "stream",
     "text": [
      "Avg train loss: 15.4249\n",
      "There are 2000 users in the env now.\n",
      "Updating model...\n",
      "Avg train loss: 2.6977\n",
      "Avg train loss: 2.5524\n",
      "Avg train loss: 2.4544\n",
      "Avg train loss: 2.3810\n"
     ]
    },
    {
     "name": "stderr",
     "output_type": "stream",
     "text": [
      "\r",
      "Testing: 20it [04:01, 12.02s/it]"
     ]
    },
    {
     "name": "stdout",
     "output_type": "stream",
     "text": [
      "Avg train loss: 2.3219\n",
      "There are 2000 users in the env now.\n",
      "Updating model...\n",
      "Avg train loss: 2.3460\n",
      "Avg train loss: 2.2396\n",
      "Avg train loss: 2.1644\n",
      "Avg train loss: 2.1064\n"
     ]
    },
    {
     "name": "stderr",
     "output_type": "stream",
     "text": [
      "\r",
      "Testing: 21it [04:13, 12.11s/it]"
     ]
    },
    {
     "name": "stdout",
     "output_type": "stream",
     "text": [
      "Avg train loss: 2.0588\n",
      "There are 2000 users in the env now.\n",
      "Updating model...\n",
      "Avg train loss: 15.4249\n",
      "Avg train loss: 15.4249\n",
      "Avg train loss: 15.4249\n",
      "Avg train loss: 15.4249\n"
     ]
    },
    {
     "name": "stderr",
     "output_type": "stream",
     "text": [
      "\r",
      "Testing: 22it [04:25, 12.26s/it]"
     ]
    },
    {
     "name": "stdout",
     "output_type": "stream",
     "text": [
      "Avg train loss: 15.4249\n",
      "There are 2000 users in the env now.\n",
      "Updating model...\n",
      "Avg train loss: 2.6129\n",
      "Avg train loss: 2.4780\n",
      "Avg train loss: 2.3858\n",
      "Avg train loss: 2.3163\n"
     ]
    },
    {
     "name": "stderr",
     "output_type": "stream",
     "text": [
      "\r",
      "Testing: 23it [04:38, 12.26s/it]"
     ]
    },
    {
     "name": "stdout",
     "output_type": "stream",
     "text": [
      "Avg train loss: 2.2601\n",
      "There are 2000 users in the env now.\n",
      "Updating model...\n",
      "Avg train loss: 15.4249\n",
      "Avg train loss: 15.4249\n",
      "Avg train loss: 15.4249\n",
      "Avg train loss: 15.4249\n"
     ]
    },
    {
     "name": "stderr",
     "output_type": "stream",
     "text": [
      "\r",
      "Testing: 24it [04:50, 12.18s/it]"
     ]
    },
    {
     "name": "stdout",
     "output_type": "stream",
     "text": [
      "Avg train loss: 15.4249\n",
      "There are 2000 users in the env now.\n",
      "Updating model...\n",
      "Avg train loss: 2.7316\n",
      "Avg train loss: 2.5820\n",
      "Avg train loss: 2.4816\n",
      "Avg train loss: 2.4067\n"
     ]
    },
    {
     "name": "stderr",
     "output_type": "stream",
     "text": [
      "\r",
      "Testing: 25it [05:02, 12.19s/it]"
     ]
    },
    {
     "name": "stdout",
     "output_type": "stream",
     "text": [
      "Avg train loss: 2.3464\n",
      "There are 2000 users in the env now.\n",
      "Updating model...\n",
      "Avg train loss: 2.4557\n",
      "Avg train loss: 2.3385\n",
      "Avg train loss: 2.2566\n",
      "Avg train loss: 2.1941\n"
     ]
    },
    {
     "name": "stderr",
     "output_type": "stream",
     "text": [
      "\r",
      "Testing: 26it [05:14, 12.19s/it]"
     ]
    },
    {
     "name": "stdout",
     "output_type": "stream",
     "text": [
      "Avg train loss: 2.1430\n",
      "There are 2000 users in the env now.\n",
      "Updating model...\n",
      "Avg train loss: 2.1594\n",
      "Avg train loss: 2.0697\n",
      "Avg train loss: 2.0049\n",
      "Avg train loss: 1.9544\n"
     ]
    },
    {
     "name": "stderr",
     "output_type": "stream",
     "text": [
      "\r",
      "Testing: 27it [05:26, 12.15s/it]"
     ]
    },
    {
     "name": "stdout",
     "output_type": "stream",
     "text": [
      "Avg train loss: 1.9124\n",
      "There are 2000 users in the env now.\n",
      "Updating model...\n",
      "Avg train loss: 15.4249\n",
      "Avg train loss: 15.4249\n",
      "Avg train loss: 15.4249\n",
      "Avg train loss: 15.4249\n"
     ]
    },
    {
     "name": "stderr",
     "output_type": "stream",
     "text": [
      "\r",
      "Testing: 28it [05:39, 12.37s/it]"
     ]
    },
    {
     "name": "stdout",
     "output_type": "stream",
     "text": [
      "Avg train loss: 15.4249\n",
      "There are 2000 users in the env now.\n",
      "Updating model...\n",
      "Avg train loss: 3.2620\n",
      "Avg train loss: 3.0310\n",
      "Avg train loss: 2.8903\n",
      "Avg train loss: 2.7905\n"
     ]
    },
    {
     "name": "stderr",
     "output_type": "stream",
     "text": [
      "\r",
      "Testing: 29it [05:52, 12.69s/it]"
     ]
    },
    {
     "name": "stdout",
     "output_type": "stream",
     "text": [
      "Avg train loss: 2.7125\n",
      "There are 2000 users in the env now.\n",
      "Updating model...\n",
      "Avg train loss: 3.4535\n",
      "Avg train loss: 3.1871\n",
      "Avg train loss: 3.0315\n",
      "Avg train loss: 2.9232\n"
     ]
    },
    {
     "name": "stderr",
     "output_type": "stream",
     "text": [
      "\r",
      "Testing: 30it [06:06, 12.86s/it]"
     ]
    },
    {
     "name": "stdout",
     "output_type": "stream",
     "text": [
      "Avg train loss: 2.8394\n",
      "There are 2000 users in the env now.\n",
      "Updating model...\n",
      "Avg train loss: 2.6841\n",
      "Avg train loss: 2.5406\n",
      "Avg train loss: 2.4435\n",
      "Avg train loss: 2.3707\n"
     ]
    },
    {
     "name": "stderr",
     "output_type": "stream",
     "text": [
      "\r",
      "Testing: 31it [06:19, 13.00s/it]"
     ]
    },
    {
     "name": "stdout",
     "output_type": "stream",
     "text": [
      "Avg train loss: 2.3121\n",
      "There are 2000 users in the env now.\n",
      "Updating model...\n",
      "Avg train loss: 3.0240\n",
      "Avg train loss: 2.8327\n",
      "Avg train loss: 2.7106\n",
      "Avg train loss: 2.6220\n"
     ]
    },
    {
     "name": "stderr",
     "output_type": "stream",
     "text": [
      "\r",
      "Testing: 32it [06:33, 13.15s/it]"
     ]
    },
    {
     "name": "stdout",
     "output_type": "stream",
     "text": [
      "Avg train loss: 2.5518\n",
      "There are 2000 users in the env now.\n",
      "Updating model...\n",
      "Avg train loss: 15.4249\n",
      "Avg train loss: 15.4249\n",
      "Avg train loss: 15.4249\n",
      "Avg train loss: 15.4249\n"
     ]
    },
    {
     "name": "stderr",
     "output_type": "stream",
     "text": [
      "\r",
      "Testing: 33it [06:46, 13.21s/it]"
     ]
    },
    {
     "name": "stdout",
     "output_type": "stream",
     "text": [
      "Avg train loss: 15.4249\n",
      "There are 2000 users in the env now.\n",
      "Updating model...\n",
      "Avg train loss: 3.6197\n",
      "Avg train loss: 3.3207\n",
      "Avg train loss: 3.1529\n",
      "Avg train loss: 3.0378\n"
     ]
    },
    {
     "name": "stderr",
     "output_type": "stream",
     "text": [
      "\r",
      "Testing: 34it [06:59, 13.29s/it]"
     ]
    },
    {
     "name": "stdout",
     "output_type": "stream",
     "text": [
      "Avg train loss: 2.9493\n",
      "There are 2000 users in the env now.\n",
      "Updating model...\n",
      "Avg train loss: 2.5779\n",
      "Avg train loss: 2.4471\n",
      "Avg train loss: 2.3572\n",
      "Avg train loss: 2.2893\n"
     ]
    },
    {
     "name": "stderr",
     "output_type": "stream",
     "text": [
      "\r",
      "Testing: 35it [07:13, 13.30s/it]"
     ]
    },
    {
     "name": "stdout",
     "output_type": "stream",
     "text": [
      "Avg train loss: 2.2342\n",
      "There are 2000 users in the env now.\n",
      "Updating model...\n",
      "Avg train loss: 15.4249\n",
      "Avg train loss: 15.4249\n",
      "Avg train loss: 15.4249\n",
      "Avg train loss: 15.4249\n"
     ]
    },
    {
     "name": "stderr",
     "output_type": "stream",
     "text": [
      "\r",
      "Testing: 36it [07:26, 13.34s/it]"
     ]
    },
    {
     "name": "stdout",
     "output_type": "stream",
     "text": [
      "Avg train loss: 15.4249\n",
      "There are 2000 users in the env now.\n",
      "Updating model...\n",
      "Avg train loss: 2.1925\n",
      "Avg train loss: 2.1000\n",
      "Avg train loss: 2.0335\n",
      "Avg train loss: 1.9816\n"
     ]
    },
    {
     "name": "stderr",
     "output_type": "stream",
     "text": [
      "\r",
      "Testing: 37it [07:40, 13.38s/it]"
     ]
    },
    {
     "name": "stdout",
     "output_type": "stream",
     "text": [
      "Avg train loss: 1.9387\n",
      "There are 2000 users in the env now.\n",
      "Updating model...\n",
      "Avg train loss: 2.5437\n",
      "Avg train loss: 2.4167\n",
      "Avg train loss: 2.3292\n",
      "Avg train loss: 2.2627\n"
     ]
    },
    {
     "name": "stderr",
     "output_type": "stream",
     "text": [
      "\r",
      "Testing: 38it [07:53, 13.41s/it]"
     ]
    },
    {
     "name": "stdout",
     "output_type": "stream",
     "text": [
      "Avg train loss: 2.2088\n",
      "There are 2000 users in the env now.\n",
      "Updating model...\n",
      "Avg train loss: 3.0440\n",
      "Avg train loss: 2.8495\n",
      "Avg train loss: 2.7259\n",
      "Avg train loss: 2.6363\n"
     ]
    },
    {
     "name": "stderr",
     "output_type": "stream",
     "text": [
      "\r",
      "Testing: 39it [08:06, 13.40s/it]"
     ]
    },
    {
     "name": "stdout",
     "output_type": "stream",
     "text": [
      "Avg train loss: 2.5655\n",
      "There are 2000 users in the env now.\n",
      "Updating model...\n",
      "Avg train loss: 2.1511\n",
      "Avg train loss: 2.0621\n",
      "Avg train loss: 1.9978\n",
      "Avg train loss: 1.9475\n"
     ]
    },
    {
     "name": "stderr",
     "output_type": "stream",
     "text": [
      "\r",
      "Testing: 40it [08:20, 13.39s/it]"
     ]
    },
    {
     "name": "stdout",
     "output_type": "stream",
     "text": [
      "Avg train loss: 1.9058\n",
      "There are 2000 users in the env now.\n",
      "Updating model...\n",
      "Avg train loss: 2.4633\n",
      "Avg train loss: 2.3451\n",
      "Avg train loss: 2.2627\n",
      "Avg train loss: 2.1998\n"
     ]
    },
    {
     "name": "stderr",
     "output_type": "stream",
     "text": [
      "\r",
      "Testing: 41it [08:33, 13.33s/it]"
     ]
    },
    {
     "name": "stdout",
     "output_type": "stream",
     "text": [
      "Avg train loss: 2.1485\n",
      "There are 2000 users in the env now.\n",
      "Updating model...\n",
      "Avg train loss: 15.4249\n",
      "Avg train loss: 15.4249\n",
      "Avg train loss: 15.4249\n",
      "Avg train loss: 15.4249\n"
     ]
    },
    {
     "name": "stderr",
     "output_type": "stream",
     "text": [
      "\r",
      "Testing: 42it [08:46, 13.36s/it]"
     ]
    },
    {
     "name": "stdout",
     "output_type": "stream",
     "text": [
      "Avg train loss: 15.4249\n",
      "There are 2000 users in the env now.\n",
      "Updating model...\n",
      "Avg train loss: 2.6253\n",
      "Avg train loss: 2.4889\n",
      "Avg train loss: 2.3959\n",
      "Avg train loss: 2.3258\n"
     ]
    },
    {
     "name": "stderr",
     "output_type": "stream",
     "text": [
      "\r",
      "Testing: 43it [09:00, 13.42s/it]"
     ]
    },
    {
     "name": "stdout",
     "output_type": "stream",
     "text": [
      "Avg train loss: 2.2691\n",
      "There are 2000 users in the env now.\n",
      "Updating model...\n",
      "Avg train loss: 15.4249\n",
      "Avg train loss: 15.4249\n",
      "Avg train loss: 15.4249\n",
      "Avg train loss: 15.4249\n"
     ]
    },
    {
     "name": "stderr",
     "output_type": "stream",
     "text": [
      "\r",
      "Testing: 44it [09:13, 13.38s/it]"
     ]
    },
    {
     "name": "stdout",
     "output_type": "stream",
     "text": [
      "Avg train loss: 15.4249\n",
      "There are 2000 users in the env now.\n",
      "Updating model...\n",
      "Avg train loss: 15.4249\n",
      "Avg train loss: 15.4249\n",
      "Avg train loss: 15.4249\n",
      "Avg train loss: 15.4249\n"
     ]
    },
    {
     "name": "stderr",
     "output_type": "stream",
     "text": [
      "\r",
      "Testing: 45it [09:27, 13.35s/it]"
     ]
    },
    {
     "name": "stdout",
     "output_type": "stream",
     "text": [
      "Avg train loss: 15.4249\n",
      "There are 2000 users in the env now.\n",
      "Updating model...\n",
      "Avg train loss: 15.4249\n",
      "Avg train loss: 15.4249\n",
      "Avg train loss: 15.4249\n",
      "Avg train loss: 15.4249\n"
     ]
    },
    {
     "name": "stderr",
     "output_type": "stream",
     "text": [
      "\r",
      "Testing: 46it [09:40, 13.30s/it]"
     ]
    },
    {
     "name": "stdout",
     "output_type": "stream",
     "text": [
      "Avg train loss: 15.4249\n",
      "There are 2000 users in the env now.\n",
      "Updating model...\n",
      "Avg train loss: 3.0824\n",
      "Avg train loss: 2.8818\n",
      "Avg train loss: 2.7552\n",
      "Avg train loss: 2.6638\n"
     ]
    },
    {
     "name": "stderr",
     "output_type": "stream",
     "text": [
      "\r",
      "Testing: 47it [09:53, 13.28s/it]"
     ]
    },
    {
     "name": "stdout",
     "output_type": "stream",
     "text": [
      "Avg train loss: 2.5917\n",
      "There are 2000 users in the env now.\n",
      "Updating model...\n",
      "Avg train loss: 15.4249\n",
      "Avg train loss: 15.4249\n",
      "Avg train loss: 15.4249\n",
      "Avg train loss: 15.4249\n"
     ]
    },
    {
     "name": "stderr",
     "output_type": "stream",
     "text": [
      "\r",
      "Testing: 48it [10:06, 13.32s/it]"
     ]
    },
    {
     "name": "stdout",
     "output_type": "stream",
     "text": [
      "Avg train loss: 15.4249\n",
      "There are 2000 users in the env now.\n",
      "Congratulations!\n"
     ]
    },
    {
     "name": "stderr",
     "output_type": "stream",
     "text": [
      "\r",
      "Testing: 49it [10:09, 10.13s/it]"
     ]
    },
    {
     "name": "stdout",
     "output_type": "stream",
     "text": [
      "Avg train loss: 0.4295\n",
      "\n",
      "There are 2000 users in the env now.\n",
      "Updating model...\n",
      "Avg train loss: 3.6807\n",
      "Avg train loss: 3.3696\n",
      "Avg train loss: 3.1975\n",
      "Avg train loss: 3.0801\n"
     ]
    },
    {
     "name": "stderr",
     "output_type": "stream",
     "text": [
      "\r",
      "Testing: 50it [10:22, 11.03s/it]"
     ]
    },
    {
     "name": "stdout",
     "output_type": "stream",
     "text": [
      "Avg train loss: 2.9900\n",
      "There are 2000 users in the env now.\n",
      "Updating model...\n",
      "Avg train loss: 15.4249\n",
      "Avg train loss: 15.4249\n",
      "Avg train loss: 15.4249\n",
      "Avg train loss: 15.4249\n"
     ]
    },
    {
     "name": "stderr",
     "output_type": "stream",
     "text": [
      "\r",
      "Testing: 51it [10:35, 11.70s/it]"
     ]
    },
    {
     "name": "stdout",
     "output_type": "stream",
     "text": [
      "Avg train loss: 15.4249\n",
      "There are 2000 users in the env now.\n",
      "Updating model...\n",
      "Avg train loss: 15.4249\n",
      "Avg train loss: 15.4249\n",
      "Avg train loss: 15.4249\n",
      "Avg train loss: 15.4249\n"
     ]
    },
    {
     "name": "stderr",
     "output_type": "stream",
     "text": [
      "\r",
      "Testing: 52it [10:49, 12.20s/it]"
     ]
    },
    {
     "name": "stdout",
     "output_type": "stream",
     "text": [
      "Avg train loss: 15.4249\n",
      "There are 2000 users in the env now.\n",
      "Updating model...\n",
      "Avg train loss: 15.4249\n",
      "Avg train loss: 15.4249\n",
      "Avg train loss: 15.4249\n",
      "Avg train loss: 15.4249\n"
     ]
    },
    {
     "name": "stderr",
     "output_type": "stream",
     "text": [
      "\r",
      "Testing: 53it [11:02, 12.56s/it]"
     ]
    },
    {
     "name": "stdout",
     "output_type": "stream",
     "text": [
      "Avg train loss: 15.4249\n",
      "There are 2000 users in the env now.\n",
      "Updating model...\n",
      "Avg train loss: 15.4249\n",
      "Avg train loss: 15.4249\n",
      "Avg train loss: 15.4249\n",
      "Avg train loss: 15.4249\n"
     ]
    },
    {
     "name": "stderr",
     "output_type": "stream",
     "text": [
      "\r",
      "Testing: 54it [11:16, 12.80s/it]"
     ]
    },
    {
     "name": "stdout",
     "output_type": "stream",
     "text": [
      "Avg train loss: 15.4249\n",
      "There are 2000 users in the env now.\n",
      "Updating model...\n",
      "Avg train loss: 3.6264\n",
      "Avg train loss: 3.3260\n",
      "Avg train loss: 3.1578\n",
      "Avg train loss: 3.0424\n"
     ]
    },
    {
     "name": "stderr",
     "output_type": "stream",
     "text": [
      "\r",
      "Testing: 55it [11:29, 12.94s/it]"
     ]
    },
    {
     "name": "stdout",
     "output_type": "stream",
     "text": [
      "Avg train loss: 2.9537\n",
      "There are 2000 users in the env now.\n",
      "Updating model...\n",
      "Avg train loss: 3.2557\n",
      "Avg train loss: 3.0258\n",
      "Avg train loss: 2.8856\n",
      "Avg train loss: 2.7861\n"
     ]
    },
    {
     "name": "stderr",
     "output_type": "stream",
     "text": [
      "\r",
      "Testing: 56it [11:42, 13.10s/it]"
     ]
    },
    {
     "name": "stdout",
     "output_type": "stream",
     "text": [
      "Avg train loss: 2.7083\n",
      "There are 2000 users in the env now.\n",
      "Updating model...\n",
      "Avg train loss: 4.8204\n",
      "Avg train loss: 4.4299\n",
      "Avg train loss: 4.2515\n",
      "Avg train loss: 4.1295\n"
     ]
    },
    {
     "name": "stderr",
     "output_type": "stream",
     "text": [
      "\r",
      "Testing: 57it [11:56, 13.16s/it]"
     ]
    },
    {
     "name": "stdout",
     "output_type": "stream",
     "text": [
      "Avg train loss: 4.0336\n",
      "There are 2000 users in the env now.\n",
      "Updating model...\n",
      "Avg train loss: 2.4467\n",
      "Avg train loss: 2.3302\n",
      "Avg train loss: 2.2489\n",
      "Avg train loss: 2.1866\n"
     ]
    },
    {
     "name": "stderr",
     "output_type": "stream",
     "text": [
      "\r",
      "Testing: 58it [12:09, 13.22s/it]"
     ]
    },
    {
     "name": "stdout",
     "output_type": "stream",
     "text": [
      "Avg train loss: 2.1358\n",
      "There are 2000 users in the env now.\n",
      "Updating model...\n",
      "Avg train loss: 2.7881\n",
      "Avg train loss: 2.6310\n",
      "Avg train loss: 2.5266\n",
      "Avg train loss: 2.4491\n"
     ]
    },
    {
     "name": "stderr",
     "output_type": "stream",
     "text": [
      "\r",
      "Testing: 59it [12:22, 13.27s/it]"
     ]
    },
    {
     "name": "stdout",
     "output_type": "stream",
     "text": [
      "Avg train loss: 2.3869\n",
      "There are 2000 users in the env now.\n",
      "Updating model...\n",
      "Avg train loss: 15.4249\n",
      "Avg train loss: 15.4249\n",
      "Avg train loss: 15.4249\n",
      "Avg train loss: 15.4249\n"
     ]
    },
    {
     "name": "stderr",
     "output_type": "stream",
     "text": [
      "\r",
      "Testing: 60it [12:36, 13.32s/it]"
     ]
    },
    {
     "name": "stdout",
     "output_type": "stream",
     "text": [
      "Avg train loss: 15.4249\n",
      "There are 2000 users in the env now.\n",
      "Updating model...\n",
      "Avg train loss: 3.9185\n",
      "Avg train loss: 3.5607\n",
      "Avg train loss: 3.3742\n",
      "Avg train loss: 3.2491\n"
     ]
    },
    {
     "name": "stderr",
     "output_type": "stream",
     "text": [
      "\r",
      "Testing: 61it [12:49, 13.39s/it]"
     ]
    },
    {
     "name": "stdout",
     "output_type": "stream",
     "text": [
      "Avg train loss: 3.1538\n",
      "There are 2000 users in the env now.\n",
      "Updating model...\n",
      "Avg train loss: 15.4249\n",
      "Avg train loss: 15.4249\n",
      "Avg train loss: 15.4249\n",
      "Avg train loss: 15.4249\n"
     ]
    },
    {
     "name": "stderr",
     "output_type": "stream",
     "text": [
      "\r",
      "Testing: 62it [13:03, 13.39s/it]"
     ]
    },
    {
     "name": "stdout",
     "output_type": "stream",
     "text": [
      "Avg train loss: 15.4249\n",
      "There are 2000 users in the env now.\n",
      "Updating model...\n",
      "Avg train loss: 15.4249\n",
      "Avg train loss: 15.4249\n",
      "Avg train loss: 15.4249\n",
      "Avg train loss: 15.4249\n"
     ]
    },
    {
     "name": "stderr",
     "output_type": "stream",
     "text": [
      "\r",
      "Testing: 63it [13:16, 13.34s/it]"
     ]
    },
    {
     "name": "stdout",
     "output_type": "stream",
     "text": [
      "Avg train loss: 15.4249\n",
      "There are 2000 users in the env now.\n",
      "Updating model...\n",
      "Avg train loss: 15.4249\n",
      "Avg train loss: 15.4249\n",
      "Avg train loss: 15.4249\n",
      "Avg train loss: 15.4249\n"
     ]
    },
    {
     "name": "stderr",
     "output_type": "stream",
     "text": [
      "\r",
      "Testing: 64it [13:29, 13.35s/it]"
     ]
    },
    {
     "name": "stdout",
     "output_type": "stream",
     "text": [
      "Avg train loss: 15.4249\n",
      "There are 2000 users in the env now.\n",
      "Updating model...\n",
      "Avg train loss: 15.4249\n",
      "Avg train loss: 15.4249\n",
      "Avg train loss: 15.4249\n",
      "Avg train loss: 15.4249\n"
     ]
    },
    {
     "name": "stderr",
     "output_type": "stream",
     "text": [
      "\r",
      "Testing: 65it [13:43, 13.31s/it]"
     ]
    },
    {
     "name": "stdout",
     "output_type": "stream",
     "text": [
      "Avg train loss: 15.4249\n",
      "There are 2000 users in the env now.\n",
      "Updating model...\n",
      "Avg train loss: 15.4249\n",
      "Avg train loss: 15.4249\n",
      "Avg train loss: 15.4249\n",
      "Avg train loss: 15.4249\n"
     ]
    },
    {
     "name": "stderr",
     "output_type": "stream",
     "text": [
      "\r",
      "Testing: 66it [13:56, 13.37s/it]"
     ]
    },
    {
     "name": "stdout",
     "output_type": "stream",
     "text": [
      "Avg train loss: 15.4249\n",
      "There are 2000 users in the env now.\n",
      "Updating model...\n",
      "Avg train loss: 2.5782\n",
      "Avg train loss: 2.4473\n",
      "Avg train loss: 2.3575\n",
      "Avg train loss: 2.2895\n"
     ]
    },
    {
     "name": "stderr",
     "output_type": "stream",
     "text": [
      "\r",
      "Testing: 67it [14:09, 13.37s/it]"
     ]
    },
    {
     "name": "stdout",
     "output_type": "stream",
     "text": [
      "Avg train loss: 2.2344\n",
      "There are 2000 users in the env now.\n",
      "Updating model...\n",
      "Avg train loss: 15.4249\n",
      "Avg train loss: 15.4249\n",
      "Avg train loss: 15.4249\n",
      "Avg train loss: 15.4249\n"
     ]
    },
    {
     "name": "stderr",
     "output_type": "stream",
     "text": [
      "\r",
      "Testing: 68it [14:23, 13.35s/it]"
     ]
    },
    {
     "name": "stdout",
     "output_type": "stream",
     "text": [
      "Avg train loss: 15.4249\n",
      "There are 2000 users in the env now.\n",
      "Updating model...\n",
      "Avg train loss: 15.4249\n",
      "Avg train loss: 15.4249\n",
      "Avg train loss: 15.4249\n",
      "Avg train loss: 15.4249\n"
     ]
    },
    {
     "name": "stderr",
     "output_type": "stream",
     "text": [
      "\r",
      "Testing: 69it [14:36, 13.40s/it]"
     ]
    },
    {
     "name": "stdout",
     "output_type": "stream",
     "text": [
      "Avg train loss: 15.4249\n",
      "There are 2000 users in the env now.\n",
      "Updating model...\n",
      "Avg train loss: 3.0850\n",
      "Avg train loss: 2.8840\n",
      "Avg train loss: 2.7572\n",
      "Avg train loss: 2.6657\n"
     ]
    },
    {
     "name": "stderr",
     "output_type": "stream",
     "text": [
      "\r",
      "Testing: 70it [14:50, 13.38s/it]"
     ]
    },
    {
     "name": "stdout",
     "output_type": "stream",
     "text": [
      "Avg train loss: 2.5935\n",
      "There are 2000 users in the env now.\n",
      "Updating model...\n",
      "Avg train loss: 15.4249\n",
      "Avg train loss: 15.4249\n",
      "Avg train loss: 15.4249\n",
      "Avg train loss: 15.4249\n"
     ]
    },
    {
     "name": "stderr",
     "output_type": "stream",
     "text": [
      "\r",
      "Testing: 71it [15:03, 13.38s/it]"
     ]
    },
    {
     "name": "stdout",
     "output_type": "stream",
     "text": [
      "Avg train loss: 15.4249\n",
      "There are 2000 users in the env now.\n",
      "Updating model...\n",
      "Avg train loss: 2.4333\n",
      "Avg train loss: 2.3182\n",
      "Avg train loss: 2.2377\n",
      "Avg train loss: 2.1761\n"
     ]
    },
    {
     "name": "stderr",
     "output_type": "stream",
     "text": [
      "\r",
      "Testing: 72it [15:16, 13.37s/it]"
     ]
    },
    {
     "name": "stdout",
     "output_type": "stream",
     "text": [
      "Avg train loss: 2.1257\n",
      "There are 2000 users in the env now.\n",
      "Updating model...\n",
      "Avg train loss: 15.4249\n",
      "Avg train loss: 15.4249\n",
      "Avg train loss: 15.4249\n",
      "Avg train loss: 15.4249\n"
     ]
    },
    {
     "name": "stderr",
     "output_type": "stream",
     "text": [
      "\r",
      "Testing: 73it [15:30, 13.41s/it]"
     ]
    },
    {
     "name": "stdout",
     "output_type": "stream",
     "text": [
      "Avg train loss: 15.4249\n",
      "There are 2000 users in the env now.\n",
      "Updating model...\n",
      "Avg train loss: 4.1816\n",
      "Avg train loss: 3.7808\n",
      "Avg train loss: 3.5844\n",
      "Avg train loss: 3.4542\n"
     ]
    },
    {
     "name": "stderr",
     "output_type": "stream",
     "text": [
      "\r",
      "Testing: 74it [15:43, 13.20s/it]"
     ]
    },
    {
     "name": "stdout",
     "output_type": "stream",
     "text": [
      "Avg train loss: 3.3551\n",
      "There are 2000 users in the env now.\n",
      "Updating model...\n",
      "Avg train loss: 3.7839\n",
      "Avg train loss: 3.4522\n",
      "Avg train loss: 3.2734\n",
      "Avg train loss: 3.1523\n"
     ]
    },
    {
     "name": "stderr",
     "output_type": "stream",
     "text": [
      "\r",
      "Testing: 75it [15:55, 12.88s/it]"
     ]
    },
    {
     "name": "stdout",
     "output_type": "stream",
     "text": [
      "Avg train loss: 3.0598\n",
      "There are 2000 users in the env now.\n",
      "Updating model...\n",
      "Avg train loss: 15.4249\n",
      "Avg train loss: 15.4249\n",
      "Avg train loss: 15.4249\n",
      "Avg train loss: 15.4249\n"
     ]
    },
    {
     "name": "stderr",
     "output_type": "stream",
     "text": [
      "\r",
      "Testing: 76it [16:07, 12.61s/it]"
     ]
    },
    {
     "name": "stdout",
     "output_type": "stream",
     "text": [
      "Avg train loss: 15.4249\n",
      "There are 2000 users in the env now.\n",
      "Updating model...\n",
      "Avg train loss: 15.4249\n",
      "Avg train loss: 15.4249\n",
      "Avg train loss: 15.4249\n",
      "Avg train loss: 15.4249\n"
     ]
    },
    {
     "name": "stderr",
     "output_type": "stream",
     "text": [
      "\r",
      "Testing: 77it [16:19, 12.43s/it]"
     ]
    },
    {
     "name": "stdout",
     "output_type": "stream",
     "text": [
      "Avg train loss: 15.4249\n",
      "There are 2000 users in the env now.\n",
      "Updating model...\n",
      "Avg train loss: 15.4249\n",
      "Avg train loss: 15.4249\n",
      "Avg train loss: 15.4249\n",
      "Avg train loss: 15.4249\n"
     ]
    },
    {
     "name": "stderr",
     "output_type": "stream",
     "text": [
      "\r",
      "Testing: 78it [16:31, 12.30s/it]"
     ]
    },
    {
     "name": "stdout",
     "output_type": "stream",
     "text": [
      "Avg train loss: 15.4249\n",
      "There are 2000 users in the env now.\n",
      "Updating model...\n",
      "Avg train loss: 15.4249\n",
      "Avg train loss: 15.4249\n",
      "Avg train loss: 15.4249\n",
      "Avg train loss: 15.4249\n"
     ]
    },
    {
     "name": "stderr",
     "output_type": "stream",
     "text": [
      "\r",
      "Testing: 79it [16:43, 12.22s/it]"
     ]
    },
    {
     "name": "stdout",
     "output_type": "stream",
     "text": [
      "Avg train loss: 15.4249\n",
      "There are 2000 users in the env now.\n",
      "Updating model...\n",
      "Avg train loss: 2.6918\n",
      "Avg train loss: 2.5473\n",
      "Avg train loss: 2.4497\n",
      "Avg train loss: 2.3766\n"
     ]
    },
    {
     "name": "stderr",
     "output_type": "stream",
     "text": [
      "\r",
      "Testing: 80it [16:55, 12.16s/it]"
     ]
    },
    {
     "name": "stdout",
     "output_type": "stream",
     "text": [
      "Avg train loss: 2.3177\n",
      "There are 2000 users in the env now.\n",
      "Updating model...\n",
      "Avg train loss: 3.8104\n",
      "Avg train loss: 3.4735\n",
      "Avg train loss: 3.2930\n",
      "Avg train loss: 3.1711\n"
     ]
    },
    {
     "name": "stderr",
     "output_type": "stream",
     "text": [
      "\r",
      "Testing: 81it [17:07, 12.14s/it]"
     ]
    },
    {
     "name": "stdout",
     "output_type": "stream",
     "text": [
      "Avg train loss: 3.0780\n",
      "There are 2000 users in the env now.\n",
      "Updating model...\n",
      "Avg train loss: 15.4249\n",
      "Avg train loss: 15.4249\n",
      "Avg train loss: 15.4249\n",
      "Avg train loss: 15.4249\n"
     ]
    },
    {
     "name": "stderr",
     "output_type": "stream",
     "text": [
      "\r",
      "Testing: 82it [17:19, 12.09s/it]"
     ]
    },
    {
     "name": "stdout",
     "output_type": "stream",
     "text": [
      "Avg train loss: 15.4249\n",
      "There are 2000 users in the env now.\n",
      "Updating model...\n",
      "Avg train loss: 3.0322\n",
      "Avg train loss: 2.8396\n",
      "Avg train loss: 2.7169\n",
      "Avg train loss: 2.6278\n"
     ]
    },
    {
     "name": "stderr",
     "output_type": "stream",
     "text": [
      "\r",
      "Testing: 83it [17:31, 12.04s/it]"
     ]
    },
    {
     "name": "stdout",
     "output_type": "stream",
     "text": [
      "Avg train loss: 2.5574\n",
      "There are 2000 users in the env now.\n",
      "Updating model...\n",
      "Avg train loss: 2.6945\n",
      "Avg train loss: 2.5496\n",
      "Avg train loss: 2.4519\n",
      "Avg train loss: 2.3786\n"
     ]
    },
    {
     "name": "stderr",
     "output_type": "stream",
     "text": [
      "\r",
      "Testing: 84it [17:43, 12.01s/it]"
     ]
    },
    {
     "name": "stdout",
     "output_type": "stream",
     "text": [
      "Avg train loss: 2.3196\n",
      "There are 2000 users in the env now.\n",
      "Updating model...\n",
      "Avg train loss: 2.9602\n",
      "Avg train loss: 2.8762\n",
      "Avg train loss: 2.8033\n",
      "Avg train loss: 2.7413\n"
     ]
    },
    {
     "name": "stderr",
     "output_type": "stream",
     "text": [
      "\r",
      "Testing: 85it [17:55, 11.98s/it]"
     ]
    },
    {
     "name": "stdout",
     "output_type": "stream",
     "text": [
      "Avg train loss: 2.6876\n",
      "There are 2000 users in the env now.\n",
      "Updating model...\n",
      "Avg train loss: 15.4249\n",
      "Avg train loss: 15.4249\n",
      "Avg train loss: 15.4249\n",
      "Avg train loss: 15.4249\n"
     ]
    },
    {
     "name": "stderr",
     "output_type": "stream",
     "text": [
      "\r",
      "Testing: 86it [18:07, 11.98s/it]"
     ]
    },
    {
     "name": "stdout",
     "output_type": "stream",
     "text": [
      "Avg train loss: 15.4249\n",
      "There are 2000 users in the env now.\n",
      "Updating model...\n",
      "Avg train loss: 2.9785\n",
      "Avg train loss: 2.7943\n",
      "Avg train loss: 2.6757\n",
      "Avg train loss: 2.5891\n"
     ]
    },
    {
     "name": "stderr",
     "output_type": "stream",
     "text": [
      "\r",
      "Testing: 87it [18:19, 12.00s/it]"
     ]
    },
    {
     "name": "stdout",
     "output_type": "stream",
     "text": [
      "Avg train loss: 2.5205\n",
      "There are 2000 users in the env now.\n",
      "Updating model...\n",
      "Avg train loss: 2.3180\n",
      "Avg train loss: 2.2143\n",
      "Avg train loss: 2.1407\n",
      "Avg train loss: 2.0839\n"
     ]
    },
    {
     "name": "stderr",
     "output_type": "stream",
     "text": [
      "\r",
      "Testing: 88it [18:31, 12.02s/it]"
     ]
    },
    {
     "name": "stdout",
     "output_type": "stream",
     "text": [
      "Avg train loss: 2.0371\n",
      "There are 2000 users in the env now.\n",
      "Updating model...\n",
      "Avg train loss: 15.4249\n",
      "Avg train loss: 15.4249\n",
      "Avg train loss: 15.4249\n",
      "Avg train loss: 15.4249\n"
     ]
    },
    {
     "name": "stderr",
     "output_type": "stream",
     "text": [
      "\r",
      "Testing: 89it [18:43, 12.05s/it]"
     ]
    },
    {
     "name": "stdout",
     "output_type": "stream",
     "text": [
      "Avg train loss: 15.4249\n",
      "There are 2000 users in the env now.\n",
      "Updating model...\n",
      "Avg train loss: 2.6717\n",
      "Avg train loss: 2.5296\n",
      "Avg train loss: 2.4334\n",
      "Avg train loss: 2.3613\n"
     ]
    },
    {
     "name": "stderr",
     "output_type": "stream",
     "text": [
      "\r",
      "Testing: 90it [18:55, 12.12s/it]"
     ]
    },
    {
     "name": "stdout",
     "output_type": "stream",
     "text": [
      "Avg train loss: 2.3030\n",
      "There are 2000 users in the env now.\n",
      "Updating model...\n",
      "Avg train loss: 2.2231\n",
      "Avg train loss: 2.1280\n",
      "Avg train loss: 2.0598\n",
      "Avg train loss: 2.0067\n"
     ]
    },
    {
     "name": "stderr",
     "output_type": "stream",
     "text": [
      "\r",
      "Testing: 91it [19:07, 12.10s/it]"
     ]
    },
    {
     "name": "stdout",
     "output_type": "stream",
     "text": [
      "Avg train loss: 1.9629\n",
      "There are 2000 users in the env now.\n",
      "Updating model...\n",
      "Avg train loss: 3.1343\n",
      "Avg train loss: 2.9252\n",
      "Avg train loss: 2.7945\n",
      "Avg train loss: 2.7007\n"
     ]
    },
    {
     "name": "stderr",
     "output_type": "stream",
     "text": [
      "\r",
      "Testing: 92it [19:19, 12.16s/it]"
     ]
    },
    {
     "name": "stdout",
     "output_type": "stream",
     "text": [
      "Avg train loss: 2.6269\n",
      "There are 2000 users in the env now.\n",
      "Updating model...\n",
      "Avg train loss: 2.3124\n",
      "Avg train loss: 2.2092\n",
      "Avg train loss: 2.1360\n",
      "Avg train loss: 2.0794\n"
     ]
    },
    {
     "name": "stderr",
     "output_type": "stream",
     "text": [
      "\r",
      "Testing: 93it [19:32, 12.20s/it]"
     ]
    },
    {
     "name": "stdout",
     "output_type": "stream",
     "text": [
      "Avg train loss: 2.0328\n",
      "There are 2000 users in the env now.\n",
      "Updating model...\n",
      "Avg train loss: 15.4249\n",
      "Avg train loss: 15.4249\n",
      "Avg train loss: 15.4249\n",
      "Avg train loss: 15.4249\n"
     ]
    },
    {
     "name": "stderr",
     "output_type": "stream",
     "text": [
      "\r",
      "Testing: 94it [19:44, 12.26s/it]"
     ]
    },
    {
     "name": "stdout",
     "output_type": "stream",
     "text": [
      "Avg train loss: 15.4249\n",
      "There are 2000 users in the env now.\n",
      "Updating model...\n",
      "Avg train loss: 2.2911\n",
      "Avg train loss: 2.1899\n",
      "Avg train loss: 2.1178\n",
      "Avg train loss: 2.0621\n"
     ]
    },
    {
     "name": "stderr",
     "output_type": "stream",
     "text": [
      "\r",
      "Testing: 95it [19:56, 12.21s/it]"
     ]
    },
    {
     "name": "stdout",
     "output_type": "stream",
     "text": [
      "Avg train loss: 2.0162\n",
      "There are 2000 users in the env now.\n",
      "Updating model...\n",
      "Avg train loss: 2.4216\n",
      "Avg train loss: 2.3078\n",
      "Avg train loss: 2.2280\n",
      "Avg train loss: 2.1668\n"
     ]
    },
    {
     "name": "stderr",
     "output_type": "stream",
     "text": [
      "\r",
      "Testing: 96it [20:08, 12.19s/it]"
     ]
    },
    {
     "name": "stdout",
     "output_type": "stream",
     "text": [
      "Avg train loss: 2.1168\n",
      "There are 2000 users in the env now.\n",
      "Updating model...\n",
      "Avg train loss: 15.4249\n",
      "Avg train loss: 15.4249\n",
      "Avg train loss: 15.4249\n",
      "Avg train loss: 15.4249\n"
     ]
    },
    {
     "name": "stderr",
     "output_type": "stream",
     "text": [
      "\r",
      "Testing: 97it [20:21, 12.21s/it]"
     ]
    },
    {
     "name": "stdout",
     "output_type": "stream",
     "text": [
      "Avg train loss: 15.4249\n",
      "There are 2000 users in the env now.\n",
      "Updating model...\n",
      "Avg train loss: 15.4249\n",
      "Avg train loss: 15.4249\n",
      "Avg train loss: 15.4249\n",
      "Avg train loss: 15.4249\n"
     ]
    },
    {
     "name": "stderr",
     "output_type": "stream",
     "text": [
      "\r",
      "Testing: 98it [20:33, 12.17s/it]"
     ]
    },
    {
     "name": "stdout",
     "output_type": "stream",
     "text": [
      "Avg train loss: 15.4249\n",
      "There are 2000 users in the env now.\n",
      "Updating model...\n",
      "Avg train loss: 2.4051\n",
      "Avg train loss: 2.2929\n",
      "Avg train loss: 2.2141\n",
      "Avg train loss: 2.1537\n"
     ]
    },
    {
     "name": "stderr",
     "output_type": "stream",
     "text": [
      "\r",
      "Testing: 99it [20:45, 12.17s/it]"
     ]
    },
    {
     "name": "stdout",
     "output_type": "stream",
     "text": [
      "Avg train loss: 2.1042\n",
      "There are 2000 users in the env now.\n",
      "Updating model...\n",
      "Avg train loss: 15.4249\n",
      "Avg train loss: 15.4249\n",
      "Avg train loss: 15.4249\n",
      "Avg train loss: 15.4249\n"
     ]
    },
    {
     "name": "stderr",
     "output_type": "stream",
     "text": [
      "\r",
      "Testing: 100it [20:57, 12.17s/it]"
     ]
    },
    {
     "name": "stdout",
     "output_type": "stream",
     "text": [
      "Avg train loss: 15.4249\n",
      "There are 2000 users in the env now.\n",
      "Congratulations!\n"
     ]
    },
    {
     "name": "stderr",
     "output_type": "stream",
     "text": [
      "\r",
      "Testing: 101it [21:00,  9.26s/it]"
     ]
    },
    {
     "name": "stdout",
     "output_type": "stream",
     "text": [
      "Avg train loss: 0.0000\n",
      "\n",
      "There are 2000 users in the env now.\n",
      "Updating model...\n",
      "Avg train loss: 3.1781\n",
      "Avg train loss: 2.9616\n",
      "Avg train loss: 2.8275\n",
      "Avg train loss: 2.7316\n"
     ]
    },
    {
     "name": "stderr",
     "output_type": "stream",
     "text": [
      "\r",
      "Testing: 102it [21:12, 10.18s/it]"
     ]
    },
    {
     "name": "stdout",
     "output_type": "stream",
     "text": [
      "Avg train loss: 2.6564\n",
      "There are 2000 users in the env now.\n",
      "Updating model...\n",
      "Avg train loss: 2.1130\n",
      "Avg train loss: 2.0273\n",
      "Avg train loss: 1.9651\n",
      "Avg train loss: 1.9163\n"
     ]
    },
    {
     "name": "stderr",
     "output_type": "stream",
     "text": [
      "\r",
      "Testing: 103it [21:24, 10.82s/it]"
     ]
    },
    {
     "name": "stdout",
     "output_type": "stream",
     "text": [
      "Avg train loss: 1.8758\n",
      "There are 2000 users in the env now.\n",
      "Updating model...\n",
      "Avg train loss: 2.7186\n",
      "Avg train loss: 2.5706\n",
      "Avg train loss: 2.4712\n",
      "Avg train loss: 2.3968\n"
     ]
    },
    {
     "name": "stderr",
     "output_type": "stream",
     "text": [
      "\r",
      "Testing: 104it [21:36, 11.22s/it]"
     ]
    },
    {
     "name": "stdout",
     "output_type": "stream",
     "text": [
      "Avg train loss: 2.3370\n",
      "There are 2000 users in the env now.\n",
      "Updating model...\n",
      "Avg train loss: 15.4249\n",
      "Avg train loss: 15.4249\n",
      "Avg train loss: 15.4249\n",
      "Avg train loss: 15.4249\n"
     ]
    },
    {
     "name": "stderr",
     "output_type": "stream",
     "text": [
      "\r",
      "Testing: 105it [21:48, 11.47s/it]"
     ]
    },
    {
     "name": "stdout",
     "output_type": "stream",
     "text": [
      "Avg train loss: 15.4249\n",
      "There are 2000 users in the env now.\n",
      "Updating model...\n",
      "Avg train loss: 2.4664\n",
      "Avg train loss: 2.3479\n",
      "Avg train loss: 2.2653\n",
      "Avg train loss: 2.2022\n"
     ]
    },
    {
     "name": "stderr",
     "output_type": "stream",
     "text": [
      "\r",
      "Testing: 106it [22:00, 11.61s/it]"
     ]
    },
    {
     "name": "stdout",
     "output_type": "stream",
     "text": [
      "Avg train loss: 2.1508\n",
      "There are 2000 users in the env now.\n",
      "Updating model...\n",
      "Avg train loss: 3.7014\n",
      "Avg train loss: 3.3861\n",
      "Avg train loss: 3.2126\n",
      "Avg train loss: 3.0945\n"
     ]
    },
    {
     "name": "stderr",
     "output_type": "stream",
     "text": [
      "\r",
      "Testing: 107it [22:12, 11.71s/it]"
     ]
    },
    {
     "name": "stdout",
     "output_type": "stream",
     "text": [
      "Avg train loss: 3.0039\n",
      "There are 2000 users in the env now.\n",
      "Updating model...\n",
      "Avg train loss: 2.3834\n",
      "Avg train loss: 2.2734\n",
      "Avg train loss: 2.1960\n",
      "Avg train loss: 2.1364\n"
     ]
    },
    {
     "name": "stderr",
     "output_type": "stream",
     "text": [
      "\r",
      "Testing: 108it [22:24, 11.83s/it]"
     ]
    },
    {
     "name": "stdout",
     "output_type": "stream",
     "text": [
      "Avg train loss: 2.0876\n",
      "There are 2000 users in the env now.\n",
      "Updating model...\n",
      "Avg train loss: 15.4249\n",
      "Avg train loss: 15.4249\n",
      "Avg train loss: 15.4249\n",
      "Avg train loss: 15.4249\n"
     ]
    },
    {
     "name": "stderr",
     "output_type": "stream",
     "text": [
      "\r",
      "Testing: 109it [22:36, 11.88s/it]"
     ]
    },
    {
     "name": "stdout",
     "output_type": "stream",
     "text": [
      "Avg train loss: 15.4249\n",
      "There are 2000 users in the env now.\n",
      "Updating model...\n",
      "Avg train loss: 1.7787\n",
      "Avg train loss: 1.7159\n",
      "Avg train loss: 1.6689\n",
      "Avg train loss: 1.6314\n"
     ]
    },
    {
     "name": "stderr",
     "output_type": "stream",
     "text": [
      "\r",
      "Testing: 110it [22:49, 11.96s/it]"
     ]
    },
    {
     "name": "stdout",
     "output_type": "stream",
     "text": [
      "Avg train loss: 1.5998\n",
      "There are 2000 users in the env now.\n",
      "Updating model...\n",
      "Avg train loss: 3.1039\n",
      "Avg train loss: 2.8998\n",
      "Avg train loss: 2.7716\n",
      "Avg train loss: 2.6791\n"
     ]
    },
    {
     "name": "stderr",
     "output_type": "stream",
     "text": [
      "\r",
      "Testing: 111it [23:01, 12.00s/it]"
     ]
    },
    {
     "name": "stdout",
     "output_type": "stream",
     "text": [
      "Avg train loss: 2.6063\n",
      "There are 2000 users in the env now.\n",
      "Updating model...\n",
      "Avg train loss: 4.6678\n",
      "Avg train loss: 4.2594\n",
      "Avg train loss: 4.0722\n",
      "Avg train loss: 3.9459\n"
     ]
    },
    {
     "name": "stderr",
     "output_type": "stream",
     "text": [
      "\r",
      "Testing: 112it [23:13, 12.04s/it]"
     ]
    },
    {
     "name": "stdout",
     "output_type": "stream",
     "text": [
      "Avg train loss: 3.8477\n",
      "There are 2000 users in the env now.\n",
      "Updating model...\n",
      "Avg train loss: 2.4916\n",
      "Avg train loss: 2.3704\n",
      "Avg train loss: 2.2862\n",
      "Avg train loss: 2.2221\n"
     ]
    },
    {
     "name": "stderr",
     "output_type": "stream",
     "text": [
      "\r",
      "Testing: 113it [23:25, 12.04s/it]"
     ]
    },
    {
     "name": "stdout",
     "output_type": "stream",
     "text": [
      "Avg train loss: 2.1698\n",
      "There are 2000 users in the env now.\n",
      "Updating model...\n",
      "Avg train loss: 15.4249\n",
      "Avg train loss: 15.4249\n",
      "Avg train loss: 15.4249\n",
      "Avg train loss: 15.4249\n"
     ]
    },
    {
     "name": "stderr",
     "output_type": "stream",
     "text": [
      "\r",
      "Testing: 114it [23:37, 12.03s/it]"
     ]
    },
    {
     "name": "stdout",
     "output_type": "stream",
     "text": [
      "Avg train loss: 15.4249\n",
      "There are 2000 users in the env now.\n",
      "Updating model...\n",
      "Avg train loss: 3.1222\n",
      "Avg train loss: 2.9152\n",
      "Avg train loss: 2.7854\n",
      "Avg train loss: 2.6921\n"
     ]
    },
    {
     "name": "stderr",
     "output_type": "stream",
     "text": [
      "\r",
      "Testing: 115it [23:49, 12.07s/it]"
     ]
    },
    {
     "name": "stdout",
     "output_type": "stream",
     "text": [
      "Avg train loss: 2.6187\n",
      "There are 2000 users in the env now.\n",
      "Updating model...\n",
      "Avg train loss: 15.4249\n",
      "Avg train loss: 15.4249\n",
      "Avg train loss: 15.4249\n",
      "Avg train loss: 15.4249\n"
     ]
    },
    {
     "name": "stderr",
     "output_type": "stream",
     "text": [
      "\r",
      "Testing: 116it [24:01, 12.06s/it]"
     ]
    },
    {
     "name": "stdout",
     "output_type": "stream",
     "text": [
      "Avg train loss: 15.4249\n",
      "There are 2000 users in the env now.\n",
      "Updating model...\n",
      "Avg train loss: 1.9291\n",
      "Avg train loss: 1.8567\n",
      "Avg train loss: 1.8033\n",
      "Avg train loss: 1.7609\n"
     ]
    },
    {
     "name": "stderr",
     "output_type": "stream",
     "text": [
      "\r",
      "Testing: 117it [24:13, 12.03s/it]"
     ]
    },
    {
     "name": "stdout",
     "output_type": "stream",
     "text": [
      "Avg train loss: 1.7254\n",
      "There are 2000 users in the env now.\n",
      "Updating model...\n",
      "Avg train loss: 15.4249\n",
      "Avg train loss: 15.4249\n",
      "Avg train loss: 15.4249\n",
      "Avg train loss: 15.4249\n"
     ]
    },
    {
     "name": "stderr",
     "output_type": "stream",
     "text": [
      "\r",
      "Testing: 118it [24:25, 12.04s/it]"
     ]
    },
    {
     "name": "stdout",
     "output_type": "stream",
     "text": [
      "Avg train loss: 15.4249\n",
      "There are 2000 users in the env now.\n",
      "Updating model...\n",
      "Avg train loss: 15.4249\n",
      "Avg train loss: 15.4249\n",
      "Avg train loss: 15.4249\n",
      "Avg train loss: 15.4249\n"
     ]
    },
    {
     "name": "stderr",
     "output_type": "stream",
     "text": [
      "\r",
      "Testing: 119it [24:37, 12.07s/it]"
     ]
    },
    {
     "name": "stdout",
     "output_type": "stream",
     "text": [
      "Avg train loss: 15.4249\n",
      "There are 2000 users in the env now.\n",
      "Updating model...\n",
      "Avg train loss: 15.4249\n",
      "Avg train loss: 15.4249\n",
      "Avg train loss: 15.4249\n",
      "Avg train loss: 15.4249\n"
     ]
    },
    {
     "name": "stderr",
     "output_type": "stream",
     "text": [
      "\r",
      "Testing: 120it [24:49, 12.04s/it]"
     ]
    },
    {
     "name": "stdout",
     "output_type": "stream",
     "text": [
      "Avg train loss: 15.4249\n",
      "There are 2000 users in the env now.\n",
      "Updating model...\n",
      "Avg train loss: 15.4249\n",
      "Avg train loss: 15.4249\n",
      "Avg train loss: 15.4249\n",
      "Avg train loss: 15.4249\n"
     ]
    },
    {
     "name": "stderr",
     "output_type": "stream",
     "text": [
      "\r",
      "Testing: 121it [25:01, 12.05s/it]"
     ]
    },
    {
     "name": "stdout",
     "output_type": "stream",
     "text": [
      "Avg train loss: 15.4249\n",
      "There are 2000 users in the env now.\n",
      "Updating model...\n",
      "Avg train loss: 3.2416\n",
      "Avg train loss: 3.0141\n",
      "Avg train loss: 2.8751\n",
      "Avg train loss: 2.7762\n"
     ]
    },
    {
     "name": "stderr",
     "output_type": "stream",
     "text": [
      "\r",
      "Testing: 122it [25:13, 12.04s/it]"
     ]
    },
    {
     "name": "stdout",
     "output_type": "stream",
     "text": [
      "Avg train loss: 2.6989\n",
      "There are 2000 users in the env now.\n",
      "Updating model...\n",
      "Avg train loss: 3.6401\n",
      "Avg train loss: 3.3370\n",
      "Avg train loss: 3.1678\n",
      "Avg train loss: 3.0519\n"
     ]
    },
    {
     "name": "stderr",
     "output_type": "stream",
     "text": [
      "\r",
      "Testing: 123it [25:25, 12.03s/it]"
     ]
    },
    {
     "name": "stdout",
     "output_type": "stream",
     "text": [
      "Avg train loss: 2.9629\n",
      "There are 2000 users in the env now.\n",
      "Updating model...\n",
      "Avg train loss: 2.4322\n",
      "Avg train loss: 2.3173\n",
      "Avg train loss: 2.2368\n",
      "Avg train loss: 2.1752\n"
     ]
    },
    {
     "name": "stderr",
     "output_type": "stream",
     "text": [
      "\r",
      "Testing: 124it [25:37, 12.07s/it]"
     ]
    },
    {
     "name": "stdout",
     "output_type": "stream",
     "text": [
      "Avg train loss: 2.1249\n",
      "There are 2000 users in the env now.\n",
      "Updating model...\n",
      "Avg train loss: 3.3488\n",
      "Avg train loss: 3.1020\n",
      "Avg train loss: 2.9546\n",
      "Avg train loss: 2.8508\n"
     ]
    },
    {
     "name": "stderr",
     "output_type": "stream",
     "text": [
      "\r",
      "Testing: 125it [25:50, 12.09s/it]"
     ]
    },
    {
     "name": "stdout",
     "output_type": "stream",
     "text": [
      "Avg train loss: 2.7702\n",
      "There are 2000 users in the env now.\n",
      "Updating model...\n",
      "Avg train loss: 2.0008\n",
      "Avg train loss: 1.9233\n",
      "Avg train loss: 1.8665\n",
      "Avg train loss: 1.8217\n"
     ]
    },
    {
     "name": "stderr",
     "output_type": "stream",
     "text": [
      "\r",
      "Testing: 126it [26:02, 12.07s/it]"
     ]
    },
    {
     "name": "stdout",
     "output_type": "stream",
     "text": [
      "Avg train loss: 1.7843\n",
      "There are 2000 users in the env now.\n",
      "Updating model...\n",
      "Avg train loss: 15.4249\n",
      "Avg train loss: 15.4249\n",
      "Avg train loss: 15.4249\n",
      "Avg train loss: 15.4249\n"
     ]
    },
    {
     "name": "stderr",
     "output_type": "stream",
     "text": [
      "\r",
      "Testing: 127it [26:14, 12.07s/it]"
     ]
    },
    {
     "name": "stdout",
     "output_type": "stream",
     "text": [
      "Avg train loss: 15.4249\n",
      "There are 2000 users in the env now.\n",
      "Updating model...\n",
      "Avg train loss: 15.4249\n",
      "Avg train loss: 15.4249\n",
      "Avg train loss: 15.4249\n",
      "Avg train loss: 15.4249\n"
     ]
    },
    {
     "name": "stderr",
     "output_type": "stream",
     "text": [
      "\r",
      "Testing: 128it [26:26, 12.09s/it]"
     ]
    },
    {
     "name": "stdout",
     "output_type": "stream",
     "text": [
      "Avg train loss: 15.4249\n",
      "There are 2000 users in the env now.\n",
      "Updating model...\n",
      "Avg train loss: 2.8562\n",
      "Avg train loss: 2.6898\n",
      "Avg train loss: 2.5804\n",
      "Avg train loss: 2.4996\n"
     ]
    },
    {
     "name": "stderr",
     "output_type": "stream",
     "text": [
      "\r",
      "Testing: 129it [26:38, 12.09s/it]"
     ]
    },
    {
     "name": "stdout",
     "output_type": "stream",
     "text": [
      "Avg train loss: 2.4352\n",
      "There are 2000 users in the env now.\n",
      "Updating model...\n",
      "Avg train loss: 15.4249\n",
      "Avg train loss: 15.4249\n",
      "Avg train loss: 15.4249\n",
      "Avg train loss: 15.4249\n"
     ]
    },
    {
     "name": "stderr",
     "output_type": "stream",
     "text": [
      "\r",
      "Testing: 130it [26:50, 12.10s/it]"
     ]
    },
    {
     "name": "stdout",
     "output_type": "stream",
     "text": [
      "Avg train loss: 15.4249\n",
      "There are 2000 users in the env now.\n",
      "Updating model...\n",
      "Avg train loss: 2.1261\n",
      "Avg train loss: 2.0391\n",
      "Avg train loss: 1.9761\n",
      "Avg train loss: 1.9268\n"
     ]
    },
    {
     "name": "stderr",
     "output_type": "stream",
     "text": [
      "\r",
      "Testing: 131it [27:02, 12.13s/it]"
     ]
    },
    {
     "name": "stdout",
     "output_type": "stream",
     "text": [
      "Avg train loss: 1.8858\n",
      "There are 2000 users in the env now.\n",
      "Congratulations!\n"
     ]
    },
    {
     "name": "stderr",
     "output_type": "stream",
     "text": [
      "\r",
      "Testing: 132it [27:05,  9.22s/it]"
     ]
    },
    {
     "name": "stdout",
     "output_type": "stream",
     "text": [
      "Avg train loss: 0.0000\n",
      "\n",
      "There are 2000 users in the env now.\n",
      "Updating model...\n",
      "Avg train loss: 15.4249\n",
      "Avg train loss: 15.4249\n",
      "Avg train loss: 15.4249\n",
      "Avg train loss: 15.4249\n"
     ]
    },
    {
     "name": "stderr",
     "output_type": "stream",
     "text": [
      "\r",
      "Testing: 133it [27:17, 10.05s/it]"
     ]
    },
    {
     "name": "stdout",
     "output_type": "stream",
     "text": [
      "Avg train loss: 15.4249\n",
      "There are 2000 users in the env now.\n",
      "Updating model...\n",
      "Avg train loss: 15.4249\n",
      "Avg train loss: 15.4249\n",
      "Avg train loss: 15.4249\n",
      "Avg train loss: 15.4249\n"
     ]
    },
    {
     "name": "stderr",
     "output_type": "stream",
     "text": [
      "\r",
      "Testing: 134it [27:29, 10.66s/it]"
     ]
    },
    {
     "name": "stdout",
     "output_type": "stream",
     "text": [
      "Avg train loss: 15.4249\n",
      "There are 2000 users in the env now.\n",
      "Updating model...\n",
      "Avg train loss: 4.3803\n",
      "Avg train loss: 3.9621\n",
      "Avg train loss: 3.7649\n",
      "Avg train loss: 3.6340\n"
     ]
    },
    {
     "name": "stderr",
     "output_type": "stream",
     "text": [
      "\r",
      "Testing: 135it [27:41, 11.08s/it]"
     ]
    },
    {
     "name": "stdout",
     "output_type": "stream",
     "text": [
      "Avg train loss: 3.5338\n",
      "There are 2000 users in the env now.\n",
      "Updating model...\n",
      "Avg train loss: 2.8658\n",
      "Avg train loss: 2.6981\n",
      "Avg train loss: 2.5879\n",
      "Avg train loss: 2.5067\n"
     ]
    },
    {
     "name": "stderr",
     "output_type": "stream",
     "text": [
      "\r",
      "Testing: 136it [27:53, 11.43s/it]"
     ]
    },
    {
     "name": "stdout",
     "output_type": "stream",
     "text": [
      "Avg train loss: 2.4420\n",
      "There are 2000 users in the env now.\n",
      "Updating model...\n",
      "Avg train loss: 3.7165\n",
      "Avg train loss: 3.3982\n",
      "Avg train loss: 3.2237\n",
      "Avg train loss: 3.1050\n"
     ]
    },
    {
     "name": "stderr",
     "output_type": "stream",
     "text": [
      "\r",
      "Testing: 137it [28:05, 11.67s/it]"
     ]
    },
    {
     "name": "stdout",
     "output_type": "stream",
     "text": [
      "Avg train loss: 3.0141\n",
      "There are 2000 users in the env now.\n",
      "Updating model...\n",
      "Avg train loss: 15.4249\n",
      "Avg train loss: 15.4249\n",
      "Avg train loss: 15.4249\n",
      "Avg train loss: 15.4249\n"
     ]
    },
    {
     "name": "stderr",
     "output_type": "stream",
     "text": [
      "\r",
      "Testing: 138it [28:17, 11.76s/it]"
     ]
    },
    {
     "name": "stdout",
     "output_type": "stream",
     "text": [
      "Avg train loss: 15.4249\n",
      "There are 2000 users in the env now.\n",
      "Updating model...\n",
      "Avg train loss: 15.4249\n",
      "Avg train loss: 15.4249\n",
      "Avg train loss: 15.4249\n",
      "Avg train loss: 15.4249\n"
     ]
    },
    {
     "name": "stderr",
     "output_type": "stream",
     "text": [
      "\r",
      "Testing: 139it [28:29, 11.82s/it]"
     ]
    },
    {
     "name": "stdout",
     "output_type": "stream",
     "text": [
      "Avg train loss: 15.4249\n",
      "There are 2000 users in the env now.\n",
      "Updating model...\n",
      "Avg train loss: 2.0471\n",
      "Avg train loss: 1.9663\n",
      "Avg train loss: 1.9073\n",
      "Avg train loss: 1.8608\n"
     ]
    },
    {
     "name": "stderr",
     "output_type": "stream",
     "text": [
      "\r",
      "Testing: 140it [28:41, 11.88s/it]"
     ]
    },
    {
     "name": "stdout",
     "output_type": "stream",
     "text": [
      "Avg train loss: 1.8221\n",
      "There are 2000 users in the env now.\n",
      "Updating model...\n",
      "Avg train loss: 15.4249\n",
      "Avg train loss: 15.4249\n",
      "Avg train loss: 15.4249\n",
      "Avg train loss: 15.4249\n"
     ]
    },
    {
     "name": "stderr",
     "output_type": "stream",
     "text": [
      "\r",
      "Testing: 141it [28:53, 11.92s/it]"
     ]
    },
    {
     "name": "stdout",
     "output_type": "stream",
     "text": [
      "Avg train loss: 15.4249\n",
      "There are 2000 users in the env now.\n",
      "Updating model...\n",
      "Avg train loss: 15.4249\n",
      "Avg train loss: 15.4249\n",
      "Avg train loss: 15.4249\n",
      "Avg train loss: 15.4249\n"
     ]
    },
    {
     "name": "stderr",
     "output_type": "stream",
     "text": [
      "\r",
      "Testing: 142it [29:05, 11.98s/it]"
     ]
    },
    {
     "name": "stdout",
     "output_type": "stream",
     "text": [
      "Avg train loss: 15.4249\n",
      "There are 2000 users in the env now.\n",
      "Updating model...\n",
      "Avg train loss: 15.4249\n",
      "Avg train loss: 15.4249\n",
      "Avg train loss: 15.4249\n",
      "Avg train loss: 15.4249\n"
     ]
    },
    {
     "name": "stderr",
     "output_type": "stream",
     "text": [
      "\r",
      "Testing: 143it [29:17, 11.97s/it]"
     ]
    },
    {
     "name": "stdout",
     "output_type": "stream",
     "text": [
      "Avg train loss: 15.4249\n",
      "There are 2000 users in the env now.\n",
      "Updating model...\n",
      "Avg train loss: 3.5211\n",
      "Avg train loss: 3.2415\n",
      "Avg train loss: 3.0809\n",
      "Avg train loss: 2.9697\n"
     ]
    },
    {
     "name": "stderr",
     "output_type": "stream",
     "text": [
      "\r",
      "Testing: 144it [29:29, 11.99s/it]"
     ]
    },
    {
     "name": "stdout",
     "output_type": "stream",
     "text": [
      "Avg train loss: 2.8840\n",
      "There are 2000 users in the env now.\n",
      "Updating model...\n",
      "Avg train loss: 15.4249\n",
      "Avg train loss: 15.4249\n",
      "Avg train loss: 15.4249\n",
      "Avg train loss: 15.4249\n"
     ]
    },
    {
     "name": "stderr",
     "output_type": "stream",
     "text": [
      "\r",
      "Testing: 145it [29:41, 12.02s/it]"
     ]
    },
    {
     "name": "stdout",
     "output_type": "stream",
     "text": [
      "Avg train loss: 15.4249\n",
      "There are 2000 users in the env now.\n",
      "Updating model...\n",
      "Avg train loss: 2.7170\n",
      "Avg train loss: 2.5693\n",
      "Avg train loss: 2.4699\n",
      "Avg train loss: 2.3956\n"
     ]
    },
    {
     "name": "stderr",
     "output_type": "stream",
     "text": [
      "\r",
      "Testing: 146it [29:53, 12.02s/it]"
     ]
    },
    {
     "name": "stdout",
     "output_type": "stream",
     "text": [
      "Avg train loss: 2.3359\n",
      "There are 2000 users in the env now.\n",
      "Updating model...\n",
      "Avg train loss: 4.3342\n",
      "Avg train loss: 3.9184\n",
      "Avg train loss: 3.7208\n",
      "Avg train loss: 3.5898\n"
     ]
    },
    {
     "name": "stderr",
     "output_type": "stream",
     "text": [
      "\r",
      "Testing: 147it [30:05, 12.00s/it]"
     ]
    },
    {
     "name": "stdout",
     "output_type": "stream",
     "text": [
      "Avg train loss: 3.4897\n",
      "There are 2000 users in the env now.\n",
      "Updating model...\n",
      "Avg train loss: 15.4249\n",
      "Avg train loss: 15.4249\n",
      "Avg train loss: 15.4249\n",
      "Avg train loss: 15.4249\n"
     ]
    },
    {
     "name": "stderr",
     "output_type": "stream",
     "text": [
      "\r",
      "Testing: 148it [30:17, 11.97s/it]"
     ]
    },
    {
     "name": "stdout",
     "output_type": "stream",
     "text": [
      "Avg train loss: 15.4249\n",
      "There are 2000 users in the env now.\n",
      "Updating model...\n",
      "Avg train loss: 3.0445\n",
      "Avg train loss: 2.8500\n",
      "Avg train loss: 2.7263\n",
      "Avg train loss: 2.6367\n"
     ]
    },
    {
     "name": "stderr",
     "output_type": "stream",
     "text": [
      "\r",
      "Testing: 149it [30:29, 11.99s/it]"
     ]
    },
    {
     "name": "stdout",
     "output_type": "stream",
     "text": [
      "Avg train loss: 2.5659\n",
      "There are 2000 users in the env now.\n",
      "Updating model...\n",
      "Avg train loss: 3.4951\n",
      "Avg train loss: 3.2206\n",
      "Avg train loss: 3.0619\n",
      "Avg train loss: 2.9518\n"
     ]
    },
    {
     "name": "stderr",
     "output_type": "stream",
     "text": [
      "\r",
      "Testing: 150it [30:41, 12.07s/it]"
     ]
    },
    {
     "name": "stdout",
     "output_type": "stream",
     "text": [
      "Avg train loss: 2.8668\n",
      "There are 2000 users in the env now.\n",
      "Updating model...\n",
      "Avg train loss: 15.4249\n",
      "Avg train loss: 15.4249\n",
      "Avg train loss: 15.4249\n",
      "Avg train loss: 15.4249\n"
     ]
    },
    {
     "name": "stderr",
     "output_type": "stream",
     "text": [
      "\r",
      "Testing: 151it [30:53, 12.04s/it]"
     ]
    },
    {
     "name": "stdout",
     "output_type": "stream",
     "text": [
      "Avg train loss: 15.4249\n",
      "There are 2000 users in the env now.\n",
      "Updating model...\n",
      "Avg train loss: 15.4249\n",
      "Avg train loss: 15.4249\n",
      "Avg train loss: 15.4249\n",
      "Avg train loss: 15.4249\n"
     ]
    },
    {
     "name": "stderr",
     "output_type": "stream",
     "text": [
      "\r",
      "Testing: 152it [31:05, 11.99s/it]"
     ]
    },
    {
     "name": "stdout",
     "output_type": "stream",
     "text": [
      "Avg train loss: 15.4249\n",
      "There are 2000 users in the env now.\n",
      "Updating model...\n",
      "Avg train loss: 15.4249\n",
      "Avg train loss: 15.4249\n",
      "Avg train loss: 15.4249\n",
      "Avg train loss: 15.4249\n"
     ]
    },
    {
     "name": "stderr",
     "output_type": "stream",
     "text": [
      "\r",
      "Testing: 153it [31:17, 11.98s/it]"
     ]
    },
    {
     "name": "stdout",
     "output_type": "stream",
     "text": [
      "Avg train loss: 15.4249\n",
      "There are 2000 users in the env now.\n",
      "Updating model...\n",
      "Avg train loss: 15.4249\n",
      "Avg train loss: 15.4249\n",
      "Avg train loss: 15.4249\n",
      "Avg train loss: 15.4249\n"
     ]
    },
    {
     "name": "stderr",
     "output_type": "stream",
     "text": [
      "\r",
      "Testing: 154it [31:30, 12.10s/it]"
     ]
    },
    {
     "name": "stdout",
     "output_type": "stream",
     "text": [
      "Avg train loss: 15.4249\n",
      "There are 2000 users in the env now.\n",
      "Updating model...\n",
      "Avg train loss: 15.4249\n",
      "Avg train loss: 15.4249\n",
      "Avg train loss: 15.4249\n",
      "Avg train loss: 15.4249\n"
     ]
    },
    {
     "name": "stderr",
     "output_type": "stream",
     "text": [
      "\r",
      "Testing: 155it [31:42, 12.07s/it]"
     ]
    },
    {
     "name": "stdout",
     "output_type": "stream",
     "text": [
      "Avg train loss: 15.4249\n",
      "There are 2000 users in the env now.\n",
      "Updating model...\n",
      "Avg train loss: 2.7900\n",
      "Avg train loss: 2.6327\n",
      "Avg train loss: 2.5281\n",
      "Avg train loss: 2.4505\n"
     ]
    },
    {
     "name": "stderr",
     "output_type": "stream",
     "text": [
      "\r",
      "Testing: 156it [31:54, 12.03s/it]"
     ]
    },
    {
     "name": "stdout",
     "output_type": "stream",
     "text": [
      "Avg train loss: 2.3883\n",
      "There are 2000 users in the env now.\n",
      "Updating model...\n",
      "Avg train loss: 2.6137\n",
      "Avg train loss: 2.4787\n",
      "Avg train loss: 2.3865\n",
      "Avg train loss: 2.3169\n"
     ]
    },
    {
     "name": "stderr",
     "output_type": "stream",
     "text": [
      "\r",
      "Testing: 157it [32:06, 12.07s/it]"
     ]
    },
    {
     "name": "stdout",
     "output_type": "stream",
     "text": [
      "Avg train loss: 2.2606\n",
      "There are 2000 users in the env now.\n",
      "Updating model...\n",
      "Avg train loss: 2.2130\n",
      "Avg train loss: 2.1716\n",
      "Avg train loss: 2.1348\n",
      "Avg train loss: 2.1016\n"
     ]
    },
    {
     "name": "stderr",
     "output_type": "stream",
     "text": [
      "\r",
      "Testing: 158it [32:18, 12.06s/it]"
     ]
    },
    {
     "name": "stdout",
     "output_type": "stream",
     "text": [
      "Avg train loss: 2.0713\n",
      "There are 2000 users in the env now.\n",
      "Updating model...\n",
      "Avg train loss: 2.1964\n",
      "Avg train loss: 2.1036\n",
      "Avg train loss: 2.0368\n",
      "Avg train loss: 1.9848\n"
     ]
    },
    {
     "name": "stderr",
     "output_type": "stream",
     "text": [
      "\r",
      "Testing: 159it [32:30, 12.14s/it]"
     ]
    },
    {
     "name": "stdout",
     "output_type": "stream",
     "text": [
      "Avg train loss: 1.9418\n",
      "There are 2000 users in the env now.\n",
      "Updating model...\n",
      "Avg train loss: 3.8404\n",
      "Avg train loss: 3.4976\n",
      "Avg train loss: 3.3154\n",
      "Avg train loss: 3.1926\n"
     ]
    },
    {
     "name": "stderr",
     "output_type": "stream",
     "text": [
      "\r",
      "Testing: 160it [32:42, 12.11s/it]"
     ]
    },
    {
     "name": "stdout",
     "output_type": "stream",
     "text": [
      "Avg train loss: 3.0988\n",
      "There are 2000 users in the env now.\n",
      "Updating model...\n",
      "Avg train loss: 3.3363\n",
      "Avg train loss: 3.0919\n",
      "Avg train loss: 2.9454\n",
      "Avg train loss: 2.8422\n"
     ]
    },
    {
     "name": "stderr",
     "output_type": "stream",
     "text": [
      "\r",
      "Testing: 161it [32:54, 12.08s/it]"
     ]
    },
    {
     "name": "stdout",
     "output_type": "stream",
     "text": [
      "Avg train loss: 2.7619\n",
      "There are 2000 users in the env now.\n",
      "Updating model...\n",
      "Avg train loss: 2.7113\n",
      "Avg train loss: 2.5643\n",
      "Avg train loss: 2.4654\n",
      "Avg train loss: 2.3914\n"
     ]
    },
    {
     "name": "stderr",
     "output_type": "stream",
     "text": [
      "\r",
      "Testing: 162it [33:07, 12.18s/it]"
     ]
    },
    {
     "name": "stdout",
     "output_type": "stream",
     "text": [
      "Avg train loss: 2.3318\n",
      "There are 2000 users in the env now.\n",
      "Updating model...\n",
      "Avg train loss: 3.2311\n",
      "Avg train loss: 3.0055\n",
      "Avg train loss: 2.8673\n",
      "Avg train loss: 2.7689\n"
     ]
    },
    {
     "name": "stderr",
     "output_type": "stream",
     "text": [
      "\r",
      "Testing: 163it [33:19, 12.11s/it]"
     ]
    },
    {
     "name": "stdout",
     "output_type": "stream",
     "text": [
      "Avg train loss: 2.6919\n",
      "There are 2000 users in the env now.\n",
      "Updating model...\n",
      "Avg train loss: 15.4249\n",
      "Avg train loss: 15.4249\n",
      "Avg train loss: 15.4249\n",
      "Avg train loss: 15.4249\n"
     ]
    },
    {
     "name": "stderr",
     "output_type": "stream",
     "text": [
      "\r",
      "Testing: 164it [33:31, 12.08s/it]"
     ]
    },
    {
     "name": "stdout",
     "output_type": "stream",
     "text": [
      "Avg train loss: 15.4249\n",
      "There are 2000 users in the env now.\n",
      "Updating model...\n",
      "Avg train loss: 3.4418\n",
      "Avg train loss: 3.1775\n",
      "Avg train loss: 3.0229\n",
      "Avg train loss: 2.9151\n"
     ]
    },
    {
     "name": "stderr",
     "output_type": "stream",
     "text": [
      "\r",
      "Testing: 165it [33:43, 12.13s/it]"
     ]
    },
    {
     "name": "stdout",
     "output_type": "stream",
     "text": [
      "Avg train loss: 2.8316\n",
      "There are 2000 users in the env now.\n",
      "Updating model...\n",
      "Avg train loss: 1.8613\n",
      "Avg train loss: 1.7933\n",
      "Avg train loss: 1.7429\n",
      "Avg train loss: 1.7028\n"
     ]
    },
    {
     "name": "stderr",
     "output_type": "stream",
     "text": [
      "\r",
      "Testing: 166it [33:55, 12.05s/it]"
     ]
    },
    {
     "name": "stdout",
     "output_type": "stream",
     "text": [
      "Avg train loss: 1.6691\n",
      "There are 2000 users in the env now.\n",
      "Updating model...\n",
      "Avg train loss: 3.9468\n",
      "Avg train loss: 3.5838\n",
      "Avg train loss: 3.3958\n",
      "Avg train loss: 3.2700\n"
     ]
    },
    {
     "name": "stderr",
     "output_type": "stream",
     "text": [
      "\r",
      "Testing: 167it [34:07, 11.99s/it]"
     ]
    },
    {
     "name": "stdout",
     "output_type": "stream",
     "text": [
      "Avg train loss: 3.1741\n",
      "There are 2000 users in the env now.\n",
      "Updating model...\n",
      "Avg train loss: 4.2970\n",
      "Avg train loss: 3.8839\n",
      "Avg train loss: 3.6862\n",
      "Avg train loss: 3.5552\n"
     ]
    },
    {
     "name": "stderr",
     "output_type": "stream",
     "text": [
      "\r",
      "Testing: 168it [34:19, 12.15s/it]"
     ]
    },
    {
     "name": "stdout",
     "output_type": "stream",
     "text": [
      "Avg train loss: 3.4553\n",
      "There are 2000 users in the env now.\n",
      "Updating model...\n",
      "Avg train loss: 2.8430\n",
      "Avg train loss: 2.6785\n",
      "Avg train loss: 2.5700\n",
      "Avg train loss: 2.4899\n"
     ]
    },
    {
     "name": "stderr",
     "output_type": "stream",
     "text": [
      "\r",
      "Testing: 169it [34:31, 12.07s/it]"
     ]
    },
    {
     "name": "stdout",
     "output_type": "stream",
     "text": [
      "Avg train loss: 2.4259\n",
      "There are 2000 users in the env now.\n",
      "Updating model...\n",
      "Avg train loss: 3.8121\n",
      "Avg train loss: 3.4748\n",
      "Avg train loss: 3.2943\n",
      "Avg train loss: 3.1723\n"
     ]
    },
    {
     "name": "stderr",
     "output_type": "stream",
     "text": [
      "\r",
      "Testing: 170it [34:43, 12.04s/it]"
     ]
    },
    {
     "name": "stdout",
     "output_type": "stream",
     "text": [
      "Avg train loss: 3.0792\n",
      "There are 2000 users in the env now.\n",
      "Updating model...\n",
      "Avg train loss: 2.1128\n",
      "Avg train loss: 2.0269\n",
      "Avg train loss: 1.9646\n",
      "Avg train loss: 1.9157\n"
     ]
    },
    {
     "name": "stderr",
     "output_type": "stream",
     "text": [
      "\r",
      "Testing: 171it [34:55, 12.13s/it]"
     ]
    },
    {
     "name": "stdout",
     "output_type": "stream",
     "text": [
      "Avg train loss: 1.8752\n",
      "There are 2000 users in the env now.\n",
      "Updating model...\n",
      "Avg train loss: 15.4249\n",
      "Avg train loss: 15.4249\n",
      "Avg train loss: 15.4249\n",
      "Avg train loss: 15.4249\n"
     ]
    },
    {
     "name": "stderr",
     "output_type": "stream",
     "text": [
      "\r",
      "Testing: 172it [35:07, 12.08s/it]"
     ]
    },
    {
     "name": "stdout",
     "output_type": "stream",
     "text": [
      "Avg train loss: 15.4249\n",
      "There are 2000 users in the env now.\n",
      "Updating model...\n",
      "Avg train loss: 15.4249\n",
      "Avg train loss: 15.4249\n",
      "Avg train loss: 15.4249\n",
      "Avg train loss: 15.4249\n"
     ]
    },
    {
     "name": "stderr",
     "output_type": "stream",
     "text": [
      "\r",
      "Testing: 173it [35:19, 12.05s/it]"
     ]
    },
    {
     "name": "stdout",
     "output_type": "stream",
     "text": [
      "Avg train loss: 15.4249\n",
      "There are 2000 users in the env now.\n",
      "Updating model...\n",
      "Avg train loss: 3.4536\n",
      "Avg train loss: 3.1871\n",
      "Avg train loss: 3.0316\n",
      "Avg train loss: 2.9233\n"
     ]
    },
    {
     "name": "stderr",
     "output_type": "stream",
     "text": [
      "\r",
      "Testing: 174it [35:32, 12.15s/it]"
     ]
    },
    {
     "name": "stdout",
     "output_type": "stream",
     "text": [
      "Avg train loss: 2.8394\n",
      "There are 2000 users in the env now.\n",
      "Updating model...\n",
      "Avg train loss: 2.1894\n",
      "Avg train loss: 2.0972\n",
      "Avg train loss: 2.0308\n",
      "Avg train loss: 1.9791\n"
     ]
    },
    {
     "name": "stderr",
     "output_type": "stream",
     "text": [
      "\r",
      "Testing: 175it [35:44, 12.12s/it]"
     ]
    },
    {
     "name": "stdout",
     "output_type": "stream",
     "text": [
      "Avg train loss: 1.9363\n",
      "There are 2000 users in the env now.\n",
      "Updating model...\n",
      "Avg train loss: 15.4249\n",
      "Avg train loss: 15.4249\n",
      "Avg train loss: 15.4249\n",
      "Avg train loss: 15.4249\n"
     ]
    },
    {
     "name": "stderr",
     "output_type": "stream",
     "text": [
      "\r",
      "Testing: 176it [35:55, 12.06s/it]"
     ]
    },
    {
     "name": "stdout",
     "output_type": "stream",
     "text": [
      "Avg train loss: 15.4249\n",
      "There are 2000 users in the env now.\n",
      "Updating model...\n",
      "Avg train loss: 15.4249\n",
      "Avg train loss: 15.4249\n",
      "Avg train loss: 15.4249\n",
      "Avg train loss: 15.4249\n"
     ]
    },
    {
     "name": "stderr",
     "output_type": "stream",
     "text": [
      "\r",
      "Testing: 177it [36:08, 12.12s/it]"
     ]
    },
    {
     "name": "stdout",
     "output_type": "stream",
     "text": [
      "Avg train loss: 15.4249\n",
      "There are 2000 users in the env now.\n",
      "Updating model...\n",
      "Avg train loss: 15.4249\n",
      "Avg train loss: 15.4249\n",
      "Avg train loss: 15.4249\n",
      "Avg train loss: 15.4249\n"
     ]
    },
    {
     "name": "stderr",
     "output_type": "stream",
     "text": [
      "\r",
      "Testing: 178it [36:20, 12.06s/it]"
     ]
    },
    {
     "name": "stdout",
     "output_type": "stream",
     "text": [
      "Avg train loss: 15.4249\n",
      "There are 2000 users in the env now.\n",
      "Updating model...\n",
      "Avg train loss: 2.8153\n",
      "Avg train loss: 2.6666\n",
      "Avg train loss: 2.5639\n",
      "Avg train loss: 2.4866\n"
     ]
    },
    {
     "name": "stderr",
     "output_type": "stream",
     "text": [
      "\r",
      "Testing: 179it [36:32, 12.03s/it]"
     ]
    },
    {
     "name": "stdout",
     "output_type": "stream",
     "text": [
      "Avg train loss: 2.4242\n",
      "There are 2000 users in the env now.\n",
      "Updating model...\n",
      "Avg train loss: 2.6046\n",
      "Avg train loss: 2.4706\n",
      "Avg train loss: 2.3790\n",
      "Avg train loss: 2.3099\n"
     ]
    },
    {
     "name": "stderr",
     "output_type": "stream",
     "text": [
      "\r",
      "Testing: 180it [36:44, 12.12s/it]"
     ]
    },
    {
     "name": "stdout",
     "output_type": "stream",
     "text": [
      "Avg train loss: 2.2539\n",
      "There are 2000 users in the env now.\n",
      "Updating model...\n",
      "Avg train loss: 2.6678\n",
      "Avg train loss: 2.5262\n",
      "Avg train loss: 2.4303\n",
      "Avg train loss: 2.3583\n"
     ]
    },
    {
     "name": "stderr",
     "output_type": "stream",
     "text": [
      "\r",
      "Testing: 181it [36:56, 12.05s/it]"
     ]
    },
    {
     "name": "stdout",
     "output_type": "stream",
     "text": [
      "Avg train loss: 2.3002\n",
      "There are 2000 users in the env now.\n",
      "Updating model...\n",
      "Avg train loss: 2.9767\n",
      "Avg train loss: 2.7927\n",
      "Avg train loss: 2.6743\n",
      "Avg train loss: 2.5878\n"
     ]
    },
    {
     "name": "stderr",
     "output_type": "stream",
     "text": [
      "\r",
      "Testing: 182it [37:08, 12.02s/it]"
     ]
    },
    {
     "name": "stdout",
     "output_type": "stream",
     "text": [
      "Avg train loss: 2.5193\n",
      "There are 2000 users in the env now.\n",
      "Updating model...\n",
      "Avg train loss: 15.4249\n",
      "Avg train loss: 15.4249\n",
      "Avg train loss: 15.4249\n",
      "Avg train loss: 15.4249\n"
     ]
    },
    {
     "name": "stderr",
     "output_type": "stream",
     "text": [
      "\r",
      "Testing: 183it [37:20, 12.04s/it]"
     ]
    },
    {
     "name": "stdout",
     "output_type": "stream",
     "text": [
      "Avg train loss: 15.4249\n",
      "There are 2000 users in the env now.\n",
      "Updating model...\n",
      "Avg train loss: 15.4249\n",
      "Avg train loss: 15.4249\n",
      "Avg train loss: 15.4249\n",
      "Avg train loss: 15.4249\n"
     ]
    },
    {
     "name": "stderr",
     "output_type": "stream",
     "text": [
      "\r",
      "Testing: 184it [37:32, 11.99s/it]"
     ]
    },
    {
     "name": "stdout",
     "output_type": "stream",
     "text": [
      "Avg train loss: 15.4249\n",
      "There are 2000 users in the env now.\n",
      "Updating model...\n",
      "Avg train loss: 15.4249\n",
      "Avg train loss: 15.4249\n",
      "Avg train loss: 15.4249\n",
      "Avg train loss: 15.4249\n"
     ]
    },
    {
     "name": "stderr",
     "output_type": "stream",
     "text": [
      "\r",
      "Testing: 185it [37:44, 11.97s/it]"
     ]
    },
    {
     "name": "stdout",
     "output_type": "stream",
     "text": [
      "Avg train loss: 15.4249\n",
      "There are 2000 users in the env now.\n",
      "Updating model...\n",
      "Avg train loss: 2.3484\n",
      "Avg train loss: 2.2418\n",
      "Avg train loss: 2.1664\n",
      "Avg train loss: 2.1084\n"
     ]
    },
    {
     "name": "stderr",
     "output_type": "stream",
     "text": [
      "\r",
      "Testing: 186it [37:56, 12.05s/it]"
     ]
    },
    {
     "name": "stdout",
     "output_type": "stream",
     "text": [
      "Avg train loss: 2.0607\n",
      "There are 2000 users in the env now.\n",
      "Updating model...\n",
      "Avg train loss: 15.4249\n",
      "Avg train loss: 15.4249\n",
      "Avg train loss: 15.4249\n",
      "Avg train loss: 15.4249\n"
     ]
    },
    {
     "name": "stderr",
     "output_type": "stream",
     "text": [
      "\r",
      "Testing: 187it [38:08, 12.00s/it]"
     ]
    },
    {
     "name": "stdout",
     "output_type": "stream",
     "text": [
      "Avg train loss: 15.4249\n",
      "There are 2000 users in the env now.\n",
      "Updating model...\n",
      "Avg train loss: 15.4249\n",
      "Avg train loss: 15.4249\n",
      "Avg train loss: 15.4249\n",
      "Avg train loss: 15.4249\n"
     ]
    },
    {
     "name": "stderr",
     "output_type": "stream",
     "text": [
      "\r",
      "Testing: 188it [38:20, 11.97s/it]"
     ]
    },
    {
     "name": "stdout",
     "output_type": "stream",
     "text": [
      "Avg train loss: 15.4249\n",
      "There are 2000 users in the env now.\n",
      "Updating model...\n",
      "Avg train loss: 2.1221\n",
      "Avg train loss: 2.0354\n",
      "Avg train loss: 1.9726\n",
      "Avg train loss: 1.9234\n"
     ]
    },
    {
     "name": "stderr",
     "output_type": "stream",
     "text": [
      "\r",
      "Testing: 189it [38:32, 12.09s/it]"
     ]
    },
    {
     "name": "stdout",
     "output_type": "stream",
     "text": [
      "Avg train loss: 1.8826\n",
      "There are 2000 users in the env now.\n",
      "Updating model...\n",
      "Avg train loss: 15.4249\n",
      "Avg train loss: 15.4249\n",
      "Avg train loss: 15.4249\n",
      "Avg train loss: 15.4249\n"
     ]
    },
    {
     "name": "stderr",
     "output_type": "stream",
     "text": [
      "\r",
      "Testing: 190it [38:44, 12.05s/it]"
     ]
    },
    {
     "name": "stdout",
     "output_type": "stream",
     "text": [
      "Avg train loss: 15.4249\n",
      "There are 2000 users in the env now.\n",
      "Updating model...\n",
      "Avg train loss: 2.5337\n",
      "Avg train loss: 2.4078\n",
      "Avg train loss: 2.3209\n",
      "Avg train loss: 2.2549\n"
     ]
    },
    {
     "name": "stderr",
     "output_type": "stream",
     "text": [
      "\r",
      "Testing: 191it [38:56, 12.03s/it]"
     ]
    },
    {
     "name": "stdout",
     "output_type": "stream",
     "text": [
      "Avg train loss: 2.2013\n",
      "There are 2000 users in the env now.\n",
      "Updating model...\n",
      "Avg train loss: 2.9438\n",
      "Avg train loss: 2.7648\n",
      "Avg train loss: 2.6488\n",
      "Avg train loss: 2.5639\n"
     ]
    },
    {
     "name": "stderr",
     "output_type": "stream",
     "text": [
      "\r",
      "Testing: 192it [39:08, 12.03s/it]"
     ]
    },
    {
     "name": "stdout",
     "output_type": "stream",
     "text": [
      "Avg train loss: 2.4965\n",
      "There are 2000 users in the env now.\n",
      "Updating model...\n",
      "Avg train loss: 2.1122\n",
      "Avg train loss: 2.0263\n",
      "Avg train loss: 1.9640\n",
      "Avg train loss: 1.9152\n"
     ]
    },
    {
     "name": "stderr",
     "output_type": "stream",
     "text": [
      "\r",
      "Testing: 193it [39:20, 12.01s/it]"
     ]
    },
    {
     "name": "stdout",
     "output_type": "stream",
     "text": [
      "Avg train loss: 1.8746\n",
      "There are 2000 users in the env now.\n",
      "Updating model...\n",
      "Avg train loss: 15.4249\n",
      "Avg train loss: 15.4249\n",
      "Avg train loss: 15.4249\n",
      "Avg train loss: 15.4249\n"
     ]
    },
    {
     "name": "stderr",
     "output_type": "stream",
     "text": [
      "\r",
      "Testing: 194it [39:32, 11.99s/it]"
     ]
    },
    {
     "name": "stdout",
     "output_type": "stream",
     "text": [
      "Avg train loss: 15.4249\n",
      "There are 2000 users in the env now.\n",
      "Updating model...\n",
      "Avg train loss: 4.0494\n",
      "Avg train loss: 3.6683\n",
      "Avg train loss: 3.4758\n",
      "Avg train loss: 3.3477\n"
     ]
    },
    {
     "name": "stderr",
     "output_type": "stream",
     "text": [
      "\r",
      "Testing: 195it [39:44, 12.07s/it]"
     ]
    },
    {
     "name": "stdout",
     "output_type": "stream",
     "text": [
      "Avg train loss: 3.2501\n",
      "There are 2000 users in the env now.\n",
      "Updating model...\n",
      "Avg train loss: 15.4249\n",
      "Avg train loss: 15.4249\n",
      "Avg train loss: 15.4249\n",
      "Avg train loss: 15.4249\n"
     ]
    },
    {
     "name": "stderr",
     "output_type": "stream",
     "text": [
      "\r",
      "Testing: 196it [39:56, 12.03s/it]"
     ]
    },
    {
     "name": "stdout",
     "output_type": "stream",
     "text": [
      "Avg train loss: 15.4249\n",
      "There are 2000 users in the env now.\n",
      "Updating model...\n",
      "Avg train loss: 2.4420\n",
      "Avg train loss: 2.3260\n",
      "Avg train loss: 2.2450\n",
      "Avg train loss: 2.1830\n"
     ]
    },
    {
     "name": "stderr",
     "output_type": "stream",
     "text": [
      "\r",
      "Testing: 197it [40:08, 11.99s/it]"
     ]
    },
    {
     "name": "stdout",
     "output_type": "stream",
     "text": [
      "Avg train loss: 2.1323\n",
      "There are 2000 users in the env now.\n",
      "Updating model...\n",
      "Avg train loss: 15.4249\n",
      "Avg train loss: 15.4249\n",
      "Avg train loss: 15.4249\n",
      "Avg train loss: 15.4249\n"
     ]
    },
    {
     "name": "stderr",
     "output_type": "stream",
     "text": [
      "\r",
      "Testing: 198it [40:20, 12.09s/it]"
     ]
    },
    {
     "name": "stdout",
     "output_type": "stream",
     "text": [
      "Avg train loss: 15.4249\n",
      "There are 2000 users in the env now.\n",
      "Updating model...\n",
      "Avg train loss: 2.4100\n",
      "Avg train loss: 2.2973\n",
      "Avg train loss: 2.2183\n",
      "Avg train loss: 2.1576\n"
     ]
    },
    {
     "name": "stderr",
     "output_type": "stream",
     "text": [
      "\r",
      "Testing: 199it [40:32, 12.05s/it]"
     ]
    },
    {
     "name": "stdout",
     "output_type": "stream",
     "text": [
      "Avg train loss: 2.1080\n",
      "There are 2000 users in the env now.\n",
      "Updating model...\n",
      "Avg train loss: 1.9957\n",
      "Avg train loss: 1.9186\n",
      "Avg train loss: 1.8621\n",
      "Avg train loss: 1.8174\n"
     ]
    },
    {
     "name": "stderr",
     "output_type": "stream",
     "text": [
      "\r",
      "Testing: 200it [40:44, 12.02s/it]"
     ]
    },
    {
     "name": "stdout",
     "output_type": "stream",
     "text": [
      "Avg train loss: 1.7802\n",
      "There are 2000 users in the env now.\n",
      "Updating model...\n",
      "Avg train loss: 15.4249\n",
      "Avg train loss: 15.4249\n",
      "Avg train loss: 15.4249\n",
      "Avg train loss: 15.4249\n"
     ]
    },
    {
     "name": "stderr",
     "output_type": "stream",
     "text": [
      "\r",
      "Testing: 201it [40:57, 12.11s/it]"
     ]
    },
    {
     "name": "stdout",
     "output_type": "stream",
     "text": [
      "Avg train loss: 15.4249\n",
      "There are 2000 users in the env now.\n",
      "Updating model...\n",
      "Avg train loss: 3.1817\n",
      "Avg train loss: 2.9646\n",
      "Avg train loss: 2.8302\n",
      "Avg train loss: 2.7341\n"
     ]
    },
    {
     "name": "stderr",
     "output_type": "stream",
     "text": [
      "\r",
      "Testing: 202it [41:09, 12.05s/it]"
     ]
    },
    {
     "name": "stdout",
     "output_type": "stream",
     "text": [
      "Avg train loss: 2.6588\n",
      "There are 2000 users in the env now.\n",
      "Updating model...\n",
      "Avg train loss: 15.4249\n",
      "Avg train loss: 15.4249\n",
      "Avg train loss: 15.4249\n",
      "Avg train loss: 15.4249\n"
     ]
    },
    {
     "name": "stderr",
     "output_type": "stream",
     "text": [
      "\r",
      "Testing: 203it [41:20, 12.03s/it]"
     ]
    },
    {
     "name": "stdout",
     "output_type": "stream",
     "text": [
      "Avg train loss: 15.4249\n",
      "There are 2000 users in the env now.\n",
      "Updating model...\n",
      "Avg train loss: 2.2011\n",
      "Avg train loss: 2.1079\n",
      "Avg train loss: 2.0409\n",
      "Avg train loss: 1.9887\n"
     ]
    },
    {
     "name": "stderr",
     "output_type": "stream",
     "text": [
      "\r",
      "Testing: 204it [41:33, 12.03s/it]"
     ]
    },
    {
     "name": "stdout",
     "output_type": "stream",
     "text": [
      "Avg train loss: 1.9455\n",
      "There are 2000 users in the env now.\n",
      "Congratulations!\n"
     ]
    },
    {
     "name": "stderr",
     "output_type": "stream",
     "text": [
      "\r",
      "Testing: 205it [41:35,  9.14s/it]"
     ]
    },
    {
     "name": "stdout",
     "output_type": "stream",
     "text": [
      "Avg train loss: 0.0000\n",
      "\n",
      "There are 2000 users in the env now.\n",
      "Updating model...\n",
      "Avg train loss: 3.6405\n",
      "Avg train loss: 3.3373\n",
      "Avg train loss: 3.1681\n",
      "Avg train loss: 3.0521\n"
     ]
    },
    {
     "name": "stderr",
     "output_type": "stream",
     "text": [
      "\r",
      "Testing: 206it [41:47,  9.97s/it]"
     ]
    },
    {
     "name": "stdout",
     "output_type": "stream",
     "text": [
      "Avg train loss: 2.9631\n",
      "There are 2000 users in the env now.\n",
      "Updating model...\n",
      "Avg train loss: 2.4690\n",
      "Avg train loss: 2.3502\n",
      "Avg train loss: 2.2675\n",
      "Avg train loss: 2.2043\n"
     ]
    },
    {
     "name": "stderr",
     "output_type": "stream",
     "text": [
      "\r",
      "Testing: 207it [41:59, 10.55s/it]"
     ]
    },
    {
     "name": "stdout",
     "output_type": "stream",
     "text": [
      "Avg train loss: 2.1527\n",
      "There are 2000 users in the env now.\n",
      "Updating model...\n",
      "Avg train loss: 1.8572\n",
      "Avg train loss: 1.7895\n",
      "Avg train loss: 1.7393\n",
      "Avg train loss: 1.6993\n"
     ]
    },
    {
     "name": "stderr",
     "output_type": "stream",
     "text": [
      "\r",
      "Testing: 208it [42:11, 10.99s/it]"
     ]
    },
    {
     "name": "stdout",
     "output_type": "stream",
     "text": [
      "Avg train loss: 1.6657\n",
      "There are 2000 users in the env now.\n",
      "Updating model...\n",
      "Avg train loss: 2.2544\n",
      "Avg train loss: 2.1582\n",
      "Avg train loss: 2.0888\n",
      "Avg train loss: 2.0348\n"
     ]
    },
    {
     "name": "stderr",
     "output_type": "stream",
     "text": [
      "\r",
      "Testing: 209it [42:23, 11.27s/it]"
     ]
    },
    {
     "name": "stdout",
     "output_type": "stream",
     "text": [
      "Avg train loss: 1.9902\n",
      "There are 2000 users in the env now.\n",
      "Updating model...\n",
      "Avg train loss: 3.2330\n",
      "Avg train loss: 3.0071\n",
      "Avg train loss: 2.8687\n",
      "Avg train loss: 2.7702\n"
     ]
    },
    {
     "name": "stderr",
     "output_type": "stream",
     "text": [
      "\r",
      "Testing: 210it [42:35, 11.46s/it]"
     ]
    },
    {
     "name": "stdout",
     "output_type": "stream",
     "text": [
      "Avg train loss: 2.6932\n",
      "There are 2000 users in the env now.\n",
      "Updating model...\n",
      "Avg train loss: 2.8461\n",
      "Avg train loss: 2.6812\n",
      "Avg train loss: 2.5725\n",
      "Avg train loss: 2.4922\n"
     ]
    },
    {
     "name": "stderr",
     "output_type": "stream",
     "text": [
      "\r",
      "Testing: 211it [42:47, 11.73s/it]"
     ]
    },
    {
     "name": "stdout",
     "output_type": "stream",
     "text": [
      "Avg train loss: 2.4281\n",
      "There are 2000 users in the env now.\n",
      "Updating model...\n",
      "Avg train loss: 2.1778\n",
      "Avg train loss: 2.0865\n",
      "Avg train loss: 2.0208\n",
      "Avg train loss: 1.9695\n"
     ]
    },
    {
     "name": "stderr",
     "output_type": "stream",
     "text": [
      "\r",
      "Testing: 212it [42:59, 11.82s/it]"
     ]
    },
    {
     "name": "stdout",
     "output_type": "stream",
     "text": [
      "Avg train loss: 1.9270\n",
      "There are 2000 users in the env now.\n",
      "Updating model...\n",
      "Avg train loss: 15.4249\n",
      "Avg train loss: 15.4249\n",
      "Avg train loss: 15.4249\n",
      "Avg train loss: 15.4249\n"
     ]
    },
    {
     "name": "stderr",
     "output_type": "stream",
     "text": [
      "\r",
      "Testing: 213it [43:11, 11.86s/it]"
     ]
    },
    {
     "name": "stdout",
     "output_type": "stream",
     "text": [
      "Avg train loss: 15.4249\n",
      "There are 2000 users in the env now.\n",
      "Updating model...\n",
      "Avg train loss: 3.0401\n",
      "Avg train loss: 2.8463\n",
      "Avg train loss: 2.7230\n",
      "Avg train loss: 2.6335\n"
     ]
    },
    {
     "name": "stderr",
     "output_type": "stream",
     "text": [
      "\r",
      "Testing: 214it [43:23, 12.03s/it]"
     ]
    },
    {
     "name": "stdout",
     "output_type": "stream",
     "text": [
      "Avg train loss: 2.5629\n",
      "There are 2000 users in the env now.\n",
      "Updating model...\n",
      "Avg train loss: 2.7699\n",
      "Avg train loss: 2.6153\n",
      "Avg train loss: 2.5122\n",
      "Avg train loss: 2.4355\n"
     ]
    },
    {
     "name": "stderr",
     "output_type": "stream",
     "text": [
      "\r",
      "Testing: 215it [43:35, 11.99s/it]"
     ]
    },
    {
     "name": "stdout",
     "output_type": "stream",
     "text": [
      "Avg train loss: 2.3739\n",
      "There are 2000 users in the env now.\n",
      "Updating model...\n",
      "Avg train loss: 2.5620\n",
      "Avg train loss: 2.4329\n",
      "Avg train loss: 2.3442\n",
      "Avg train loss: 2.2769\n"
     ]
    },
    {
     "name": "stderr",
     "output_type": "stream",
     "text": [
      "\r",
      "Testing: 216it [43:47, 11.99s/it]"
     ]
    },
    {
     "name": "stdout",
     "output_type": "stream",
     "text": [
      "Avg train loss: 2.2224\n",
      "There are 2000 users in the env now.\n",
      "Updating model...\n",
      "Avg train loss: 2.1837\n",
      "Avg train loss: 2.0919\n",
      "Avg train loss: 2.0259\n",
      "Avg train loss: 1.9744\n"
     ]
    },
    {
     "name": "stderr",
     "output_type": "stream",
     "text": [
      "\r",
      "Testing: 217it [44:00, 12.11s/it]"
     ]
    },
    {
     "name": "stdout",
     "output_type": "stream",
     "text": [
      "Avg train loss: 1.9317\n",
      "There are 2000 users in the env now.\n",
      "Congratulations!\n"
     ]
    },
    {
     "name": "stderr",
     "output_type": "stream",
     "text": [
      "\r",
      "Testing: 218it [44:02,  9.20s/it]"
     ]
    },
    {
     "name": "stdout",
     "output_type": "stream",
     "text": [
      "Avg train loss: 0.1487\n",
      "\n",
      "There are 2000 users in the env now.\n",
      "Updating model...\n",
      "Avg train loss: 15.4249\n",
      "Avg train loss: 15.4249\n",
      "Avg train loss: 15.4249\n",
      "Avg train loss: 15.4249\n"
     ]
    },
    {
     "name": "stderr",
     "output_type": "stream",
     "text": [
      "\r",
      "Testing: 219it [44:14, 10.00s/it]"
     ]
    },
    {
     "name": "stdout",
     "output_type": "stream",
     "text": [
      "Avg train loss: 15.4249\n",
      "There are 2000 users in the env now.\n",
      "Updating model...\n",
      "Avg train loss: 15.4249\n",
      "Avg train loss: 15.4249\n",
      "Avg train loss: 15.4249\n",
      "Avg train loss: 15.4249\n"
     ]
    },
    {
     "name": "stderr",
     "output_type": "stream",
     "text": [
      "\r",
      "Testing: 220it [44:26, 10.72s/it]"
     ]
    },
    {
     "name": "stdout",
     "output_type": "stream",
     "text": [
      "Avg train loss: 15.4249\n",
      "There are 2000 users in the env now.\n",
      "Updating model...\n",
      "Avg train loss: 3.2531\n",
      "Avg train loss: 3.0236\n",
      "Avg train loss: 2.8836\n",
      "Avg train loss: 2.7842\n"
     ]
    },
    {
     "name": "stderr",
     "output_type": "stream",
     "text": [
      "\r",
      "Testing: 221it [44:38, 11.08s/it]"
     ]
    },
    {
     "name": "stdout",
     "output_type": "stream",
     "text": [
      "Avg train loss: 2.7066\n",
      "There are 2000 users in the env now.\n",
      "Updating model...\n",
      "Avg train loss: 2.7347\n",
      "Avg train loss: 2.5847\n",
      "Avg train loss: 2.4841\n",
      "Avg train loss: 2.4090\n"
     ]
    },
    {
     "name": "stderr",
     "output_type": "stream",
     "text": [
      "\r",
      "Testing: 222it [44:50, 11.31s/it]"
     ]
    },
    {
     "name": "stdout",
     "output_type": "stream",
     "text": [
      "Avg train loss: 2.3487\n",
      "There are 2000 users in the env now.\n",
      "Updating model...\n",
      "Avg train loss: 15.4249\n",
      "Avg train loss: 15.4249\n",
      "Avg train loss: 15.4249\n",
      "Avg train loss: 15.4249\n"
     ]
    },
    {
     "name": "stderr",
     "output_type": "stream",
     "text": [
      "\r",
      "Testing: 223it [45:03, 11.69s/it]"
     ]
    },
    {
     "name": "stdout",
     "output_type": "stream",
     "text": [
      "Avg train loss: 15.4249\n",
      "There are 2000 users in the env now.\n",
      "Updating model...\n",
      "Avg train loss: 2.4468\n",
      "Avg train loss: 2.3304\n",
      "Avg train loss: 2.2490\n",
      "Avg train loss: 2.1868\n"
     ]
    },
    {
     "name": "stderr",
     "output_type": "stream",
     "text": [
      "\r",
      "Testing: 224it [45:15, 11.76s/it]"
     ]
    },
    {
     "name": "stdout",
     "output_type": "stream",
     "text": [
      "Avg train loss: 2.1360\n",
      "There are 2000 users in the env now.\n",
      "Updating model...\n",
      "Avg train loss: 2.2642\n",
      "Avg train loss: 2.1655\n",
      "Avg train loss: 2.0950\n",
      "Avg train loss: 2.0403\n"
     ]
    },
    {
     "name": "stderr",
     "output_type": "stream",
     "text": [
      "\r",
      "Testing: 225it [45:26, 11.81s/it]"
     ]
    },
    {
     "name": "stdout",
     "output_type": "stream",
     "text": [
      "Avg train loss: 1.9952\n",
      "There are 2000 users in the env now.\n",
      "Updating model...\n",
      "Avg train loss: 3.6076\n",
      "Avg train loss: 3.3110\n",
      "Avg train loss: 3.1440\n",
      "Avg train loss: 3.0294\n"
     ]
    },
    {
     "name": "stderr",
     "output_type": "stream",
     "text": [
      "\r",
      "Testing: 226it [45:39, 11.99s/it]"
     ]
    },
    {
     "name": "stdout",
     "output_type": "stream",
     "text": [
      "Avg train loss: 2.9412\n",
      "There are 2000 users in the env now.\n",
      "Updating model...\n",
      "Avg train loss: 3.6288\n",
      "Avg train loss: 3.3279\n",
      "Avg train loss: 3.1595\n",
      "Avg train loss: 3.0440\n"
     ]
    },
    {
     "name": "stderr",
     "output_type": "stream",
     "text": [
      "\r",
      "Testing: 227it [45:51, 11.98s/it]"
     ]
    },
    {
     "name": "stdout",
     "output_type": "stream",
     "text": [
      "Avg train loss: 2.9553\n",
      "There are 2000 users in the env now.\n",
      "Updating model...\n",
      "Avg train loss: 3.0680\n",
      "Avg train loss: 2.8698\n",
      "Avg train loss: 2.7443\n",
      "Avg train loss: 2.6535\n"
     ]
    },
    {
     "name": "stderr",
     "output_type": "stream",
     "text": [
      "\r",
      "Testing: 228it [46:03, 11.95s/it]"
     ]
    },
    {
     "name": "stdout",
     "output_type": "stream",
     "text": [
      "Avg train loss: 2.5819\n",
      "There are 2000 users in the env now.\n",
      "Updating model...\n",
      "Avg train loss: 3.1397\n",
      "Avg train loss: 2.9297\n",
      "Avg train loss: 2.7986\n",
      "Avg train loss: 2.7045\n"
     ]
    },
    {
     "name": "stderr",
     "output_type": "stream",
     "text": [
      "\r",
      "Testing: 229it [46:15, 12.03s/it]"
     ]
    },
    {
     "name": "stdout",
     "output_type": "stream",
     "text": [
      "Avg train loss: 2.6305\n",
      "There are 2000 users in the env now.\n",
      "Updating model...\n",
      "Avg train loss: 2.8934\n",
      "Avg train loss: 2.7217\n",
      "Avg train loss: 2.6095\n",
      "Avg train loss: 2.5270\n"
     ]
    },
    {
     "name": "stderr",
     "output_type": "stream",
     "text": [
      "\r",
      "Testing: 230it [46:27, 11.99s/it]"
     ]
    },
    {
     "name": "stdout",
     "output_type": "stream",
     "text": [
      "Avg train loss: 2.4613\n",
      "There are 2000 users in the env now.\n",
      "Updating model...\n",
      "Avg train loss: 2.7896\n",
      "Avg train loss: 2.6323\n",
      "Avg train loss: 2.5278\n",
      "Avg train loss: 2.4502\n"
     ]
    },
    {
     "name": "stderr",
     "output_type": "stream",
     "text": [
      "\r",
      "Testing: 231it [46:39, 11.95s/it]"
     ]
    },
    {
     "name": "stdout",
     "output_type": "stream",
     "text": [
      "Avg train loss: 2.3880\n",
      "There are 2000 users in the env now.\n",
      "Updating model...\n",
      "Avg train loss: 2.5732\n",
      "Avg train loss: 2.4429\n",
      "Avg train loss: 2.3534\n",
      "Avg train loss: 2.2856\n"
     ]
    },
    {
     "name": "stderr",
     "output_type": "stream",
     "text": [
      "\r",
      "Testing: 232it [46:51, 11.95s/it]"
     ]
    },
    {
     "name": "stdout",
     "output_type": "stream",
     "text": [
      "Avg train loss: 2.2307\n",
      "There are 2000 users in the env now.\n",
      "Updating model...\n",
      "Avg train loss: 1.9216\n",
      "Avg train loss: 1.8631\n",
      "Avg train loss: 1.8159\n",
      "Avg train loss: 1.7769\n"
     ]
    },
    {
     "name": "stderr",
     "output_type": "stream",
     "text": [
      "\r",
      "Testing: 233it [47:03, 11.96s/it]"
     ]
    },
    {
     "name": "stdout",
     "output_type": "stream",
     "text": [
      "Avg train loss: 1.7435\n",
      "There are 2000 users in the env now.\n",
      "Updating model...\n",
      "Avg train loss: 2.2922\n",
      "Avg train loss: 2.1909\n",
      "Avg train loss: 2.1188\n",
      "Avg train loss: 2.0630\n"
     ]
    },
    {
     "name": "stderr",
     "output_type": "stream",
     "text": [
      "\r",
      "Testing: 234it [47:15, 11.94s/it]"
     ]
    },
    {
     "name": "stdout",
     "output_type": "stream",
     "text": [
      "Avg train loss: 2.0171\n",
      "There are 2000 users in the env now.\n",
      "Updating model...\n",
      "Avg train loss: 15.4249\n",
      "Avg train loss: 15.4249\n",
      "Avg train loss: 15.4249\n",
      "Avg train loss: 15.4249\n"
     ]
    },
    {
     "name": "stderr",
     "output_type": "stream",
     "text": [
      "\r",
      "Testing: 235it [47:26, 11.95s/it]"
     ]
    },
    {
     "name": "stdout",
     "output_type": "stream",
     "text": [
      "Avg train loss: 15.4249\n",
      "There are 2000 users in the env now.\n",
      "Updating model...\n",
      "Avg train loss: 4.4174\n",
      "Avg train loss: 3.9980\n",
      "Avg train loss: 3.8014\n",
      "Avg train loss: 3.6707\n"
     ]
    },
    {
     "name": "stderr",
     "output_type": "stream",
     "text": [
      "\r",
      "Testing: 236it [47:38, 11.97s/it]"
     ]
    },
    {
     "name": "stdout",
     "output_type": "stream",
     "text": [
      "Avg train loss: 3.5706\n",
      "There are 2000 users in the env now.\n",
      "Updating model...\n",
      "Avg train loss: 2.5258\n",
      "Avg train loss: 2.4008\n",
      "Avg train loss: 2.3144\n",
      "Avg train loss: 2.2488\n"
     ]
    },
    {
     "name": "stderr",
     "output_type": "stream",
     "text": [
      "\r",
      "Testing: 237it [47:50, 11.95s/it]"
     ]
    },
    {
     "name": "stdout",
     "output_type": "stream",
     "text": [
      "Avg train loss: 2.1954\n",
      "There are 2000 users in the env now.\n",
      "Updating model...\n",
      "Avg train loss: 1.9073\n",
      "Avg train loss: 1.8363\n",
      "Avg train loss: 1.7839\n",
      "Avg train loss: 1.7422\n"
     ]
    },
    {
     "name": "stderr",
     "output_type": "stream",
     "text": [
      "\r",
      "Testing: 238it [48:03, 12.07s/it]"
     ]
    },
    {
     "name": "stdout",
     "output_type": "stream",
     "text": [
      "Avg train loss: 1.7073\n",
      "There are 2000 users in the env now.\n",
      "Updating model...\n",
      "Avg train loss: 15.4249\n",
      "Avg train loss: 15.4249\n",
      "Avg train loss: 15.4249\n",
      "Avg train loss: 15.4249\n"
     ]
    },
    {
     "name": "stderr",
     "output_type": "stream",
     "text": [
      "\r",
      "Testing: 239it [48:15, 12.00s/it]"
     ]
    },
    {
     "name": "stdout",
     "output_type": "stream",
     "text": [
      "Avg train loss: 15.4249\n",
      "There are 2000 users in the env now.\n",
      "Updating model...\n",
      "Avg train loss: 3.6217\n",
      "Avg train loss: 3.3223\n",
      "Avg train loss: 3.1543\n",
      "Avg train loss: 3.0391\n"
     ]
    },
    {
     "name": "stderr",
     "output_type": "stream",
     "text": [
      "\r",
      "Testing: 240it [48:27, 12.02s/it]"
     ]
    },
    {
     "name": "stdout",
     "output_type": "stream",
     "text": [
      "Avg train loss: 2.9506\n",
      "There are 2000 users in the env now.\n",
      "Updating model...\n",
      "Avg train loss: 15.4249\n",
      "Avg train loss: 15.4249\n",
      "Avg train loss: 15.4249\n",
      "Avg train loss: 15.4249\n"
     ]
    },
    {
     "name": "stderr",
     "output_type": "stream",
     "text": [
      "\r",
      "Testing: 241it [48:39, 12.13s/it]"
     ]
    },
    {
     "name": "stdout",
     "output_type": "stream",
     "text": [
      "Avg train loss: 15.4249\n",
      "There are 2000 users in the env now.\n",
      "Updating model...\n",
      "Avg train loss: 2.5228\n",
      "Avg train loss: 2.3982\n",
      "Avg train loss: 2.3120\n",
      "Avg train loss: 2.2465\n"
     ]
    },
    {
     "name": "stderr",
     "output_type": "stream",
     "text": [
      "\r",
      "Testing: 242it [48:51, 12.08s/it]"
     ]
    },
    {
     "name": "stdout",
     "output_type": "stream",
     "text": [
      "Avg train loss: 2.1932\n",
      "There are 2000 users in the env now.\n",
      "Updating model...\n",
      "Avg train loss: 2.4126\n",
      "Avg train loss: 2.2996\n",
      "Avg train loss: 2.2204\n",
      "Avg train loss: 2.1596\n"
     ]
    },
    {
     "name": "stderr",
     "output_type": "stream",
     "text": [
      "\r",
      "Testing: 243it [49:03, 12.04s/it]"
     ]
    },
    {
     "name": "stdout",
     "output_type": "stream",
     "text": [
      "Avg train loss: 2.1099\n",
      "There are 2000 users in the env now.\n",
      "Updating model...\n",
      "Avg train loss: 15.4249\n",
      "Avg train loss: 15.4249\n",
      "Avg train loss: 15.4249\n",
      "Avg train loss: 15.4249\n"
     ]
    },
    {
     "name": "stderr",
     "output_type": "stream",
     "text": [
      "\r",
      "Testing: 244it [49:15, 12.12s/it]"
     ]
    },
    {
     "name": "stdout",
     "output_type": "stream",
     "text": [
      "Avg train loss: 15.4249\n",
      "There are 2000 users in the env now.\n",
      "Updating model...\n",
      "Avg train loss: 1.8243\n",
      "Avg train loss: 1.7587\n",
      "Avg train loss: 1.7098\n",
      "Avg train loss: 1.6709\n"
     ]
    },
    {
     "name": "stderr",
     "output_type": "stream",
     "text": [
      "\r",
      "Testing: 245it [49:27, 12.06s/it]"
     ]
    },
    {
     "name": "stdout",
     "output_type": "stream",
     "text": [
      "Avg train loss: 1.6381\n",
      "There are 2000 users in the env now.\n",
      "Updating model...\n",
      "Avg train loss: 15.4249\n",
      "Avg train loss: 15.4249\n",
      "Avg train loss: 15.4249\n",
      "Avg train loss: 15.4249\n"
     ]
    },
    {
     "name": "stderr",
     "output_type": "stream",
     "text": [
      "\r",
      "Testing: 246it [49:39, 12.02s/it]"
     ]
    },
    {
     "name": "stdout",
     "output_type": "stream",
     "text": [
      "Avg train loss: 15.4249\n",
      "There are 2000 users in the env now.\n",
      "Updating model...\n",
      "Avg train loss: 15.4249\n",
      "Avg train loss: 15.4249\n",
      "Avg train loss: 15.4249\n",
      "Avg train loss: 15.4249\n"
     ]
    },
    {
     "name": "stderr",
     "output_type": "stream",
     "text": [
      "\r",
      "Testing: 247it [49:51, 12.09s/it]"
     ]
    },
    {
     "name": "stdout",
     "output_type": "stream",
     "text": [
      "Avg train loss: 15.4249\n",
      "There are 2000 users in the env now.\n",
      "Updating model...\n",
      "Avg train loss: 15.4249\n",
      "Avg train loss: 15.4249\n",
      "Avg train loss: 15.4249\n",
      "Avg train loss: 15.4249\n"
     ]
    },
    {
     "name": "stderr",
     "output_type": "stream",
     "text": [
      "\r",
      "Testing: 248it [50:03, 12.07s/it]"
     ]
    },
    {
     "name": "stdout",
     "output_type": "stream",
     "text": [
      "Avg train loss: 15.4249\n",
      "There are 2000 users in the env now.\n",
      "Updating model...\n",
      "Avg train loss: 15.4249\n",
      "Avg train loss: 15.4249\n",
      "Avg train loss: 15.4249\n",
      "Avg train loss: 15.4249\n"
     ]
    },
    {
     "name": "stderr",
     "output_type": "stream",
     "text": [
      "\r",
      "Testing: 249it [50:15, 12.01s/it]"
     ]
    },
    {
     "name": "stdout",
     "output_type": "stream",
     "text": [
      "Avg train loss: 15.4249\n",
      "There are 2000 users in the env now.\n",
      "Updating model...\n",
      "Avg train loss: 2.9438\n",
      "Avg train loss: 2.7648\n",
      "Avg train loss: 2.6488\n",
      "Avg train loss: 2.5639\n"
     ]
    },
    {
     "name": "stderr",
     "output_type": "stream",
     "text": [
      "\r",
      "Testing: 250it [50:28, 12.13s/it]"
     ]
    },
    {
     "name": "stdout",
     "output_type": "stream",
     "text": [
      "Avg train loss: 2.4965\n",
      "There are 2000 users in the env now.\n",
      "Updating model...\n",
      "Avg train loss: 2.6205\n",
      "Avg train loss: 2.4847\n",
      "Avg train loss: 2.3920\n",
      "Avg train loss: 2.3222\n"
     ]
    },
    {
     "name": "stderr",
     "output_type": "stream",
     "text": [
      "\r",
      "Testing: 251it [50:40, 12.08s/it]"
     ]
    },
    {
     "name": "stdout",
     "output_type": "stream",
     "text": [
      "Avg train loss: 2.2656\n",
      "There are 2000 users in the env now.\n",
      "Updating model...\n",
      "Avg train loss: 1.8682\n",
      "Avg train loss: 1.7998\n",
      "Avg train loss: 1.7491\n",
      "Avg train loss: 1.7087\n"
     ]
    },
    {
     "name": "stderr",
     "output_type": "stream",
     "text": [
      "\r",
      "Testing: 252it [50:52, 12.02s/it]"
     ]
    },
    {
     "name": "stdout",
     "output_type": "stream",
     "text": [
      "Avg train loss: 1.6748\n",
      "There are 2000 users in the env now.\n",
      "Updating model...\n",
      "Avg train loss: 2.9360\n",
      "Avg train loss: 2.7581\n",
      "Avg train loss: 2.6427\n",
      "Avg train loss: 2.5582\n"
     ]
    },
    {
     "name": "stderr",
     "output_type": "stream",
     "text": [
      "\r",
      "Testing: 253it [51:04, 12.13s/it]"
     ]
    },
    {
     "name": "stdout",
     "output_type": "stream",
     "text": [
      "Avg train loss: 2.4910\n",
      "There are 2000 users in the env now.\n",
      "Updating model...\n",
      "Avg train loss: 15.4249\n",
      "Avg train loss: 15.4249\n",
      "Avg train loss: 15.4249\n",
      "Avg train loss: 15.4249\n"
     ]
    },
    {
     "name": "stderr",
     "output_type": "stream",
     "text": [
      "\r",
      "Testing: 254it [51:16, 12.05s/it]"
     ]
    },
    {
     "name": "stdout",
     "output_type": "stream",
     "text": [
      "Avg train loss: 15.4249\n",
      "There are 2000 users in the env now.\n",
      "Updating model...\n",
      "Avg train loss: 2.2745\n",
      "Avg train loss: 2.1748\n",
      "Avg train loss: 2.1037\n",
      "Avg train loss: 2.0486\n"
     ]
    },
    {
     "name": "stderr",
     "output_type": "stream",
     "text": [
      "\r",
      "Testing: 255it [51:28, 12.01s/it]"
     ]
    },
    {
     "name": "stdout",
     "output_type": "stream",
     "text": [
      "Avg train loss: 2.0032\n",
      "There are 2000 users in the env now.\n",
      "Updating model...\n",
      "Avg train loss: 2.1747\n",
      "Avg train loss: 2.0837\n",
      "Avg train loss: 2.0182\n",
      "Avg train loss: 1.9670\n"
     ]
    },
    {
     "name": "stderr",
     "output_type": "stream",
     "text": [
      "\r",
      "Testing: 256it [51:40, 12.01s/it]"
     ]
    },
    {
     "name": "stdout",
     "output_type": "stream",
     "text": [
      "Avg train loss: 1.9246\n",
      "There are 2000 users in the env now.\n",
      "Updating model...\n",
      "Avg train loss: 2.0203\n",
      "Avg train loss: 1.9414\n",
      "Avg train loss: 1.8837\n",
      "Avg train loss: 1.8382\n"
     ]
    },
    {
     "name": "stderr",
     "output_type": "stream",
     "text": [
      "\r",
      "Testing: 257it [51:52, 11.99s/it]"
     ]
    },
    {
     "name": "stdout",
     "output_type": "stream",
     "text": [
      "Avg train loss: 1.8003\n",
      "There are 2000 users in the env now.\n",
      "Updating model...\n",
      "Avg train loss: 2.0818\n",
      "Avg train loss: 1.9983\n",
      "Avg train loss: 1.9375\n",
      "Avg train loss: 1.8898\n"
     ]
    },
    {
     "name": "stderr",
     "output_type": "stream",
     "text": [
      "\r",
      "Testing: 258it [52:04, 11.96s/it]"
     ]
    },
    {
     "name": "stdout",
     "output_type": "stream",
     "text": [
      "Avg train loss: 1.8501\n",
      "There are 2000 users in the env now.\n",
      "Updating model...\n",
      "Avg train loss: 2.8935\n",
      "Avg train loss: 2.7219\n",
      "Avg train loss: 2.6097\n",
      "Avg train loss: 2.5272\n"
     ]
    },
    {
     "name": "stderr",
     "output_type": "stream",
     "text": [
      "\r",
      "Testing: 259it [52:16, 12.07s/it]"
     ]
    },
    {
     "name": "stdout",
     "output_type": "stream",
     "text": [
      "Avg train loss: 2.4614\n",
      "There are 2000 users in the env now.\n",
      "Updating model...\n",
      "Avg train loss: 3.3028\n",
      "Avg train loss: 3.0644\n",
      "Avg train loss: 2.9206\n",
      "Avg train loss: 2.8189\n"
     ]
    },
    {
     "name": "stderr",
     "output_type": "stream",
     "text": [
      "\r",
      "Testing: 260it [52:28, 12.02s/it]"
     ]
    },
    {
     "name": "stdout",
     "output_type": "stream",
     "text": [
      "Avg train loss: 2.7397\n",
      "There are 2000 users in the env now.\n",
      "Updating model...\n",
      "Avg train loss: 1.7261\n",
      "Avg train loss: 1.6663\n",
      "Avg train loss: 1.6214\n",
      "Avg train loss: 1.5855\n"
     ]
    },
    {
     "name": "stderr",
     "output_type": "stream",
     "text": [
      "\r",
      "Testing: 261it [52:40, 11.98s/it]"
     ]
    },
    {
     "name": "stdout",
     "output_type": "stream",
     "text": [
      "Avg train loss: 1.5551\n",
      "There are 2000 users in the env now.\n",
      "Updating model...\n",
      "Avg train loss: 15.4249\n",
      "Avg train loss: 15.4249\n",
      "Avg train loss: 15.4249\n",
      "Avg train loss: 15.4249\n"
     ]
    },
    {
     "name": "stderr",
     "output_type": "stream",
     "text": [
      "\r",
      "Testing: 262it [52:52, 11.98s/it]"
     ]
    },
    {
     "name": "stdout",
     "output_type": "stream",
     "text": [
      "Avg train loss: 15.4249\n",
      "There are 2000 users in the env now.\n",
      "Updating model...\n",
      "Avg train loss: 1.8797\n",
      "Avg train loss: 1.8422\n",
      "Avg train loss: 1.8081\n",
      "Avg train loss: 1.7777\n"
     ]
    },
    {
     "name": "stderr",
     "output_type": "stream",
     "text": [
      "\r",
      "Testing: 263it [53:04, 11.96s/it]"
     ]
    },
    {
     "name": "stdout",
     "output_type": "stream",
     "text": [
      "Avg train loss: 1.7504\n",
      "There are 2000 users in the env now.\n",
      "Updating model...\n",
      "Avg train loss: 3.3235\n",
      "Avg train loss: 3.0813\n",
      "Avg train loss: 2.9359\n",
      "Avg train loss: 2.8333\n"
     ]
    },
    {
     "name": "stderr",
     "output_type": "stream",
     "text": [
      "\r",
      "Testing: 264it [53:15, 11.96s/it]"
     ]
    },
    {
     "name": "stdout",
     "output_type": "stream",
     "text": [
      "Avg train loss: 2.7534\n",
      "There are 2000 users in the env now.\n",
      "Updating model...\n",
      "Avg train loss: 3.7680\n",
      "Avg train loss: 3.4395\n",
      "Avg train loss: 3.2617\n",
      "Avg train loss: 3.1412\n"
     ]
    },
    {
     "name": "stderr",
     "output_type": "stream",
     "text": [
      "\r",
      "Testing: 265it [53:28, 12.07s/it]"
     ]
    },
    {
     "name": "stdout",
     "output_type": "stream",
     "text": [
      "Avg train loss: 3.0490\n",
      "There are 2000 users in the env now.\n",
      "Updating model...\n",
      "Avg train loss: 15.4249\n",
      "Avg train loss: 15.4249\n",
      "Avg train loss: 15.4249\n",
      "Avg train loss: 15.4249\n"
     ]
    },
    {
     "name": "stderr",
     "output_type": "stream",
     "text": [
      "\r",
      "Testing: 266it [53:40, 12.03s/it]"
     ]
    },
    {
     "name": "stdout",
     "output_type": "stream",
     "text": [
      "Avg train loss: 15.4249\n",
      "There are 2000 users in the env now.\n",
      "Updating model...\n",
      "Avg train loss: 15.4249\n",
      "Avg train loss: 15.4249\n",
      "Avg train loss: 15.4249\n",
      "Avg train loss: 15.4249\n"
     ]
    },
    {
     "name": "stderr",
     "output_type": "stream",
     "text": [
      "\r",
      "Testing: 267it [53:52, 12.04s/it]"
     ]
    },
    {
     "name": "stdout",
     "output_type": "stream",
     "text": [
      "Avg train loss: 15.4249\n",
      "There are 2000 users in the env now.\n",
      "Updating model...\n",
      "Avg train loss: 3.3233\n",
      "Avg train loss: 3.0812\n",
      "Avg train loss: 2.9357\n",
      "Avg train loss: 2.8331\n"
     ]
    },
    {
     "name": "stderr",
     "output_type": "stream",
     "text": [
      "\r",
      "Testing: 268it [54:04, 12.05s/it]"
     ]
    },
    {
     "name": "stdout",
     "output_type": "stream",
     "text": [
      "Avg train loss: 2.7533\n",
      "There are 2000 users in the env now.\n",
      "Updating model...\n",
      "Avg train loss: 15.4249\n",
      "Avg train loss: 15.4249\n",
      "Avg train loss: 15.4249\n",
      "Avg train loss: 15.4249\n"
     ]
    },
    {
     "name": "stderr",
     "output_type": "stream",
     "text": [
      "\r",
      "Testing: 269it [54:16, 12.00s/it]"
     ]
    },
    {
     "name": "stdout",
     "output_type": "stream",
     "text": [
      "Avg train loss: 15.4249\n",
      "There are 2000 users in the env now.\n",
      "Updating model...\n",
      "Avg train loss: 2.1638\n",
      "Avg train loss: 2.0737\n",
      "Avg train loss: 2.0087\n",
      "Avg train loss: 1.9580\n"
     ]
    },
    {
     "name": "stderr",
     "output_type": "stream",
     "text": [
      "\r",
      "Testing: 270it [54:28, 12.02s/it]"
     ]
    },
    {
     "name": "stdout",
     "output_type": "stream",
     "text": [
      "Avg train loss: 1.9159\n",
      "There are 2000 users in the env now.\n",
      "Updating model...\n",
      "Avg train loss: 1.6662\n",
      "Avg train loss: 1.6096\n",
      "Avg train loss: 1.5671\n",
      "Avg train loss: 1.5329\n"
     ]
    },
    {
     "name": "stderr",
     "output_type": "stream",
     "text": [
      "\r",
      "Testing: 271it [54:40, 12.14s/it]"
     ]
    },
    {
     "name": "stdout",
     "output_type": "stream",
     "text": [
      "Avg train loss: 1.5040\n",
      "There are 2000 users in the env now.\n",
      "Congratulations!\n"
     ]
    },
    {
     "name": "stderr",
     "output_type": "stream",
     "text": [
      "\r",
      "Testing: 272it [54:43,  9.24s/it]"
     ]
    },
    {
     "name": "stdout",
     "output_type": "stream",
     "text": [
      "Avg train loss: 0.0000\n",
      "\n",
      "There are 2000 users in the env now.\n",
      "Updating model...\n",
      "Avg train loss: 2.7503\n",
      "Avg train loss: 2.5983\n",
      "Avg train loss: 2.4966\n",
      "Avg train loss: 2.4208\n"
     ]
    },
    {
     "name": "stderr",
     "output_type": "stream",
     "text": [
      "\r",
      "Testing: 273it [54:55, 10.17s/it]"
     ]
    },
    {
     "name": "stdout",
     "output_type": "stream",
     "text": [
      "Avg train loss: 2.3599\n",
      "There are 2000 users in the env now.\n",
      "Updating model...\n",
      "Avg train loss: 15.4249\n",
      "Avg train loss: 15.4249\n",
      "Avg train loss: 15.4249\n",
      "Avg train loss: 15.4249\n"
     ]
    },
    {
     "name": "stderr",
     "output_type": "stream",
     "text": [
      "\r",
      "Testing: 274it [55:07, 10.75s/it]"
     ]
    },
    {
     "name": "stdout",
     "output_type": "stream",
     "text": [
      "Avg train loss: 15.4249\n",
      "There are 2000 users in the env now.\n",
      "Updating model...\n",
      "Avg train loss: 4.1509\n",
      "Avg train loss: 3.7542\n",
      "Avg train loss: 3.5585\n",
      "Avg train loss: 3.4287\n"
     ]
    },
    {
     "name": "stderr",
     "output_type": "stream",
     "text": [
      "\r",
      "Testing: 275it [55:20, 11.28s/it]"
     ]
    },
    {
     "name": "stdout",
     "output_type": "stream",
     "text": [
      "Avg train loss: 3.3298\n",
      "There are 2000 users in the env now.\n",
      "Updating model...\n",
      "Avg train loss: 2.0398\n",
      "Avg train loss: 1.9594\n",
      "Avg train loss: 1.9008\n",
      "Avg train loss: 1.8546\n"
     ]
    },
    {
     "name": "stderr",
     "output_type": "stream",
     "text": [
      "\r",
      "Testing: 276it [55:32, 11.58s/it]"
     ]
    },
    {
     "name": "stdout",
     "output_type": "stream",
     "text": [
      "Avg train loss: 1.8161\n",
      "There are 2000 users in the env now.\n",
      "Updating model...\n",
      "Avg train loss: 15.4249\n",
      "Avg train loss: 15.4249\n",
      "Avg train loss: 15.4249\n",
      "Avg train loss: 15.4249\n"
     ]
    },
    {
     "name": "stderr",
     "output_type": "stream",
     "text": [
      "\r",
      "Testing: 277it [55:44, 11.73s/it]"
     ]
    },
    {
     "name": "stdout",
     "output_type": "stream",
     "text": [
      "Avg train loss: 15.4249\n",
      "There are 2000 users in the env now.\n",
      "Updating model...\n",
      "Avg train loss: 2.5248\n",
      "Avg train loss: 2.4000\n",
      "Avg train loss: 2.3136\n",
      "Avg train loss: 2.2480\n"
     ]
    },
    {
     "name": "stderr",
     "output_type": "stream",
     "text": [
      "\r",
      "Testing: 278it [55:57, 11.95s/it]"
     ]
    },
    {
     "name": "stdout",
     "output_type": "stream",
     "text": [
      "Avg train loss: 2.1947\n",
      "There are 2000 users in the env now.\n",
      "Updating model...\n",
      "Avg train loss: 3.3979\n",
      "Avg train loss: 3.1420\n",
      "Avg train loss: 2.9908\n",
      "Avg train loss: 2.8848\n"
     ]
    },
    {
     "name": "stderr",
     "output_type": "stream",
     "text": [
      "\r",
      "Testing: 279it [56:09, 12.06s/it]"
     ]
    },
    {
     "name": "stdout",
     "output_type": "stream",
     "text": [
      "Avg train loss: 2.8027\n",
      "There are 2000 users in the env now.\n",
      "Updating model...\n",
      "Avg train loss: 15.4249\n",
      "Avg train loss: 15.4249\n",
      "Avg train loss: 15.4249\n",
      "Avg train loss: 15.4249\n"
     ]
    },
    {
     "name": "stderr",
     "output_type": "stream",
     "text": [
      "\r",
      "Testing: 280it [56:21, 12.14s/it]"
     ]
    },
    {
     "name": "stdout",
     "output_type": "stream",
     "text": [
      "Avg train loss: 15.4249\n",
      "There are 2000 users in the env now.\n",
      "Updating model...\n",
      "Avg train loss: 2.2297\n",
      "Avg train loss: 2.1340\n",
      "Avg train loss: 2.0654\n",
      "Avg train loss: 2.0121\n"
     ]
    },
    {
     "name": "stderr",
     "output_type": "stream",
     "text": [
      "\r",
      "Testing: 281it [56:34, 12.31s/it]"
     ]
    },
    {
     "name": "stdout",
     "output_type": "stream",
     "text": [
      "Avg train loss: 1.9681\n",
      "There are 2000 users in the env now.\n",
      "Updating model...\n",
      "Avg train loss: 2.3794\n",
      "Avg train loss: 2.2698\n",
      "Avg train loss: 2.1926\n",
      "Avg train loss: 2.1332\n"
     ]
    },
    {
     "name": "stderr",
     "output_type": "stream",
     "text": [
      "\r",
      "Testing: 282it [56:46, 12.26s/it]"
     ]
    },
    {
     "name": "stdout",
     "output_type": "stream",
     "text": [
      "Avg train loss: 2.0846\n",
      "There are 2000 users in the env now.\n",
      "Updating model...\n",
      "Avg train loss: 2.6378\n",
      "Avg train loss: 2.4999\n",
      "Avg train loss: 2.4060\n",
      "Avg train loss: 2.3354\n"
     ]
    },
    {
     "name": "stderr",
     "output_type": "stream",
     "text": [
      "\r",
      "Testing: 283it [56:58, 12.25s/it]"
     ]
    },
    {
     "name": "stdout",
     "output_type": "stream",
     "text": [
      "Avg train loss: 2.2783\n",
      "There are 2000 users in the env now.\n",
      "Updating model...\n",
      "Avg train loss: 3.0562\n",
      "Avg train loss: 2.8599\n",
      "Avg train loss: 2.7353\n",
      "Avg train loss: 2.6451\n"
     ]
    },
    {
     "name": "stderr",
     "output_type": "stream",
     "text": [
      "\r",
      "Testing: 284it [57:11, 12.31s/it]"
     ]
    },
    {
     "name": "stdout",
     "output_type": "stream",
     "text": [
      "Avg train loss: 2.5739\n",
      "There are 2000 users in the env now.\n",
      "Updating model...\n",
      "Avg train loss: 15.4249\n",
      "Avg train loss: 15.4249\n",
      "Avg train loss: 15.4249\n",
      "Avg train loss: 15.4249\n"
     ]
    },
    {
     "name": "stderr",
     "output_type": "stream",
     "text": [
      "\r",
      "Testing: 285it [57:23, 12.20s/it]"
     ]
    },
    {
     "name": "stdout",
     "output_type": "stream",
     "text": [
      "Avg train loss: 15.4249\n",
      "There are 2000 users in the env now.\n",
      "Updating model...\n",
      "Avg train loss: 2.6448\n",
      "Avg train loss: 2.5060\n",
      "Avg train loss: 2.4117\n",
      "Avg train loss: 2.3407\n"
     ]
    },
    {
     "name": "stderr",
     "output_type": "stream",
     "text": [
      "\r",
      "Testing: 286it [57:35, 12.13s/it]"
     ]
    },
    {
     "name": "stdout",
     "output_type": "stream",
     "text": [
      "Avg train loss: 2.2834\n",
      "There are 2000 users in the env now.\n",
      "Updating model...\n",
      "Avg train loss: 3.5356\n",
      "Avg train loss: 3.2532\n",
      "Avg train loss: 3.0915\n",
      "Avg train loss: 2.9797\n"
     ]
    },
    {
     "name": "stderr",
     "output_type": "stream",
     "text": [
      "\r",
      "Testing: 287it [57:47, 12.20s/it]"
     ]
    },
    {
     "name": "stdout",
     "output_type": "stream",
     "text": [
      "Avg train loss: 2.8936\n",
      "There are 2000 users in the env now.\n",
      "Updating model...\n",
      "Avg train loss: 15.4249\n",
      "Avg train loss: 15.4249\n",
      "Avg train loss: 15.4249\n",
      "Avg train loss: 15.4249\n"
     ]
    },
    {
     "name": "stderr",
     "output_type": "stream",
     "text": [
      "\r",
      "Testing: 288it [57:59, 12.11s/it]"
     ]
    },
    {
     "name": "stdout",
     "output_type": "stream",
     "text": [
      "Avg train loss: 15.4249\n",
      "There are 2000 users in the env now.\n",
      "Updating model...\n",
      "Avg train loss: 4.2064\n",
      "Avg train loss: 3.8025\n",
      "Avg train loss: 3.6057\n",
      "Avg train loss: 3.4753\n"
     ]
    },
    {
     "name": "stderr",
     "output_type": "stream",
     "text": [
      "\r",
      "Testing: 289it [58:11, 12.07s/it]"
     ]
    },
    {
     "name": "stdout",
     "output_type": "stream",
     "text": [
      "Avg train loss: 3.3759\n",
      "There are 2000 users in the env now.\n",
      "Updating model...\n",
      "Avg train loss: 2.4603\n",
      "Avg train loss: 2.3424\n",
      "Avg train loss: 2.2602\n",
      "Avg train loss: 2.1974\n"
     ]
    },
    {
     "name": "stderr",
     "output_type": "stream",
     "text": [
      "\r",
      "Testing: 290it [58:23, 12.15s/it]"
     ]
    },
    {
     "name": "stdout",
     "output_type": "stream",
     "text": [
      "Avg train loss: 2.1462\n",
      "There are 2000 users in the env now.\n",
      "Updating model...\n",
      "Avg train loss: 2.6624\n",
      "Avg train loss: 2.5215\n",
      "Avg train loss: 2.4260\n",
      "Avg train loss: 2.3542\n"
     ]
    },
    {
     "name": "stderr",
     "output_type": "stream",
     "text": [
      "\r",
      "Testing: 291it [58:35, 12.08s/it]"
     ]
    },
    {
     "name": "stdout",
     "output_type": "stream",
     "text": [
      "Avg train loss: 2.2963\n",
      "There are 2000 users in the env now.\n",
      "Updating model...\n",
      "Avg train loss: 2.2271\n",
      "Avg train loss: 2.1316\n",
      "Avg train loss: 2.0632\n",
      "Avg train loss: 2.0100\n"
     ]
    },
    {
     "name": "stderr",
     "output_type": "stream",
     "text": [
      "\r",
      "Testing: 292it [58:47, 12.04s/it]"
     ]
    },
    {
     "name": "stdout",
     "output_type": "stream",
     "text": [
      "Avg train loss: 1.9660\n",
      "There are 2000 users in the env now.\n",
      "Updating model...\n",
      "Avg train loss: 3.9755\n",
      "Avg train loss: 3.6072\n",
      "Avg train loss: 3.4179\n",
      "Avg train loss: 3.2914\n"
     ]
    },
    {
     "name": "stderr",
     "output_type": "stream",
     "text": [
      "\r",
      "Testing: 293it [58:59, 12.13s/it]"
     ]
    },
    {
     "name": "stdout",
     "output_type": "stream",
     "text": [
      "Avg train loss: 3.1950\n",
      "There are 2000 users in the env now.\n",
      "Updating model...\n",
      "Avg train loss: 2.6871\n",
      "Avg train loss: 2.5432\n",
      "Avg train loss: 2.4459\n",
      "Avg train loss: 2.3730\n"
     ]
    },
    {
     "name": "stderr",
     "output_type": "stream",
     "text": [
      "\r",
      "Testing: 294it [59:11, 12.11s/it]"
     ]
    },
    {
     "name": "stdout",
     "output_type": "stream",
     "text": [
      "Avg train loss: 2.3143\n",
      "There are 2000 users in the env now.\n",
      "Updating model...\n",
      "Avg train loss: 2.4179\n",
      "Avg train loss: 2.3050\n",
      "Avg train loss: 2.2256\n",
      "Avg train loss: 2.1647\n"
     ]
    },
    {
     "name": "stderr",
     "output_type": "stream",
     "text": [
      "\r",
      "Testing: 295it [59:23, 12.07s/it]"
     ]
    },
    {
     "name": "stdout",
     "output_type": "stream",
     "text": [
      "Avg train loss: 2.1149\n",
      "There are 2000 users in the env now.\n",
      "Updating model...\n",
      "Avg train loss: 3.2126\n",
      "Avg train loss: 2.9902\n",
      "Avg train loss: 2.8534\n",
      "Avg train loss: 2.7559\n"
     ]
    },
    {
     "name": "stderr",
     "output_type": "stream",
     "text": [
      "\r",
      "Testing: 296it [59:35, 12.06s/it]"
     ]
    },
    {
     "name": "stdout",
     "output_type": "stream",
     "text": [
      "Avg train loss: 2.6795\n",
      "There are 2000 users in the env now.\n",
      "Updating model...\n",
      "Avg train loss: 15.4249\n",
      "Avg train loss: 15.4249\n",
      "Avg train loss: 15.4249\n",
      "Avg train loss: 15.4249\n"
     ]
    },
    {
     "name": "stderr",
     "output_type": "stream",
     "text": [
      "\r",
      "Testing: 297it [59:47, 12.02s/it]"
     ]
    },
    {
     "name": "stdout",
     "output_type": "stream",
     "text": [
      "Avg train loss: 15.4249\n",
      "There are 2000 users in the env now.\n",
      "Updating model...\n",
      "Avg train loss: 15.4249\n",
      "Avg train loss: 15.4249\n",
      "Avg train loss: 15.4249\n",
      "Avg train loss: 15.4249\n"
     ]
    },
    {
     "name": "stderr",
     "output_type": "stream",
     "text": [
      "\r",
      "Testing: 298it [59:59, 12.02s/it]"
     ]
    },
    {
     "name": "stdout",
     "output_type": "stream",
     "text": [
      "Avg train loss: 15.4249\n",
      "There are 2000 users in the env now.\n",
      "Updating model...\n",
      "Avg train loss: 3.1299\n",
      "Avg train loss: 2.9216\n",
      "Avg train loss: 2.7913\n",
      "Avg train loss: 2.6976\n"
     ]
    },
    {
     "name": "stderr",
     "output_type": "stream",
     "text": [
      "\r",
      "Testing: 299it [1:00:12, 12.13s/it]"
     ]
    },
    {
     "name": "stdout",
     "output_type": "stream",
     "text": [
      "Avg train loss: 2.6239\n",
      "There are 2000 users in the env now.\n",
      "Updating model...\n",
      "Avg train loss: 15.4249\n",
      "Avg train loss: 15.4249\n",
      "Avg train loss: 15.4249\n",
      "Avg train loss: 15.4249\n"
     ]
    },
    {
     "name": "stderr",
     "output_type": "stream",
     "text": [
      "\r",
      "Testing: 300it [1:00:24, 12.08s/it]"
     ]
    },
    {
     "name": "stdout",
     "output_type": "stream",
     "text": [
      "Avg train loss: 15.4249\n",
      "There are 2000 users in the env now.\n",
      "Updating model...\n",
      "Avg train loss: 3.3304\n",
      "Avg train loss: 3.0870\n",
      "Avg train loss: 2.9410\n",
      "Avg train loss: 2.8381\n"
     ]
    },
    {
     "name": "stderr",
     "output_type": "stream",
     "text": [
      "\r",
      "Testing: 301it [1:00:36, 12.05s/it]"
     ]
    },
    {
     "name": "stdout",
     "output_type": "stream",
     "text": [
      "Avg train loss: 2.7580\n",
      "There are 2000 users in the env now.\n",
      "Updating model...\n",
      "Avg train loss: 3.4770\n",
      "Avg train loss: 3.2060\n",
      "Avg train loss: 3.0487\n",
      "Avg train loss: 2.9394\n"
     ]
    },
    {
     "name": "stderr",
     "output_type": "stream",
     "text": [
      "\r",
      "Testing: 302it [1:00:48, 12.16s/it]"
     ]
    },
    {
     "name": "stdout",
     "output_type": "stream",
     "text": [
      "Avg train loss: 2.8549\n",
      "There are 2000 users in the env now.\n",
      "Updating model...\n",
      "Avg train loss: 1.9855\n",
      "Avg train loss: 1.9091\n",
      "Avg train loss: 1.8531\n",
      "Avg train loss: 1.8088\n"
     ]
    },
    {
     "name": "stderr",
     "output_type": "stream",
     "text": [
      "\r",
      "Testing: 303it [1:01:00, 12.09s/it]"
     ]
    },
    {
     "name": "stdout",
     "output_type": "stream",
     "text": [
      "Avg train loss: 1.7718\n",
      "There are 2000 users in the env now.\n",
      "Updating model...\n",
      "Avg train loss: 4.2985\n",
      "Avg train loss: 3.8852\n",
      "Avg train loss: 3.6876\n",
      "Avg train loss: 3.5566\n"
     ]
    },
    {
     "name": "stderr",
     "output_type": "stream",
     "text": [
      "\r",
      "Testing: 304it [1:01:12, 12.04s/it]"
     ]
    },
    {
     "name": "stdout",
     "output_type": "stream",
     "text": [
      "Avg train loss: 3.4566\n",
      "There are 2000 users in the env now.\n",
      "Updating model...\n",
      "Avg train loss: 15.4249\n",
      "Avg train loss: 15.4249\n",
      "Avg train loss: 15.4249\n",
      "Avg train loss: 15.4249\n"
     ]
    },
    {
     "name": "stderr",
     "output_type": "stream",
     "text": [
      "\r",
      "Testing: 305it [1:01:24, 12.04s/it]"
     ]
    },
    {
     "name": "stdout",
     "output_type": "stream",
     "text": [
      "Avg train loss: 15.4249\n",
      "There are 2000 users in the env now.\n",
      "Updating model...\n",
      "Avg train loss: 3.9120\n",
      "Avg train loss: 3.5554\n",
      "Avg train loss: 3.3692\n",
      "Avg train loss: 3.2443\n"
     ]
    },
    {
     "name": "stderr",
     "output_type": "stream",
     "text": [
      "\r",
      "Testing: 306it [1:01:36, 12.02s/it]"
     ]
    },
    {
     "name": "stdout",
     "output_type": "stream",
     "text": [
      "Avg train loss: 3.1491\n",
      "There are 2000 users in the env now.\n",
      "Congratulations!\n"
     ]
    },
    {
     "name": "stderr",
     "output_type": "stream",
     "text": [
      "\r",
      "Testing: 307it [1:01:38,  9.13s/it]"
     ]
    },
    {
     "name": "stdout",
     "output_type": "stream",
     "text": [
      "Avg train loss: 0.5892\n",
      "\n",
      "There are 2000 users in the env now.\n",
      "Updating model...\n",
      "Avg train loss: 2.2895\n",
      "Avg train loss: 2.1885\n",
      "Avg train loss: 2.1165\n",
      "Avg train loss: 2.0609\n"
     ]
    },
    {
     "name": "stderr",
     "output_type": "stream",
     "text": [
      "\r",
      "Testing: 308it [1:01:50,  9.99s/it]"
     ]
    },
    {
     "name": "stdout",
     "output_type": "stream",
     "text": [
      "Avg train loss: 2.0150\n",
      "There are 2000 users in the env now.\n",
      "Updating model...\n",
      "Avg train loss: 2.0709\n",
      "Avg train loss: 1.9882\n",
      "Avg train loss: 1.9280\n",
      "Avg train loss: 1.8807\n"
     ]
    },
    {
     "name": "stderr",
     "output_type": "stream",
     "text": [
      "\r",
      "Testing: 309it [1:02:03, 10.70s/it]"
     ]
    },
    {
     "name": "stdout",
     "output_type": "stream",
     "text": [
      "Avg train loss: 1.8413\n",
      "There are 2000 users in the env now.\n",
      "Updating model...\n",
      "Avg train loss: 2.6748\n",
      "Avg train loss: 2.6058\n",
      "Avg train loss: 2.5450\n",
      "Avg train loss: 2.4924\n"
     ]
    },
    {
     "name": "stderr",
     "output_type": "stream",
     "text": [
      "\r",
      "Testing: 310it [1:02:15, 11.08s/it]"
     ]
    },
    {
     "name": "stdout",
     "output_type": "stream",
     "text": [
      "Avg train loss: 2.4463\n",
      "There are 2000 users in the env now.\n",
      "Updating model...\n",
      "Avg train loss: 15.4249\n",
      "Avg train loss: 15.4249\n",
      "Avg train loss: 15.4249\n",
      "Avg train loss: 15.4249\n"
     ]
    },
    {
     "name": "stderr",
     "output_type": "stream",
     "text": [
      "\r",
      "Testing: 311it [1:02:27, 11.34s/it]"
     ]
    },
    {
     "name": "stdout",
     "output_type": "stream",
     "text": [
      "Avg train loss: 15.4249\n",
      "There are 2000 users in the env now.\n",
      "Updating model...\n",
      "Avg train loss: 3.3109\n",
      "Avg train loss: 3.0711\n",
      "Avg train loss: 2.9266\n",
      "Avg train loss: 2.8246\n"
     ]
    },
    {
     "name": "stderr",
     "output_type": "stream",
     "text": [
      "\r",
      "Testing: 312it [1:02:39, 11.62s/it]"
     ]
    },
    {
     "name": "stdout",
     "output_type": "stream",
     "text": [
      "Avg train loss: 2.7451\n",
      "There are 2000 users in the env now.\n",
      "Updating model...\n",
      "Avg train loss: 2.3991\n",
      "Avg train loss: 2.2875\n",
      "Avg train loss: 2.2091\n",
      "Avg train loss: 2.1489\n"
     ]
    },
    {
     "name": "stderr",
     "output_type": "stream",
     "text": [
      "\r",
      "Testing: 313it [1:02:51, 11.71s/it]"
     ]
    },
    {
     "name": "stdout",
     "output_type": "stream",
     "text": [
      "Avg train loss: 2.0997\n",
      "There are 2000 users in the env now.\n",
      "Updating model...\n",
      "Avg train loss: 3.3180\n",
      "Avg train loss: 3.0769\n",
      "Avg train loss: 2.9318\n",
      "Avg train loss: 2.8295\n"
     ]
    },
    {
     "name": "stderr",
     "output_type": "stream",
     "text": [
      "\r",
      "Testing: 314it [1:03:03, 11.91s/it]"
     ]
    },
    {
     "name": "stdout",
     "output_type": "stream",
     "text": [
      "Avg train loss: 2.7498\n",
      "There are 2000 users in the env now.\n",
      "Updating model...\n",
      "Avg train loss: 2.7721\n",
      "Avg train loss: 2.6172\n",
      "Avg train loss: 2.5139\n",
      "Avg train loss: 2.4371\n"
     ]
    },
    {
     "name": "stderr",
     "output_type": "stream",
     "text": [
      "\r",
      "Testing: 315it [1:03:15, 11.95s/it]"
     ]
    },
    {
     "name": "stdout",
     "output_type": "stream",
     "text": [
      "Avg train loss: 2.3755\n",
      "There are 2000 users in the env now.\n",
      "Updating model...\n",
      "Avg train loss: 15.4249\n",
      "Avg train loss: 15.4249\n",
      "Avg train loss: 15.4249\n",
      "Avg train loss: 15.4249\n"
     ]
    },
    {
     "name": "stderr",
     "output_type": "stream",
     "text": [
      "\r",
      "Testing: 316it [1:03:27, 11.96s/it]"
     ]
    },
    {
     "name": "stdout",
     "output_type": "stream",
     "text": [
      "Avg train loss: 15.4249\n",
      "There are 2000 users in the env now.\n",
      "Updating model...\n",
      "Avg train loss: 2.2047\n",
      "Avg train loss: 2.1277\n",
      "Avg train loss: 2.0673\n",
      "Avg train loss: 2.0183\n"
     ]
    },
    {
     "name": "stderr",
     "output_type": "stream",
     "text": [
      "\r",
      "Testing: 317it [1:03:39, 11.98s/it]"
     ]
    },
    {
     "name": "stdout",
     "output_type": "stream",
     "text": [
      "Avg train loss: 1.9770\n",
      "There are 2000 users in the env now.\n",
      "Updating model...\n",
      "Avg train loss: 15.4249\n",
      "Avg train loss: 15.4249\n",
      "Avg train loss: 15.4249\n",
      "Avg train loss: 15.4249\n"
     ]
    },
    {
     "name": "stderr",
     "output_type": "stream",
     "text": [
      "\r",
      "Testing: 318it [1:03:52, 12.09s/it]"
     ]
    },
    {
     "name": "stdout",
     "output_type": "stream",
     "text": [
      "Avg train loss: 15.4249\n",
      "There are 2000 users in the env now.\n",
      "Updating model...\n",
      "Avg train loss: 2.7026\n",
      "Avg train loss: 2.5567\n",
      "Avg train loss: 2.4584\n",
      "Avg train loss: 2.3848\n"
     ]
    },
    {
     "name": "stderr",
     "output_type": "stream",
     "text": [
      "\r",
      "Testing: 319it [1:04:04, 12.05s/it]"
     ]
    },
    {
     "name": "stdout",
     "output_type": "stream",
     "text": [
      "Avg train loss: 2.3255\n",
      "There are 2000 users in the env now.\n",
      "Updating model...\n",
      "Avg train loss: 2.9186\n",
      "Avg train loss: 2.7433\n",
      "Avg train loss: 2.6292\n",
      "Avg train loss: 2.5455\n"
     ]
    },
    {
     "name": "stderr",
     "output_type": "stream",
     "text": [
      "\r",
      "Testing: 320it [1:04:16, 12.15s/it]"
     ]
    },
    {
     "name": "stdout",
     "output_type": "stream",
     "text": [
      "Avg train loss: 2.4790\n",
      "There are 2000 users in the env now.\n",
      "Updating model...\n",
      "Avg train loss: 15.4249\n",
      "Avg train loss: 15.4249\n",
      "Avg train loss: 15.4249\n",
      "Avg train loss: 15.4249\n"
     ]
    },
    {
     "name": "stderr",
     "output_type": "stream",
     "text": [
      "\r",
      "Testing: 321it [1:04:28, 12.17s/it]"
     ]
    },
    {
     "name": "stdout",
     "output_type": "stream",
     "text": [
      "Avg train loss: 15.4249\n",
      "There are 2000 users in the env now.\n",
      "Updating model...\n",
      "Avg train loss: 1.8682\n",
      "Avg train loss: 1.7998\n",
      "Avg train loss: 1.7491\n",
      "Avg train loss: 1.7087\n"
     ]
    },
    {
     "name": "stderr",
     "output_type": "stream",
     "text": [
      "\r",
      "Testing: 322it [1:04:40, 12.13s/it]"
     ]
    },
    {
     "name": "stdout",
     "output_type": "stream",
     "text": [
      "Avg train loss: 1.6749\n",
      "There are 2000 users in the env now.\n",
      "Updating model...\n",
      "Avg train loss: 15.4249\n",
      "Avg train loss: 15.4249\n",
      "Avg train loss: 15.4249\n",
      "Avg train loss: 15.4249\n"
     ]
    },
    {
     "name": "stderr",
     "output_type": "stream",
     "text": [
      "\r",
      "Testing: 323it [1:04:52, 12.11s/it]"
     ]
    },
    {
     "name": "stdout",
     "output_type": "stream",
     "text": [
      "Avg train loss: 15.4249\n",
      "There are 2000 users in the env now.\n",
      "Updating model...\n",
      "Avg train loss: 4.2952\n",
      "Avg train loss: 3.8822\n",
      "Avg train loss: 3.6846\n",
      "Avg train loss: 3.5536\n"
     ]
    },
    {
     "name": "stderr",
     "output_type": "stream",
     "text": [
      "\r",
      "Testing: 324it [1:05:04, 12.10s/it]"
     ]
    },
    {
     "name": "stdout",
     "output_type": "stream",
     "text": [
      "Avg train loss: 3.4536\n",
      "There are 2000 users in the env now.\n",
      "Updating model...\n",
      "Avg train loss: 15.4249\n"
     ]
    }
   ],
   "source": [
    "# Initialize the testing environment\n",
    "test_env = TestingEnvironment()\n",
    "scores = []\n",
    "\n",
    "# The item_ids here is for the random recommender\n",
    "item_ids = [i for i in range(N_ITEMS)]\n",
    "\n",
    "# Create a new DataFrame to hold the appended data\n",
    "df_clicked_new = df_clicked.copy()\n",
    "\n",
    "# Create a Checkpoint object for the initial weights\n",
    "initial_checkpoint = tf.train.Checkpoint(model=model)\n",
    "initial_checkpoint.restore('./weight/init/ckpt-200')\n",
    "\n",
    "# Repeat the testing process for 5 times\n",
    "for episode in range(1, TEST_EPISODES+1):\n",
    "    # [TODO] Load your model weights here (in the beginning of each testing episode)\n",
    "    # [TODO] Code for loading your model weights...\n",
    "    initial_checkpoint.restore('./weight/init/ckpt-200')\n",
    "    \n",
    "    N = 2000\n",
    "    # Start the testing process\n",
    "    with tqdm(desc='Testing') as pbar:\n",
    "        # Run as long as there exist some active users\n",
    "        while test_env.has_next_state():\n",
    "            # Get the current user id\n",
    "            cur_user = test_env.get_state()\n",
    "\n",
    "            # [TODO] Employ your recommendation policy to generate a slate of 5 distinct items\n",
    "            # [TODO] Code for generating the recommended slate...\n",
    "            # Here we provide a simple random implementation\n",
    "            # slate = random.sample(item_ids, k=SLATE_SIZE)\n",
    "            recommended_items = model.eval_predict_onestep(cur_user)\n",
    "            slate = recommended_items\n",
    "            # Get the response of the slate from the environment\n",
    "            clicked_id, in_environment = test_env.get_response(slate)\n",
    "            \n",
    "            # [TODO] Update your model here (optional)\n",
    "            # [TODO] You can update your model at each step, or perform a batched update after some interval\n",
    "            # [TODO] Code for updating your model...\n",
    "            CKP_PATH = f'./weight/episode_{episode}/'\n",
    "            \n",
    "            if clicked_id != -1:\n",
    "                print('Congratulations!')\n",
    "                new_row = [cur_user, clicked_id, 1]\n",
    "                df_clicked_new = pd.concat([df_clicked_new, pd.DataFrame([new_row], columns=df_clicked.columns)], ignore_index=True)\n",
    "                \n",
    "                train_loss = []\n",
    "                for epoch in range(1, 21):\n",
    "                    # Train the model with the new interaction\n",
    "                    user_ids = tf.convert_to_tensor([cur_user], dtype=tf.int32)\n",
    "                    item_ids = tf.convert_to_tensor([clicked_id], dtype=tf.int32)\n",
    "                    y_true = tf.convert_to_tensor([1.0], dtype=tf.float32)\n",
    "\n",
    "                    with tf.GradientTape() as tape:\n",
    "                        y_pred = model(user_ids, item_ids)\n",
    "                        loss = model.compute_loss(y_true, y_pred, model.reg_train)\n",
    "\n",
    "                    gradients = tape.gradient(loss, model.trainable_variables)\n",
    "                    model.optimizer.apply_gradients(zip(gradients, model.trainable_variables))\n",
    "                    \n",
    "                    train_loss.append(loss.numpy())\n",
    "                        \n",
    "                avg_train_loss = np.mean(train_loss)\n",
    "                print(f'Avg train loss: {avg_train_loss:.4f}\\n')\n",
    "                \n",
    "            else:\n",
    "                print('Updating model...')\n",
    "                for i in slate:\n",
    "                    new_row = [cur_user, i.numpy().item(), 0]\n",
    "                    df_clicked_new = pd.concat([df_clicked_new, pd.DataFrame([new_row], columns=df_clicked.columns)], ignore_index=True)\n",
    "                    \n",
    "                    train_loss = []\n",
    "                    for epoch in range(1, 21):\n",
    "                        train_loss = []\n",
    "                        # Train the model with the new interaction\n",
    "                        user_ids = tf.convert_to_tensor([cur_user], dtype=tf.int32)\n",
    "                        item_ids = tf.convert_to_tensor([clicked_id], dtype=tf.int32)\n",
    "                        y_true = tf.convert_to_tensor([1.0], dtype=tf.float32)\n",
    "\n",
    "                        with tf.GradientTape() as tape:\n",
    "                            y_pred = model(user_ids, item_ids)\n",
    "                            loss = model.compute_loss(y_true, y_pred, model.reg_train)\n",
    "\n",
    "                        gradients = tape.gradient(loss, model.trainable_variables)\n",
    "                        model.optimizer.apply_gradients(zip(gradients, model.trainable_variables))\n",
    "                        \n",
    "                        train_loss.append(loss.numpy())\n",
    "                            \n",
    "                    avg_train_loss = np.mean(train_loss)\n",
    "                    print(f'Avg train loss: {avg_train_loss:.4f}')\n",
    "            \n",
    "            if in_environment == True:\n",
    "                print(f'There are {N} users in the env now.')\n",
    "            else:\n",
    "                N -= 1\n",
    "                print(f'There are {N} users in the env now.')\n",
    "                     \n",
    "            # Update the progress indicator\n",
    "            pbar.update(1)\n",
    "\n",
    "    # Record the score of this testing episode\n",
    "    scores.append(test_env.get_score())\n",
    "\n",
    "    # Reset the testing environment\n",
    "    test_env.reset()\n",
    "\n",
    "    # [TODO] Delete or reset your model weights here (in the end of each testing episode)\n",
    "    # [TODO] Code for deleting your model weights...\n",
    "    model.set_weights(initial_checkpoint.model.get_weights())\n",
    "\n",
    "# Calculate the average scores \n",
    "avg_scores = [np.average(score) for score in zip(*scores)]\n",
    "\n",
    "# Generate a DataFrame to output the result in a .csv file\n",
    "df_result = pd.DataFrame([[user_id, avg_score] for user_id, avg_score in enumerate(avg_scores)], columns=['user_id', 'avg_score'])\n",
    "df_result.to_csv(OUTPUT_PATH, index=False)\n",
    "df_result"
   ]
  },
  {
   "cell_type": "markdown",
   "metadata": {},
   "source": [
    "## Scoring\n",
    "\n",
    "- Ranking of **private** leaderboard of the Kaggle competition. (80%)\n",
    "- Report. (20%)\n",
    "\n",
    "### How is the Score For Ranking Calculated:\n",
    "\n",
    "We will calculate the MAE (Mean Absolute Error) between your submitted `output.csv` and a \"ground-truth\" of all 1s. The lower the better.\n",
    "\n",
    "### Your Report Should Contain:\n",
    "\n",
    "- Models you have tried during the competition. Briefly describe the main idea of the model and the reason why you chose that model.\n",
    "- List the experiments you have done. For instance, data collecting, utilizing the user / item datasets, hyperparameters tuning, training process, and so on.\n",
    "- Discussions, lessons learned, or anything else worth mentioning.\n",
    "- **Ensure your report notebook contains your training and testing code. We will re-run your code if we find your score on Kaggle suspicious.**\n",
    "\n",
    "Please name your report as `DL_comp4_{Your Team name}_report.ipynb.` and submit your report to the eeclass system before the deadline."
   ]
  },
  {
   "cell_type": "markdown",
   "metadata": {},
   "source": [
    "## What You Can Do\n",
    "\n",
    "- Implement any recommender models.\n",
    "- Collect data through accessing the **public methods provided by the environments** (i.e. methods listed in the ***Environment Public Methods*** section) and train your model.\n",
    "- Use the provided user history data (`dataset/user_data.json`) and item text description data (`dataset/item_data.json`) as auxiliary data to aid your model training.\n",
    "- Update the model during one testing episode while **following the rules mentioned in the ***Testing*** section.**\n",
    "- You can use a pretrained text encoder if you need text embeddings for the item text descriptions. **(This is the only part you can use a pretrained model in this competition.)**"
   ]
  },
  {
   "cell_type": "markdown",
   "metadata": {},
   "source": [
    "## What You CAN NOT Do\n",
    "\n",
    "- Use any dataset other than the provided ones. Using the original News Category Dataset is also prohibited.\n",
    "- Use any pretrained recommender models.\n",
    "- Plagiarize other teams' work.\n",
    "- Hack our simulation environments. Any attempt of accessing or modifying the data files in the `evaluation` directory, modifying the source code of the environments, accessing or modifying the private attributes and methods (i.e. methods and attributes not listed in the ***Environment Public Methods*** section), not following the rules in the ***Testing*** section, or any other forbidden actions mentioned in the previous section of the notebook will be regarded as cheating."
   ]
  },
  {
   "cell_type": "markdown",
   "metadata": {},
   "source": [
    "## Competition Timeline\n",
    "\n",
    "- 2024/01/08 (Mon): Competition launched.\n",
    "- 2024/01/15 (Mon) 08:00 (TW): Competition deadline.\n",
    "- 2024/01/16 (Tue) 12:00 (TW): Report deadline.\n",
    "- 2024/01/16 (Tue) 15:30 (TW): Top-3 teams sharing."
   ]
  },
  {
   "cell_type": "markdown",
   "metadata": {},
   "source": [
    "## References\n",
    "\n",
    "1. Misra, Rishabh. \"News Category Dataset.\" arXiv preprint arXiv:2209.11429 (2022).\n",
    "2. Misra, Rishabh and Jigyasa Grover. \"Sculpting Data for ML: The first act of Machine Learning.\" ISBN 9798585463570 (2021)."
   ]
  }
 ],
 "metadata": {
  "kernelspec": {
   "display_name": "Python 3 (ipykernel)",
   "language": "python",
   "name": "python3"
  },
  "language_info": {
   "codemirror_mode": {
    "name": "ipython",
    "version": 3
   },
   "file_extension": ".py",
   "mimetype": "text/x-python",
   "name": "python",
   "nbconvert_exporter": "python",
   "pygments_lexer": "ipython3",
   "version": "3.9.18"
  }
 },
 "nbformat": 4,
 "nbformat_minor": 2
}
