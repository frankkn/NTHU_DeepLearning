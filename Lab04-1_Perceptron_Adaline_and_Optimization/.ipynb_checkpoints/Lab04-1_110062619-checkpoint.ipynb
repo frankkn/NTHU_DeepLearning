{
 "cells": [
  {
   "cell_type": "markdown",
   "id": "25ab20c5",
   "metadata": {},
   "source": [
    "# Lab04-1: Perceptron, Adaline, and Optimization\n",
    "\n",
    "---\n",
    "\n",
    "Implement the Adaline with SGD which can set different batch_size (M) as parameter. Then, use the Iris dataset to fit your model with 3 different (including) and fixed learning rate and print out the accuracy of each model. Last, plot the cost against the number of epochs using different in one figure."
   ]
  },
  {
   "cell_type": "markdown",
   "id": "d58fead6",
   "metadata": {},
   "source": [
    "## 1. Preprocessing: Split training and testing data & Standardization"
   ]
  },
  {
   "cell_type": "code",
   "execution_count": 1,
   "id": "cef784fc",
   "metadata": {},
   "outputs": [
    {
     "data": {
      "text/html": [
       "<div>\n",
       "<style scoped>\n",
       "    .dataframe tbody tr th:only-of-type {\n",
       "        vertical-align: middle;\n",
       "    }\n",
       "\n",
       "    .dataframe tbody tr th {\n",
       "        vertical-align: top;\n",
       "    }\n",
       "\n",
       "    .dataframe thead th {\n",
       "        text-align: right;\n",
       "    }\n",
       "</style>\n",
       "<table border=\"1\" class=\"dataframe\">\n",
       "  <thead>\n",
       "    <tr style=\"text-align: right;\">\n",
       "      <th></th>\n",
       "      <th>Sepal length</th>\n",
       "      <th>Sepal width</th>\n",
       "      <th>Petal length</th>\n",
       "      <th>Petal width</th>\n",
       "      <th>Class label</th>\n",
       "    </tr>\n",
       "  </thead>\n",
       "  <tbody>\n",
       "    <tr>\n",
       "      <th>0</th>\n",
       "      <td>5.1</td>\n",
       "      <td>3.5</td>\n",
       "      <td>1.4</td>\n",
       "      <td>0.2</td>\n",
       "      <td>Iris-setosa</td>\n",
       "    </tr>\n",
       "    <tr>\n",
       "      <th>1</th>\n",
       "      <td>4.9</td>\n",
       "      <td>3.0</td>\n",
       "      <td>1.4</td>\n",
       "      <td>0.2</td>\n",
       "      <td>Iris-setosa</td>\n",
       "    </tr>\n",
       "    <tr>\n",
       "      <th>2</th>\n",
       "      <td>4.7</td>\n",
       "      <td>3.2</td>\n",
       "      <td>1.3</td>\n",
       "      <td>0.2</td>\n",
       "      <td>Iris-setosa</td>\n",
       "    </tr>\n",
       "    <tr>\n",
       "      <th>3</th>\n",
       "      <td>4.6</td>\n",
       "      <td>3.1</td>\n",
       "      <td>1.5</td>\n",
       "      <td>0.2</td>\n",
       "      <td>Iris-setosa</td>\n",
       "    </tr>\n",
       "    <tr>\n",
       "      <th>4</th>\n",
       "      <td>5.0</td>\n",
       "      <td>3.6</td>\n",
       "      <td>1.4</td>\n",
       "      <td>0.2</td>\n",
       "      <td>Iris-setosa</td>\n",
       "    </tr>\n",
       "  </tbody>\n",
       "</table>\n",
       "</div>"
      ],
      "text/plain": [
       "   Sepal length  Sepal width  Petal length  Petal width  Class label\n",
       "0           5.1          3.5           1.4          0.2  Iris-setosa\n",
       "1           4.9          3.0           1.4          0.2  Iris-setosa\n",
       "2           4.7          3.2           1.3          0.2  Iris-setosa\n",
       "3           4.6          3.1           1.5          0.2  Iris-setosa\n",
       "4           5.0          3.6           1.4          0.2  Iris-setosa"
      ]
     },
     "metadata": {},
     "output_type": "display_data"
    },
    {
     "name": "stdout",
     "output_type": "stream",
     "text": [
      "# Training data points: 80\n",
      "# Testing data points: 20\n",
      "Class labels: [-1  1]\n"
     ]
    }
   ],
   "source": [
    "import pandas as pd\n",
    "import numpy as np\n",
    "from sklearn.model_selection import train_test_split\n",
    "from sklearn.preprocessing import StandardScaler\n",
    "from IPython.display import display\n",
    "\n",
    "df = pd.read_csv('https://archive.ics.uci.edu/ml/'\n",
    "        'machine-learning-databases/iris/iris.data', header=None)\n",
    "df.columns = ['Sepal length', 'Sepal width', 'Petal length', 'Petal width', 'Class label']\n",
    "display(df.head())\n",
    "\n",
    "X = df[['Petal length', 'Petal width']].values\n",
    "y = pd.factorize(df['Class label'])[0]\n",
    "\n",
    "# discard exmaples in the first class\n",
    "X = X[50:150]\n",
    "y = np.where(y[50:150] == 2, -1, y[50:150])\n",
    "\n",
    "X_train, X_test, y_train, y_test = train_test_split(X, y, test_size=0.2, random_state=1)\n",
    "\n",
    "sc = StandardScaler()\n",
    "sc.fit(X_train)\n",
    "X_train_std = sc.transform(X_train)\n",
    "X_test_std = sc.transform(X_test)\n",
    "\n",
    "print('# Training data points: %d' % X_train.shape[0])\n",
    "print('# Testing data points: %d' % X_test.shape[0])\n",
    "print('Class labels: %s' % np.unique(y))"
   ]
  },
  {
   "cell_type": "markdown",
   "id": "345844e3",
   "metadata": {},
   "source": [
    "## 2. Handcrafted Adaline classifier with M as parameter."
   ]
  },
  {
   "cell_type": "code",
   "execution_count": 2,
   "id": "02dd54c6",
   "metadata": {},
   "outputs": [],
   "source": [
    "class AdalineSGD(object):\n",
    "    \"\"\"ADAptive LInear NEuron classifier.\n",
    "\n",
    "    Parameters\n",
    "    ------------\n",
    "    eta : float\n",
    "        Learning rate (between 0.0 and 1.0)\n",
    "    n_iter : int\n",
    "        Passes over the training dataset.\n",
    "    minibatch: int    \n",
    "        Minibatch of size M\n",
    "\n",
    "    Attributes\n",
    "    -----------\n",
    "    w_ : 1d-array\n",
    "        Weights after fitting.\n",
    "    errors_ : list\n",
    "        Number of misclassifications in every epoch.\n",
    "    shuffle : bool (default: True)\n",
    "        Shuffles training data every epoch if True to prevent cycles.\n",
    "    random_state : int\n",
    "        Set random state for shuffling and initializing the weights.\n",
    "        \n",
    "    \"\"\"\n",
    "    def __init__(self, minibatch=1, eta=0.01, n_iter=50, shuffle=True, random_state=1):\n",
    "        self.minibatch = minibatch\n",
    "        self.eta = eta\n",
    "        self.n_iter = n_iter\n",
    "        self.w_initialized = False\n",
    "        self.shuffle = shuffle\n",
    "        if random_state : np.random.seed(random_state)\n",
    "        \n",
    "    def fit(self, X, y):\n",
    "        \"\"\" Fit training data.\n",
    "\n",
    "        Parameters\n",
    "        ----------\n",
    "        X : array-like; shape = [n_samples, n_features]\n",
    "            Training vectors, where n_samples is the number of samples and\n",
    "            n_features is the number of features.\n",
    "        y : array-like; shape = [n_samples]\n",
    "            Target values or labels.\n",
    "\n",
    "        Returns\n",
    "        -------\n",
    "        self : object\n",
    "\n",
    "        \"\"\"\n",
    "        self._initialize_weights(X.shape[1])\n",
    "        self.cost_ = []\n",
    "        for i in range(self.n_iter):\n",
    "            if self.shuffle:\n",
    "                X, y = self._shuffle(X, y)\n",
    "            cost = []\n",
    "            for bi in range(X.shape[0] // self.minibatch):\n",
    "                start = bi * self.minibatch\n",
    "                end = start + self.minibatch \n",
    "                cost.append(self._update_weights(X[start:end], y[start:end]))\n",
    "            avg_cost = sum(cost) / len(y)\n",
    "            self.cost_.append(avg_cost)\n",
    "        return self\n",
    "\n",
    "    def _shuffle(self, X, y):\n",
    "        \"\"\"Shuffle training data\"\"\"\n",
    "        r = np.random.permutation(len(y))\n",
    "        return X[r], y[r]\n",
    "    \n",
    "    def _initialize_weights(self, m):\n",
    "        \"\"\"Randomly initialize weights\"\"\"\n",
    "        self.w_ = np.random.normal(loc=0.0, scale=0.01, size=1 + m)\n",
    "        self.w_initialized = True\n",
    "        \n",
    "    def _update_weights(self, Xb, yb):\n",
    "        \"\"\"Apply Adaline learning rule to update the weights\"\"\"\n",
    "        output = self.activation(Xb)\n",
    "        \n",
    "        # Cost function\n",
    "        error = (yb - output)\n",
    "        cost = 0.5 * np.sum(error ** 2)\n",
    "        \n",
    "        # Update rule\n",
    "        self.w_[1:] += self.eta * Xb.T.dot(error)\n",
    "        self.w_[0] += self.eta * error.sum()\n",
    "        \n",
    "        return cost\n",
    "    \n",
    "    def net_input(self, X):\n",
    "        \"\"\"Calculate net input\"\"\"\n",
    "        return np.dot(X, self.w_[1:]) + self.w_[0]\n",
    "\n",
    "    def activation(self, X):\n",
    "        \"\"\"Compute linear activation\"\"\"\n",
    "        return self.net_input(X)\n",
    "\n",
    "    def predict(self, X):\n",
    "        \"\"\"Return class label after unit step\"\"\"\n",
    "        return np.where(self.activation(X) >= 0.0, 1, -1)"
   ]
  },
  {
   "cell_type": "markdown",
   "id": "deafc855",
   "metadata": {},
   "source": [
    "## 3. Fit model with 3 different M and fixed η. (including M=1)"
   ]
  },
  {
   "cell_type": "code",
   "execution_count": 3,
   "id": "38ad57b0",
   "metadata": {},
   "outputs": [
    {
     "name": "stdout",
     "output_type": "stream",
     "text": [
      "Minibatch=1\n",
      "Misclassified samples: 3\n",
      "Accuracy: 0.85\n",
      "\n",
      "Minibatch=10\n",
      "Misclassified samples: 3\n",
      "Accuracy: 0.85\n",
      "\n",
      "Minibatch=30\n",
      "Misclassified samples: 3\n",
      "Accuracy: 0.85\n",
      "\n"
     ]
    }
   ],
   "source": [
    "from sklearn.metrics import accuracy_score\n",
    "\n",
    "# Print the accuracy of each model\n",
    "def acc_AdalineSGD(minibatch):\n",
    "    adas = AdalineSGD(minibatch=minibatch, n_iter=20, eta=0.01, random_state=1)\n",
    "    adas.fit(X_train_std, y_train)\n",
    "\n",
    "    # Testing accuracy\n",
    "    y_pred = adas.predict(X_test_std)\n",
    "    print(f'Minibatch={minibatch}')\n",
    "    print('Misclassified samples: %d' % (y_test != y_pred).sum())\n",
    "    print('Accuracy: %.2f\\n' % accuracy_score(y_test, y_pred))\n",
    "    \n",
    "    return adas\n",
    "\n",
    "adas_m1 = acc_AdalineSGD(minibatch=1)\n",
    "adas_m2 = acc_AdalineSGD(minibatch=10)\n",
    "adas_m3 = acc_AdalineSGD(minibatch=30)"
   ]
  },
  {
   "cell_type": "markdown",
   "id": "38453b41",
   "metadata": {},
   "source": [
    "## 4. Plot the cost against the number of epochs using different M in one figure."
   ]
  },
  {
   "cell_type": "code",
   "execution_count": 4,
   "id": "caed4645",
   "metadata": {},
   "outputs": [
    {
     "data": {
      "image/png": "[encoded data removed]",
      "text/plain": [
       "<Figure size 640x480 with 1 Axes>"
      ]
     },
     "metadata": {},
     "output_type": "display_data"
    }
   ],
   "source": [
    "import matplotlib.pyplot as plt\n",
    "\n",
    "plt.plot(range(1, len(adas_m1.cost_) + 1), adas_m1.cost_,\n",
    "         marker='o', label=f'minibatch={adas_m1.minibatch}')\n",
    "plt.plot(range(1, len(adas_m2.cost_) + 1), adas_m2.cost_,\n",
    "         marker='x', label=f'minibatch={adas_m2.minibatch}')\n",
    "plt.plot(range(1, len(adas_m3.cost_) + 1), adas_m3.cost_,\n",
    "         marker='s', label=f'minibatch={adas_m3.minibatch}')\n",
    "\n",
    "plt.title('Adaline - Stochastic Gradient Descent')\n",
    "plt.xlabel('Epochs')\n",
    "plt.ylabel('Sum-squared-error')\n",
    "plt.legend(loc='upper right')\n",
    "plt.tight_layout()\n",
    "plt.savefig('./Lab04-1_110062619.png', dpi=300)\n",
    "plt.show()"
   ]
  }
 ],
 "metadata": {
  "kernelspec": {
   "display_name": "Python 3 (ipykernel)",
   "language": "python",
   "name": "python3"
  },
  "language_info": {
   "codemirror_mode": {
    "name": "ipython",
    "version": 3
   },
   "file_extension": ".py",
   "mimetype": "text/x-python",
   "name": "python",
   "nbconvert_exporter": "python",
   "pygments_lexer": "ipython3",
   "version": "3.11.4"
  }
 },
 "nbformat": 4,
 "nbformat_minor": 5
}
