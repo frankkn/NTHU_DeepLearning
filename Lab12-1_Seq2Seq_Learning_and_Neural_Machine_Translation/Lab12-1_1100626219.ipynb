{
 "cells": [
  {
   "cell_type": "markdown",
   "id": "b36d7c6b",
   "metadata": {},
   "source": [
    "# Lab12-1: Seq2Seq Learning & Neural Machine Translation\n",
    "\n",
    "## Sentiment Analysis\n",
    "\n",
    "In this assignment, we will train a seq2seq model with Luong Attention to solve a sentiment analysis task with the IMDB dataset. \n",
    "The formula of score function in Luong Attention is: ${\\rm score}(s_t, h_i) = s_t^TW_ah_i$\n",
    "\n",
    "This dataset contains 50,000 sentences with binary labels (positive and negative). \n",
    "Here we split the data into training and test sets. \n",
    "It is worth mentioning that different from the neural machine translation, \n",
    "the decoder used for sentiment analysis is 4-fully-connected layers, \n",
    "rather than GRU layer since here we want to make a binary classification."
   ]
  },
  {
   "cell_type": "code",
   "execution_count": 1,
   "id": "08f5c883",
   "metadata": {},
   "outputs": [],
   "source": [
    "import tensorflow as tf\n",
    "import pandas as pd\n",
    "import re\n",
    "import numpy as np\n",
    "import os\n",
    "import time\n",
    "from sklearn.model_selection import train_test_split"
   ]
  },
  {
   "cell_type": "code",
   "execution_count": 2,
   "id": "f05acd86",
   "metadata": {},
   "outputs": [
    {
     "name": "stdout",
     "output_type": "stream",
     "text": [
      "1 Physical GPUs, 1 Logical GPUs\n"
     ]
    }
   ],
   "source": [
    "gpus = tf.config.experimental.list_physical_devices('GPU')\n",
    "if gpus:\n",
    "    try:\n",
    "        # Restrict TensorFlow to only use the first GPU\n",
    "        tf.config.experimental.set_visible_devices(gpus[0], 'GPU')\n",
    "\n",
    "        # Currently, memory growth needs to be the same across GPUs\n",
    "        for gpu in gpus:\n",
    "            tf.config.experimental.set_memory_growth(gpu, True)\n",
    "        logical_gpus = tf.config.experimental.list_logical_devices('GPU')\n",
    "        print(len(gpus), \"Physical GPUs,\", len(logical_gpus), \"Logical GPUs\")\n",
    "    except RuntimeError as e:\n",
    "        # Memory growth must be set before GPUs have been initialized\n",
    "        print(e)"
   ]
  },
  {
   "cell_type": "code",
   "execution_count": 3,
   "id": "f0a93697",
   "metadata": {},
   "outputs": [],
   "source": [
    "# load the dataset\n",
    "movie_reviews = pd.read_csv(\"./data/IMDB Dataset.csv\")"
   ]
  },
  {
   "cell_type": "markdown",
   "id": "a87d6741",
   "metadata": {},
   "source": [
    "### Data preprocessing"
   ]
  },
  {
   "cell_type": "code",
   "execution_count": 4,
   "id": "ea7fe4ad",
   "metadata": {},
   "outputs": [
    {
     "data": {
      "text/plain": [
       "False"
      ]
     },
     "execution_count": 4,
     "metadata": {},
     "output_type": "execute_result"
    }
   ],
   "source": [
    "# check if there is any null value in the dataset\n",
    "movie_reviews.isnull().values.any()"
   ]
  },
  {
   "cell_type": "code",
   "execution_count": 5,
   "id": "fccdb71b",
   "metadata": {},
   "outputs": [
    {
     "data": {
      "text/plain": [
       "(50000, 2)"
      ]
     },
     "execution_count": 5,
     "metadata": {},
     "output_type": "execute_result"
    }
   ],
   "source": [
    "# show the size of the dataset\n",
    "movie_reviews.shape"
   ]
  },
  {
   "cell_type": "code",
   "execution_count": 6,
   "id": "14e35129",
   "metadata": {},
   "outputs": [
    {
     "data": {
      "text/html": [
       "<div>\n",
       "<style scoped>\n",
       "    .dataframe tbody tr th:only-of-type {\n",
       "        vertical-align: middle;\n",
       "    }\n",
       "\n",
       "    .dataframe tbody tr th {\n",
       "        vertical-align: top;\n",
       "    }\n",
       "\n",
       "    .dataframe thead th {\n",
       "        text-align: right;\n",
       "    }\n",
       "</style>\n",
       "<table border=\"1\" class=\"dataframe\">\n",
       "  <thead>\n",
       "    <tr style=\"text-align: right;\">\n",
       "      <th></th>\n",
       "      <th>review</th>\n",
       "      <th>sentiment</th>\n",
       "    </tr>\n",
       "  </thead>\n",
       "  <tbody>\n",
       "    <tr>\n",
       "      <th>0</th>\n",
       "      <td>One of the other reviewers has mentioned that ...</td>\n",
       "      <td>positive</td>\n",
       "    </tr>\n",
       "    <tr>\n",
       "      <th>1</th>\n",
       "      <td>A wonderful little production. &lt;br /&gt;&lt;br /&gt;The...</td>\n",
       "      <td>positive</td>\n",
       "    </tr>\n",
       "    <tr>\n",
       "      <th>2</th>\n",
       "      <td>I thought this was a wonderful way to spend ti...</td>\n",
       "      <td>positive</td>\n",
       "    </tr>\n",
       "    <tr>\n",
       "      <th>3</th>\n",
       "      <td>Basically there's a family where a little boy ...</td>\n",
       "      <td>negative</td>\n",
       "    </tr>\n",
       "    <tr>\n",
       "      <th>4</th>\n",
       "      <td>Petter Mattei's \"Love in the Time of Money\" is...</td>\n",
       "      <td>positive</td>\n",
       "    </tr>\n",
       "  </tbody>\n",
       "</table>\n",
       "</div>"
      ],
      "text/plain": [
       "                                              review sentiment\n",
       "0  One of the other reviewers has mentioned that ...  positive\n",
       "1  A wonderful little production. <br /><br />The...  positive\n",
       "2  I thought this was a wonderful way to spend ti...  positive\n",
       "3  Basically there's a family where a little boy ...  negative\n",
       "4  Petter Mattei's \"Love in the Time of Money\" is...  positive"
      ]
     },
     "execution_count": 6,
     "metadata": {},
     "output_type": "execute_result"
    }
   ],
   "source": [
    "# show the first five data in the dataset\n",
    "movie_reviews.head()"
   ]
  },
  {
   "cell_type": "code",
   "execution_count": 7,
   "id": "10181370",
   "metadata": {},
   "outputs": [
    {
     "data": {
      "text/plain": [
       "\"One of the other reviewers has mentioned that after watching just 1 Oz episode you'll be hooked. They are right, as this is exactly what happened with me.<br /><br />The first thing that struck me about Oz was its brutality and unflinching scenes of violence, which set in right from the word GO. Trust me, this is not a show for the faint hearted or timid. This show pulls no punches with regards to drugs, sex or violence. Its is hardcore, in the classic use of the word.<br /><br />It is called OZ as that is the nickname given to the Oswald Maximum Security State Penitentary. It focuses mainly on Emerald City, an experimental section of the prison where all the cells have glass fronts and face inwards, so privacy is not high on the agenda. Em City is home to many..Aryans, Muslims, gangstas, Latinos, Christians, Italians, Irish and more....so scuffles, death stares, dodgy dealings and shady agreements are never far away.<br /><br />I would say the main appeal of the show is due to the fact that it goes where other shows wouldn't dare. Forget pretty pictures painted for mainstream audiences, forget charm, forget romance...OZ doesn't mess around. The first episode I ever saw struck me as so nasty it was surreal, I couldn't say I was ready for it, but as I watched more, I developed a taste for Oz, and got accustomed to the high levels of graphic violence. Not just violence, but injustice (crooked guards who'll be sold out for a nickel, inmates who'll kill on order and get away with it, well mannered, middle class inmates being turned into prison bitches due to their lack of street skills or prison experience) Watching Oz, you may become comfortable with what is uncomfortable viewing....thats if you can get in touch with your darker side.\""
      ]
     },
     "execution_count": 7,
     "metadata": {},
     "output_type": "execute_result"
    }
   ],
   "source": [
    "movie_reviews[\"review\"][0]"
   ]
  },
  {
   "cell_type": "code",
   "execution_count": 8,
   "id": "69279081",
   "metadata": {},
   "outputs": [],
   "source": [
    "TAG_RE = re.compile(r'<[^>]+>')\n",
    "\n",
    "def remove_tags(text):\n",
    "    return TAG_RE.sub('', text)\n",
    "\n",
    "def preprocess_text(sen):\n",
    "    # Removing html tags\n",
    "    sentence = remove_tags(sen)\n",
    "\n",
    "    # Remove punctuations and numbers\n",
    "    sentence = re.sub('[^a-zA-Z]', ' ', sentence)\n",
    "\n",
    "    # Single character removal\n",
    "    sentence = re.sub(r\"\\s+[a-zA-Z]\\s+\", ' ', sentence)\n",
    "\n",
    "    # Removing multiple spaces\n",
    "    sentence = re.sub(r'\\s+', ' ', sentence)\n",
    "\n",
    "    return sentence"
   ]
  },
  {
   "cell_type": "code",
   "execution_count": 9,
   "id": "f0ffd8ef",
   "metadata": {},
   "outputs": [],
   "source": [
    "X = []\n",
    "sentences = list(movie_reviews['review'])\n",
    "for sen in sentences:\n",
    "    X.append(preprocess_text(sen))\n",
    "\n",
    "# replace the positive with 1, replace the negative with 0\n",
    "y = movie_reviews['sentiment']\n",
    "y = np.array(list(map(lambda x: 1 if x == \"positive\" else 0, y)))"
   ]
  },
  {
   "cell_type": "code",
   "execution_count": 10,
   "id": "5f0d5b9b",
   "metadata": {},
   "outputs": [
    {
     "name": "stdout",
     "output_type": "stream",
     "text": [
      "# training data: 40000\n",
      "# test data: 10000\n"
     ]
    }
   ],
   "source": [
    "# Split the training dataset and test dataset\n",
    "X_train, X_test, y_train, y_test = train_test_split(X, y, test_size=0.20, random_state=42)\n",
    "print(\"# training data: {:d}\\n# test data: {:d}\".format(len(X_train), len(X_test)))"
   ]
  },
  {
   "cell_type": "code",
   "execution_count": 11,
   "id": "c415f054",
   "metadata": {},
   "outputs": [],
   "source": [
    "tokenizer = tf.keras.preprocessing.text.Tokenizer(num_words=10000)\n",
    "tokenizer.fit_on_texts(X_train)\n",
    "\n",
    "X_train = tokenizer.texts_to_sequences(X_train)\n",
    "X_test = tokenizer.texts_to_sequences(X_test)\n",
    "\n",
    "max_len = 100\n",
    "# padding sentences to the same length\n",
    "X_train = tf.keras.preprocessing.sequence.pad_sequences(X_train, padding='post', maxlen=max_len)\n",
    "X_test = tf.keras.preprocessing.sequence.pad_sequences(X_test, padding='post', maxlen=max_len)"
   ]
  },
  {
   "cell_type": "code",
   "execution_count": 12,
   "id": "fa1bea78",
   "metadata": {},
   "outputs": [
    {
     "data": {
      "text/plain": [
       "array([   1,  296,  140, 2854,    2,  405,  614,    1,  263,    5, 3514,\n",
       "        977,    4,   25,   37,   11, 1237,  215,   62,    2,   35,    5,\n",
       "         27,  217,   24,  189, 1430,    7, 1068,   15, 4868,   81,    1,\n",
       "        221,   63,  351,   64,   52,   24,    4, 3547,   13,    6,   19,\n",
       "        192,    4, 8148,  859, 3430, 1720,   17,   23,    4,  158,  194,\n",
       "        175,  106,    9, 1604,  461,   71,  218,    4,  321,    2, 3431,\n",
       "         31,   20,   47,   68, 1844, 4668,   11,    6, 1365,    8,   16,\n",
       "          5, 3475, 1990,   14,   59,    1, 2380,  460,  518,    2,  170,\n",
       "       2524, 2698, 1745,    4,  573,    6,   33,    1, 3750,  198,  345,\n",
       "       3812])"
      ]
     },
     "execution_count": 12,
     "metadata": {},
     "output_type": "execute_result"
    }
   ],
   "source": [
    "# show the preprocessed data\n",
    "X_train[0]"
   ]
  },
  {
   "cell_type": "code",
   "execution_count": 13,
   "id": "c64980e4",
   "metadata": {},
   "outputs": [
    {
     "data": {
      "text/plain": [
       "(TensorShape([128, 100]), TensorShape([128]))"
      ]
     },
     "execution_count": 13,
     "metadata": {},
     "output_type": "execute_result"
    }
   ],
   "source": [
    "BUFFER_SIZE = len(X_train)\n",
    "BATCH_SIZE = 128\n",
    "steps_per_epoch = len(X_train)//BATCH_SIZE\n",
    "embedding_dim = 256\n",
    "units = 1024\n",
    "# only reserve 10000 words\n",
    "vocab_size = 10000\n",
    "\n",
    "dataset = tf.data.Dataset.from_tensor_slices((X_train, y_train)).shuffle(BUFFER_SIZE)\n",
    "dataset = dataset.batch(BATCH_SIZE, drop_remainder=True)\n",
    "test_dataset = tf.data.Dataset.from_tensor_slices((X_test, y_test))\n",
    "test_dataset = test_dataset.batch(BATCH_SIZE, drop_remainder=False)\n",
    "\n",
    "example_input_batch, example_target_batch = next(iter(dataset))\n",
    "example_input_batch.shape, example_target_batch.shape"
   ]
  },
  {
   "cell_type": "code",
   "execution_count": 14,
   "id": "ac99f522",
   "metadata": {},
   "outputs": [],
   "source": [
    "class Encoder(tf.keras.Model):\n",
    "    def __init__(self, vocab_size, embedding_dim, enc_units, batch_sz):\n",
    "        # vacab_size=10000, embedding_dim=256 enc_units=1024 batch_sz=64\n",
    "        super(Encoder, self).__init__()\n",
    "        self.batch_sz = batch_sz\n",
    "        self.enc_units = enc_units\n",
    "        self.embedding = tf.keras.layers.Embedding(vocab_size, embedding_dim)\n",
    "        self.gru = tf.keras.layers.GRU(self.enc_units,\n",
    "                                       return_sequences=True,\n",
    "                                       return_state=True,\n",
    "                                       recurrent_activation='sigmoid',\n",
    "                                       recurrent_initializer='glorot_uniform')\n",
    "\n",
    "    def call(self, x, hidden):\n",
    "        # x is the training data with shape == (batch_size，max_length)  -> (128, 100)\n",
    "        # which means there are batch_size sentences in one batch, the length of each sentence is max_length\n",
    "        # hidden state shape == (batch_size, units) -> (128, 1024)\n",
    "        # after embedding, x shape == (batch_size, max_length, embedding_dim) -> (128, 100, 256)\n",
    "        x = self.embedding(x)\n",
    "        \n",
    "        # output contains the state(in GRU, the hidden state and the output are same) from all timestamps,\n",
    "        # output shape == (batch_size, max_length, units) -> (128, 100, 1024)\n",
    "        # state is the hidden state of the last timestamp, shape == (batch_size, units) -> (128, 1024)\n",
    "        output, state = self.gru(x, initial_state=hidden)\n",
    "        \n",
    "        return output, state\n",
    "\n",
    "    def initialize_hidden_state(self):\n",
    "        # initialize the first state of the gru,  shape == (batch_size, units) -> (128, 1024)\n",
    "        return tf.zeros((self.batch_sz, self.enc_units))"
   ]
  },
  {
   "cell_type": "code",
   "execution_count": 15,
   "id": "8fe835d0",
   "metadata": {},
   "outputs": [
    {
     "name": "stdout",
     "output_type": "stream",
     "text": [
      "Encoder output shape: (batch size, sequence length, units) (128, 100, 1024)\n",
      "Encoder Hidden state shape: (batch size, units) (128, 1024)\n",
      "tf.Tensor([ True  True  True ...  True  True  True], shape=(1024,), dtype=bool)\n"
     ]
    }
   ],
   "source": [
    "encoder = Encoder(vocab_size, embedding_dim, units, BATCH_SIZE)\n",
    "\n",
    "# sample input\n",
    "sample_hidden = encoder.initialize_hidden_state()\n",
    "sample_output, sample_hidden = encoder(example_input_batch, sample_hidden)\n",
    "print('Encoder output shape: (batch size, sequence length, units) {}'.format(sample_output.shape))\n",
    "print('Encoder Hidden state shape: (batch size, units) {}'.format(sample_hidden.shape))\n",
    "# the output and the hidden state of GRU is equal\n",
    "print(sample_output[-1, -1, :] == sample_hidden[-1, :])"
   ]
  },
  {
   "cell_type": "code",
   "execution_count": 19,
   "id": "52af3b0f",
   "metadata": {},
   "outputs": [],
   "source": [
    "class LuongAttention(tf.keras.Model):\n",
    "    def __init__(self, units):\n",
    "        super(LuongAttention, self).__init__()\n",
    "        # TODO: Complete the function.\n",
    "        \n",
    "        # Fully connected network with number of output = units\n",
    "        # 該層將接受一個輸入向量（或者是前一層的輸出）\n",
    "        # 並對每個輸入單元應用線性變換，產生與 units 相等的輸出維度\n",
    "        self.W = tf.keras.layers.Dense(units)\n",
    "\n",
    "    def call(self, query, values):\n",
    "        # TODO: Implement the Luong attention.\n",
    "        \n",
    "        # query shape == (batch_size, hidden_size)\n",
    "        # query 是上下文向量（通常是 Decoder 中的隱藏狀態）\n",
    "        # hidden_with_time_axis shape == (batch_size, 1, hidden_size)\n",
    "        hidden_with_time_axis = tf.expand_dims(query, 1)\n",
    "\n",
    "        # score shape == (batch_size, max_length, 1)\n",
    "        # values:encoder hidden state, values shape == (batch_size, max_length, hidden_size)\n",
    "        # after W(values), values shape == (batch_size, max_length, units)\n",
    "        # after perm, hidden_with_time_axis shape == (batch_size, units, 1)\n",
    "        score = tf.matmul(self.W(values), tf.transpose(hidden_with_time_axis, perm=[0, 2, 1]))\n",
    "\n",
    "        # attention_weights shape == (batch_size, max_length, 1)\n",
    "        attention_weights = tf.nn.softmax(score, axis=1)\n",
    "\n",
    "        # context_vector shape == (batch_size, max_length, hidden_size)\n",
    "        context_vector = attention_weights * values\n",
    "\n",
    "        # context_vector shape after sum == (batch_size, hidden_size)\n",
    "        context_vector = tf.reduce_sum(context_vector, axis=1)\n",
    "\n",
    "        return context_vector, attention_weights"
   ]
  },
  {
   "cell_type": "code",
   "execution_count": 20,
   "id": "604038a3",
   "metadata": {},
   "outputs": [],
   "source": [
    "class Decoder(tf.keras.Model):\n",
    "    def __init__(self, dec_units, batch_sz):\n",
    "        super(Decoder, self).__init__()\n",
    "        self.batch_sz = batch_sz\n",
    "        self.dec_units = dec_units\n",
    "\n",
    "        # pass through four fully connected layers, the model will return\n",
    "        # the probability of the positivity of the sentence\n",
    "        self.fc_1 = tf.keras.layers.Dense(2048)\n",
    "        self.fc_2 = tf.keras.layers.Dense(512)\n",
    "        self.fc_3 = tf.keras.layers.Dense(64)\n",
    "        self.fc_4 = tf.keras.layers.Dense(1)\n",
    "\n",
    "        # used for attention\n",
    "        self.attention = LuongAttention(self.dec_units)\n",
    "\n",
    "    def call(self, hidden, enc_output):\n",
    "        context_vector, attention_weights = self.attention(hidden, enc_output)\n",
    "        output = self.fc_1(context_vector)\n",
    "        output = self.fc_2(output)\n",
    "        output = self.fc_3(output)\n",
    "        output = self.fc_4(output)\n",
    "\n",
    "        return output, attention_weights"
   ]
  },
  {
   "cell_type": "code",
   "execution_count": 21,
   "id": "857b6887",
   "metadata": {},
   "outputs": [
    {
     "name": "stdout",
     "output_type": "stream",
     "text": [
      "Decoder output shape: (batch_size, vocab size) (128, 1)\n"
     ]
    }
   ],
   "source": [
    "decoder = Decoder(units, BATCH_SIZE)\n",
    "sample_decoder_output, _ = decoder(sample_hidden, sample_output)\n",
    "print('Decoder output shape: (batch_size, vocab size) {}'.format(\n",
    "    sample_decoder_output.shape))"
   ]
  },
  {
   "cell_type": "code",
   "execution_count": 22,
   "id": "c498465a",
   "metadata": {},
   "outputs": [],
   "source": [
    "optimizer = tf.keras.optimizers.Adam()\n",
    "loss_object = tf.keras.losses.BinaryCrossentropy(from_logits=True)\n",
    "\n",
    "\n",
    "def loss_function(real, pred):\n",
    "    loss_ = loss_object(real, pred)\n",
    "    return tf.reduce_mean(loss_)"
   ]
  },
  {
   "cell_type": "code",
   "execution_count": 23,
   "id": "9602b2db",
   "metadata": {},
   "outputs": [],
   "source": [
    "checkpoint_dir = './checkpoints/sentiment-analysis'\n",
    "checkpoint_prefix = os.path.join(checkpoint_dir, \"ckpt\")\n",
    "checkpoint = tf.train.Checkpoint(optimizer=optimizer,\n",
    "                                 encoder=encoder,\n",
    "                                 decoder=decoder)"
   ]
  },
  {
   "cell_type": "code",
   "execution_count": 24,
   "id": "f1363db7",
   "metadata": {},
   "outputs": [],
   "source": [
    "@tf.function\n",
    "def train_step(inp, targ, enc_hidden):\n",
    "    loss = 0\n",
    "\n",
    "    with tf.GradientTape() as tape:\n",
    "        enc_output, enc_hidden = encoder(inp, enc_hidden)\n",
    "\n",
    "        # passing enc_output to the decoder\n",
    "        predictions, _ = decoder(enc_hidden, enc_output)\n",
    "\n",
    "        loss = loss_function(targ, predictions)\n",
    "\n",
    "    # collect all trainable variables\n",
    "    variables = encoder.trainable_variables + decoder.trainable_variables\n",
    "\n",
    "    # calculate the gradients for the whole variables\n",
    "    gradients = tape.gradient(loss, variables)\n",
    "\n",
    "    # apply the gradients on the variables\n",
    "    optimizer.apply_gradients(zip(gradients, variables))\n",
    "\n",
    "    return loss"
   ]
  },
  {
   "cell_type": "code",
   "execution_count": 25,
   "id": "f3bd69a7",
   "metadata": {},
   "outputs": [
    {
     "name": "stdout",
     "output_type": "stream",
     "text": [
      "Epoch 1 Batch 0 Loss 0.6941\n",
      "Epoch 1 Batch 100 Loss 0.3924\n",
      "Epoch 1 Batch 200 Loss 0.3485\n",
      "Epoch 1 Batch 300 Loss 0.3235\n",
      "Epoch 1 Loss 0.3737\n",
      "Time taken for 1 epoch 12.34212589263916 sec\n",
      "\n",
      "Epoch 2 Batch 0 Loss 0.1803\n",
      "Epoch 2 Batch 100 Loss 0.2206\n",
      "Epoch 2 Batch 200 Loss 0.3433\n",
      "Epoch 2 Batch 300 Loss 0.3590\n",
      "Epoch 2 Loss 0.2541\n",
      "Time taken for 1 epoch 11.02734899520874 sec\n",
      "\n",
      "Epoch 3 Batch 0 Loss 0.2183\n",
      "Epoch 3 Batch 100 Loss 0.1978\n",
      "Epoch 3 Batch 200 Loss 0.1268\n",
      "Epoch 3 Batch 300 Loss 0.2049\n",
      "Epoch 3 Loss 0.1834\n",
      "Time taken for 1 epoch 10.604901552200317 sec\n",
      "\n",
      "Epoch 4 Batch 0 Loss 0.0784\n",
      "Epoch 4 Batch 100 Loss 0.1488\n",
      "Epoch 4 Batch 200 Loss 0.1287\n",
      "Epoch 4 Batch 300 Loss 0.1502\n",
      "Epoch 4 Loss 0.1228\n",
      "Time taken for 1 epoch 10.94563603401184 sec\n",
      "\n",
      "Epoch 5 Batch 0 Loss 0.1147\n",
      "Epoch 5 Batch 100 Loss 0.1512\n",
      "Epoch 5 Batch 200 Loss 0.0911\n",
      "Epoch 5 Batch 300 Loss 0.0878\n",
      "Epoch 5 Loss 0.0805\n",
      "Time taken for 1 epoch 10.51522970199585 sec\n",
      "\n",
      "Epoch 6 Batch 0 Loss 0.0393\n",
      "Epoch 6 Batch 100 Loss 0.0170\n",
      "Epoch 6 Batch 200 Loss 0.0167\n",
      "Epoch 6 Batch 300 Loss 0.0608\n",
      "Epoch 6 Loss 0.0527\n",
      "Time taken for 1 epoch 10.889513969421387 sec\n",
      "\n",
      "Epoch 7 Batch 0 Loss 0.0310\n",
      "Epoch 7 Batch 100 Loss 0.0214\n",
      "Epoch 7 Batch 200 Loss 0.0626\n",
      "Epoch 7 Batch 300 Loss 0.0304\n",
      "Epoch 7 Loss 0.0450\n",
      "Time taken for 1 epoch 10.506511926651001 sec\n",
      "\n",
      "Epoch 8 Batch 0 Loss 0.0472\n",
      "Epoch 8 Batch 100 Loss 0.0077\n",
      "Epoch 8 Batch 200 Loss 0.0193\n",
      "Epoch 8 Batch 300 Loss 0.0156\n",
      "Epoch 8 Loss 0.0363\n",
      "Time taken for 1 epoch 10.766216039657593 sec\n",
      "\n",
      "Epoch 9 Batch 0 Loss 0.0039\n",
      "Epoch 9 Batch 100 Loss 0.0053\n",
      "Epoch 9 Batch 200 Loss 0.0173\n",
      "Epoch 9 Batch 300 Loss 0.1584\n",
      "Epoch 9 Loss 0.0253\n",
      "Time taken for 1 epoch 10.486405372619629 sec\n",
      "\n",
      "Epoch 10 Batch 0 Loss 0.0056\n",
      "Epoch 10 Batch 100 Loss 0.0072\n",
      "Epoch 10 Batch 200 Loss 0.0299\n",
      "Epoch 10 Batch 300 Loss 0.0145\n",
      "Epoch 10 Loss 0.0311\n",
      "Time taken for 1 epoch 10.914407968521118 sec\n",
      "\n"
     ]
    }
   ],
   "source": [
    "# set the epochs for training\n",
    "EPOCHS = 10\n",
    "\n",
    "for epoch in range(EPOCHS):\n",
    "    start = time.time()\n",
    "\n",
    "    # get the initial hidden state of gru\n",
    "    enc_hidden = encoder.initialize_hidden_state()\n",
    "    total_loss = 0\n",
    "\n",
    "    for (batch, (inp, targ)) in enumerate(dataset.take(steps_per_epoch)):\n",
    "        batch_loss = train_step(inp, targ, enc_hidden)\n",
    "        total_loss += batch_loss\n",
    "\n",
    "        if batch % 100 == 0:\n",
    "            print('Epoch {} Batch {} Loss {:.4f}'.format(epoch + 1,\n",
    "                                                         batch,\n",
    "                                                         batch_loss.numpy()))\n",
    "\n",
    "    # saving (checkpoint) the model every 2 epochs\n",
    "    if (epoch + 1) % 2 == 0:\n",
    "        checkpoint.save(file_prefix=checkpoint_prefix)\n",
    "\n",
    "    print('Epoch {} Loss {:.4f}'.format(epoch + 1,\n",
    "                                        total_loss / steps_per_epoch))\n",
    "    print('Time taken for 1 epoch {} sec\\n'.format(time.time() - start))"
   ]
  },
  {
   "cell_type": "code",
   "execution_count": 26,
   "id": "c8d837a7",
   "metadata": {},
   "outputs": [
    {
     "name": "stdout",
     "output_type": "stream",
     "text": [
      "./checkpoints/sentiment-analysis\\ckpt-5\n"
     ]
    },
    {
     "data": {
      "text/plain": [
       "<tensorflow.python.checkpoint.checkpoint.CheckpointLoadStatus at 0x1e9c6c17490>"
      ]
     },
     "execution_count": 26,
     "metadata": {},
     "output_type": "execute_result"
    }
   ],
   "source": [
    "print(tf.train.latest_checkpoint(checkpoint_dir))\n",
    "# restoring the latest checkpoint in checkpoint_dir\n",
    "checkpoint.restore(tf.train.latest_checkpoint(checkpoint_dir))"
   ]
  },
  {
   "cell_type": "code",
   "execution_count": 27,
   "id": "7bb68856",
   "metadata": {},
   "outputs": [],
   "source": [
    "@tf.function\n",
    "def test_step(inp, enc_hidden):\n",
    "    with tf.GradientTape() as tape:\n",
    "        enc_output, enc_hidden = encoder(inp, enc_hidden)\n",
    "        predictions, attention_weights = decoder(enc_hidden, enc_output)\n",
    "    return predictions, attention_weights"
   ]
  },
  {
   "cell_type": "code",
   "execution_count": 28,
   "id": "f64628e2",
   "metadata": {},
   "outputs": [],
   "source": [
    "def evaluate(test_data):\n",
    "    enc_hidden = encoder.initialize_hidden_state()\n",
    "    \n",
    "    for batch, (inp, targ) in enumerate(test_data):\n",
    "        if len(inp) != BATCH_SIZE:\n",
    "            enc_hidden = tf.zeros((len(inp), units))\n",
    "        # make prediction\n",
    "        if batch == 0:\n",
    "            predictions, attention_weights = test_step(inp, enc_hidden)\n",
    "            predictions, attention_weights = predictions.numpy(), attention_weights.numpy()\n",
    "        else:\n",
    "            _predictions, _attention_weights = test_step(inp, enc_hidden)\n",
    "            _predictions, _attention_weights = _predictions.numpy(), _attention_weights.numpy()\n",
    "            predictions = np.concatenate((predictions, _predictions))\n",
    "            attention_weights = np.concatenate((attention_weights, _attention_weights))\n",
    "    \n",
    "    predictions = np.squeeze(predictions)\n",
    "    attention_weights = np.squeeze(attention_weights)\n",
    "    predictions[np.where(predictions < 0.5)] = 0\n",
    "    predictions[np.where(predictions >= 0.5)] = 1\n",
    "    return predictions, attention_weights"
   ]
  },
  {
   "cell_type": "code",
   "execution_count": 29,
   "id": "32ea557b",
   "metadata": {},
   "outputs": [],
   "source": [
    "y_pred, attention_weights = evaluate(test_dataset)"
   ]
  },
  {
   "cell_type": "code",
   "execution_count": 30,
   "id": "50862e7a",
   "metadata": {},
   "outputs": [
    {
     "name": "stdout",
     "output_type": "stream",
     "text": [
      "Accuracy:  0.8474\n"
     ]
    }
   ],
   "source": [
    "print('Accuracy: ', (y_pred == y_test).sum() / len(y_test))"
   ]
  },
  {
   "cell_type": "code",
   "execution_count": 31,
   "id": "3a75c2b6",
   "metadata": {},
   "outputs": [
    {
     "name": "stdout",
     "output_type": "stream",
     "text": [
      "y_true: 1\n",
      "y_predict: 0\n",
      "changed it was terrible main event just like every match is in is terrible other \u001b[31mmatches\u001b[0m on the card were razor ramon vs ted brothers vs bodies shawn michaels vs this was the event where shawn named his big monster of body guard vs kid hart first \u001b[31mtakes\u001b[0m on then \u001b[31mtakes\u001b[0m on jerry and stuff with the and was always very interesting then destroyed marty \u001b[31mundertaker\u001b[0m took on \u001b[31mgiant\u001b[0m in another terrible match the smoking and took on bam \u001b[31mbam\u001b[0m and the and the world \u001b[31mtitle\u001b[0m \u001b[31magainst\u001b[0m lex this match \u001b[31mwas\u001b[0m \u001b[31mboring\u001b[0m and it has terrible ending however it deserves \n",
      "\n",
      "\n",
      "y_true: 1\n",
      "y_predict: 1\n",
      "of subject matter as are and broken in \u001b[31mmany\u001b[0m ways on many many issues happened to see the pilot premiere in \u001b[31mpassing\u001b[0m \u001b[31mand\u001b[0m just had to keep in after that to see if would ever get the girl after seeing them all on television was \u001b[31mdelighted\u001b[0m to see them available on dvd have to admit that it \u001b[31mwas\u001b[0m the \u001b[31monly\u001b[0m thing that kept \u001b[31mme\u001b[0m sane whilst had to do hour night \u001b[31mshift\u001b[0m and developed insomnia farscape \u001b[31mwas\u001b[0m the \u001b[31monly\u001b[0m thing to get me through those extremely long nights do yourself favour watch the pilot and see what mean farscape comet \n",
      "\n",
      "\n",
      "y_true: 0\n",
      "y_predict: 0\n",
      "destruction the first \u001b[31mreally\u001b[0m bad thing is the guy steven seagal would have been beaten to pulp by seagal \u001b[31mdriving\u001b[0m but that probably would have ended the whole premise \u001b[31mfor\u001b[0m the movie it seems like they decided to make all kinds of \u001b[31mchanges\u001b[0m \u001b[31min\u001b[0m the movie plot \u001b[31mso\u001b[0m \u001b[31mjust\u001b[0m plan to enjoy the action and do not expect \u001b[31mcoherent\u001b[0m plot turn any sense of \u001b[31mlogic\u001b[0m you may have it will your chance of getting headache does give me some hope that steven seagal is trying to move back towards the type of characters he \u001b[31mportrayed\u001b[0m in his more popular movies \n",
      "\n",
      "\n",
      "y_true: 1\n",
      "y_predict: 1\n",
      "jane austen would definitely of this one paltrow does an awesome job capturing the attitude of emma she is funny without being silly yet elegant she puts on very convincing british accent not being british myself maybe m not the best judge but she fooled me she was also \u001b[31mexcellent\u001b[0m in doors sometimes \u001b[31mforget\u001b[0m she american also brilliant are \u001b[31mjeremy\u001b[0m \u001b[31mnortham\u001b[0m and \u001b[31msophie\u001b[0m \u001b[31mthompson\u001b[0m \u001b[31mand\u001b[0m law emma \u001b[31mthompson\u001b[0m sister and mother as the bates women they nearly steal the show and ms law doesn even have any lines highly \u001b[31mrecommended\u001b[0m \n",
      "\n",
      "\n",
      "y_true: 0\n",
      "y_predict: 0\n",
      "\u001b[31mreaches\u001b[0m the point where they \u001b[31mbecome\u001b[0m obnoxious and simply frustrating touch football puzzle family and talent shows are not how actual people behave it almost sickening another big flaw is the woman carell is supposed to \u001b[31mbe\u001b[0m \u001b[31mfalling\u001b[0m \u001b[31mfor\u001b[0m her in her first \u001b[31mscene\u001b[0m with steve carell is like watching stroke victim trying to \u001b[31mbe\u001b[0m what imagine is supposed to \u001b[31mbe\u001b[0m unique and original in this woman comes off as mildly \u001b[31mretarded\u001b[0m \u001b[31mit\u001b[0m makes me think that this movie is taking place on another planet left the theater wondering what just saw after thinking further don think it was much \n",
      "\n",
      "\n",
      "y_true: 1\n",
      "y_predict: 1\n",
      "the pace quick and energetic but \u001b[31mmost\u001b[0m importantly he knows how to make comedy funny he doesn the \u001b[31mjokes\u001b[0m and he understands \u001b[31mthat\u001b[0m funny actors know what they re doing and he allows them to do it but segal goes step further he gives tommy boy friendly almost nostalgic tone that both the genuinely and the critics \u001b[31mdidn\u001b[0m like tommy \u001b[31mboy\u001b[0m shame on them movie \u001b[31mdoesn\u001b[0m have to be super sophisticated or intellectual to be funny \u001b[31mgod\u001b[0m \u001b[31mfarley\u001b[0m and \u001b[31mspade\u001b[0m were forced to do muted comedy la the office this is great movie and one of my all \u001b[31mtime\u001b[0m favorites \n",
      "\n",
      "\n",
      "y_true: 1\n",
      "y_predict: 1\n",
      "for once story of hope over the tragic reality our youth face rising draws one into scary and unfair world and shows through beautiful color and moving music how one man and his dedicated friends choose not to accept that \u001b[31mworld\u001b[0m and change it through action and art an entertaining interesting emotional beautiful film \u001b[31mshowed\u001b[0m \u001b[31mthis\u001b[0m \u001b[31mfilm\u001b[0m to numerous high school students \u001b[31mas\u001b[0m well \u001b[31mwho\u001b[0m all live in with poverty and and gun violence and they were with anderson the protagonist recommend this film to all ages over due to \u001b[31msubtitles\u001b[0m and \u001b[31msome\u001b[0m \u001b[31mimages\u001b[0m of \u001b[31mdeath\u001b[0m from all backgrounds \n",
      "\n",
      "\n",
      "y_true: 1\n",
      "y_predict: 1\n",
      "people and sleeping \u001b[31maround\u001b[0m that he kept secret from most people he feels free to \u001b[31mhave\u001b[0m \u001b[31man\u001b[0m affair with quasi because he kevin he figures \u001b[31mout\u001b[0m \u001b[31mthat\u001b[0m he can fool some people with cards like hotel but it won get him out of those the of heaven are keeping track of him and everything he does after reading all the theories on though it seems like identity is \u001b[31mreminder\u001b[0m \u001b[31mof\u001b[0m \u001b[31mthe\u001b[0m different paths tony could ve taken in his life possibly \u001b[31malong\u001b[0m \u001b[31mwith\u001b[0m the car joke involving that made no sense to me otherwise at that point my brain out \n",
      "\n",
      "\n",
      "y_true: 0\n",
      "y_predict: 0\n",
      "over again \u001b[31mcan\u001b[0m remember how \u001b[31mmany\u001b[0m times he said the universe is made out of tiny little strings it like they were trying to us into just accepting are the best thing since \u001b[31mbread\u001b[0m finally the show ended off with an \u001b[31munpleasant\u001b[0m sense of competition between and clearly biased towards this \u001b[31mis\u001b[0m supposed to be an educational program about quantum physics not about whether the us is better than europe or vice versa also felt that was part of the \u001b[31maudiences\u001b[0m \u001b[31mneed\u001b[0m to see some \u001b[31mconflict\u001b[0m to \u001b[31mremain\u001b[0m \u001b[31minterested\u001b[0m please give me little more credit than that overall thumbs down \n",
      "\n",
      "\n",
      "y_true: 0\n",
      "y_predict: 1\n",
      "the scenes involving joe character \u001b[31min\u001b[0m particular the scenes in the \u001b[31mterribly\u001b[0m \u001b[31mclich\u001b[0m but still funny rich but screwed up characters house where the story towards it final moments can see how was great \u001b[31mstage\u001b[0m play \u001b[31mand\u001b[0m \u001b[31mwhile\u001b[0m the film makers did \u001b[31mtheir\u001b[0m best to \u001b[31mtranslate\u001b[0m this to celluloid it simply didn work and while laughed out loud at some of scenes and one liners think the first minutes my senses and expectations to such degree \u001b[31mwould\u001b[0m have laughed at anything unless \u001b[31myou\u001b[0m re stuck for novelty coffee coaster don pick this up if you see it in bargain bucket \n",
      "\n",
      "\n"
     ]
    }
   ],
   "source": [
    "from termcolor import colored\n",
    "for idx, data in enumerate(X_test[:10]):\n",
    "    print('y_true: {:d}'.format(y_test[idx]))\n",
    "    print('y_predict: {:.0f}'.format(y_pred[idx]))\n",
    "    \n",
    "    # get the twenty most largest attention weights\n",
    "    large_weights_idx = np.argsort(attention_weights[idx])[::-1][:10]\n",
    "    \n",
    "    for _idx in range(len(data)):\n",
    "        word_idx = data[_idx]\n",
    "        if word_idx != 0:\n",
    "            if _idx in large_weights_idx:\n",
    "                print(colored(tokenizer.index_word[word_idx], 'red'), end=' ')\n",
    "                # try this if termcolor is not working properly\n",
    "                # print(f'\\033[31m{tokenizer.index_word[word_idx]}\\033[0m', end=' ')\n",
    "            else:\n",
    "                print(tokenizer.index_word[word_idx], end=' ')\n",
    "    print(\"\\n\\n\")"
   ]
  }
 ],
 "metadata": {
  "kernelspec": {
   "display_name": "Python 3 (ipykernel)",
   "language": "python",
   "name": "python3"
  },
  "language_info": {
   "codemirror_mode": {
    "name": "ipython",
    "version": 3
   },
   "file_extension": ".py",
   "mimetype": "text/x-python",
   "name": "python",
   "nbconvert_exporter": "python",
   "pygments_lexer": "ipython3",
   "version": "3.9.18"
  }
 },
 "nbformat": 4,
 "nbformat_minor": 5
}
