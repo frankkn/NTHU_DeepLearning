{
 "cells": [
  {
   "cell_type": "markdown",
   "id": "478b5fcb",
   "metadata": {},
   "source": [
    "# Lab13: GAN\n",
    "\n",
    "In this lab, we are going to introduce an unsupervised learning model: Generative adversarial network(GAN)"
   ]
  },
  {
   "cell_type": "code",
   "execution_count": null,
   "id": "c4350c7c",
   "metadata": {},
   "outputs": [],
   "source": []
  }
 ],
 "metadata": {
  "kernelspec": {
   "display_name": "Python 3 (ipykernel)",
   "language": "python",
   "name": "python3"
  },
  "language_info": {
   "codemirror_mode": {
    "name": "ipython",
    "version": 3
   },
   "file_extension": ".py",
   "mimetype": "text/x-python",
   "name": "python",
   "nbconvert_exporter": "python",
   "pygments_lexer": "ipython3",
   "version": "3.9.18"
  }
 },
 "nbformat": 4,
 "nbformat_minor": 5
}
